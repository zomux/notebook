{
 "metadata": {
  "name": "",
  "signature": "sha256:c9a31947d870930d07c77834eff8ac30d07a4599fb352e0908f4b98339965375"
 },
 "nbformat": 3,
 "nbformat_minor": 0,
 "worksheets": [
  {
   "cells": [
    {
     "cell_type": "heading",
     "level": 1,
     "metadata": {},
     "source": [
      "PYSMT Dev"
     ]
    },
    {
     "cell_type": "code",
     "collapsed": false,
     "input": [
      "!mkdir /tmp/pysmt\n",
      "%cd /tmp/pysmt"
     ],
     "language": "python",
     "metadata": {},
     "outputs": []
    },
    {
     "cell_type": "heading",
     "level": 3,
     "metadata": {},
     "source": [
      "Alignment"
     ]
    },
    {
     "cell_type": "markdown",
     "metadata": {},
     "source": [
      "```\n",
      "${SCRIPTS_ROOTDIR}/training/train-model.perl \\\n",
      "  --scripts-root-dir ${SCRIPTS_ROOTDIR} \\\n",
      "  --root-dir `pwd`/work \\\n",
      "  --bin-dir ${GIZA_BIN_DIR} \\\n",
      "  --corpus ../corpus.tok/train-all.clean1-40 \\\n",
      "  --f fr \\\n",
      "  --e en \\\n",
      "  --parallel \\\n",
      "  --alignment grow-diag-final-and \\\n",
      "  --reordering msd-bidirectional-fe \\\n",
      "  --lm 0:5:`pwd`/../lm/train-all.en.lm \\\n",
      "  >& work/training.out\n",
      "  ```"
     ]
    },
    {
     "cell_type": "code",
     "collapsed": false,
     "input": [
      "!pwd"
     ],
     "language": "python",
     "metadata": {},
     "outputs": []
    },
    {
     "cell_type": "code",
     "collapsed": false,
     "input": [
      "%%bash\n",
      "WORKDIR=\n",
      "/root/apps/mosesdecoder/scripts/training/train-model.perl"
     ],
     "language": "python",
     "metadata": {},
     "outputs": [
      {
       "output_type": "stream",
       "stream": "stderr",
       "text": [
        "perl: warning: Setting locale failed.\n",
        "perl: warning: Please check that your locale settings:\n",
        "\tLANGUAGE = (unset),\n",
        "\tLC_ALL = (unset),\n",
        "\tLANG = \"en_US.UTF-8\"\n",
        "    are supported and installed on your system.\n",
        "perl: warning: Falling back to the standard locale (\"C\").\n",
        "Using SCRIPTS_ROOTDIR: /root/apps/mosesdecoder/scripts\n",
        "Use of uninitialized value $_EXTERNAL_BINDIR in concatenation (.) or string at /root/apps/mosesdecoder/scripts/training/train-model.perl line 242.\n",
        "Use of uninitialized value $_EXTERNAL_BINDIR in concatenation (.) or string at /root/apps/mosesdecoder/scripts/training/train-model.perl line 243.\n",
        "Use of uninitialized value $_EXTERNAL_BINDIR in concatenation (.) or string at /root/apps/mosesdecoder/scripts/training/train-model.perl line 250.\n",
        "Use of uninitialized value $_EXTERNAL_BINDIR in concatenation (.) or string at /root/apps/mosesdecoder/scripts/training/train-model.perl line 251.\n",
        "Use of uninitialized value $_EXTERNAL_BINDIR in concatenation (.) or string at /root/apps/mosesdecoder/scripts/training/train-model.perl line 253.\n",
        "Using single-thread GIZA\n",
        "Use of uninitialized value $_EXTERNAL_BINDIR in concatenation (.) or string at /root/apps/mosesdecoder/scripts/training/train-model.perl line 350.\n",
        "ERROR: Cannot find mkcls, GIZA++/mgiza, & snt2cooc.out/snt2cooc in .\n",
        "You MUST specify the parameter -external-bin-dir at /root/apps/mosesdecoder/scripts/training/train-model.perl line 350.\n"
       ]
      }
     ],
     "prompt_number": 2
    }
   ],
   "metadata": {}
  }
 ]
}