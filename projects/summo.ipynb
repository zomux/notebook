{
 "metadata": {
  "name": "",
  "signature": "sha256:1c5ce510a53d06e6c5d6e5f5ecb49faef0043492167109527f7f20b0b3be3960"
 },
 "nbformat": 3,
 "nbformat_minor": 0,
 "worksheets": [
  {
   "cells": [
    {
     "cell_type": "heading",
     "level": 1,
     "metadata": {},
     "source": [
      "Summo Data analysis"
     ]
    },
    {
     "cell_type": "heading",
     "level": 1,
     "metadata": {},
     "source": [
      "------ Idea/ Hypothesis ------"
     ]
    },
    {
     "cell_type": "markdown",
     "metadata": {},
     "source": [
      "-\u3000\u4f4f\u5c45\u540d\u79f0\u306e\u30cf\u30a4\u30c4\u306e\u5206\u5e03\u304c\u9762\u767d\u3044"
     ]
    },
    {
     "cell_type": "heading",
     "level": 1,
     "metadata": {},
     "source": [
      "------ Data ------"
     ]
    },
    {
     "cell_type": "code",
     "collapsed": false,
     "input": [
      "%%bash\n",
      "W=\"\u30cf\u30a4\u30c4\"\n",
      "cat /root/playground/summo-data-2.txt | grep $W |  cut -f 3 | sed -e \"s/\u5e74/./g\" | sed -e \"s/\u6708//g\" > /tmp/d.txt\n",
      "cat  /tmp/d.txt | head\n",
      "cat  /tmp/d.txt | wc -l"
     ],
     "language": "python",
     "metadata": {},
     "outputs": [
      {
       "output_type": "stream",
       "stream": "stdout",
       "text": [
        "1975.4\n",
        "1970.10\n",
        "1979.9\n",
        "1974.5\n",
        "1971.10\n",
        "1981.4\n",
        "1981.4\n",
        "1975.4\n",
        "1975.4\n",
        "1975.4\n",
        "2554\n"
       ]
      }
     ],
     "prompt_number": 11
    },
    {
     "cell_type": "code",
     "collapsed": false,
     "input": [
      "from collections import Counter\n",
      "years = open(\"/tmp/d.txt\").read().strip().split(\"\\n\")\n",
      "years = [int(y.split(\".\")[0]) for y in years]\n",
      "c = Counter(years)\n",
      "xs = []\n",
      "ys = []\n",
      "for k in c:\n",
      "    xs.append(k)\n",
      "    ys.append(c[k])"
     ],
     "language": "python",
     "metadata": {},
     "outputs": [],
     "prompt_number": 12
    },
    {
     "cell_type": "heading",
     "level": 1,
     "metadata": {},
     "source": [
      "------ Analysis ------"
     ]
    },
    {
     "cell_type": "code",
     "collapsed": false,
     "input": [
      "import numpy as np\n",
      "p30 = np.poly1d(np.polyfit(xs, ys, 70))\n",
      "xp = np.linspace(1963, 2015, 100)\n",
      "xlim([1963, 2010])\n",
      "ylim([0, max(ys)])\n",
      "plot(xs, ys, \"b.\")\n",
      "plot(xp, p30(xp), \"r-\")"
     ],
     "language": "python",
     "metadata": {},
     "outputs": [
      {
       "output_type": "stream",
       "stream": "stderr",
       "text": [
        "/usr/lib/python2.7/dist-packages/numpy/lib/polynomial.py:560: RankWarning: Polyfit may be poorly conditioned\n",
        "  warnings.warn(msg, RankWarning)\n"
       ]
      },
      {
       "metadata": {},
       "output_type": "pyout",
       "prompt_number": 17,
       "text": [
        "[<matplotlib.lines.Line2D at 0x4405690>]"
       ]
      },
      {
       "metadata": {},
       "output_type": "display_data",
       "png": "[encoded data removed]",
       "text": [
        "<matplotlib.figure.Figure at 0x3833c50>"
       ]
      }
     ],
     "prompt_number": 17
    },
    {
     "cell_type": "heading",
     "level": 1,
     "metadata": {},
     "source": [
      "------ Conclusion ------"
     ]
    },
    {
     "cell_type": "markdown",
     "metadata": {},
     "source": [
      "#1983\n",
      "#\uff11\n",
      "#\uff12\n",
      "#\uff13"
     ]
    }
   ],
   "metadata": {}
  }
 ]
}