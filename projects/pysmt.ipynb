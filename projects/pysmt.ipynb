{
 "metadata": {
  "name": "",
  "signature": "sha256:7459639841e36040ea70925b96efff425d3b6ef577d2cf253e62f943365e7a4a"
 },
 "nbformat": 3,
 "nbformat_minor": 0,
 "worksheets": [
  {
   "cells": [
    {
     "cell_type": "heading",
     "level": 1,
     "metadata": {},
     "source": [
      "PYSMT Dev"
     ]
    },
    {
     "cell_type": "code",
     "collapsed": false,
     "input": [
      "%cd /root/workdir/pysmt-sample"
     ],
     "language": "python",
     "metadata": {},
     "outputs": [
      {
       "output_type": "stream",
       "stream": "stdout",
       "text": [
        "/root/workdir/pysmt-sample\n"
       ]
      }
     ],
     "prompt_number": 11
    },
    {
     "cell_type": "heading",
     "level": 2,
     "metadata": {},
     "source": [
      "Build Parallel Data"
     ]
    },
    {
     "cell_type": "code",
     "collapsed": false,
     "input": [
      "!wc -l europarl-v7.es-en.*"
     ],
     "language": "python",
     "metadata": {},
     "outputs": [
      {
       "output_type": "stream",
       "stream": "stdout",
       "text": [
        "  1965734 europarl-v7.es-en.en\r\n"
       ]
      },
      {
       "output_type": "stream",
       "stream": "stdout",
       "text": [
        "  1965734 europarl-v7.es-en.es\r\n",
        "  3931468 total\r\n"
       ]
      }
     ],
     "prompt_number": 6
    },
    {
     "cell_type": "code",
     "collapsed": false,
     "input": [
      "!/root/apps/mosesdecoder/scripts/training/clean-corpus-n.perl train en ja train.cleaned 0 40"
     ],
     "language": "python",
     "metadata": {},
     "outputs": [
      {
       "output_type": "stream",
       "stream": "stdout",
       "text": [
        "perl: warning: Setting locale failed.\r\n",
        "perl: warning: Please check that your locale settings:\r\n",
        "\tLANGUAGE = (unset),\r\n",
        "\tLC_ALL = (unset),\r\n",
        "\tLANG = \"en_US.UTF-8\"\r\n",
        "    are supported and installed on your system.\r\n",
        "perl: warning: Falling back to the standard locale (\"C\").\r\n",
        "clean-corpus.perl: processing train.en & .ja to train.cleaned, cutoff 0-40\r\n"
       ]
      },
      {
       "output_type": "stream",
       "stream": "stdout",
       "text": [
        ".\r\n",
        "Input sentences: 10000  Output sentences:  10000\r\n"
       ]
      }
     ],
     "prompt_number": 12
    },
    {
     "cell_type": "markdown",
     "metadata": {},
     "source": [
      "```\n",
      "${SCRIPTS_ROOTDIR}/training/train-model.perl \\\n",
      "  --scripts-root-dir ${SCRIPTS_ROOTDIR} \\\n",
      "  --root-dir `pwd`/work \\\n",
      "  --bin-dir ${GIZA_BIN_DIR} \\\n",
      "  --corpus ../corpus.tok/train-all.clean1-40 \\\n",
      "  --f fr \\\n",
      "  --e en \\\n",
      "  --parallel \\\n",
      "  --alignment grow-diag-final-and \\\n",
      "  --reordering msd-bidirectional-fe \\\n",
      "  --lm 0:5:`pwd`/../lm/train-all.en.lm \\\n",
      "  >& work/training.out\n",
      "  ```"
     ]
    },
    {
     "cell_type": "code",
     "collapsed": false,
     "input": [
      "!head train.cleaned.en"
     ],
     "language": "python",
     "metadata": {},
     "outputs": [
      {
       "output_type": "stream",
       "stream": "stdout",
       "text": [
        "He revolutionized the Japanese ink painting .\r\n",
        "He was given the posthumous name \" Toyo \" or \" Sesshu ( \ufffd\ufffd\ufffd\ufffd\ufffd\ufffd ) . \"\r\n",
        "Born in Bicchu Province , he moved to Suo Province after entering SShokoku-ji Temple in Kyoto .\r\n",
        "Later he accompanied a mission to Ming Dynasty China and learned Chinese ink painting .\r\n",
        "His works were many , including not only Chinese-style landscape paintings , but also portraits and pictures of flowers and birds .\r\n",
        "His bold compositions and strong brush strokes constituted an extremely distinctive style .\r\n",
        "6 of his extant works are designated national treasures . Indeed , he is considered to be extraordinary among Japanese painters .\r\n",
        "For this reason , there are a great many artworks that are attributed to him , such as folding screens with pictures of flowers and that birds are painted on them .\r\n",
        "There are many works that even experts cannot agree if they are really his work or not .\r\n",
        "His disciples include Shugetsu , Soen , and Toshun .\r\n"
       ]
      }
     ],
     "prompt_number": 13
    },
    {
     "cell_type": "code",
     "collapsed": false,
     "input": [
      "cd /root/apps/giza-pp"
     ],
     "language": "python",
     "metadata": {},
     "outputs": []
    },
    {
     "cell_type": "code",
     "collapsed": false,
     "input": [
      "%%bash\n",
      "WORKDIR=/tmp/pysmt\n",
      "CORPUS=/root/workdir/pysmt/testdata/train\n",
      "GIZA=/root/apps/giza-pp\n",
      "touch /tmp/fakelm.arpa\n",
      "/root/apps/mosesdecoder/scripts/training/train-model.perl \\\n",
      "--root-dir $WORKDIR \\\n",
      "--corpus $CORPUS \\\n",
      "-external-bin-dir $GIZA \\\n",
      "--last-step 4 \\\n",
      "-f en \\\n",
      "-e ja \\\n",
      "--parallel \\\n",
      "--alignment  grow-diag-final-and \\\n",
      "--reordering  msd-bidirectional-fe \\\n",
      "--lm  0:5:/tmp/fakelm.arpa"
     ],
     "language": "python",
     "metadata": {},
     "outputs": [
      {
       "output_type": "stream",
       "stream": "stdout",
       "text": [
        "Forking...\n",
        "Waiting for mkcls processes to finish...\n",
        "/root/apps/giza-pp/snt2cooc.out /tmp/pysmt/corpus/en.vcb /tmp/pysmt/corpus/ja.vcb /tmp/pysmt/corpus/ja-en-int-train.snt > /tmp/pysmt/giza.ja-en/ja-en.cooc\n",
        "/root/apps/giza-pp/snt2cooc.out /tmp/pysmt/corpus/ja.vcb /tmp/pysmt/corpus/en.vcb /tmp/pysmt/corpus/en-ja-int-train.snt > /tmp/pysmt/giza.en-ja/en-ja.cooc\n",
        "  /tmp/pysmt/giza.en-ja/en-ja.A3.final.gz seems finished, reusing.\n",
        "  /tmp/pysmt/giza.ja-en/ja-en.A3.final.gz seems finished, reusing.\n",
        "Waiting for second GIZA process...\n",
        "FILE: /root/workdir/pysmt/testdata/train.ja\n",
        "FILE: /root/workdir/pysmt/testdata/train.en\n",
        "FILE: /tmp/pysmt/model/aligned.grow-diag-final-and\n"
       ]
      },
      {
       "output_type": "stream",
       "stream": "stderr",
       "text": [
        "perl: warning: Setting locale failed.\n",
        "perl: warning: Please check that your locale settings:\n",
        "\tLANGUAGE = (unset),\n",
        "\tLC_ALL = (unset),\n",
        "\tLANG = \"en_US.UTF-8\"\n",
        "    are supported and installed on your system.\n",
        "perl: warning: Falling back to the standard locale (\"C\").\n",
        "Using SCRIPTS_ROOTDIR: /root/apps/mosesdecoder/scripts\n",
        "Using single-thread GIZA\n",
        "(1) preparing corpus @ Sun Jul 13 12:40:04 JST 2014\n",
        "Executing: mkdir -p /tmp/pysmt/corpus\n",
        "(1.0) selecting factors @ Sun Jul 13 12:40:04 JST 2014\n",
        "(1.2) creating vcb file /tmp/pysmt/corpus/en.vcb @ Sun Jul 13 12:40:04 JST 2014\n",
        "(1.1) running mkcls  @ Sun Jul 13 12:40:04 JST 2014\n",
        "/root/apps/giza-pp/mkcls -c50 -n2 -p/root/workdir/pysmt/testdata/train.ja -V/tmp/pysmt/corpus/ja.vcb.classes opt\n",
        "(1.1) running mkcls  @ Sun Jul 13 12:40:04 JST 2014\n",
        "/root/apps/giza-pp/mkcls -c50 -n2 -p/root/workdir/pysmt/testdata/train.en -V/tmp/pysmt/corpus/en.vcb.classes opt\n",
        "  /tmp/pysmt/corpus/ja.vcb.classes already in place, reusing\n",
        "  /tmp/pysmt/corpus/en.vcb.classes already in place, reusing\n",
        "(1.2) creating vcb file /tmp/pysmt/corpus/ja.vcb @ Sun Jul 13 12:40:04 JST 2014\n",
        "(1.3) numberizing corpus /tmp/pysmt/corpus/en-ja-int-train.snt @ Sun Jul 13 12:40:04 JST 2014\n",
        "  /tmp/pysmt/corpus/en-ja-int-train.snt already in place, reusing\n",
        "(1.3) numberizing corpus /tmp/pysmt/corpus/ja-en-int-train.snt @ Sun Jul 13 12:40:04 JST 2014\n",
        "  /tmp/pysmt/corpus/ja-en-int-train.snt already in place, reusing\n",
        "(2) running giza @ Sun Jul 13 12:40:04 JST 2014\n",
        "(2.1a) running snt2cooc ja-en @ Sun Jul 13 12:40:04 JST 2014\n",
        "\n",
        "Executing: mkdir -p /tmp/pysmt/giza.ja-en\n",
        "Executing: /root/apps/giza-pp/snt2cooc.out /tmp/pysmt/corpus/en.vcb /tmp/pysmt/corpus/ja.vcb /tmp/pysmt/corpus/ja-en-int-train.snt > /tmp/pysmt/giza.ja-en/ja-en.cooc\n",
        "(2.1a) running snt2cooc en-ja @ Sun Jul 13 12:40:04 JST 2014\n",
        "\n",
        "Executing: mkdir -p /tmp/pysmt/giza.en-ja\n",
        "Executing: /root/apps/giza-pp/snt2cooc.out /tmp/pysmt/corpus/ja.vcb /tmp/pysmt/corpus/en.vcb /tmp/pysmt/corpus/en-ja-int-train.snt > /tmp/pysmt/giza.en-ja/en-ja.cooc\n",
        "END.\n",
        "END.\n",
        "(2.1b) running giza ja-en @ Sun Jul 13 12:40:04 JST 2014\n",
        "/root/apps/giza-pp/GIZA++  -CoocurrenceFile /tmp/pysmt/giza.ja-en/ja-en.cooc -c /tmp/pysmt/corpus/ja-en-int-train.snt -m1 5 -m2 0 -m3 3 -m4 3 -model1dumpfrequency 1 -model4smoothfactor 0.4 -nodumps 1 -nsmooth 4 -o /tmp/pysmt/giza.ja-en/ja-en -onlyaldumps 1 -p0 0.999 -s /tmp/pysmt/corpus/en.vcb -t /tmp/pysmt/corpus/ja.vcb\n",
        "(2.1b) running giza en-ja @ Sun Jul 13 12:40:04 JST 2014\n",
        "/root/apps/giza-pp/GIZA++  -CoocurrenceFile /tmp/pysmt/giza.en-ja/en-ja.cooc -c /tmp/pysmt/corpus/en-ja-int-train.snt -m1 5 -m2 0 -m3 3 -m4 3 -model1dumpfrequency 1 -model4smoothfactor 0.4 -nodumps 1 -nsmooth 4 -o /tmp/pysmt/giza.en-ja/en-ja -onlyaldumps 1 -p0 0.999 -s /tmp/pysmt/corpus/ja.vcb -t /tmp/pysmt/corpus/en.vcb\n",
        "(3) generate word alignment @ Sun Jul 13 12:40:04 JST 2014\n",
        "Combining forward and inverted alignment from files:\n",
        "  /tmp/pysmt/giza.en-ja/en-ja.A3.final.{bz2,gz}\n",
        "  /tmp/pysmt/giza.ja-en/ja-en.A3.final.{bz2,gz}\n",
        "Executing: mkdir -p /tmp/pysmt/model\n",
        "Executing: /root/apps/mosesdecoder/scripts/training/giza2bal.pl -d \"gzip -cd /tmp/pysmt/giza.ja-en/ja-en.A3.final.gz\" -i \"gzip -cd /tmp/pysmt/giza.en-ja/en-ja.A3.final.gz\" |/root/apps/mosesdecoder/scripts/../bin/symal -alignment=\"grow\" -diagonal=\"yes\" -final=\"yes\" -both=\"yes\" > /tmp/pysmt/model/aligned.grow-diag-final-and\n",
        "symal: computing grow alignment: diagonal (1) final (1)both-uncovered (1)\n",
        "skip=<0> counts=<100>\n",
        "(4) generate lexical translation table 0-0 @ Sun Jul 13 12:40:04 JST 2014\n",
        "(/root/workdir/pysmt/testdata/train.en,/root/workdir/pysmt/testdata/train.ja,/tmp/pysmt/model/lex)\n",
        "!\n",
        "Saved: /tmp/pysmt/model/lex.f2e and /tmp/pysmt/model/lex.e2f\n"
       ]
      }
     ],
     "prompt_number": 2
    }
   ],
   "metadata": {}
  }
 ]
}