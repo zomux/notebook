{
 "metadata": {
  "name": "",
  "signature": "sha256:3047b4c5457b7bd19363b2c908d1c892702299e769bd36eeb7942c79d7ea4dda"
 },
 "nbformat": 3,
 "nbformat_minor": 0,
 "worksheets": [
  {
   "cells": [
    {
     "cell_type": "markdown",
     "metadata": {},
     "source": [
      "# Predictive distribution for dummies"
     ]
    },
    {
     "cell_type": "heading",
     "level": 2,
     "metadata": {},
     "source": [
      "$$\\pi(y|x,D)=\\int\\int \\pi(y|x,\\mathbf{a},\\sigma^2)\\pi(\\mathbf{a},\\sigma^2|D)\\mathrm{d}\\mathbf{a}\\mathrm{d}(\\sigma^2)$$"
     ]
    },
    {
     "cell_type": "code",
     "collapsed": false,
     "input": [
      "from numpy import *\n",
      "from scipy import stats\n",
      "from scipy import linalg as LA\n",
      "from matplotlib.pyplot import *\n",
      "import matplotlib.cm as cm\n",
      "from StringIO import StringIO"
     ],
     "language": "python",
     "metadata": {},
     "outputs": [],
     "prompt_number": 3
    },
    {
     "cell_type": "code",
     "collapsed": false,
     "input": [
      "rawdata = \"\"\"\n",
      "4.560545386661531975e-01 1.869503594629986498e+00\n",
      "3.120851943927878125e-01 1.067076264137166941e+00\n",
      "6.219108725067126198e-01 2.113955301000528753e+00\n",
      "4.477536596920445033e-01 2.733685441995795884e+00\n",
      "1.391558073978294008e-02 7.877939403699765197e-01\n",
      "8.494111064379492593e-01 3.900859379491177670e+00\n",
      "6.441890478025992239e-01 2.220550681565081064e+00\n",
      "2.703711167406784854e-01 2.968083502653644512e-01\n",
      "4.799464071505868956e-01 1.744942603007537452e+00\n",
      "6.468121626888473363e-01 2.620319784738449176e+00\n",
      "2.254011886539518672e-01 1.753466149022295362e+00\n",
      "5.356984737103498428e-01 1.870398942702697020e+00\n",
      "5.640072729089584680e-02 1.418036282616341071e+00\n",
      "8.169592564707305327e-01 2.671104002141783340e+00\n",
      "2.747714077026308654e-02 1.812981530605388691e+00\n",
      "9.841156936534684041e-01 3.403759967028809008e+00\n",
      "5.444505819940131941e-01 2.171804082311547202e+00\n",
      "1.792650460218588870e-01 2.707204582123670544e+00\n",
      "4.130848332581216198e-02 -2.436926015671958545e-02\n",
      "4.636788297395245673e-01 2.482465263767816399e+00\n",
      "8.427428842605313442e-01 3.141119637305975321e+00\n",
      "8.272440280656289113e-01 2.730261798256917061e+00\n",
      "4.858550183952753398e-01 1.844368835344077695e+00\n",
      "1.340110710277816475e-01 2.048813077139161276e+00\n",
      "3.204686292200770170e-01 9.158506321098909275e-01\n",
      "5.491704895383486829e-02 1.141211448302646980e+00\n",
      "2.951940011789735419e-01 8.731255869824759985e-01\n",
      "6.535876976809328331e-01 1.619050521041984103e+00\n",
      "1.903928305071591609e-01 1.470989707026580051e+00\n",
      "5.239802843147801648e-01 2.526865200041221726e+00\n",
      "\"\"\"\n",
      "data = loadtxt(StringIO(rawdata))"
     ],
     "language": "python",
     "metadata": {},
     "outputs": [],
     "prompt_number": 4
    },
    {
     "cell_type": "code",
     "collapsed": false,
     "input": [
      "# a\u306e\u4e8b\u524d\u5206\u5e03\u306e\u30d1\u30e9\u30e1\u30fc\u30bf\n",
      "a0  = array([0,0])\n",
      "s02 = 1.0e2 ** 2\n",
      "\n",
      "# \u03c3^2\u306e\u4e8b\u524d\u5206\u5e03\u306e\u30d1\u30e9\u30e1\u30fc\u30bf\n",
      "alpha0 = 1.0e-2\n",
      "beta0  = 1.0e2"
     ],
     "language": "python",
     "metadata": {},
     "outputs": [],
     "prompt_number": 5
    },
    {
     "cell_type": "code",
     "collapsed": false,
     "input": [
      "x = data[:,0]\n",
      "y = data[:,1]\n",
      "n = len(x)"
     ],
     "language": "python",
     "metadata": {},
     "outputs": [],
     "prompt_number": 6
    },
    {
     "cell_type": "code",
     "collapsed": false,
     "input": [
      "# \u7e70\u308a\u8fd4\u3057\u4f7f\u3046\u884c\u5217\u30fb\u30d9\u30af\u30c8\u30eb\u3092\u4f5c\u3063\u3066\u304a\u304f\n",
      "X = array([x, ones(n)]).T\n",
      "XtX = X.T.dot(X)\n",
      "Xty = X.T.dot(y)"
     ],
     "language": "python",
     "metadata": {},
     "outputs": [],
     "prompt_number": 7
    },
    {
     "cell_type": "code",
     "collapsed": false,
     "input": [
      "\n",
      "# \u4e88\u6e2c\u5206\u5e03\n",
      "def predictive(sim, x):\n",
      "    a,b,s2 = sim.next()\n",
      "    return random.normal(a*x+b, sqrt(s2))\n",
      "\n",
      "xmin = 0;  xmax = 1\n",
      "ymin = -1; ymax = 5\n",
      "xlim(xmin, xmax)\n",
      "ylim(ymin, ymax)\n",
      "xs = linspace(xmin, xmax, 100)\n",
      "means = []\n",
      "ys_high = []\n",
      "ys_low  = []\n",
      "for t in xs:\n",
      "    M = 100\n",
      "    mean = a_MAP*t + b_MAP\n",
      "    s = sqrt(average([(mean - predictive(sim, t))**2 for i in range(M)]))\n",
      "    means.append(mean)\n",
      "    ys_high.append(mean + s)\n",
      "    ys_low.append(mean - s)\n",
      "\n",
      "scatter(x, y)\n",
      "plot(xs, means)\n",
      "plot(xs, ys_high)\n",
      "plot(xs, ys_low)\n",
      "show()\n"
     ],
     "language": "python",
     "metadata": {},
     "outputs": [
      {
       "ename": "NameError",
       "evalue": "name 'a_MAP' is not defined",
       "output_type": "pyerr",
       "traceback": [
        "\u001b[1;31m---------------------------------------------------------------------------\u001b[0m\n\u001b[1;31mNameError\u001b[0m                                 Traceback (most recent call last)",
        "\u001b[1;32m<ipython-input-9-74b21454077c>\u001b[0m in \u001b[0;36m<module>\u001b[1;34m()\u001b[0m\n\u001b[0;32m     15\u001b[0m \u001b[1;32mfor\u001b[0m \u001b[0mt\u001b[0m \u001b[1;32min\u001b[0m \u001b[0mxs\u001b[0m\u001b[1;33m:\u001b[0m\u001b[1;33m\u001b[0m\u001b[0m\n\u001b[0;32m     16\u001b[0m     \u001b[0mM\u001b[0m \u001b[1;33m=\u001b[0m \u001b[1;36m100\u001b[0m\u001b[1;33m\u001b[0m\u001b[0m\n\u001b[1;32m---> 17\u001b[1;33m     \u001b[0mmean\u001b[0m \u001b[1;33m=\u001b[0m \u001b[0ma_MAP\u001b[0m\u001b[1;33m*\u001b[0m\u001b[0mt\u001b[0m \u001b[1;33m+\u001b[0m \u001b[0mb_MAP\u001b[0m\u001b[1;33m\u001b[0m\u001b[0m\n\u001b[0m\u001b[0;32m     18\u001b[0m     \u001b[0ms\u001b[0m \u001b[1;33m=\u001b[0m \u001b[0msqrt\u001b[0m\u001b[1;33m(\u001b[0m\u001b[0maverage\u001b[0m\u001b[1;33m(\u001b[0m\u001b[1;33m[\u001b[0m\u001b[1;33m(\u001b[0m\u001b[0mmean\u001b[0m \u001b[1;33m-\u001b[0m \u001b[0mpredictive\u001b[0m\u001b[1;33m(\u001b[0m\u001b[0msim\u001b[0m\u001b[1;33m,\u001b[0m \u001b[0mt\u001b[0m\u001b[1;33m)\u001b[0m\u001b[1;33m)\u001b[0m\u001b[1;33m**\u001b[0m\u001b[1;36m2\u001b[0m \u001b[1;32mfor\u001b[0m \u001b[0mi\u001b[0m \u001b[1;32min\u001b[0m \u001b[0mrange\u001b[0m\u001b[1;33m(\u001b[0m\u001b[0mM\u001b[0m\u001b[1;33m)\u001b[0m\u001b[1;33m]\u001b[0m\u001b[1;33m)\u001b[0m\u001b[1;33m)\u001b[0m\u001b[1;33m\u001b[0m\u001b[0m\n\u001b[0;32m     19\u001b[0m     \u001b[0mmeans\u001b[0m\u001b[1;33m.\u001b[0m\u001b[0mappend\u001b[0m\u001b[1;33m(\u001b[0m\u001b[0mmean\u001b[0m\u001b[1;33m)\u001b[0m\u001b[1;33m\u001b[0m\u001b[0m\n",
        "\u001b[1;31mNameError\u001b[0m: name 'a_MAP' is not defined"
       ]
      },
      {
       "metadata": {},
       "output_type": "display_data",
       "png": "[encoded data removed]",
       "text": [
        "<matplotlib.figure.Figure at 0x30e0590>"
       ]
      }
     ],
     "prompt_number": 9
    }
   ],
   "metadata": {}
  }
 ]
}