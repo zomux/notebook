{
 "metadata": {
  "name": "",
  "signature": "sha256:d8134ac88356c8dd5f5a8e4c63a25e845ffbf03acb8496baa87acbe62d0ba415"
 },
 "nbformat": 3,
 "nbformat_minor": 0,
 "worksheets": [
  {
   "cells": [
    {
     "cell_type": "heading",
     "level": 1,
     "metadata": {},
     "source": [
      "Click competetion"
     ]
    },
    {
     "cell_type": "code",
     "collapsed": false,
     "input": [
      "%cd ~/personal/comp1/"
     ],
     "language": "python",
     "metadata": {},
     "outputs": [
      {
       "output_type": "stream",
       "stream": "stdout",
       "text": [
        "/home/hadoop/personal/comp1\n"
       ]
      }
     ],
     "prompt_number": 1
    },
    {
     "cell_type": "heading",
     "level": 2,
     "metadata": {},
     "source": [
      "SVM Approach"
     ]
    },
    {
     "cell_type": "code",
     "collapsed": false,
     "input": [
      "!head -n 1 ./data/train.csv\n",
      "!head -n 1 ./data/test.csv"
     ],
     "language": "python",
     "metadata": {},
     "outputs": [
      {
       "output_type": "stream",
       "stream": "stdout",
       "text": [
        "0,0,05,20,421256035,2377199148,2696211399,2298910535,3133252034,1509930964,1,0,0,0,0,0,0,0,NA,NA,NA,780\r\n"
       ]
      },
      {
       "output_type": "stream",
       "stream": "stdout",
       "text": [
        "2131039,05,20,421256035,3874378935,1892769125,2411205997,2321672976,1509930964,1,0,0,0,0,0,0,0,1,35,76335,390\r\n"
       ]
      }
     ],
     "prompt_number": 2
    },
    {
     "cell_type": "heading",
     "level": 4,
     "metadata": {},
     "source": [
      "Get category map"
     ]
    },
    {
     "cell_type": "code",
     "collapsed": false,
     "input": [
      "with open(\"data/train.csv\") as input:\n",
      "    cate_set = set()\n",
      "    cate_dict = {}\n",
      "    for l in input.xreadlines():\n",
      "        l = l.strip().replace(\"NA\", \"0\")\n",
      "        fs = l.split(\",\")\n",
      "        c1 = fs[4:10]\n",
      "        # cate_set.update(c1)\n",
      "        for c in c1:\n",
      "            if c not in cate_dict:\n",
      "                cate_dict[c] = 0\n",
      "            cate_dict[c] += 1\n",
      "#     with open(\"data/categories.txt\", \"w\") as output:\n",
      "#         for c in cate_set:\n",
      "#             output.write(\"%s\\n\" % c)"
     ],
     "language": "python",
     "metadata": {},
     "outputs": [],
     "prompt_number": 6
    },
    {
     "cell_type": "code",
     "collapsed": false,
     "input": [
      "freq_cates = [x[0] for x in cate_dict.items()]"
     ],
     "language": "python",
     "metadata": {},
     "outputs": [],
     "prompt_number": 179
    },
    {
     "cell_type": "code",
     "collapsed": false,
     "input": [
      "    with open(\"data/categories.txt\", \"w\") as output:\n",
      "        for c in freq_cates:\n",
      "            output.write(\"%s\\n\" % c)"
     ],
     "language": "python",
     "metadata": {},
     "outputs": [],
     "prompt_number": 181
    },
    {
     "cell_type": "code",
     "collapsed": false,
     "input": [
      "!wc -l data/categories.txt"
     ],
     "language": "python",
     "metadata": {},
     "outputs": [
      {
       "output_type": "stream",
       "stream": "stdout",
       "text": [
        "712 data/categories.txt\r\n"
       ]
      }
     ],
     "prompt_number": 182
    },
    {
     "cell_type": "heading",
     "level": 4,
     "metadata": {},
     "source": [
      "Convert data"
     ]
    },
    {
     "cell_type": "code",
     "collapsed": false,
     "input": [
      "# Get common points\n",
      "from collections import Counter\n",
      "def make_common_points_for_f12_f13(inp, is_train=False):\n",
      "    points_12, points_13 = [], []\n",
      "    with open(inp) as input:\n",
      "        for l in input.xreadlines():\n",
      "            l = l.strip().replace(\"NA\", \"0\")\n",
      "            fs = l.split(\",\")\n",
      "            if is_train:\n",
      "                target = int(fs[1])\n",
      "                f1 = fs[2:4]\n",
      "                c1 = fs[4:10]\n",
      "                f2 = fs[10:]\n",
      "            else:\n",
      "                target = 0\n",
      "                f1 = fs[1:3]\n",
      "                c1 = fs[3:9]\n",
      "                f2 = fs[9:]\n",
      "            target = \"+1\" if target == 1  else \"-1\"\n",
      "            # hash c1\n",
      "            c1 = map(int, c1)\n",
      "            f = map(int, f1 + f2 + c1)\n",
      "            points_12.append(f[12])\n",
      "            points_13.append(f[13])\n",
      "    c12 = Counter(points_12)\n",
      "    c13 = Counter(points_13)\n",
      "    return c12, c13\n",
      "c12, c13 = make_common_points_for_f12_f13(\"./data/train.csv\" , is_train=True)"
     ],
     "language": "python",
     "metadata": {},
     "outputs": [],
     "prompt_number": 111
    },
    {
     "cell_type": "code",
     "collapsed": false,
     "input": [
      "c12.most_common(100)\n",
      "adict = {}\n",
      "for k, v in c12.items():\n",
      "    if k > 0:\n",
      "        k = k / 50 + 1\n",
      "    if k not in adict:\n",
      "        adict[k] = 0\n",
      "    adict[k] += v"
     ],
     "language": "python",
     "metadata": {},
     "outputs": [],
     "prompt_number": 165
    },
    {
     "cell_type": "code",
     "collapsed": false,
     "input": [
      "len(c13.items())"
     ],
     "language": "python",
     "metadata": {},
     "outputs": [
      {
       "metadata": {},
       "output_type": "pyout",
       "prompt_number": 187,
       "text": [
        "205"
       ]
      }
     ],
     "prompt_number": 187
    },
    {
     "cell_type": "code",
     "collapsed": false,
     "input": [
      "f13_set = dict(c13.most_common()).keys()\n",
      "f10_bound = 1000\n",
      "f11_bound = 500\n",
      "f12_bound = 10000\n",
      "\n",
      "def convert_f12(k):\n",
      "    if k > 0:\n",
      "        k = k / 50 + 1\n",
      "    if k > f12_bound:\n",
      "        k = f12_bound\n",
      "    return k\n",
      "\n",
      "def make_set_feature(f_set, val, baseindex):\n",
      "    if val not in f_set:\n",
      "        return \"\"\n",
      "    else:\n",
      "        return \"%d:1\" % (f_set.index(val) + baseindex)"
     ],
     "language": "python",
     "metadata": {},
     "outputs": [],
     "prompt_number": 176
    },
    {
     "cell_type": "code",
     "collapsed": false,
     "input": [
      "len(CATEGORY_LIST)"
     ],
     "language": "python",
     "metadata": {},
     "outputs": [
      {
       "metadata": {},
       "output_type": "pyout",
       "prompt_number": 195,
       "text": [
        "712"
       ]
      }
     ],
     "prompt_number": 195
    },
    {
     "cell_type": "code",
     "collapsed": false,
     "input": [
      "def make_category_feature(categories, baseindex):\n",
      "    global CATEGORY_LIST\n",
      "    if \"CATEGORY_LIST\" not in globals():\n",
      "        CATEGORY_LIST = map(int, open(\"data/categories.txt\").read().strip().split(\"\\n\"))\n",
      "    category_indexes = []\n",
      "    for c in categories:\n",
      "        if c in CATEGORY_LIST:\n",
      "            category_indexes.append(CATEGORY_LIST.index(c))\n",
      "    category_indexes = list(set(category_indexes))\n",
      "    category_indexes.sort()\n",
      "    feature_strings = [\"%d:1\" % (x + baseindex) for x in category_indexes]\n",
      "    return \" \".join(feature_strings)\n",
      "\n",
      "def convert(inp, outp, is_train=False):\n",
      "    with open(inp) as input:\n",
      "        with open(outp, \"w\") as output:\n",
      "            for l in input.xreadlines():\n",
      "                l = l.strip().replace(\"NA\", \"0\")\n",
      "                fs = l.split(\",\")\n",
      "                if is_train:\n",
      "                    target = int(fs[1])\n",
      "                    f1 = fs[2:4]\n",
      "                    c1 = fs[4:10]\n",
      "                    f2 = fs[10:]\n",
      "                else:\n",
      "                    target = 0\n",
      "                    f1 = fs[1:3]\n",
      "                    c1 = fs[3:9]\n",
      "                    f2 = fs[9:]\n",
      "                target = \"+1\" if target == 1  else \"-1\"\n",
      "                # hash c1\n",
      "                c1 = map(int, c1)\n",
      "                category_feature = make_category_feature(c1, 14 + len(f13_set))\n",
      "                # output\n",
      "                f = map(int, f1 + f2)\n",
      "                if f[10] > f10_bound:\n",
      "                    f[10] = f10_bound\n",
      "                if f[11] > f11_bound:\n",
      "                    f[11] = f11_bound\n",
      "                f[12] = convert_f12(f[12])\n",
      "                new_features = f[:13]\n",
      "                f13 = make_set_feature(f13_set, f[13], baseindex=14)\n",
      "                feature_strings = [\"%d:%d\" % (n+1, new_features[n]) for n in range(len(new_features))]\n",
      "                if f13:\n",
      "                    feature_strings.append(f13)\n",
      "                output.write(\"%s %s %s\\n\" % (target, \" \".join(feature_strings), category_feature))\n",
      "                # output.write(\"%s %s\\n\" % (target, \" \".join(feature_strings)))\n",
      "\n",
      "convert(\"./data/train.csv\", \"./data/train.svmdata\", is_train=True)\n",
      "convert(\"./data/test.csv\", \"./data/test.svmdata\")             "
     ],
     "language": "python",
     "metadata": {},
     "outputs": []
    },
    {
     "cell_type": "markdown",
     "metadata": {},
     "source": [
      "---\n",
      "Data range analysis\n",
      "---"
     ]
    },
    {
     "cell_type": "code",
     "collapsed": false,
     "input": [
      "from collections import Counter\n",
      "def convert2(inp, is_train=False):\n",
      "    pool = []\n",
      "    with open(inp) as input:\n",
      "        for l in input.xreadlines():\n",
      "            l = l.strip().replace(\"NA\", \"0\")\n",
      "            fs = l.split(\",\")\n",
      "            if is_train:\n",
      "                target = int(fs[1])\n",
      "                f1 = fs[2:4]\n",
      "                c1 = fs[4:10]\n",
      "                f2 = fs[10:]\n",
      "            else:\n",
      "                target = 0\n",
      "                f1 = fs[1:3]\n",
      "                c1 = fs[3:9]\n",
      "                f2 = fs[9:]\n",
      "            target = \"+1\" if target == 1  else \"-1\"\n",
      "            # hash c1\n",
      "            c1 = map(int, c1)\n",
      "            f = map(int, f1 + f2 + c1)\n",
      "            pool.append(f[13])\n",
      "    c = Counter(pool)\n",
      "    print len(c)\n",
      "    print c.most_common(10)\n",
      "    return c\n",
      "c = convert2(\"./data/test.csv\") "
     ],
     "language": "python",
     "metadata": {},
     "outputs": []
    },
    {
     "cell_type": "code",
     "collapsed": false,
     "input": [
      "import matplotlib.pyplot as pt\n",
      "import numpy as np\n",
      "ys = [y[1] for y in c.most_common(30)]\n",
      "xs = np.arange(len(ys) - 1)\n",
      "pt.plot(xs, ys[1:])"
     ],
     "language": "python",
     "metadata": {},
     "outputs": []
    },
    {
     "cell_type": "markdown",
     "metadata": {},
     "source": [
      "Analysis Result\n",
      "- f 10 : up 0 - 1000\n",
      "- f 11 : linear up 0 - 500\n",
      "- f 12 : most common 100\n",
      "- f 13 : most common 30\n"
     ]
    },
    {
     "cell_type": "markdown",
     "metadata": {},
     "source": [
      "---"
     ]
    },
    {
     "cell_type": "code",
     "collapsed": false,
     "input": [
      "%%bash\n",
      "head -n 1800000 ./data/train.svmdata > ./data/subtrain.svmdata\n",
      "tail -n 331039 ./data/train.svmdata | head -n 100000 > ./data/subvalid.svmdata\n",
      "tail -n 331039 ./data/train.svmdata | tail -n 231039 > ./data/subtest.svmdata"
     ],
     "language": "python",
     "metadata": {},
     "outputs": []
    },
    {
     "cell_type": "code",
     "collapsed": false,
     "input": [
      "%%bash\n",
      "cat ./data/train.svmdata | wc -l \n",
      "cat ./data/train.svmdata | grep \"^1\" | wc -l "
     ],
     "language": "python",
     "metadata": {},
     "outputs": [
      {
       "output_type": "stream",
       "stream": "stdout",
       "text": [
        "2131039\n",
        "0\n"
       ]
      }
     ],
     "prompt_number": 17
    },
    {
     "cell_type": "markdown",
     "metadata": {},
     "source": [
      "```\n",
      "python easy.py \n",
      "```"
     ]
    },
    {
     "cell_type": "heading",
     "level": 3,
     "metadata": {},
     "source": [
      "Scaling"
     ]
    },
    {
     "cell_type": "code",
     "collapsed": false,
     "input": [
      "%%bash\n",
      "./libsvm/svm-scale -l 0 -s ./data/train.svmscale ./data/train.svmdata"
     ],
     "language": "python",
     "metadata": {},
     "outputs": []
    },
    {
     "cell_type": "code",
     "collapsed": false,
     "input": [
      "%%bash\n",
      "./libsvm/svm-scale -r ./data/train.svmscale ./data/subtrain.svmdata > ./data/subtrain.svmdata.scaled\n",
      "./libsvm/svm-scale -r ./data/train.svmscale ./data/subvalid.svmdata > ./data/subvalid.svmdata.scaled\n",
      "./libsvm/svm-scale -r ./data/train.svmscale ./data/subtest.svmdata > ./data/subtest.svmdata.scaled"
     ],
     "language": "python",
     "metadata": {},
     "outputs": []
    },
    {
     "cell_type": "heading",
     "level": 1,
     "metadata": {},
     "source": [
      "Liblinear model 1"
     ]
    },
    {
     "cell_type": "code",
     "collapsed": false,
     "input": [
      "%%bash\n",
      "./liblinear/train -v 5 -s 1 data/train.svmdata\n",
      "py ./liblinear/grid.py -svmtrain ./liblinear/train -v 5 -log2c -3,0,1 -log2g null -s 0 data/train.svmdata"
     ],
     "language": "python",
     "metadata": {},
     "outputs": []
    },
    {
     "cell_type": "code",
     "collapsed": false,
     "input": [
      "%%bash\n",
      "./liblinear/train -c 10 -w1 13 -w-1 1 -s 0 -v 5 data/subtrain.svmdata.scaled models/logistic1.submodel\n",
      "./liblinear/predict -b 1 data/subdev.svmdata.scaled models/logistic1.submodel outputs/logistic1.subout"
     ],
     "language": "python",
     "metadata": {},
     "outputs": []
    },
    {
     "cell_type": "code",
     "collapsed": false,
     "input": [
      "%%bash\n",
      "# run 2\n",
      "# ./liblinear/train -c 10 -w1 13 -w-1 1 -s 0 data/train.svmdata.scaled models/logistic2.model\n",
      "./liblinear/train -s 0 data/train.svmdata models/logistic2.model\n",
      "./liblinear/predict -b 1 data/test.svmdata models/logistic2.model outputs/logistic2.out\n",
      "./liblinear/predict -b 1 data/subtest.svmdata models/logistic2.model outputs/logistic2.subout"
     ],
     "language": "python",
     "metadata": {},
     "outputs": []
    },
    {
     "cell_type": "heading",
     "level": 3,
     "metadata": {},
     "source": [
      "Concatenate all"
     ]
    },
    {
     "cell_type": "code",
     "collapsed": false,
     "input": [
      "def concatenate_results(csv_path, in_path, out_path):\n",
      "    with open(csv_path) as csv:\n",
      "        with open(in_path) as input:\n",
      "            with open(out_path, \"w\") as output:\n",
      "                ids = [l.split(\",\")[0] for l in csv.xreadlines()]\n",
      "                probs = [l.split(\" \")[1] for l in input.xreadlines()]\n",
      "                probs = probs[1:]\n",
      "                for i in range(len(ids)):\n",
      "                    output.write(\"%s,%s\\n\" % (ids[i], probs[i]))\n",
      "\n",
      "concatenate_results(\"data/test.csv\", \"outputs/logistic2.out\", \"outputs/logistic2c.submit.csv\")"
     ],
     "language": "python",
     "metadata": {},
     "outputs": []
    },
    {
     "cell_type": "heading",
     "level": 1,
     "metadata": {},
     "source": [
      "Evaluate with log-loss"
     ]
    },
    {
     "cell_type": "code",
     "collapsed": false,
     "input": [
      "import scipy as sp\n",
      "import numpy as np\n",
      "def llfun(act, pred):\n",
      "    epsilon = 1e-15\n",
      "    pred = sp.maximum(epsilon, pred)\n",
      "    pred = sp.minimum(1-epsilon, pred)\n",
      "    ll = sum(act*sp.log(pred) + sp.subtract(1,act)*sp.log(sp.subtract(1,pred)))\n",
      "    ll = ll * -1.0/len(act)\n",
      "    return ll\n",
      "\n",
      "def log_loss(data_path, result_path):\n",
      "    with open(data_path) as svmdata:\n",
      "        with open(result_path) as result:\n",
      "            probs = [l.split(\" \")[1] for l in result.xreadlines()]\n",
      "            probs = map(float, probs[1:])\n",
      "            targets = [1.0 if l.split(\" \")[0].replace(\"+\", \"\") == \"1\" else 0.0 for l in svmdata.xreadlines()]\n",
      "            probs = array(probs)\n",
      "            targets = array(targets)\n",
      "            return llfun(targets, probs)\n",
      "            "
     ],
     "language": "python",
     "metadata": {},
     "outputs": [],
     "prompt_number": 198
    },
    {
     "cell_type": "heading",
     "level": 2,
     "metadata": {},
     "source": [
      "Grid Search"
     ]
    },
    {
     "cell_type": "code",
     "collapsed": false,
     "input": [
      "from subprocess import check_call\n",
      "\n",
      "def train(p=0):\n",
      "    check_call(\"./liblinear/train -c 10 -p %f -w1 13 -w-1 1 -s 0 data/subtrain.svmdata.scaled models/logistic1.submodel\" % (p), shell=True)\n",
      "    check_call(\"./liblinear/predict -b 1 data/subdev.svmdata.scaled models/logistic1.submodel outputs/logistic1.subout\", shell=True)\n",
      "\n",
      "def score():\n",
      "    return log_loss(\"data/subdev.svmdata.scaled\", \"outputs/logistic2.subout\")\n",
      "\n",
      "for p in [0.1,0.2,-0.1,0,0.2]:\n",
      "    print \"[p=%d]\" % (p),\n",
      "    print score()"
     ],
     "language": "python",
     "metadata": {},
     "outputs": []
    },
    {
     "cell_type": "heading",
     "level": 4,
     "metadata": {},
     "source": [
      "Test 3, no categories"
     ]
    },
    {
     "cell_type": "code",
     "collapsed": false,
     "input": [
      "! ./liblinear/train -s 0 data/subtrain.svmdata models/logistic3.submodel\n",
      "! ./liblinear/predict -b 1 data/subtest.svmdata models/logistic3.submodel outputs/logistic3.subout\n",
      "print log_loss(\"data/subtest.svmdata\", \"outputs/logistic3.subout\")"
     ],
     "language": "python",
     "metadata": {},
     "outputs": []
    },
    {
     "cell_type": "heading",
     "level": 4,
     "metadata": {},
     "source": [
      "Test 4 category hashed + scaled"
     ]
    },
    {
     "cell_type": "code",
     "collapsed": false,
     "input": [
      "def convert(inp, outp, is_train=False):\n",
      "    with open(inp) as input:\n",
      "        with open(outp, \"w\") as output:\n",
      "            for l in input.xreadlines():\n",
      "                l = l.strip().replace(\"NA\", \"0\")\n",
      "                fs = l.split(\",\")\n",
      "                if is_train:\n",
      "                    target = int(fs[1])\n",
      "                    f1 = fs[2:4]\n",
      "                    c1 = fs[4:10]\n",
      "                    f2 = fs[10:]\n",
      "                else:\n",
      "                    target = 0\n",
      "                    f1 = fs[1:3]\n",
      "                    c1 = fs[3:9]\n",
      "                    f2 = fs[9:]\n",
      "                target = \"+1\" if target == 1  else \"-1\"\n",
      "                # hash c1\n",
      "                c1 = [int(x) % 97 for x in c1]\n",
      "                # output\n",
      "                new_features = map(int, c1 + f1 + f2)\n",
      "                feature_strings = [\"%d:%d\" % (n+1, new_features[n]) for n in range(len(new_features))]\n",
      "                output.write(\"%s %s\\n\" % (target, \" \".join(feature_strings)))\n",
      "\n",
      "convert(\"./data/train.csv\", \"/var/spool/data/hadoop-local/comps/train.svmdata4\", is_train=True)\n",
      "# convert(\"./data/test.csv\", \"/var/spool/data/hadoop-local/comps/test.svmdata4\")"
     ],
     "language": "python",
     "metadata": {},
     "outputs": []
    },
    {
     "cell_type": "code",
     "collapsed": false,
     "input": [
      "%%bash\n",
      "./libsvm/svm-scale -s /var/spool/data/hadoop-local/comps/subtrain.svmdata4.scale /var/spool/data/hadoop-local/comps/subtrain.svmdata4 > /var/spool/data/hadoop-local/comps/subtrain.svmdata4.scaled\n",
      "head -n 1000000 /var/spool/data/hadoop-local/comps/train.svmdata4.scaled > /var/spool/data/hadoop-local/comps/subtrain.svmdata4\n",
      "tail -n 1000000 /var/spool/data/hadoop-local/comps/train.svmdata4.scaled > /var/spool/data/hadoop-local/comps/subtest.svmdata4"
     ],
     "language": "python",
     "metadata": {},
     "outputs": []
    },
    {
     "cell_type": "code",
     "collapsed": false,
     "input": [
      "# for p in range(1, 10, 1):\n",
      "#     print \"P=\", p\n",
      "! ./liblinear/train -s 0 /var/spool/data/hadoop-local/comps/subtrain.svmdata4 models/logistic4.submodel > /dev/null\n",
      "! ./liblinear/predict -b 1 /var/spool/data/hadoop-local/comps/subtest.svmdata4 models/logistic4.submodel outputs/logistic4.subout\n",
      "print log_loss(\"/var/spool/data/hadoop-local/comps/subtest.svmdata4\", \"outputs/logistic4.subout\")"
     ],
     "language": "python",
     "metadata": {},
     "outputs": []
    },
    {
     "cell_type": "heading",
     "level": 4,
     "metadata": {},
     "source": [
      "Make submit"
     ]
    },
    {
     "cell_type": "code",
     "collapsed": false,
     "input": [
      "convert(\"./data/test.csv\", \"/var/spool/data/hadoop-local/comps/test.svmdata4\")\n",
      "! ./libsvm/svm-scale -r /var/spool/data/hadoop-local/comps/train.svmdata4.scale /var/spool/data/hadoop-local/comps/test.svmdata4 > /var/spool/data/hadoop-local/comps/test.svmdata4.scaled\n",
      "! ./liblinear/train -c 10 -w-1 10000 -w1 1 -s 0 /var/spool/data/hadoop-local/comps/train.svmdata4.scaled models/logistic4.model > /dev/null\n"
     ],
     "language": "python",
     "metadata": {},
     "outputs": []
    },
    {
     "cell_type": "code",
     "collapsed": false,
     "input": [
      "! ./liblinear/predict -b 1 /var/spool/data/hadoop-local/comps/test.svmdata4.scaled models/logistic4.model outputs/logistic4.out"
     ],
     "language": "python",
     "metadata": {},
     "outputs": []
    },
    {
     "cell_type": "code",
     "collapsed": false,
     "input": [
      "concatenate_results(\"data/test.csv\", \"outputs/logistic4.out\", \"outputs/logistic4.submit.csv\")"
     ],
     "language": "python",
     "metadata": {},
     "outputs": []
    },
    {
     "cell_type": "heading",
     "level": 4,
     "metadata": {},
     "source": [
      "Test 5: category + scale"
     ]
    },
    {
     "cell_type": "code",
     "collapsed": false,
     "input": [
      "def make_category_feature(categories, baseindex):\n",
      "    global CATEGORY_LIST\n",
      "    if \"CATEGORY_LIST\" not in globals():\n",
      "        CATEGORY_LIST = map(int, open(\"data/categories.txt\").read().strip().split(\"\\n\"))\n",
      "    category_indexes = []\n",
      "    for c in categories:\n",
      "        if c in CATEGORY_LIST:\n",
      "            category_indexes.append(CATEGORY_LIST.index(c))\n",
      "    category_indexes = list(set(category_indexes))\n",
      "    category_indexes.sort()\n",
      "    feature_strings = [\"%d:1\" % (x + baseindex) for x in category_indexes]\n",
      "    return \" \".join(feature_strings)\n",
      "\n",
      "def convert(inp, outp, is_train=False):\n",
      "    with open(inp) as input:\n",
      "        with open(outp, \"w\") as output:\n",
      "            for l in input.xreadlines():\n",
      "                l = l.strip().replace(\"NA\", \"0\")\n",
      "                fs = l.split(\",\")\n",
      "                if is_train:\n",
      "                    target = int(fs[1])\n",
      "                    f1 = fs[2:4]\n",
      "                    c1 = fs[4:10]\n",
      "                    f2 = fs[10:]\n",
      "                else:\n",
      "                    target = 0\n",
      "                    f1 = fs[1:3]\n",
      "                    c1 = fs[3:9]\n",
      "                    f2 = fs[9:]\n",
      "                target = \"+1\" if target == 1  else \"-1\"\n",
      "                # hash c1\n",
      "                c1 = map(int, c1)\n",
      "                category_feature = make_category_feature(c1, 15)\n",
      "                # output\n",
      "                new_features = map(int, f1 + f2)\n",
      "                feature_strings = [\"%d:%d\" % (n+1, new_features[n]) for n in range(len(new_features))]\n",
      "                # output.write(\"%s %s %s\\n\" % (target, \" \".join(feature_strings), category_feature))\n",
      "                output.write(\"%s %s\\n\" % (target, \" \".join(feature_strings)))\n",
      "\n",
      "convert(\"./data/train.csv\", \"./data/train.svmdata\", is_train=True)"
     ],
     "language": "python",
     "metadata": {},
     "outputs": []
    },
    {
     "cell_type": "heading",
     "level": 3,
     "metadata": {},
     "source": [
      "just try\n"
     ]
    },
    {
     "cell_type": "code",
     "collapsed": false,
     "input": [
      "! ./liblinear/train -s 0 data/subtrain.svmdata.scaled models/logistic4.submodel\n",
      "! cat data/subvalid.svmdata.scaled data/subtest.svmdata.scaled > /tmp/validtest.svmdata.scaled\n",
      "! ./liblinear/predict -b 1 /tmp/validtest.svmdata.scaled models/logistic4.submodel outputs/logistic4.subout\n",
      "print log_loss(\"/tmp/validtest.svmdata.scaled\", \"outputs/logistic4.subout\")"
     ],
     "language": "python",
     "metadata": {},
     "outputs": [
      {
       "output_type": "stream",
       "stream": "stdout",
       "text": [
        "iter  1 act 6.284e+05 pre 5.683e+05 delta 1.211e+00 f 1.248e+06 |g| 1.195e+06 CG   2\r\n"
       ]
      },
      {
       "output_type": "stream",
       "stream": "stdout",
       "text": [
        "cg reaches trust region boundary\r\n"
       ]
      },
      {
       "output_type": "stream",
       "stream": "stdout",
       "text": [
        "iter  2 act 8.517e+04 pre 7.306e+04 delta 1.472e+00 f 6.193e+05 |g| 2.227e+05 CG   3\r\n"
       ]
      },
      {
       "output_type": "stream",
       "stream": "stdout",
       "text": [
        "cg reaches trust region boundary\r\n"
       ]
      },
      {
       "output_type": "stream",
       "stream": "stdout",
       "text": [
        "iter  3 act 2.728e+04 pre 2.376e+04 delta 1.860e+00 f 5.341e+05 |g| 7.693e+04 CG   4\r\n"
       ]
      },
      {
       "output_type": "stream",
       "stream": "stdout",
       "text": [
        "cg reaches trust region boundary\r\n"
       ]
      },
      {
       "output_type": "stream",
       "stream": "stdout",
       "text": [
        "iter  4 act 1.104e+04 pre 1.039e+04 delta 2.208e+00 f 5.068e+05 |g| 2.453e+04 CG   4\r\n"
       ]
      },
      {
       "output_type": "stream",
       "stream": "stdout",
       "text": [
        "cg reaches trust region boundary\r\n"
       ]
      },
      {
       "output_type": "stream",
       "stream": "stdout",
       "text": [
        "iter  5 act 6.700e+03 pre 6.721e+03 delta 2.273e+00 f 4.958e+05 |g| 1.323e+04 CG   5\r\n"
       ]
      },
      {
       "output_type": "stream",
       "stream": "stdout",
       "text": [
        "cg reaches trust region boundary\r\n"
       ]
      },
      {
       "output_type": "stream",
       "stream": "stdout",
       "text": [
        "iter  6 act 5.070e+03 pre 4.786e+03 delta 2.465e+00 f 4.891e+05 |g| 1.397e+04 CG   8\r\n"
       ]
      },
      {
       "output_type": "stream",
       "stream": "stdout",
       "text": [
        "cg reaches trust region boundary\r\n"
       ]
      },
      {
       "output_type": "stream",
       "stream": "stdout",
       "text": [
        "iter  7 act 2.822e+03 pre 2.805e+03 delta 2.490e+00 f 4.840e+05 |g| 7.448e+03 CG   8\r\n"
       ]
      },
      {
       "output_type": "stream",
       "stream": "stdout",
       "text": [
        "cg reaches trust region boundary\r\n"
       ]
      },
      {
       "output_type": "stream",
       "stream": "stdout",
       "text": [
        "iter  8 act 1.802e+03 pre 1.806e+03 delta 2.596e+00 f 4.812e+05 |g| 5.605e+03 CG  10\r\n"
       ]
      },
      {
       "output_type": "stream",
       "stream": "stdout",
       "text": [
        "cg reaches trust region boundary\r\n"
       ]
      },
      {
       "output_type": "stream",
       "stream": "stdout",
       "text": [
        "iter  9 act 1.166e+03 pre 1.149e+03 delta 2.783e+00 f 4.794e+05 |g| 3.213e+03 CG  13\r\n"
       ]
      },
      {
       "output_type": "stream",
       "stream": "stdout",
       "text": [
        "cg reaches trust region boundary\r\n"
       ]
      },
      {
       "output_type": "stream",
       "stream": "stdout",
       "text": [
        "iter 10 act 7.254e+02 pre 7.334e+02 delta 2.783e+00 f 4.782e+05 |g| 1.895e+03 CG  14\r\n"
       ]
      },
      {
       "output_type": "stream",
       "stream": "stdout",
       "text": [
        "cg reaches trust region boundary\r\n"
       ]
      },
      {
       "output_type": "stream",
       "stream": "stdout",
       "text": [
        "iter 11 act 5.796e+02 pre 5.716e+02 delta 2.951e+00 f 4.775e+05 |g| 1.658e+03 CG  18\r\n"
       ]
      },
      {
       "output_type": "stream",
       "stream": "stdout",
       "text": [
        "Accuracy = 87.3069% (289020/331039)\r\n"
       ]
      },
      {
       "output_type": "stream",
       "stream": "stdout",
       "text": [
        "0.308403430812\n"
       ]
      }
     ],
     "prompt_number": 200
    },
    {
     "cell_type": "heading",
     "level": 1,
     "metadata": {},
     "source": [
      "Sklearn"
     ]
    },
    {
     "cell_type": "heading",
     "level": 4,
     "metadata": {},
     "source": [
      "Logistic 1"
     ]
    },
    {
     "cell_type": "code",
     "collapsed": false,
     "input": [
      "import scipy as sp\n",
      "import numpy as np\n",
      "from scipy.sparse import coo_matrix\n",
      "import gc\n",
      "\n",
      "from sklearn.linear_model import LogisticRegression \n",
      "\n",
      "def make_category_data(categories):\n",
      "    global CATEGORY_LIST\n",
      "    categories = map(int, categories)\n",
      "    if \"CATEGORY_LIST\" not in globals():\n",
      "        CATEGORY_LIST = map(int, open(\"data/categories.txt\").read().strip().split(\"\\n\"))\n",
      "    category_indexes = []\n",
      "    for c in categories:\n",
      "        if c in CATEGORY_LIST:\n",
      "            category_indexes.append(CATEGORY_LIST.index(c))\n",
      "    category_indexes = list(set(category_indexes))\n",
      "    category_indexes.sort()\n",
      "    c_data = np.zeros((1, len(CATEGORY_LIST)))\n",
      "    for i in category_indexes:\n",
      "        c_data[0][i] = 1\n",
      "    return c_data\n",
      "\n",
      "\n",
      "def convert_feature(l, is_train=False):\n",
      "    l = l.strip().replace(\"NA\", \"0\")\n",
      "    fs = l.split(\",\")\n",
      "    if is_train:\n",
      "        target = int(fs[1])\n",
      "        number = int(fs[0])\n",
      "        f1 = fs[2:4]\n",
      "        c1 = fs[4:10]\n",
      "        f2 = fs[10:]\n",
      "    else:\n",
      "        number = int(fs[0])\n",
      "        target = 0\n",
      "        f1 = fs[1:3]\n",
      "        c1 = fs[3:9]\n",
      "        f2 = fs[9:]\n",
      "    cate_data = make_category_data(c1)\n",
      "    f1 = map(int, f1)\n",
      "    f2 = map(int, f2)\n",
      "    d = np.concatenate((f1, f2, cate_data[0]))\n",
      "    return number, d, target\n",
      "\n",
      "def llfun(act, pred):\n",
      "    epsilon = 1e-15\n",
      "    pred = sp.maximum(epsilon, pred)\n",
      "    pred = sp.minimum(1-epsilon, pred)\n",
      "    ll = sum(act*sp.log(pred) + sp.subtract(1,act)*sp.log(sp.subtract(1,pred)))\n",
      "    ll = ll * -1.0/len(act)\n",
      "    return ll"
     ],
     "language": "python",
     "metadata": {},
     "outputs": [],
     "prompt_number": 201
    },
    {
     "cell_type": "code",
     "collapsed": false,
     "input": [
      "# Load data and train the model\n",
      "\n",
      "def load_data(input_path, lr=None, getdata=False):\n",
      "    with open(input_path) as input:\n",
      "        counter = 0\n",
      "        if lr == None and not getdata:\n",
      "            lr = LogisticRegression()\n",
      "        data = []\n",
      "        targets = []\n",
      "        for l in input.xreadlines():\n",
      "            _, d, target = convert_feature(l, True)\n",
      "            data.append(d)\n",
      "            targets.append(target)\n",
      "            counter += 1\n",
      "            if counter % 10000 == 0:\n",
      "                print \">\",\n",
      "                \n",
      "        if data:\n",
      "            column_number = len(data[0])\n",
      "            data = array(data)\n",
      "            data.reshape(-1, column_number)\n",
      "            if getdata:\n",
      "                return data, targets\n",
      "            lr.fit(data, array(targets))\n",
      "            data = None\n",
      "            targets = None\n",
      "        \n",
      "        return lr\n",
      "            \n",
      "#lr = load_data(\"data/subtrain.csv\")"
     ],
     "language": "python",
     "metadata": {},
     "outputs": [],
     "prompt_number": 204
    },
    {
     "cell_type": "code",
     "collapsed": false,
     "input": [
      "def subtest(test_path, model=None, getdata=False):\n",
      "    with open(test_path) as input:\n",
      "        data = []\n",
      "        ys = []\n",
      "        counter = 0\n",
      "        for l in input.xreadlines():\n",
      "            _, d, y = convert_feature(l, True)\n",
      "            data.append(d)\n",
      "            ys.append(y)\n",
      "            counter += 1\n",
      "            if counter % 10000 == 0:\n",
      "                print \">\",\n",
      "        data = array(data)\n",
      "        ys = array(ys)\n",
      "        if getdata:\n",
      "            return data, ys\n",
      "        probs = lr.predict_proba(data)[:,1]\n",
      "        return llfun(ys, probs)\n",
      "#print subtest(\"data/subtest.csv\", lr)"
     ],
     "language": "python",
     "metadata": {},
     "outputs": [],
     "prompt_number": 4
    },
    {
     "cell_type": "code",
     "collapsed": false,
     "input": [
      "def makesubmit(test_path, model, output_path):\n",
      "    with open(test_path) as input:\n",
      "        with open(output_path, \"w\") as output:\n",
      "            data = []\n",
      "            numbers = []\n",
      "            counter = 0\n",
      "            for l in input.xreadlines():\n",
      "                number, d, _ = convert_feature(l, False)\n",
      "                data.append(d)\n",
      "                numbers.append(number)\n",
      "                counter += 1\n",
      "                if counter % 10000 == 0:\n",
      "                    print \">\",\n",
      "            data = array(data)\n",
      "            probs = lr.predict_proba(data)[:,1]\n",
      "            for i in xrange(len(numbers)):\n",
      "                print >> output, \"%d,%f\" % (numbers[i], probs[i])\n",
      "            return"
     ],
     "language": "python",
     "metadata": {},
     "outputs": [],
     "prompt_number": 196
    },
    {
     "cell_type": "heading",
     "level": 4,
     "metadata": {},
     "source": [
      "Logistic 2, no cate"
     ]
    },
    {
     "cell_type": "code",
     "collapsed": false,
     "input": [
      "def convert_feature(l, is_train=False):\n",
      "    l = l.strip().replace(\"NA\", \"0\")\n",
      "    fs = l.split(\",\")\n",
      "    if is_train:\n",
      "        target = int(fs[1])\n",
      "        number = int(fs[0])\n",
      "        f1 = fs[2:4]\n",
      "        c1 = fs[4:10]\n",
      "        f2 = fs[10:]\n",
      "    else:\n",
      "        number = int(fs[0])\n",
      "        target = 0\n",
      "        f1 = fs[1:3]\n",
      "        c1 = fs[3:9]\n",
      "        f2 = fs[9:]\n",
      "    f1 = map(int, f1)\n",
      "    f2 = map(int, f2)\n",
      "    d = np.concatenate((f1, f2))\n",
      "    return number, d, target\n",
      "lr = load_data(\"data/subtrain.csv\")\n",
      "print subtest(\"data/subtest.csv\", lr)"
     ],
     "language": "python",
     "metadata": {},
     "outputs": [
      {
       "output_type": "stream",
       "stream": "stdout",
       "text": [
        "> "
       ]
      },
      {
       "output_type": "stream",
       "stream": "stdout",
       "text": [
        "> "
       ]
      },
      {
       "output_type": "stream",
       "stream": "stdout",
       "text": [
        "> "
       ]
      },
      {
       "output_type": "stream",
       "stream": "stdout",
       "text": [
        "> "
       ]
      },
      {
       "output_type": "stream",
       "stream": "stdout",
       "text": [
        "> "
       ]
      },
      {
       "output_type": "stream",
       "stream": "stdout",
       "text": [
        "> "
       ]
      },
      {
       "output_type": "stream",
       "stream": "stdout",
       "text": [
        "> "
       ]
      },
      {
       "output_type": "stream",
       "stream": "stdout",
       "text": [
        "> "
       ]
      },
      {
       "output_type": "stream",
       "stream": "stdout",
       "text": [
        "> "
       ]
      },
      {
       "output_type": "stream",
       "stream": "stdout",
       "text": [
        "> "
       ]
      },
      {
       "output_type": "stream",
       "stream": "stdout",
       "text": [
        "> "
       ]
      },
      {
       "output_type": "stream",
       "stream": "stdout",
       "text": [
        "> "
       ]
      },
      {
       "output_type": "stream",
       "stream": "stdout",
       "text": [
        "> "
       ]
      },
      {
       "output_type": "stream",
       "stream": "stdout",
       "text": [
        "> "
       ]
      },
      {
       "output_type": "stream",
       "stream": "stdout",
       "text": [
        "> "
       ]
      },
      {
       "output_type": "stream",
       "stream": "stdout",
       "text": [
        "> "
       ]
      },
      {
       "output_type": "stream",
       "stream": "stdout",
       "text": [
        "> "
       ]
      },
      {
       "output_type": "stream",
       "stream": "stdout",
       "text": [
        "> "
       ]
      },
      {
       "output_type": "stream",
       "stream": "stdout",
       "text": [
        "> "
       ]
      },
      {
       "output_type": "stream",
       "stream": "stdout",
       "text": [
        "> "
       ]
      },
      {
       "output_type": "stream",
       "stream": "stdout",
       "text": [
        "> "
       ]
      },
      {
       "output_type": "stream",
       "stream": "stdout",
       "text": [
        "> "
       ]
      },
      {
       "output_type": "stream",
       "stream": "stdout",
       "text": [
        "> "
       ]
      },
      {
       "output_type": "stream",
       "stream": "stdout",
       "text": [
        "> "
       ]
      },
      {
       "output_type": "stream",
       "stream": "stdout",
       "text": [
        "> "
       ]
      },
      {
       "output_type": "stream",
       "stream": "stdout",
       "text": [
        "> "
       ]
      },
      {
       "output_type": "stream",
       "stream": "stdout",
       "text": [
        "> "
       ]
      },
      {
       "output_type": "stream",
       "stream": "stdout",
       "text": [
        "> "
       ]
      },
      {
       "output_type": "stream",
       "stream": "stdout",
       "text": [
        "> "
       ]
      },
      {
       "output_type": "stream",
       "stream": "stdout",
       "text": [
        "> "
       ]
      },
      {
       "output_type": "stream",
       "stream": "stdout",
       "text": [
        "> "
       ]
      },
      {
       "output_type": "stream",
       "stream": "stdout",
       "text": [
        "> "
       ]
      },
      {
       "output_type": "stream",
       "stream": "stdout",
       "text": [
        "> "
       ]
      },
      {
       "output_type": "stream",
       "stream": "stdout",
       "text": [
        "> "
       ]
      },
      {
       "output_type": "stream",
       "stream": "stdout",
       "text": [
        "> "
       ]
      },
      {
       "output_type": "stream",
       "stream": "stdout",
       "text": [
        "> "
       ]
      },
      {
       "output_type": "stream",
       "stream": "stdout",
       "text": [
        "> "
       ]
      },
      {
       "output_type": "stream",
       "stream": "stdout",
       "text": [
        "> "
       ]
      },
      {
       "output_type": "stream",
       "stream": "stdout",
       "text": [
        "> "
       ]
      },
      {
       "output_type": "stream",
       "stream": "stdout",
       "text": [
        "> "
       ]
      },
      {
       "output_type": "stream",
       "stream": "stdout",
       "text": [
        "> "
       ]
      },
      {
       "output_type": "stream",
       "stream": "stdout",
       "text": [
        "> "
       ]
      },
      {
       "output_type": "stream",
       "stream": "stdout",
       "text": [
        "> "
       ]
      },
      {
       "output_type": "stream",
       "stream": "stdout",
       "text": [
        "> "
       ]
      },
      {
       "output_type": "stream",
       "stream": "stdout",
       "text": [
        "> "
       ]
      },
      {
       "output_type": "stream",
       "stream": "stdout",
       "text": [
        "> "
       ]
      },
      {
       "output_type": "stream",
       "stream": "stdout",
       "text": [
        "> "
       ]
      },
      {
       "output_type": "stream",
       "stream": "stdout",
       "text": [
        "> "
       ]
      },
      {
       "output_type": "stream",
       "stream": "stdout",
       "text": [
        "> "
       ]
      },
      {
       "output_type": "stream",
       "stream": "stdout",
       "text": [
        "> "
       ]
      },
      {
       "output_type": "stream",
       "stream": "stdout",
       "text": [
        "> "
       ]
      },
      {
       "output_type": "stream",
       "stream": "stdout",
       "text": [
        "> "
       ]
      },
      {
       "output_type": "stream",
       "stream": "stdout",
       "text": [
        "> "
       ]
      },
      {
       "output_type": "stream",
       "stream": "stdout",
       "text": [
        "> "
       ]
      },
      {
       "output_type": "stream",
       "stream": "stdout",
       "text": [
        "> "
       ]
      },
      {
       "output_type": "stream",
       "stream": "stdout",
       "text": [
        "> "
       ]
      },
      {
       "output_type": "stream",
       "stream": "stdout",
       "text": [
        "> "
       ]
      },
      {
       "output_type": "stream",
       "stream": "stdout",
       "text": [
        "> "
       ]
      },
      {
       "output_type": "stream",
       "stream": "stdout",
       "text": [
        "> "
       ]
      },
      {
       "output_type": "stream",
       "stream": "stdout",
       "text": [
        "> "
       ]
      },
      {
       "output_type": "stream",
       "stream": "stdout",
       "text": [
        "> "
       ]
      },
      {
       "output_type": "stream",
       "stream": "stdout",
       "text": [
        "> "
       ]
      },
      {
       "output_type": "stream",
       "stream": "stdout",
       "text": [
        "> "
       ]
      },
      {
       "output_type": "stream",
       "stream": "stdout",
       "text": [
        "> "
       ]
      },
      {
       "output_type": "stream",
       "stream": "stdout",
       "text": [
        "> "
       ]
      },
      {
       "output_type": "stream",
       "stream": "stdout",
       "text": [
        "> "
       ]
      },
      {
       "output_type": "stream",
       "stream": "stdout",
       "text": [
        "> "
       ]
      },
      {
       "output_type": "stream",
       "stream": "stdout",
       "text": [
        "> "
       ]
      },
      {
       "output_type": "stream",
       "stream": "stdout",
       "text": [
        "> "
       ]
      },
      {
       "output_type": "stream",
       "stream": "stdout",
       "text": [
        "> "
       ]
      },
      {
       "output_type": "stream",
       "stream": "stdout",
       "text": [
        "> "
       ]
      },
      {
       "output_type": "stream",
       "stream": "stdout",
       "text": [
        "> "
       ]
      },
      {
       "output_type": "stream",
       "stream": "stdout",
       "text": [
        "> "
       ]
      },
      {
       "output_type": "stream",
       "stream": "stdout",
       "text": [
        "> "
       ]
      },
      {
       "output_type": "stream",
       "stream": "stdout",
       "text": [
        "> "
       ]
      },
      {
       "output_type": "stream",
       "stream": "stdout",
       "text": [
        "> "
       ]
      },
      {
       "output_type": "stream",
       "stream": "stdout",
       "text": [
        "> "
       ]
      },
      {
       "output_type": "stream",
       "stream": "stdout",
       "text": [
        "> "
       ]
      },
      {
       "output_type": "stream",
       "stream": "stdout",
       "text": [
        "> "
       ]
      },
      {
       "output_type": "stream",
       "stream": "stdout",
       "text": [
        "> "
       ]
      },
      {
       "output_type": "stream",
       "stream": "stdout",
       "text": [
        "> "
       ]
      },
      {
       "output_type": "stream",
       "stream": "stdout",
       "text": [
        "> "
       ]
      },
      {
       "output_type": "stream",
       "stream": "stdout",
       "text": [
        "> "
       ]
      },
      {
       "output_type": "stream",
       "stream": "stdout",
       "text": [
        "> "
       ]
      },
      {
       "output_type": "stream",
       "stream": "stdout",
       "text": [
        "> "
       ]
      },
      {
       "output_type": "stream",
       "stream": "stdout",
       "text": [
        "> "
       ]
      },
      {
       "output_type": "stream",
       "stream": "stdout",
       "text": [
        "> "
       ]
      },
      {
       "output_type": "stream",
       "stream": "stdout",
       "text": [
        "> "
       ]
      },
      {
       "output_type": "stream",
       "stream": "stdout",
       "text": [
        "> "
       ]
      },
      {
       "output_type": "stream",
       "stream": "stdout",
       "text": [
        "> "
       ]
      },
      {
       "output_type": "stream",
       "stream": "stdout",
       "text": [
        "> "
       ]
      },
      {
       "output_type": "stream",
       "stream": "stdout",
       "text": [
        "> "
       ]
      },
      {
       "output_type": "stream",
       "stream": "stdout",
       "text": [
        "> "
       ]
      },
      {
       "output_type": "stream",
       "stream": "stdout",
       "text": [
        "> "
       ]
      },
      {
       "output_type": "stream",
       "stream": "stdout",
       "text": [
        "> "
       ]
      },
      {
       "output_type": "stream",
       "stream": "stdout",
       "text": [
        "> "
       ]
      },
      {
       "output_type": "stream",
       "stream": "stdout",
       "text": [
        "> "
       ]
      },
      {
       "output_type": "stream",
       "stream": "stdout",
       "text": [
        "> "
       ]
      },
      {
       "output_type": "stream",
       "stream": "stdout",
       "text": [
        "> "
       ]
      },
      {
       "output_type": "stream",
       "stream": "stdout",
       "text": [
        "> "
       ]
      },
      {
       "output_type": "stream",
       "stream": "stdout",
       "text": [
        "> "
       ]
      },
      {
       "output_type": "stream",
       "stream": "stdout",
       "text": [
        "> "
       ]
      },
      {
       "output_type": "stream",
       "stream": "stdout",
       "text": [
        "> "
       ]
      },
      {
       "output_type": "stream",
       "stream": "stdout",
       "text": [
        "> "
       ]
      },
      {
       "output_type": "stream",
       "stream": "stdout",
       "text": [
        "> "
       ]
      },
      {
       "output_type": "stream",
       "stream": "stdout",
       "text": [
        "> "
       ]
      },
      {
       "output_type": "stream",
       "stream": "stdout",
       "text": [
        "> "
       ]
      },
      {
       "output_type": "stream",
       "stream": "stdout",
       "text": [
        "> "
       ]
      },
      {
       "output_type": "stream",
       "stream": "stdout",
       "text": [
        "> "
       ]
      },
      {
       "output_type": "stream",
       "stream": "stdout",
       "text": [
        "> "
       ]
      },
      {
       "output_type": "stream",
       "stream": "stdout",
       "text": [
        "> "
       ]
      },
      {
       "output_type": "stream",
       "stream": "stdout",
       "text": [
        "> "
       ]
      },
      {
       "output_type": "stream",
       "stream": "stdout",
       "text": [
        "> "
       ]
      },
      {
       "output_type": "stream",
       "stream": "stdout",
       "text": [
        "> "
       ]
      },
      {
       "output_type": "stream",
       "stream": "stdout",
       "text": [
        "> "
       ]
      },
      {
       "output_type": "stream",
       "stream": "stdout",
       "text": [
        "> "
       ]
      },
      {
       "output_type": "stream",
       "stream": "stdout",
       "text": [
        "> "
       ]
      },
      {
       "output_type": "stream",
       "stream": "stdout",
       "text": [
        "> "
       ]
      },
      {
       "output_type": "stream",
       "stream": "stdout",
       "text": [
        "> "
       ]
      },
      {
       "output_type": "stream",
       "stream": "stdout",
       "text": [
        "> "
       ]
      },
      {
       "output_type": "stream",
       "stream": "stdout",
       "text": [
        "> "
       ]
      },
      {
       "output_type": "stream",
       "stream": "stdout",
       "text": [
        "> "
       ]
      },
      {
       "output_type": "stream",
       "stream": "stdout",
       "text": [
        "> "
       ]
      },
      {
       "output_type": "stream",
       "stream": "stdout",
       "text": [
        "> "
       ]
      },
      {
       "output_type": "stream",
       "stream": "stdout",
       "text": [
        "> "
       ]
      },
      {
       "output_type": "stream",
       "stream": "stdout",
       "text": [
        "> "
       ]
      },
      {
       "output_type": "stream",
       "stream": "stdout",
       "text": [
        "> "
       ]
      },
      {
       "output_type": "stream",
       "stream": "stdout",
       "text": [
        "> "
       ]
      },
      {
       "output_type": "stream",
       "stream": "stdout",
       "text": [
        "> "
       ]
      },
      {
       "output_type": "stream",
       "stream": "stdout",
       "text": [
        "> "
       ]
      },
      {
       "output_type": "stream",
       "stream": "stdout",
       "text": [
        "> "
       ]
      },
      {
       "output_type": "stream",
       "stream": "stdout",
       "text": [
        "> "
       ]
      },
      {
       "output_type": "stream",
       "stream": "stdout",
       "text": [
        "> "
       ]
      },
      {
       "output_type": "stream",
       "stream": "stdout",
       "text": [
        "> "
       ]
      },
      {
       "output_type": "stream",
       "stream": "stdout",
       "text": [
        "> "
       ]
      },
      {
       "output_type": "stream",
       "stream": "stdout",
       "text": [
        "> "
       ]
      },
      {
       "output_type": "stream",
       "stream": "stdout",
       "text": [
        "> "
       ]
      },
      {
       "output_type": "stream",
       "stream": "stdout",
       "text": [
        "> "
       ]
      },
      {
       "output_type": "stream",
       "stream": "stdout",
       "text": [
        "> "
       ]
      },
      {
       "output_type": "stream",
       "stream": "stdout",
       "text": [
        "> "
       ]
      },
      {
       "output_type": "stream",
       "stream": "stdout",
       "text": [
        "> "
       ]
      },
      {
       "output_type": "stream",
       "stream": "stdout",
       "text": [
        "> "
       ]
      },
      {
       "output_type": "stream",
       "stream": "stdout",
       "text": [
        "> "
       ]
      },
      {
       "output_type": "stream",
       "stream": "stdout",
       "text": [
        "> "
       ]
      },
      {
       "output_type": "stream",
       "stream": "stdout",
       "text": [
        "> "
       ]
      },
      {
       "output_type": "stream",
       "stream": "stdout",
       "text": [
        "> "
       ]
      },
      {
       "output_type": "stream",
       "stream": "stdout",
       "text": [
        "> "
       ]
      },
      {
       "output_type": "stream",
       "stream": "stdout",
       "text": [
        "> "
       ]
      },
      {
       "output_type": "stream",
       "stream": "stdout",
       "text": [
        "> "
       ]
      },
      {
       "output_type": "stream",
       "stream": "stdout",
       "text": [
        "> "
       ]
      },
      {
       "output_type": "stream",
       "stream": "stdout",
       "text": [
        "> "
       ]
      },
      {
       "output_type": "stream",
       "stream": "stdout",
       "text": [
        "> "
       ]
      },
      {
       "output_type": "stream",
       "stream": "stdout",
       "text": [
        "> "
       ]
      },
      {
       "output_type": "stream",
       "stream": "stdout",
       "text": [
        "> "
       ]
      },
      {
       "output_type": "stream",
       "stream": "stdout",
       "text": [
        "> "
       ]
      },
      {
       "output_type": "stream",
       "stream": "stdout",
       "text": [
        "> "
       ]
      },
      {
       "output_type": "stream",
       "stream": "stdout",
       "text": [
        "> "
       ]
      },
      {
       "output_type": "stream",
       "stream": "stdout",
       "text": [
        "> "
       ]
      },
      {
       "output_type": "stream",
       "stream": "stdout",
       "text": [
        "> "
       ]
      },
      {
       "output_type": "stream",
       "stream": "stdout",
       "text": [
        "> "
       ]
      },
      {
       "output_type": "stream",
       "stream": "stdout",
       "text": [
        "> "
       ]
      },
      {
       "output_type": "stream",
       "stream": "stdout",
       "text": [
        "> "
       ]
      },
      {
       "output_type": "stream",
       "stream": "stdout",
       "text": [
        "> "
       ]
      },
      {
       "output_type": "stream",
       "stream": "stdout",
       "text": [
        "> "
       ]
      },
      {
       "output_type": "stream",
       "stream": "stdout",
       "text": [
        "> "
       ]
      },
      {
       "output_type": "stream",
       "stream": "stdout",
       "text": [
        "> "
       ]
      },
      {
       "output_type": "stream",
       "stream": "stdout",
       "text": [
        "> "
       ]
      },
      {
       "output_type": "stream",
       "stream": "stdout",
       "text": [
        "> "
       ]
      },
      {
       "output_type": "stream",
       "stream": "stdout",
       "text": [
        "> "
       ]
      },
      {
       "output_type": "stream",
       "stream": "stdout",
       "text": [
        "> "
       ]
      },
      {
       "output_type": "stream",
       "stream": "stdout",
       "text": [
        "> "
       ]
      },
      {
       "output_type": "stream",
       "stream": "stdout",
       "text": [
        "> "
       ]
      },
      {
       "output_type": "stream",
       "stream": "stdout",
       "text": [
        "> "
       ]
      },
      {
       "output_type": "stream",
       "stream": "stdout",
       "text": [
        "> "
       ]
      },
      {
       "output_type": "stream",
       "stream": "stdout",
       "text": [
        "> "
       ]
      },
      {
       "output_type": "stream",
       "stream": "stdout",
       "text": [
        "> "
       ]
      },
      {
       "output_type": "stream",
       "stream": "stdout",
       "text": [
        "> "
       ]
      },
      {
       "output_type": "stream",
       "stream": "stdout",
       "text": [
        "> "
       ]
      },
      {
       "output_type": "stream",
       "stream": "stdout",
       "text": [
        "> "
       ]
      },
      {
       "output_type": "stream",
       "stream": "stdout",
       "text": [
        "> "
       ]
      },
      {
       "output_type": "stream",
       "stream": "stdout",
       "text": [
        "> "
       ]
      },
      {
       "output_type": "stream",
       "stream": "stdout",
       "text": [
        "> "
       ]
      },
      {
       "output_type": "stream",
       "stream": "stdout",
       "text": [
        "> "
       ]
      },
      {
       "output_type": "stream",
       "stream": "stdout",
       "text": [
        "> "
       ]
      },
      {
       "output_type": "stream",
       "stream": "stdout",
       "text": [
        "> "
       ]
      },
      {
       "output_type": "stream",
       "stream": "stdout",
       "text": [
        "> "
       ]
      },
      {
       "output_type": "stream",
       "stream": "stdout",
       "text": [
        "> "
       ]
      },
      {
       "output_type": "stream",
       "stream": "stdout",
       "text": [
        "> "
       ]
      },
      {
       "output_type": "stream",
       "stream": "stdout",
       "text": [
        "> "
       ]
      },
      {
       "output_type": "stream",
       "stream": "stdout",
       "text": [
        "> "
       ]
      },
      {
       "output_type": "stream",
       "stream": "stdout",
       "text": [
        "> "
       ]
      },
      {
       "output_type": "stream",
       "stream": "stdout",
       "text": [
        "> "
       ]
      },
      {
       "output_type": "stream",
       "stream": "stdout",
       "text": [
        "> "
       ]
      },
      {
       "output_type": "stream",
       "stream": "stdout",
       "text": [
        "> "
       ]
      },
      {
       "output_type": "stream",
       "stream": "stdout",
       "text": [
        "> "
       ]
      },
      {
       "output_type": "stream",
       "stream": "stdout",
       "text": [
        "> "
       ]
      },
      {
       "output_type": "stream",
       "stream": "stdout",
       "text": [
        "> "
       ]
      },
      {
       "output_type": "stream",
       "stream": "stdout",
       "text": [
        "> "
       ]
      },
      {
       "output_type": "stream",
       "stream": "stdout",
       "text": [
        "> "
       ]
      },
      {
       "output_type": "stream",
       "stream": "stdout",
       "text": [
        "> "
       ]
      },
      {
       "output_type": "stream",
       "stream": "stdout",
       "text": [
        "[ 0.04784066  0.23530385  0.22064463 ...,  0.11007407  0.06312847\n",
        "  0.11058193]\n",
        "0.394723203768"
       ]
      },
      {
       "output_type": "stream",
       "stream": "stdout",
       "text": [
        "\n"
       ]
      }
     ],
     "prompt_number": 190
    },
    {
     "cell_type": "heading",
     "level": 4,
     "metadata": {},
     "source": [
      "Logistic 3, no cate, scale"
     ]
    },
    {
     "cell_type": "code",
     "collapsed": false,
     "input": [
      "def convert_feature(l, is_train=False):\n",
      "    global SCALES\n",
      "    l = l.strip().replace(\"NA\", \"0\")\n",
      "    fs = l.split(\",\")\n",
      "    if is_train:\n",
      "        target = int(fs[1])\n",
      "        number = int(fs[0])\n",
      "        f1 = fs[2:4]\n",
      "        c1 = fs[4:10]\n",
      "        f2 = fs[10:]\n",
      "    else:\n",
      "        number = int(fs[0])\n",
      "        target = 0\n",
      "        f1 = fs[1:3]\n",
      "        c1 = fs[3:9]\n",
      "        f2 = fs[9:]\n",
      "    d = map(int, f1 + f2)\n",
      "    d = array(d)\n",
      "    return number, d, target"
     ],
     "language": "python",
     "metadata": {},
     "outputs": [],
     "prompt_number": 212
    },
    {
     "cell_type": "code",
     "collapsed": false,
     "input": [
      "# Get scales\n",
      "with open(\"data/train.csv\") as input:\n",
      "    data = []\n",
      "    for l in input.xreadlines():\n",
      "        _, d, _ = convert_feature(l)\n",
      "        data.append(d)\n",
      "    column_number = len(data[0])\n",
      "    data = array(data)\n",
      "    data.reshape(-1, column_number)"
     ],
     "language": "python",
     "metadata": {},
     "outputs": [],
     "prompt_number": 213
    },
    {
     "cell_type": "code",
     "collapsed": false,
     "input": [
      "global SCALES\n",
      "SCALES = []\n",
      "for col in range(data.shape[1]):\n",
      "    SCALES.append((np.min(data[:, col]), np.max(data[:, col]) - np.min(data[:, col])))\n",
      "print (SCALES)"
     ],
     "language": "python",
     "metadata": {},
     "outputs": [
      {
       "output_type": "stream",
       "stream": "stdout",
       "text": [
        "[(0, 1), (0, 6), (147733495, 4013789874), (0, 2), (0, 2), (0, 1965), (0, 1), (0, 1), (0, 1), (0, 1), (0, 1), (0, 58684), (0, 32664), (-1, 18093078), (0, 13000)]\n"
       ]
      }
     ],
     "prompt_number": 214
    },
    {
     "cell_type": "code",
     "collapsed": false,
     "input": [
      "data = None\n",
      "gc.collect()"
     ],
     "language": "python",
     "metadata": {},
     "outputs": [
      {
       "metadata": {},
       "output_type": "pyout",
       "prompt_number": 192,
       "text": [
        "[(0, 1),\n",
        " (0, 6),\n",
        " (147733495, 4013789874),\n",
        " (0, 2),\n",
        " (0, 2),\n",
        " (0, 1965),\n",
        " (0, 1),\n",
        " (0, 1),\n",
        " (0, 1),\n",
        " (0, 1),\n",
        " (0, 1),\n",
        " (0, 58684),\n",
        " (0, 32664),\n",
        " (-1, 18093078),\n",
        " (0, 13000)]"
       ]
      }
     ],
     "prompt_number": 192
    },
    {
     "cell_type": "code",
     "collapsed": false,
     "input": [
      "def convert_feature(l, is_train=False):\n",
      "    global SCALES\n",
      "    l = l.strip().replace(\"NA\", \"0\")\n",
      "    fs = l.split(\",\")\n",
      "    if is_train:\n",
      "        target = int(fs[1])\n",
      "        number = int(fs[0])\n",
      "        f1 = fs[2:4]\n",
      "        c1 = fs[4:10]\n",
      "        f2 = fs[10:]\n",
      "    else:\n",
      "        number = int(fs[0])\n",
      "        target = 0\n",
      "        f1 = fs[1:3]\n",
      "        c1 = fs[3:9]\n",
      "        f2 = fs[9:]\n",
      "    d = map(float, f1 + f2)\n",
      "    d = [(d[i] - SCALES[i][0]) / SCALES[i][1] for i in range(len(d))]\n",
      "    d = array(d)\n",
      "    return number, d, target\n",
      "lr = load_data(\"data/subtrain.csv\")\n",
      "print\n",
      "print subtest(\"data/subtest.csv\", lr)"
     ],
     "language": "python",
     "metadata": {},
     "outputs": [
      {
       "ename": "NameError",
       "evalue": "name 'load_data' is not defined",
       "output_type": "pyerr",
       "traceback": [
        "\u001b[1;31m---------------------------------------------------------------------------\u001b[0m\n\u001b[1;31mNameError\u001b[0m                                 Traceback (most recent call last)",
        "\u001b[1;32m<ipython-input-202-9e1dffa7c6a3>\u001b[0m in \u001b[0;36m<module>\u001b[1;34m()\u001b[0m\n\u001b[0;32m     19\u001b[0m     \u001b[0md\u001b[0m \u001b[1;33m=\u001b[0m \u001b[0marray\u001b[0m\u001b[1;33m(\u001b[0m\u001b[0md\u001b[0m\u001b[1;33m)\u001b[0m\u001b[1;33m\u001b[0m\u001b[0m\n\u001b[0;32m     20\u001b[0m     \u001b[1;32mreturn\u001b[0m \u001b[0mnumber\u001b[0m\u001b[1;33m,\u001b[0m \u001b[0md\u001b[0m\u001b[1;33m,\u001b[0m \u001b[0mtarget\u001b[0m\u001b[1;33m\u001b[0m\u001b[0m\n\u001b[1;32m---> 21\u001b[1;33m \u001b[0mlr\u001b[0m \u001b[1;33m=\u001b[0m \u001b[0mload_data\u001b[0m\u001b[1;33m(\u001b[0m\u001b[1;34m\"data/subtrain.csv\"\u001b[0m\u001b[1;33m)\u001b[0m\u001b[1;33m\u001b[0m\u001b[0m\n\u001b[0m\u001b[0;32m     22\u001b[0m \u001b[1;32mprint\u001b[0m\u001b[1;33m\u001b[0m\u001b[0m\n\u001b[0;32m     23\u001b[0m \u001b[1;32mprint\u001b[0m \u001b[0msubtest\u001b[0m\u001b[1;33m(\u001b[0m\u001b[1;34m\"data/subtest.csv\"\u001b[0m\u001b[1;33m,\u001b[0m \u001b[0mlr\u001b[0m\u001b[1;33m)\u001b[0m\u001b[1;33m\u001b[0m\u001b[0m\n",
        "\u001b[1;31mNameError\u001b[0m: name 'load_data' is not defined"
       ]
      }
     ],
     "prompt_number": 202
    },
    {
     "cell_type": "heading",
     "level": 3,
     "metadata": {},
     "source": [
      "!!! Scaled data is slightly better"
     ]
    },
    {
     "cell_type": "code",
     "collapsed": false,
     "input": [
      "Out.clear()"
     ],
     "language": "python",
     "metadata": {},
     "outputs": [],
     "prompt_number": 118
    },
    {
     "cell_type": "heading",
     "level": 4,
     "metadata": {},
     "source": [
      "Cate + Scaling"
     ]
    },
    {
     "cell_type": "code",
     "collapsed": false,
     "input": [
      "def convert_feature(l, is_train=False):\n",
      "    global SCALES\n",
      "    l = l.strip().replace(\"NA\", \"0\")\n",
      "    fs = l.split(\",\")\n",
      "    if is_train:\n",
      "        target = int(fs[1])\n",
      "        number = int(fs[0])\n",
      "        f1 = fs[2:4]\n",
      "        c1 = fs[4:10]\n",
      "        f2 = fs[10:]\n",
      "    else:\n",
      "        number = int(fs[0])\n",
      "        target = 0\n",
      "        f1 = fs[1:3]\n",
      "        c1 = fs[3:9]\n",
      "        f2 = fs[9:]\n",
      "    cate_data = make_category_data(c1)\n",
      "    d = map(float, f1 + f2)\n",
      "    d = [(d[i] - SCALES[i][0]) / SCALES[i][1] for i in range(len(d))]\n",
      "    d = array(d)\n",
      "    d = np.concatenate((d, cate_data[0]))\n",
      "    return number, d, target\n",
      "\n",
      "lr = load_data(\"data/subtrain.csv\")\n",
      "print\n",
      "print subtest(\"data/subtest.csv\", lr)"
     ],
     "language": "python",
     "metadata": {},
     "outputs": [
      {
       "output_type": "stream",
       "stream": "stdout",
       "text": [
        "> "
       ]
      },
      {
       "output_type": "stream",
       "stream": "stdout",
       "text": [
        "> "
       ]
      },
      {
       "output_type": "stream",
       "stream": "stdout",
       "text": [
        "> "
       ]
      },
      {
       "output_type": "stream",
       "stream": "stdout",
       "text": [
        "> "
       ]
      },
      {
       "output_type": "stream",
       "stream": "stdout",
       "text": [
        "> "
       ]
      },
      {
       "output_type": "stream",
       "stream": "stdout",
       "text": [
        "> "
       ]
      },
      {
       "output_type": "stream",
       "stream": "stdout",
       "text": [
        "> "
       ]
      },
      {
       "output_type": "stream",
       "stream": "stdout",
       "text": [
        "> "
       ]
      },
      {
       "output_type": "stream",
       "stream": "stdout",
       "text": [
        "> "
       ]
      },
      {
       "output_type": "stream",
       "stream": "stdout",
       "text": [
        "> "
       ]
      },
      {
       "output_type": "stream",
       "stream": "stdout",
       "text": [
        "> "
       ]
      },
      {
       "output_type": "stream",
       "stream": "stdout",
       "text": [
        "> "
       ]
      },
      {
       "output_type": "stream",
       "stream": "stdout",
       "text": [
        "> "
       ]
      },
      {
       "output_type": "stream",
       "stream": "stdout",
       "text": [
        "> "
       ]
      },
      {
       "output_type": "stream",
       "stream": "stdout",
       "text": [
        "> "
       ]
      },
      {
       "output_type": "stream",
       "stream": "stdout",
       "text": [
        "> "
       ]
      },
      {
       "output_type": "stream",
       "stream": "stdout",
       "text": [
        "> "
       ]
      },
      {
       "output_type": "stream",
       "stream": "stdout",
       "text": [
        "> "
       ]
      },
      {
       "output_type": "stream",
       "stream": "stdout",
       "text": [
        "> "
       ]
      },
      {
       "output_type": "stream",
       "stream": "stdout",
       "text": [
        "> "
       ]
      },
      {
       "output_type": "stream",
       "stream": "stdout",
       "text": [
        "> "
       ]
      },
      {
       "output_type": "stream",
       "stream": "stdout",
       "text": [
        "> "
       ]
      },
      {
       "output_type": "stream",
       "stream": "stdout",
       "text": [
        "> "
       ]
      },
      {
       "output_type": "stream",
       "stream": "stdout",
       "text": [
        "> "
       ]
      },
      {
       "output_type": "stream",
       "stream": "stdout",
       "text": [
        "> "
       ]
      },
      {
       "output_type": "stream",
       "stream": "stdout",
       "text": [
        "> "
       ]
      },
      {
       "output_type": "stream",
       "stream": "stdout",
       "text": [
        "> "
       ]
      },
      {
       "output_type": "stream",
       "stream": "stdout",
       "text": [
        "> "
       ]
      },
      {
       "output_type": "stream",
       "stream": "stdout",
       "text": [
        "> "
       ]
      },
      {
       "output_type": "stream",
       "stream": "stdout",
       "text": [
        "> "
       ]
      },
      {
       "output_type": "stream",
       "stream": "stdout",
       "text": [
        "> "
       ]
      },
      {
       "output_type": "stream",
       "stream": "stdout",
       "text": [
        "> "
       ]
      },
      {
       "output_type": "stream",
       "stream": "stdout",
       "text": [
        "> "
       ]
      },
      {
       "output_type": "stream",
       "stream": "stdout",
       "text": [
        "> "
       ]
      },
      {
       "output_type": "stream",
       "stream": "stdout",
       "text": [
        "> "
       ]
      },
      {
       "output_type": "stream",
       "stream": "stdout",
       "text": [
        "> "
       ]
      },
      {
       "output_type": "stream",
       "stream": "stdout",
       "text": [
        "> "
       ]
      },
      {
       "output_type": "stream",
       "stream": "stdout",
       "text": [
        "> "
       ]
      },
      {
       "output_type": "stream",
       "stream": "stdout",
       "text": [
        "> "
       ]
      },
      {
       "output_type": "stream",
       "stream": "stdout",
       "text": [
        "> "
       ]
      },
      {
       "output_type": "stream",
       "stream": "stdout",
       "text": [
        "> "
       ]
      },
      {
       "output_type": "stream",
       "stream": "stdout",
       "text": [
        "> "
       ]
      },
      {
       "output_type": "stream",
       "stream": "stdout",
       "text": [
        "> "
       ]
      },
      {
       "output_type": "stream",
       "stream": "stdout",
       "text": [
        "> "
       ]
      },
      {
       "output_type": "stream",
       "stream": "stdout",
       "text": [
        "> "
       ]
      },
      {
       "output_type": "stream",
       "stream": "stdout",
       "text": [
        "> "
       ]
      },
      {
       "output_type": "stream",
       "stream": "stdout",
       "text": [
        "> "
       ]
      },
      {
       "output_type": "stream",
       "stream": "stdout",
       "text": [
        "> "
       ]
      },
      {
       "output_type": "stream",
       "stream": "stdout",
       "text": [
        "> "
       ]
      },
      {
       "output_type": "stream",
       "stream": "stdout",
       "text": [
        "> "
       ]
      },
      {
       "output_type": "stream",
       "stream": "stdout",
       "text": [
        "> "
       ]
      },
      {
       "output_type": "stream",
       "stream": "stdout",
       "text": [
        "> "
       ]
      },
      {
       "output_type": "stream",
       "stream": "stdout",
       "text": [
        "> "
       ]
      },
      {
       "output_type": "stream",
       "stream": "stdout",
       "text": [
        "> "
       ]
      },
      {
       "output_type": "stream",
       "stream": "stdout",
       "text": [
        "> "
       ]
      },
      {
       "output_type": "stream",
       "stream": "stdout",
       "text": [
        "> "
       ]
      },
      {
       "output_type": "stream",
       "stream": "stdout",
       "text": [
        "> "
       ]
      },
      {
       "output_type": "stream",
       "stream": "stdout",
       "text": [
        "> "
       ]
      },
      {
       "output_type": "stream",
       "stream": "stdout",
       "text": [
        "> "
       ]
      },
      {
       "output_type": "stream",
       "stream": "stdout",
       "text": [
        "> "
       ]
      },
      {
       "output_type": "stream",
       "stream": "stdout",
       "text": [
        "> "
       ]
      },
      {
       "output_type": "stream",
       "stream": "stdout",
       "text": [
        "> "
       ]
      },
      {
       "output_type": "stream",
       "stream": "stdout",
       "text": [
        "> "
       ]
      },
      {
       "output_type": "stream",
       "stream": "stdout",
       "text": [
        "> "
       ]
      },
      {
       "output_type": "stream",
       "stream": "stdout",
       "text": [
        "> "
       ]
      },
      {
       "output_type": "stream",
       "stream": "stdout",
       "text": [
        "> "
       ]
      },
      {
       "output_type": "stream",
       "stream": "stdout",
       "text": [
        "> "
       ]
      },
      {
       "output_type": "stream",
       "stream": "stdout",
       "text": [
        "> "
       ]
      },
      {
       "output_type": "stream",
       "stream": "stdout",
       "text": [
        "> "
       ]
      },
      {
       "output_type": "stream",
       "stream": "stdout",
       "text": [
        "> "
       ]
      },
      {
       "output_type": "stream",
       "stream": "stdout",
       "text": [
        "> "
       ]
      },
      {
       "output_type": "stream",
       "stream": "stdout",
       "text": [
        "> "
       ]
      },
      {
       "output_type": "stream",
       "stream": "stdout",
       "text": [
        "> "
       ]
      },
      {
       "output_type": "stream",
       "stream": "stdout",
       "text": [
        "> "
       ]
      },
      {
       "output_type": "stream",
       "stream": "stdout",
       "text": [
        "> "
       ]
      },
      {
       "output_type": "stream",
       "stream": "stdout",
       "text": [
        "> "
       ]
      },
      {
       "output_type": "stream",
       "stream": "stdout",
       "text": [
        "> "
       ]
      },
      {
       "output_type": "stream",
       "stream": "stdout",
       "text": [
        "> "
       ]
      },
      {
       "output_type": "stream",
       "stream": "stdout",
       "text": [
        "> "
       ]
      },
      {
       "output_type": "stream",
       "stream": "stdout",
       "text": [
        "> "
       ]
      },
      {
       "output_type": "stream",
       "stream": "stdout",
       "text": [
        "> "
       ]
      },
      {
       "output_type": "stream",
       "stream": "stdout",
       "text": [
        "> "
       ]
      },
      {
       "output_type": "stream",
       "stream": "stdout",
       "text": [
        "> "
       ]
      },
      {
       "output_type": "stream",
       "stream": "stdout",
       "text": [
        "> "
       ]
      },
      {
       "output_type": "stream",
       "stream": "stdout",
       "text": [
        "> "
       ]
      },
      {
       "output_type": "stream",
       "stream": "stdout",
       "text": [
        "> "
       ]
      },
      {
       "output_type": "stream",
       "stream": "stdout",
       "text": [
        "> "
       ]
      },
      {
       "output_type": "stream",
       "stream": "stdout",
       "text": [
        "> "
       ]
      },
      {
       "output_type": "stream",
       "stream": "stdout",
       "text": [
        "> "
       ]
      },
      {
       "output_type": "stream",
       "stream": "stdout",
       "text": [
        "> "
       ]
      },
      {
       "output_type": "stream",
       "stream": "stdout",
       "text": [
        "> "
       ]
      },
      {
       "output_type": "stream",
       "stream": "stdout",
       "text": [
        "> "
       ]
      },
      {
       "output_type": "stream",
       "stream": "stdout",
       "text": [
        "> "
       ]
      },
      {
       "output_type": "stream",
       "stream": "stdout",
       "text": [
        "> "
       ]
      },
      {
       "output_type": "stream",
       "stream": "stdout",
       "text": [
        "> "
       ]
      },
      {
       "output_type": "stream",
       "stream": "stdout",
       "text": [
        "> "
       ]
      },
      {
       "output_type": "stream",
       "stream": "stdout",
       "text": [
        "> "
       ]
      },
      {
       "output_type": "stream",
       "stream": "stdout",
       "text": [
        "> "
       ]
      },
      {
       "output_type": "stream",
       "stream": "stdout",
       "text": [
        "> "
       ]
      },
      {
       "output_type": "stream",
       "stream": "stdout",
       "text": [
        ">\n"
       ]
      },
      {
       "output_type": "stream",
       "stream": "stdout",
       "text": [
        "> "
       ]
      },
      {
       "output_type": "stream",
       "stream": "stdout",
       "text": [
        "> "
       ]
      },
      {
       "output_type": "stream",
       "stream": "stdout",
       "text": [
        "> "
       ]
      },
      {
       "output_type": "stream",
       "stream": "stdout",
       "text": [
        "> "
       ]
      },
      {
       "output_type": "stream",
       "stream": "stdout",
       "text": [
        "> "
       ]
      },
      {
       "output_type": "stream",
       "stream": "stdout",
       "text": [
        "> "
       ]
      },
      {
       "output_type": "stream",
       "stream": "stdout",
       "text": [
        "> "
       ]
      },
      {
       "output_type": "stream",
       "stream": "stdout",
       "text": [
        "> "
       ]
      },
      {
       "output_type": "stream",
       "stream": "stdout",
       "text": [
        "> "
       ]
      },
      {
       "output_type": "stream",
       "stream": "stdout",
       "text": [
        "> "
       ]
      },
      {
       "output_type": "stream",
       "stream": "stdout",
       "text": [
        "> "
       ]
      },
      {
       "output_type": "stream",
       "stream": "stdout",
       "text": [
        "> "
       ]
      },
      {
       "output_type": "stream",
       "stream": "stdout",
       "text": [
        "> "
       ]
      },
      {
       "output_type": "stream",
       "stream": "stdout",
       "text": [
        "> "
       ]
      },
      {
       "output_type": "stream",
       "stream": "stdout",
       "text": [
        "> "
       ]
      },
      {
       "output_type": "stream",
       "stream": "stdout",
       "text": [
        "> "
       ]
      },
      {
       "output_type": "stream",
       "stream": "stdout",
       "text": [
        "> "
       ]
      },
      {
       "output_type": "stream",
       "stream": "stdout",
       "text": [
        "> "
       ]
      },
      {
       "output_type": "stream",
       "stream": "stdout",
       "text": [
        "> "
       ]
      },
      {
       "output_type": "stream",
       "stream": "stdout",
       "text": [
        "> "
       ]
      },
      {
       "output_type": "stream",
       "stream": "stdout",
       "text": [
        "> "
       ]
      },
      {
       "output_type": "stream",
       "stream": "stdout",
       "text": [
        "> "
       ]
      },
      {
       "output_type": "stream",
       "stream": "stdout",
       "text": [
        "> "
       ]
      },
      {
       "output_type": "stream",
       "stream": "stdout",
       "text": [
        "> "
       ]
      },
      {
       "output_type": "stream",
       "stream": "stdout",
       "text": [
        "> "
       ]
      },
      {
       "output_type": "stream",
       "stream": "stdout",
       "text": [
        "> "
       ]
      },
      {
       "output_type": "stream",
       "stream": "stdout",
       "text": [
        "> "
       ]
      },
      {
       "output_type": "stream",
       "stream": "stdout",
       "text": [
        "> "
       ]
      },
      {
       "output_type": "stream",
       "stream": "stdout",
       "text": [
        "> "
       ]
      },
      {
       "output_type": "stream",
       "stream": "stdout",
       "text": [
        "> "
       ]
      },
      {
       "output_type": "stream",
       "stream": "stdout",
       "text": [
        "> "
       ]
      },
      {
       "output_type": "stream",
       "stream": "stdout",
       "text": [
        "> "
       ]
      },
      {
       "output_type": "stream",
       "stream": "stdout",
       "text": [
        "> "
       ]
      },
      {
       "output_type": "stream",
       "stream": "stdout",
       "text": [
        "> "
       ]
      },
      {
       "output_type": "stream",
       "stream": "stdout",
       "text": [
        "> "
       ]
      },
      {
       "output_type": "stream",
       "stream": "stdout",
       "text": [
        "> "
       ]
      },
      {
       "output_type": "stream",
       "stream": "stdout",
       "text": [
        "> "
       ]
      },
      {
       "output_type": "stream",
       "stream": "stdout",
       "text": [
        "> "
       ]
      },
      {
       "output_type": "stream",
       "stream": "stdout",
       "text": [
        "> "
       ]
      },
      {
       "output_type": "stream",
       "stream": "stdout",
       "text": [
        "> "
       ]
      },
      {
       "output_type": "stream",
       "stream": "stdout",
       "text": [
        "> "
       ]
      },
      {
       "output_type": "stream",
       "stream": "stdout",
       "text": [
        "> "
       ]
      },
      {
       "output_type": "stream",
       "stream": "stdout",
       "text": [
        "> "
       ]
      },
      {
       "output_type": "stream",
       "stream": "stdout",
       "text": [
        "> "
       ]
      },
      {
       "output_type": "stream",
       "stream": "stdout",
       "text": [
        "> "
       ]
      },
      {
       "output_type": "stream",
       "stream": "stdout",
       "text": [
        "> "
       ]
      },
      {
       "output_type": "stream",
       "stream": "stdout",
       "text": [
        "> "
       ]
      },
      {
       "output_type": "stream",
       "stream": "stdout",
       "text": [
        "> "
       ]
      },
      {
       "output_type": "stream",
       "stream": "stdout",
       "text": [
        "> "
       ]
      },
      {
       "output_type": "stream",
       "stream": "stdout",
       "text": [
        "> "
       ]
      },
      {
       "output_type": "stream",
       "stream": "stdout",
       "text": [
        "> "
       ]
      },
      {
       "output_type": "stream",
       "stream": "stdout",
       "text": [
        "> "
       ]
      },
      {
       "output_type": "stream",
       "stream": "stdout",
       "text": [
        "> "
       ]
      },
      {
       "output_type": "stream",
       "stream": "stdout",
       "text": [
        "> "
       ]
      },
      {
       "output_type": "stream",
       "stream": "stdout",
       "text": [
        "> "
       ]
      },
      {
       "output_type": "stream",
       "stream": "stdout",
       "text": [
        "> "
       ]
      },
      {
       "output_type": "stream",
       "stream": "stdout",
       "text": [
        "> "
       ]
      },
      {
       "output_type": "stream",
       "stream": "stdout",
       "text": [
        "> "
       ]
      },
      {
       "output_type": "stream",
       "stream": "stdout",
       "text": [
        "> "
       ]
      },
      {
       "output_type": "stream",
       "stream": "stdout",
       "text": [
        "> "
       ]
      },
      {
       "output_type": "stream",
       "stream": "stdout",
       "text": [
        "> "
       ]
      },
      {
       "output_type": "stream",
       "stream": "stdout",
       "text": [
        "> "
       ]
      },
      {
       "output_type": "stream",
       "stream": "stdout",
       "text": [
        "> "
       ]
      },
      {
       "output_type": "stream",
       "stream": "stdout",
       "text": [
        "> "
       ]
      },
      {
       "output_type": "stream",
       "stream": "stdout",
       "text": [
        "> "
       ]
      },
      {
       "output_type": "stream",
       "stream": "stdout",
       "text": [
        "> "
       ]
      },
      {
       "output_type": "stream",
       "stream": "stdout",
       "text": [
        "> "
       ]
      },
      {
       "output_type": "stream",
       "stream": "stdout",
       "text": [
        "> "
       ]
      },
      {
       "output_type": "stream",
       "stream": "stdout",
       "text": [
        "> "
       ]
      },
      {
       "output_type": "stream",
       "stream": "stdout",
       "text": [
        "> "
       ]
      },
      {
       "output_type": "stream",
       "stream": "stdout",
       "text": [
        "> "
       ]
      },
      {
       "output_type": "stream",
       "stream": "stdout",
       "text": [
        "> "
       ]
      },
      {
       "output_type": "stream",
       "stream": "stdout",
       "text": [
        "> "
       ]
      },
      {
       "output_type": "stream",
       "stream": "stdout",
       "text": [
        "> "
       ]
      },
      {
       "output_type": "stream",
       "stream": "stdout",
       "text": [
        "> "
       ]
      },
      {
       "output_type": "stream",
       "stream": "stdout",
       "text": [
        "> "
       ]
      },
      {
       "output_type": "stream",
       "stream": "stdout",
       "text": [
        "> "
       ]
      },
      {
       "output_type": "stream",
       "stream": "stdout",
       "text": [
        "> "
       ]
      },
      {
       "output_type": "stream",
       "stream": "stdout",
       "text": [
        "> "
       ]
      },
      {
       "output_type": "stream",
       "stream": "stdout",
       "text": [
        "> "
       ]
      },
      {
       "output_type": "stream",
       "stream": "stdout",
       "text": [
        "> "
       ]
      },
      {
       "output_type": "stream",
       "stream": "stdout",
       "text": [
        "> "
       ]
      },
      {
       "output_type": "stream",
       "stream": "stdout",
       "text": [
        "> "
       ]
      },
      {
       "output_type": "stream",
       "stream": "stdout",
       "text": [
        "> "
       ]
      },
      {
       "output_type": "stream",
       "stream": "stdout",
       "text": [
        "> "
       ]
      },
      {
       "output_type": "stream",
       "stream": "stdout",
       "text": [
        "> "
       ]
      },
      {
       "output_type": "stream",
       "stream": "stdout",
       "text": [
        "> "
       ]
      },
      {
       "output_type": "stream",
       "stream": "stdout",
       "text": [
        "> "
       ]
      },
      {
       "output_type": "stream",
       "stream": "stdout",
       "text": [
        "> "
       ]
      },
      {
       "output_type": "stream",
       "stream": "stdout",
       "text": [
        "> "
       ]
      },
      {
       "output_type": "stream",
       "stream": "stdout",
       "text": [
        "> "
       ]
      },
      {
       "output_type": "stream",
       "stream": "stdout",
       "text": [
        "> "
       ]
      },
      {
       "output_type": "stream",
       "stream": "stdout",
       "text": [
        "> "
       ]
      },
      {
       "output_type": "stream",
       "stream": "stdout",
       "text": [
        "> "
       ]
      },
      {
       "output_type": "stream",
       "stream": "stdout",
       "text": [
        "> "
       ]
      },
      {
       "output_type": "stream",
       "stream": "stdout",
       "text": [
        "> "
       ]
      },
      {
       "output_type": "stream",
       "stream": "stdout",
       "text": [
        "> "
       ]
      },
      {
       "output_type": "stream",
       "stream": "stdout",
       "text": [
        "> "
       ]
      },
      {
       "output_type": "stream",
       "stream": "stdout",
       "text": [
        "> "
       ]
      },
      {
       "output_type": "stream",
       "stream": "stdout",
       "text": [
        "> "
       ]
      },
      {
       "output_type": "stream",
       "stream": "stdout",
       "text": [
        "0.291964521238\n"
       ]
      }
     ],
     "prompt_number": 195
    },
    {
     "cell_type": "markdown",
     "metadata": {},
     "source": [
      "> This is good, 0.2919 on subtest set"
     ]
    },
    {
     "cell_type": "code",
     "collapsed": false,
     "input": [
      "# Submit\n",
      "lr_submit = load_data(\"data/train.csv\")"
     ],
     "language": "python",
     "metadata": {},
     "outputs": [
      {
       "output_type": "stream",
       "stream": "stdout",
       "text": [
        "> "
       ]
      },
      {
       "output_type": "stream",
       "stream": "stdout",
       "text": [
        "> "
       ]
      },
      {
       "output_type": "stream",
       "stream": "stdout",
       "text": [
        "> "
       ]
      },
      {
       "output_type": "stream",
       "stream": "stdout",
       "text": [
        "> "
       ]
      },
      {
       "output_type": "stream",
       "stream": "stdout",
       "text": [
        "> "
       ]
      },
      {
       "output_type": "stream",
       "stream": "stdout",
       "text": [
        "> "
       ]
      },
      {
       "output_type": "stream",
       "stream": "stdout",
       "text": [
        "> "
       ]
      },
      {
       "output_type": "stream",
       "stream": "stdout",
       "text": [
        "> "
       ]
      },
      {
       "output_type": "stream",
       "stream": "stdout",
       "text": [
        "> "
       ]
      },
      {
       "output_type": "stream",
       "stream": "stdout",
       "text": [
        "> "
       ]
      },
      {
       "output_type": "stream",
       "stream": "stdout",
       "text": [
        "> "
       ]
      },
      {
       "output_type": "stream",
       "stream": "stdout",
       "text": [
        "> "
       ]
      },
      {
       "output_type": "stream",
       "stream": "stdout",
       "text": [
        "> "
       ]
      },
      {
       "output_type": "stream",
       "stream": "stdout",
       "text": [
        "> "
       ]
      },
      {
       "output_type": "stream",
       "stream": "stdout",
       "text": [
        "> "
       ]
      },
      {
       "output_type": "stream",
       "stream": "stdout",
       "text": [
        "> "
       ]
      },
      {
       "output_type": "stream",
       "stream": "stdout",
       "text": [
        "> "
       ]
      },
      {
       "output_type": "stream",
       "stream": "stdout",
       "text": [
        "> "
       ]
      },
      {
       "output_type": "stream",
       "stream": "stdout",
       "text": [
        "> "
       ]
      },
      {
       "output_type": "stream",
       "stream": "stdout",
       "text": [
        "> "
       ]
      },
      {
       "output_type": "stream",
       "stream": "stdout",
       "text": [
        "> "
       ]
      },
      {
       "output_type": "stream",
       "stream": "stdout",
       "text": [
        "> "
       ]
      },
      {
       "output_type": "stream",
       "stream": "stdout",
       "text": [
        "> "
       ]
      },
      {
       "output_type": "stream",
       "stream": "stdout",
       "text": [
        "> "
       ]
      },
      {
       "output_type": "stream",
       "stream": "stdout",
       "text": [
        "> "
       ]
      },
      {
       "output_type": "stream",
       "stream": "stdout",
       "text": [
        "> "
       ]
      },
      {
       "output_type": "stream",
       "stream": "stdout",
       "text": [
        "> "
       ]
      },
      {
       "output_type": "stream",
       "stream": "stdout",
       "text": [
        "> "
       ]
      },
      {
       "output_type": "stream",
       "stream": "stdout",
       "text": [
        "> "
       ]
      },
      {
       "output_type": "stream",
       "stream": "stdout",
       "text": [
        "> "
       ]
      },
      {
       "output_type": "stream",
       "stream": "stdout",
       "text": [
        "> "
       ]
      },
      {
       "output_type": "stream",
       "stream": "stdout",
       "text": [
        "> "
       ]
      },
      {
       "output_type": "stream",
       "stream": "stdout",
       "text": [
        "> "
       ]
      },
      {
       "output_type": "stream",
       "stream": "stdout",
       "text": [
        "> "
       ]
      },
      {
       "output_type": "stream",
       "stream": "stdout",
       "text": [
        "> "
       ]
      },
      {
       "output_type": "stream",
       "stream": "stdout",
       "text": [
        "> "
       ]
      },
      {
       "output_type": "stream",
       "stream": "stdout",
       "text": [
        "> "
       ]
      },
      {
       "output_type": "stream",
       "stream": "stdout",
       "text": [
        "> "
       ]
      },
      {
       "output_type": "stream",
       "stream": "stdout",
       "text": [
        "> "
       ]
      },
      {
       "output_type": "stream",
       "stream": "stdout",
       "text": [
        "> "
       ]
      },
      {
       "output_type": "stream",
       "stream": "stdout",
       "text": [
        "> "
       ]
      },
      {
       "output_type": "stream",
       "stream": "stdout",
       "text": [
        "> "
       ]
      },
      {
       "output_type": "stream",
       "stream": "stdout",
       "text": [
        "> "
       ]
      },
      {
       "output_type": "stream",
       "stream": "stdout",
       "text": [
        "> "
       ]
      },
      {
       "output_type": "stream",
       "stream": "stdout",
       "text": [
        "> "
       ]
      },
      {
       "output_type": "stream",
       "stream": "stdout",
       "text": [
        "> "
       ]
      },
      {
       "output_type": "stream",
       "stream": "stdout",
       "text": [
        "> "
       ]
      },
      {
       "output_type": "stream",
       "stream": "stdout",
       "text": [
        "> "
       ]
      },
      {
       "output_type": "stream",
       "stream": "stdout",
       "text": [
        "> "
       ]
      },
      {
       "output_type": "stream",
       "stream": "stdout",
       "text": [
        "> "
       ]
      },
      {
       "output_type": "stream",
       "stream": "stdout",
       "text": [
        "> "
       ]
      },
      {
       "output_type": "stream",
       "stream": "stdout",
       "text": [
        "> "
       ]
      },
      {
       "output_type": "stream",
       "stream": "stdout",
       "text": [
        "> "
       ]
      },
      {
       "output_type": "stream",
       "stream": "stdout",
       "text": [
        "> "
       ]
      },
      {
       "output_type": "stream",
       "stream": "stdout",
       "text": [
        "> "
       ]
      },
      {
       "output_type": "stream",
       "stream": "stdout",
       "text": [
        "> "
       ]
      },
      {
       "output_type": "stream",
       "stream": "stdout",
       "text": [
        "> "
       ]
      },
      {
       "output_type": "stream",
       "stream": "stdout",
       "text": [
        "> "
       ]
      },
      {
       "output_type": "stream",
       "stream": "stdout",
       "text": [
        "> "
       ]
      },
      {
       "output_type": "stream",
       "stream": "stdout",
       "text": [
        "> "
       ]
      },
      {
       "output_type": "stream",
       "stream": "stdout",
       "text": [
        "> "
       ]
      },
      {
       "output_type": "stream",
       "stream": "stdout",
       "text": [
        "> "
       ]
      },
      {
       "output_type": "stream",
       "stream": "stdout",
       "text": [
        "> "
       ]
      },
      {
       "output_type": "stream",
       "stream": "stdout",
       "text": [
        "> "
       ]
      },
      {
       "output_type": "stream",
       "stream": "stdout",
       "text": [
        "> "
       ]
      },
      {
       "output_type": "stream",
       "stream": "stdout",
       "text": [
        "> "
       ]
      },
      {
       "output_type": "stream",
       "stream": "stdout",
       "text": [
        "> "
       ]
      },
      {
       "output_type": "stream",
       "stream": "stdout",
       "text": [
        "> "
       ]
      },
      {
       "output_type": "stream",
       "stream": "stdout",
       "text": [
        "> "
       ]
      },
      {
       "output_type": "stream",
       "stream": "stdout",
       "text": [
        "> "
       ]
      },
      {
       "output_type": "stream",
       "stream": "stdout",
       "text": [
        "> "
       ]
      },
      {
       "output_type": "stream",
       "stream": "stdout",
       "text": [
        "> "
       ]
      },
      {
       "output_type": "stream",
       "stream": "stdout",
       "text": [
        "> "
       ]
      },
      {
       "output_type": "stream",
       "stream": "stdout",
       "text": [
        "> "
       ]
      },
      {
       "output_type": "stream",
       "stream": "stdout",
       "text": [
        "> "
       ]
      },
      {
       "output_type": "stream",
       "stream": "stdout",
       "text": [
        "> "
       ]
      },
      {
       "output_type": "stream",
       "stream": "stdout",
       "text": [
        "> "
       ]
      },
      {
       "output_type": "stream",
       "stream": "stdout",
       "text": [
        "> "
       ]
      },
      {
       "output_type": "stream",
       "stream": "stdout",
       "text": [
        "> "
       ]
      },
      {
       "output_type": "stream",
       "stream": "stdout",
       "text": [
        "> "
       ]
      },
      {
       "output_type": "stream",
       "stream": "stdout",
       "text": [
        "> "
       ]
      },
      {
       "output_type": "stream",
       "stream": "stdout",
       "text": [
        "> "
       ]
      },
      {
       "output_type": "stream",
       "stream": "stdout",
       "text": [
        "> "
       ]
      },
      {
       "output_type": "stream",
       "stream": "stdout",
       "text": [
        "> "
       ]
      },
      {
       "output_type": "stream",
       "stream": "stdout",
       "text": [
        "> "
       ]
      },
      {
       "output_type": "stream",
       "stream": "stdout",
       "text": [
        "> "
       ]
      },
      {
       "output_type": "stream",
       "stream": "stdout",
       "text": [
        "> "
       ]
      },
      {
       "output_type": "stream",
       "stream": "stdout",
       "text": [
        "> "
       ]
      },
      {
       "output_type": "stream",
       "stream": "stdout",
       "text": [
        "> "
       ]
      },
      {
       "output_type": "stream",
       "stream": "stdout",
       "text": [
        "> "
       ]
      },
      {
       "output_type": "stream",
       "stream": "stdout",
       "text": [
        "> "
       ]
      },
      {
       "output_type": "stream",
       "stream": "stdout",
       "text": [
        "> "
       ]
      },
      {
       "output_type": "stream",
       "stream": "stdout",
       "text": [
        "> "
       ]
      },
      {
       "output_type": "stream",
       "stream": "stdout",
       "text": [
        "> "
       ]
      },
      {
       "output_type": "stream",
       "stream": "stdout",
       "text": [
        "> "
       ]
      },
      {
       "output_type": "stream",
       "stream": "stdout",
       "text": [
        "> "
       ]
      },
      {
       "output_type": "stream",
       "stream": "stdout",
       "text": [
        "> "
       ]
      },
      {
       "output_type": "stream",
       "stream": "stdout",
       "text": [
        "> "
       ]
      },
      {
       "output_type": "stream",
       "stream": "stdout",
       "text": [
        "> "
       ]
      },
      {
       "output_type": "stream",
       "stream": "stdout",
       "text": [
        "> "
       ]
      },
      {
       "output_type": "stream",
       "stream": "stdout",
       "text": [
        "> "
       ]
      },
      {
       "output_type": "stream",
       "stream": "stdout",
       "text": [
        "> "
       ]
      },
      {
       "output_type": "stream",
       "stream": "stdout",
       "text": [
        "> "
       ]
      },
      {
       "output_type": "stream",
       "stream": "stdout",
       "text": [
        "> "
       ]
      },
      {
       "output_type": "stream",
       "stream": "stdout",
       "text": [
        "> "
       ]
      },
      {
       "output_type": "stream",
       "stream": "stdout",
       "text": [
        "> "
       ]
      },
      {
       "output_type": "stream",
       "stream": "stdout",
       "text": [
        "> "
       ]
      },
      {
       "output_type": "stream",
       "stream": "stdout",
       "text": [
        "> "
       ]
      },
      {
       "output_type": "stream",
       "stream": "stdout",
       "text": [
        "> "
       ]
      },
      {
       "output_type": "stream",
       "stream": "stdout",
       "text": [
        "> "
       ]
      },
      {
       "output_type": "stream",
       "stream": "stdout",
       "text": [
        "> "
       ]
      },
      {
       "output_type": "stream",
       "stream": "stdout",
       "text": [
        "> "
       ]
      },
      {
       "output_type": "stream",
       "stream": "stdout",
       "text": [
        "> "
       ]
      },
      {
       "output_type": "stream",
       "stream": "stdout",
       "text": [
        "> "
       ]
      },
      {
       "output_type": "stream",
       "stream": "stdout",
       "text": [
        "> "
       ]
      },
      {
       "output_type": "stream",
       "stream": "stdout",
       "text": [
        "> "
       ]
      },
      {
       "output_type": "stream",
       "stream": "stdout",
       "text": [
        "> "
       ]
      },
      {
       "output_type": "stream",
       "stream": "stdout",
       "text": [
        "> "
       ]
      },
      {
       "output_type": "stream",
       "stream": "stdout",
       "text": [
        "> "
       ]
      },
      {
       "output_type": "stream",
       "stream": "stdout",
       "text": [
        "> "
       ]
      },
      {
       "output_type": "stream",
       "stream": "stdout",
       "text": [
        "> "
       ]
      },
      {
       "output_type": "stream",
       "stream": "stdout",
       "text": [
        "> "
       ]
      },
      {
       "output_type": "stream",
       "stream": "stdout",
       "text": [
        "> "
       ]
      },
      {
       "output_type": "stream",
       "stream": "stdout",
       "text": [
        "> "
       ]
      },
      {
       "output_type": "stream",
       "stream": "stdout",
       "text": [
        "> "
       ]
      },
      {
       "output_type": "stream",
       "stream": "stdout",
       "text": [
        "> "
       ]
      },
      {
       "output_type": "stream",
       "stream": "stdout",
       "text": [
        "> "
       ]
      },
      {
       "output_type": "stream",
       "stream": "stdout",
       "text": [
        "> "
       ]
      },
      {
       "output_type": "stream",
       "stream": "stdout",
       "text": [
        "> "
       ]
      },
      {
       "output_type": "stream",
       "stream": "stdout",
       "text": [
        "> "
       ]
      },
      {
       "output_type": "stream",
       "stream": "stdout",
       "text": [
        "> "
       ]
      },
      {
       "output_type": "stream",
       "stream": "stdout",
       "text": [
        "> "
       ]
      },
      {
       "output_type": "stream",
       "stream": "stdout",
       "text": [
        "> "
       ]
      },
      {
       "output_type": "stream",
       "stream": "stdout",
       "text": [
        "> "
       ]
      },
      {
       "output_type": "stream",
       "stream": "stdout",
       "text": [
        "> "
       ]
      },
      {
       "output_type": "stream",
       "stream": "stdout",
       "text": [
        "> "
       ]
      },
      {
       "output_type": "stream",
       "stream": "stdout",
       "text": [
        "> "
       ]
      },
      {
       "output_type": "stream",
       "stream": "stdout",
       "text": [
        "> "
       ]
      },
      {
       "output_type": "stream",
       "stream": "stdout",
       "text": [
        "> "
       ]
      },
      {
       "output_type": "stream",
       "stream": "stdout",
       "text": [
        "> "
       ]
      },
      {
       "output_type": "stream",
       "stream": "stdout",
       "text": [
        "> "
       ]
      },
      {
       "output_type": "stream",
       "stream": "stdout",
       "text": [
        "> "
       ]
      },
      {
       "output_type": "stream",
       "stream": "stdout",
       "text": [
        "> "
       ]
      },
      {
       "output_type": "stream",
       "stream": "stdout",
       "text": [
        "> "
       ]
      },
      {
       "output_type": "stream",
       "stream": "stdout",
       "text": [
        "> "
       ]
      },
      {
       "output_type": "stream",
       "stream": "stdout",
       "text": [
        "> "
       ]
      },
      {
       "output_type": "stream",
       "stream": "stdout",
       "text": [
        "> "
       ]
      },
      {
       "output_type": "stream",
       "stream": "stdout",
       "text": [
        "> "
       ]
      },
      {
       "output_type": "stream",
       "stream": "stdout",
       "text": [
        "> "
       ]
      },
      {
       "output_type": "stream",
       "stream": "stdout",
       "text": [
        "> "
       ]
      },
      {
       "output_type": "stream",
       "stream": "stdout",
       "text": [
        "> "
       ]
      },
      {
       "output_type": "stream",
       "stream": "stdout",
       "text": [
        "> "
       ]
      },
      {
       "output_type": "stream",
       "stream": "stdout",
       "text": [
        "> "
       ]
      },
      {
       "output_type": "stream",
       "stream": "stdout",
       "text": [
        "> "
       ]
      },
      {
       "output_type": "stream",
       "stream": "stdout",
       "text": [
        "> "
       ]
      },
      {
       "output_type": "stream",
       "stream": "stdout",
       "text": [
        "> "
       ]
      },
      {
       "output_type": "stream",
       "stream": "stdout",
       "text": [
        "> "
       ]
      },
      {
       "output_type": "stream",
       "stream": "stdout",
       "text": [
        "> "
       ]
      },
      {
       "output_type": "stream",
       "stream": "stdout",
       "text": [
        "> "
       ]
      },
      {
       "output_type": "stream",
       "stream": "stdout",
       "text": [
        "> "
       ]
      },
      {
       "output_type": "stream",
       "stream": "stdout",
       "text": [
        "> "
       ]
      },
      {
       "output_type": "stream",
       "stream": "stdout",
       "text": [
        "> "
       ]
      },
      {
       "output_type": "stream",
       "stream": "stdout",
       "text": [
        "> "
       ]
      },
      {
       "output_type": "stream",
       "stream": "stdout",
       "text": [
        "> "
       ]
      },
      {
       "output_type": "stream",
       "stream": "stdout",
       "text": [
        "> "
       ]
      },
      {
       "output_type": "stream",
       "stream": "stdout",
       "text": [
        "> "
       ]
      },
      {
       "output_type": "stream",
       "stream": "stdout",
       "text": [
        "> "
       ]
      },
      {
       "output_type": "stream",
       "stream": "stdout",
       "text": [
        "> "
       ]
      },
      {
       "output_type": "stream",
       "stream": "stdout",
       "text": [
        "> "
       ]
      },
      {
       "output_type": "stream",
       "stream": "stdout",
       "text": [
        "> "
       ]
      },
      {
       "output_type": "stream",
       "stream": "stdout",
       "text": [
        "> "
       ]
      },
      {
       "output_type": "stream",
       "stream": "stdout",
       "text": [
        "> "
       ]
      },
      {
       "output_type": "stream",
       "stream": "stdout",
       "text": [
        "> "
       ]
      },
      {
       "output_type": "stream",
       "stream": "stdout",
       "text": [
        "> "
       ]
      },
      {
       "output_type": "stream",
       "stream": "stdout",
       "text": [
        "> "
       ]
      },
      {
       "output_type": "stream",
       "stream": "stdout",
       "text": [
        "> "
       ]
      },
      {
       "output_type": "stream",
       "stream": "stdout",
       "text": [
        "> "
       ]
      },
      {
       "output_type": "stream",
       "stream": "stdout",
       "text": [
        "> "
       ]
      },
      {
       "output_type": "stream",
       "stream": "stdout",
       "text": [
        "> "
       ]
      },
      {
       "output_type": "stream",
       "stream": "stdout",
       "text": [
        "> "
       ]
      },
      {
       "output_type": "stream",
       "stream": "stdout",
       "text": [
        "> "
       ]
      },
      {
       "output_type": "stream",
       "stream": "stdout",
       "text": [
        "> "
       ]
      },
      {
       "output_type": "stream",
       "stream": "stdout",
       "text": [
        "> "
       ]
      },
      {
       "output_type": "stream",
       "stream": "stdout",
       "text": [
        "> "
       ]
      },
      {
       "output_type": "stream",
       "stream": "stdout",
       "text": [
        "> "
       ]
      },
      {
       "output_type": "stream",
       "stream": "stdout",
       "text": [
        "> "
       ]
      },
      {
       "output_type": "stream",
       "stream": "stdout",
       "text": [
        "> "
       ]
      },
      {
       "output_type": "stream",
       "stream": "stdout",
       "text": [
        "> "
       ]
      },
      {
       "output_type": "stream",
       "stream": "stdout",
       "text": [
        "> "
       ]
      },
      {
       "output_type": "stream",
       "stream": "stdout",
       "text": [
        "> "
       ]
      },
      {
       "output_type": "stream",
       "stream": "stdout",
       "text": [
        "> "
       ]
      },
      {
       "output_type": "stream",
       "stream": "stdout",
       "text": [
        "> "
       ]
      },
      {
       "output_type": "stream",
       "stream": "stdout",
       "text": [
        "> "
       ]
      },
      {
       "output_type": "stream",
       "stream": "stdout",
       "text": [
        "> "
       ]
      },
      {
       "output_type": "stream",
       "stream": "stdout",
       "text": [
        "> "
       ]
      },
      {
       "output_type": "stream",
       "stream": "stdout",
       "text": [
        "> "
       ]
      },
      {
       "output_type": "stream",
       "stream": "stdout",
       "text": [
        "> "
       ]
      },
      {
       "output_type": "stream",
       "stream": "stdout",
       "text": [
        "> "
       ]
      },
      {
       "output_type": "stream",
       "stream": "stdout",
       "text": [
        "> "
       ]
      },
      {
       "output_type": "stream",
       "stream": "stdout",
       "text": [
        "> "
       ]
      },
      {
       "output_type": "stream",
       "stream": "stdout",
       "text": [
        "> "
       ]
      },
      {
       "output_type": "stream",
       "stream": "stdout",
       "text": [
        "> "
       ]
      },
      {
       "output_type": "stream",
       "stream": "stdout",
       "text": [
        "> "
       ]
      },
      {
       "output_type": "stream",
       "stream": "stdout",
       "text": [
        "> "
       ]
      },
      {
       "output_type": "stream",
       "stream": "stdout",
       "text": [
        "> "
       ]
      },
      {
       "output_type": "stream",
       "stream": "stdout",
       "text": [
        "> "
       ]
      },
      {
       "output_type": "stream",
       "stream": "stdout",
       "text": [
        "> "
       ]
      },
      {
       "output_type": "stream",
       "stream": "stdout",
       "text": [
        "> "
       ]
      },
      {
       "output_type": "stream",
       "stream": "stdout",
       "text": [
        "> "
       ]
      },
      {
       "output_type": "stream",
       "stream": "stdout",
       "text": [
        "> "
       ]
      },
      {
       "output_type": "stream",
       "stream": "stdout",
       "text": [
        "> "
       ]
      },
      {
       "output_type": "stream",
       "stream": "stdout",
       "text": [
        "> "
       ]
      },
      {
       "output_type": "stream",
       "stream": "stdout",
       "text": [
        ">\n"
       ]
      }
     ],
     "prompt_number": 197
    },
    {
     "cell_type": "code",
     "collapsed": false,
     "input": [
      "makesubmit(\"data/test.csv\", lr_submit, \"outputs/sk_logi_1.submit.csv\")"
     ],
     "language": "python",
     "metadata": {},
     "outputs": [
      {
       "output_type": "stream",
       "stream": "stdout",
       "text": [
        "> "
       ]
      },
      {
       "output_type": "stream",
       "stream": "stdout",
       "text": [
        "> "
       ]
      },
      {
       "output_type": "stream",
       "stream": "stdout",
       "text": [
        "> "
       ]
      },
      {
       "output_type": "stream",
       "stream": "stdout",
       "text": [
        "> "
       ]
      },
      {
       "output_type": "stream",
       "stream": "stdout",
       "text": [
        "> "
       ]
      },
      {
       "output_type": "stream",
       "stream": "stdout",
       "text": [
        "> "
       ]
      },
      {
       "output_type": "stream",
       "stream": "stdout",
       "text": [
        "> "
       ]
      },
      {
       "output_type": "stream",
       "stream": "stdout",
       "text": [
        "> "
       ]
      },
      {
       "output_type": "stream",
       "stream": "stdout",
       "text": [
        "> "
       ]
      },
      {
       "output_type": "stream",
       "stream": "stdout",
       "text": [
        "> "
       ]
      },
      {
       "output_type": "stream",
       "stream": "stdout",
       "text": [
        "> "
       ]
      },
      {
       "output_type": "stream",
       "stream": "stdout",
       "text": [
        "> "
       ]
      },
      {
       "output_type": "stream",
       "stream": "stdout",
       "text": [
        "> "
       ]
      },
      {
       "output_type": "stream",
       "stream": "stdout",
       "text": [
        "> "
       ]
      },
      {
       "output_type": "stream",
       "stream": "stdout",
       "text": [
        "> "
       ]
      },
      {
       "output_type": "stream",
       "stream": "stdout",
       "text": [
        "> "
       ]
      },
      {
       "output_type": "stream",
       "stream": "stdout",
       "text": [
        "> "
       ]
      },
      {
       "output_type": "stream",
       "stream": "stdout",
       "text": [
        "> "
       ]
      },
      {
       "output_type": "stream",
       "stream": "stdout",
       "text": [
        "> "
       ]
      },
      {
       "output_type": "stream",
       "stream": "stdout",
       "text": [
        "> "
       ]
      },
      {
       "output_type": "stream",
       "stream": "stdout",
       "text": [
        "> "
       ]
      },
      {
       "output_type": "stream",
       "stream": "stdout",
       "text": [
        "> "
       ]
      },
      {
       "output_type": "stream",
       "stream": "stdout",
       "text": [
        "> "
       ]
      },
      {
       "output_type": "stream",
       "stream": "stdout",
       "text": [
        "> "
       ]
      },
      {
       "output_type": "stream",
       "stream": "stdout",
       "text": [
        "> "
       ]
      },
      {
       "output_type": "stream",
       "stream": "stdout",
       "text": [
        "> "
       ]
      },
      {
       "output_type": "stream",
       "stream": "stdout",
       "text": [
        "> "
       ]
      },
      {
       "output_type": "stream",
       "stream": "stdout",
       "text": [
        "> "
       ]
      },
      {
       "output_type": "stream",
       "stream": "stdout",
       "text": [
        "> "
       ]
      },
      {
       "output_type": "stream",
       "stream": "stdout",
       "text": [
        "> "
       ]
      },
      {
       "output_type": "stream",
       "stream": "stdout",
       "text": [
        "> "
       ]
      },
      {
       "output_type": "stream",
       "stream": "stdout",
       "text": [
        "> "
       ]
      },
      {
       "output_type": "stream",
       "stream": "stdout",
       "text": [
        "> "
       ]
      },
      {
       "output_type": "stream",
       "stream": "stdout",
       "text": [
        "> "
       ]
      },
      {
       "output_type": "stream",
       "stream": "stdout",
       "text": [
        "> "
       ]
      },
      {
       "output_type": "stream",
       "stream": "stdout",
       "text": [
        "> "
       ]
      },
      {
       "output_type": "stream",
       "stream": "stdout",
       "text": [
        "> "
       ]
      },
      {
       "output_type": "stream",
       "stream": "stdout",
       "text": [
        "> "
       ]
      },
      {
       "output_type": "stream",
       "stream": "stdout",
       "text": [
        "> "
       ]
      },
      {
       "output_type": "stream",
       "stream": "stdout",
       "text": [
        "> "
       ]
      },
      {
       "output_type": "stream",
       "stream": "stdout",
       "text": [
        "> "
       ]
      },
      {
       "output_type": "stream",
       "stream": "stdout",
       "text": [
        "> "
       ]
      },
      {
       "output_type": "stream",
       "stream": "stdout",
       "text": [
        "> "
       ]
      },
      {
       "output_type": "stream",
       "stream": "stdout",
       "text": [
        "> "
       ]
      },
      {
       "output_type": "stream",
       "stream": "stdout",
       "text": [
        "> "
       ]
      },
      {
       "output_type": "stream",
       "stream": "stdout",
       "text": [
        "> "
       ]
      },
      {
       "output_type": "stream",
       "stream": "stdout",
       "text": [
        "> "
       ]
      },
      {
       "output_type": "stream",
       "stream": "stdout",
       "text": [
        "> "
       ]
      },
      {
       "output_type": "stream",
       "stream": "stdout",
       "text": [
        "> "
       ]
      },
      {
       "output_type": "stream",
       "stream": "stdout",
       "text": [
        "> "
       ]
      },
      {
       "output_type": "stream",
       "stream": "stdout",
       "text": [
        "> "
       ]
      },
      {
       "output_type": "stream",
       "stream": "stdout",
       "text": [
        "> "
       ]
      },
      {
       "output_type": "stream",
       "stream": "stdout",
       "text": [
        "> "
       ]
      },
      {
       "output_type": "stream",
       "stream": "stdout",
       "text": [
        "> "
       ]
      },
      {
       "output_type": "stream",
       "stream": "stdout",
       "text": [
        "> "
       ]
      },
      {
       "output_type": "stream",
       "stream": "stdout",
       "text": [
        "> "
       ]
      },
      {
       "output_type": "stream",
       "stream": "stdout",
       "text": [
        "> "
       ]
      },
      {
       "output_type": "stream",
       "stream": "stdout",
       "text": [
        "> "
       ]
      },
      {
       "output_type": "stream",
       "stream": "stdout",
       "text": [
        "> "
       ]
      },
      {
       "output_type": "stream",
       "stream": "stdout",
       "text": [
        "> "
       ]
      },
      {
       "output_type": "stream",
       "stream": "stdout",
       "text": [
        "> "
       ]
      },
      {
       "output_type": "stream",
       "stream": "stdout",
       "text": [
        "> "
       ]
      },
      {
       "output_type": "stream",
       "stream": "stdout",
       "text": [
        "> "
       ]
      },
      {
       "output_type": "stream",
       "stream": "stdout",
       "text": [
        "> "
       ]
      },
      {
       "output_type": "stream",
       "stream": "stdout",
       "text": [
        "> "
       ]
      },
      {
       "output_type": "stream",
       "stream": "stdout",
       "text": [
        "> "
       ]
      },
      {
       "output_type": "stream",
       "stream": "stdout",
       "text": [
        "> "
       ]
      },
      {
       "output_type": "stream",
       "stream": "stdout",
       "text": [
        "> "
       ]
      },
      {
       "output_type": "stream",
       "stream": "stdout",
       "text": [
        "> "
       ]
      },
      {
       "output_type": "stream",
       "stream": "stdout",
       "text": [
        "> "
       ]
      },
      {
       "output_type": "stream",
       "stream": "stdout",
       "text": [
        "> "
       ]
      },
      {
       "output_type": "stream",
       "stream": "stdout",
       "text": [
        "> "
       ]
      },
      {
       "output_type": "stream",
       "stream": "stdout",
       "text": [
        "> "
       ]
      },
      {
       "output_type": "stream",
       "stream": "stdout",
       "text": [
        "> "
       ]
      },
      {
       "output_type": "stream",
       "stream": "stdout",
       "text": [
        "> "
       ]
      },
      {
       "output_type": "stream",
       "stream": "stdout",
       "text": [
        "> "
       ]
      },
      {
       "output_type": "stream",
       "stream": "stdout",
       "text": [
        "> "
       ]
      },
      {
       "output_type": "stream",
       "stream": "stdout",
       "text": [
        "> "
       ]
      },
      {
       "output_type": "stream",
       "stream": "stdout",
       "text": [
        "> "
       ]
      },
      {
       "output_type": "stream",
       "stream": "stdout",
       "text": [
        "> "
       ]
      },
      {
       "output_type": "stream",
       "stream": "stdout",
       "text": [
        "> "
       ]
      },
      {
       "output_type": "stream",
       "stream": "stdout",
       "text": [
        "> "
       ]
      },
      {
       "output_type": "stream",
       "stream": "stdout",
       "text": [
        "> "
       ]
      },
      {
       "output_type": "stream",
       "stream": "stdout",
       "text": [
        "> "
       ]
      },
      {
       "output_type": "stream",
       "stream": "stdout",
       "text": [
        "> "
       ]
      },
      {
       "output_type": "stream",
       "stream": "stdout",
       "text": [
        "> "
       ]
      },
      {
       "output_type": "stream",
       "stream": "stdout",
       "text": [
        "> "
       ]
      },
      {
       "output_type": "stream",
       "stream": "stdout",
       "text": [
        "> "
       ]
      },
      {
       "output_type": "stream",
       "stream": "stdout",
       "text": [
        "> "
       ]
      },
      {
       "output_type": "stream",
       "stream": "stdout",
       "text": [
        "> "
       ]
      },
      {
       "output_type": "stream",
       "stream": "stdout",
       "text": [
        "> "
       ]
      },
      {
       "output_type": "stream",
       "stream": "stdout",
       "text": [
        "> "
       ]
      },
      {
       "output_type": "stream",
       "stream": "stdout",
       "text": [
        "> "
       ]
      },
      {
       "output_type": "stream",
       "stream": "stdout",
       "text": [
        "> "
       ]
      },
      {
       "output_type": "stream",
       "stream": "stdout",
       "text": [
        "> "
       ]
      },
      {
       "output_type": "stream",
       "stream": "stdout",
       "text": [
        "> "
       ]
      },
      {
       "output_type": "stream",
       "stream": "stdout",
       "text": [
        "> "
       ]
      },
      {
       "output_type": "stream",
       "stream": "stdout",
       "text": [
        "> "
       ]
      },
      {
       "output_type": "stream",
       "stream": "stdout",
       "text": [
        "> "
       ]
      },
      {
       "output_type": "stream",
       "stream": "stdout",
       "text": [
        "> "
       ]
      },
      {
       "output_type": "stream",
       "stream": "stdout",
       "text": [
        "> "
       ]
      },
      {
       "output_type": "stream",
       "stream": "stdout",
       "text": [
        "> "
       ]
      },
      {
       "output_type": "stream",
       "stream": "stdout",
       "text": [
        "> "
       ]
      },
      {
       "output_type": "stream",
       "stream": "stdout",
       "text": [
        "> "
       ]
      },
      {
       "output_type": "stream",
       "stream": "stdout",
       "text": [
        "> "
       ]
      },
      {
       "output_type": "stream",
       "stream": "stdout",
       "text": [
        "> "
       ]
      },
      {
       "output_type": "stream",
       "stream": "stdout",
       "text": [
        "> "
       ]
      },
      {
       "output_type": "stream",
       "stream": "stdout",
       "text": [
        "> "
       ]
      },
      {
       "output_type": "stream",
       "stream": "stdout",
       "text": [
        "> "
       ]
      },
      {
       "output_type": "stream",
       "stream": "stdout",
       "text": [
        "> "
       ]
      },
      {
       "output_type": "stream",
       "stream": "stdout",
       "text": [
        "> "
       ]
      },
      {
       "output_type": "stream",
       "stream": "stdout",
       "text": [
        "> "
       ]
      },
      {
       "output_type": "stream",
       "stream": "stdout",
       "text": [
        "> "
       ]
      },
      {
       "output_type": "stream",
       "stream": "stdout",
       "text": [
        "> "
       ]
      },
      {
       "output_type": "stream",
       "stream": "stdout",
       "text": [
        "> "
       ]
      },
      {
       "output_type": "stream",
       "stream": "stdout",
       "text": [
        "> "
       ]
      },
      {
       "output_type": "stream",
       "stream": "stdout",
       "text": [
        "> "
       ]
      },
      {
       "output_type": "stream",
       "stream": "stdout",
       "text": [
        "> "
       ]
      },
      {
       "output_type": "stream",
       "stream": "stdout",
       "text": [
        "> "
       ]
      },
      {
       "output_type": "stream",
       "stream": "stdout",
       "text": [
        "> "
       ]
      },
      {
       "output_type": "stream",
       "stream": "stdout",
       "text": [
        "> "
       ]
      },
      {
       "output_type": "stream",
       "stream": "stdout",
       "text": [
        "> "
       ]
      },
      {
       "output_type": "stream",
       "stream": "stdout",
       "text": [
        "> "
       ]
      },
      {
       "output_type": "stream",
       "stream": "stdout",
       "text": [
        "> "
       ]
      },
      {
       "output_type": "stream",
       "stream": "stdout",
       "text": [
        "> "
       ]
      },
      {
       "output_type": "stream",
       "stream": "stdout",
       "text": [
        "> "
       ]
      },
      {
       "output_type": "stream",
       "stream": "stdout",
       "text": [
        "> "
       ]
      },
      {
       "output_type": "stream",
       "stream": "stdout",
       "text": [
        "> "
       ]
      },
      {
       "output_type": "stream",
       "stream": "stdout",
       "text": [
        "> "
       ]
      },
      {
       "output_type": "stream",
       "stream": "stdout",
       "text": [
        "> "
       ]
      },
      {
       "output_type": "stream",
       "stream": "stdout",
       "text": [
        "> "
       ]
      },
      {
       "output_type": "stream",
       "stream": "stdout",
       "text": [
        "> "
       ]
      },
      {
       "output_type": "stream",
       "stream": "stdout",
       "text": [
        "> "
       ]
      },
      {
       "output_type": "stream",
       "stream": "stdout",
       "text": [
        "> "
       ]
      },
      {
       "output_type": "stream",
       "stream": "stdout",
       "text": [
        "> "
       ]
      },
      {
       "output_type": "stream",
       "stream": "stdout",
       "text": [
        "> "
       ]
      },
      {
       "output_type": "stream",
       "stream": "stdout",
       "text": [
        "> "
       ]
      },
      {
       "output_type": "stream",
       "stream": "stdout",
       "text": [
        "> "
       ]
      },
      {
       "output_type": "stream",
       "stream": "stdout",
       "text": [
        "> "
       ]
      },
      {
       "output_type": "stream",
       "stream": "stdout",
       "text": [
        "> "
       ]
      },
      {
       "output_type": "stream",
       "stream": "stdout",
       "text": [
        "> "
       ]
      },
      {
       "output_type": "stream",
       "stream": "stdout",
       "text": [
        "> "
       ]
      },
      {
       "output_type": "stream",
       "stream": "stdout",
       "text": [
        "> "
       ]
      },
      {
       "output_type": "stream",
       "stream": "stdout",
       "text": [
        "> "
       ]
      },
      {
       "output_type": "stream",
       "stream": "stdout",
       "text": [
        "> "
       ]
      },
      {
       "output_type": "stream",
       "stream": "stdout",
       "text": [
        "> "
       ]
      },
      {
       "output_type": "stream",
       "stream": "stdout",
       "text": [
        "> "
       ]
      },
      {
       "output_type": "stream",
       "stream": "stdout",
       "text": [
        "> "
       ]
      },
      {
       "output_type": "stream",
       "stream": "stdout",
       "text": [
        "> "
       ]
      },
      {
       "output_type": "stream",
       "stream": "stdout",
       "text": [
        "> "
       ]
      },
      {
       "output_type": "stream",
       "stream": "stdout",
       "text": [
        "> "
       ]
      },
      {
       "output_type": "stream",
       "stream": "stdout",
       "text": [
        "> "
       ]
      },
      {
       "output_type": "stream",
       "stream": "stdout",
       "text": [
        "> "
       ]
      },
      {
       "output_type": "stream",
       "stream": "stdout",
       "text": [
        "> "
       ]
      },
      {
       "output_type": "stream",
       "stream": "stdout",
       "text": [
        "> "
       ]
      },
      {
       "output_type": "stream",
       "stream": "stdout",
       "text": [
        "> "
       ]
      },
      {
       "output_type": "stream",
       "stream": "stdout",
       "text": [
        "> "
       ]
      },
      {
       "output_type": "stream",
       "stream": "stdout",
       "text": [
        "> "
       ]
      },
      {
       "output_type": "stream",
       "stream": "stdout",
       "text": [
        "> "
       ]
      },
      {
       "output_type": "stream",
       "stream": "stdout",
       "text": [
        "> "
       ]
      },
      {
       "output_type": "stream",
       "stream": "stdout",
       "text": [
        "> "
       ]
      },
      {
       "output_type": "stream",
       "stream": "stdout",
       "text": [
        "> "
       ]
      },
      {
       "output_type": "stream",
       "stream": "stdout",
       "text": [
        "> "
       ]
      },
      {
       "output_type": "stream",
       "stream": "stdout",
       "text": [
        "> "
       ]
      },
      {
       "output_type": "stream",
       "stream": "stdout",
       "text": [
        "> "
       ]
      },
      {
       "output_type": "stream",
       "stream": "stdout",
       "text": [
        "> "
       ]
      },
      {
       "output_type": "stream",
       "stream": "stdout",
       "text": [
        "> "
       ]
      },
      {
       "output_type": "stream",
       "stream": "stdout",
       "text": [
        "> "
       ]
      },
      {
       "output_type": "stream",
       "stream": "stdout",
       "text": [
        "> "
       ]
      },
      {
       "output_type": "stream",
       "stream": "stdout",
       "text": [
        "> "
       ]
      },
      {
       "output_type": "stream",
       "stream": "stdout",
       "text": [
        "> "
       ]
      },
      {
       "output_type": "stream",
       "stream": "stdout",
       "text": [
        "> "
       ]
      },
      {
       "output_type": "stream",
       "stream": "stdout",
       "text": [
        "> "
       ]
      },
      {
       "output_type": "stream",
       "stream": "stdout",
       "text": [
        "> "
       ]
      },
      {
       "output_type": "stream",
       "stream": "stdout",
       "text": [
        "> "
       ]
      },
      {
       "output_type": "stream",
       "stream": "stdout",
       "text": [
        "> "
       ]
      },
      {
       "output_type": "stream",
       "stream": "stdout",
       "text": [
        "> "
       ]
      },
      {
       "output_type": "stream",
       "stream": "stdout",
       "text": [
        "> "
       ]
      },
      {
       "output_type": "stream",
       "stream": "stdout",
       "text": [
        "> "
       ]
      },
      {
       "output_type": "stream",
       "stream": "stdout",
       "text": [
        "> "
       ]
      },
      {
       "output_type": "stream",
       "stream": "stdout",
       "text": [
        "> "
       ]
      },
      {
       "output_type": "stream",
       "stream": "stdout",
       "text": [
        "> "
       ]
      },
      {
       "output_type": "stream",
       "stream": "stdout",
       "text": [
        "> "
       ]
      },
      {
       "output_type": "stream",
       "stream": "stdout",
       "text": [
        "> "
       ]
      },
      {
       "output_type": "stream",
       "stream": "stdout",
       "text": [
        "> "
       ]
      },
      {
       "output_type": "stream",
       "stream": "stdout",
       "text": [
        "> "
       ]
      },
      {
       "output_type": "stream",
       "stream": "stdout",
       "text": [
        "> "
       ]
      },
      {
       "output_type": "stream",
       "stream": "stdout",
       "text": [
        "> "
       ]
      },
      {
       "output_type": "stream",
       "stream": "stdout",
       "text": [
        "> "
       ]
      },
      {
       "output_type": "stream",
       "stream": "stdout",
       "text": [
        "> "
       ]
      },
      {
       "output_type": "stream",
       "stream": "stdout",
       "text": [
        "> "
       ]
      },
      {
       "output_type": "stream",
       "stream": "stdout",
       "text": [
        "> "
       ]
      },
      {
       "output_type": "stream",
       "stream": "stdout",
       "text": [
        "> "
       ]
      },
      {
       "output_type": "stream",
       "stream": "stdout",
       "text": [
        "> "
       ]
      },
      {
       "output_type": "stream",
       "stream": "stdout",
       "text": [
        "> "
       ]
      },
      {
       "output_type": "stream",
       "stream": "stdout",
       "text": [
        "> "
       ]
      },
      {
       "output_type": "stream",
       "stream": "stdout",
       "text": [
        "> "
       ]
      },
      {
       "output_type": "stream",
       "stream": "stdout",
       "text": [
        "> "
       ]
      },
      {
       "output_type": "stream",
       "stream": "stdout",
       "text": [
        "> "
       ]
      },
      {
       "output_type": "stream",
       "stream": "stdout",
       "text": [
        "> "
       ]
      },
      {
       "output_type": "stream",
       "stream": "stdout",
       "text": [
        "> "
       ]
      },
      {
       "output_type": "stream",
       "stream": "stdout",
       "text": [
        "> "
       ]
      },
      {
       "output_type": "stream",
       "stream": "stdout",
       "text": [
        "> "
       ]
      },
      {
       "output_type": "stream",
       "stream": "stdout",
       "text": [
        "> "
       ]
      },
      {
       "output_type": "stream",
       "stream": "stdout",
       "text": [
        "> "
       ]
      },
      {
       "output_type": "stream",
       "stream": "stdout",
       "text": [
        "> "
       ]
      },
      {
       "output_type": "stream",
       "stream": "stdout",
       "text": [
        "> "
       ]
      },
      {
       "output_type": "stream",
       "stream": "stdout",
       "text": [
        "> "
       ]
      },
      {
       "output_type": "stream",
       "stream": "stdout",
       "text": [
        "> "
       ]
      },
      {
       "output_type": "stream",
       "stream": "stdout",
       "text": [
        "> "
       ]
      },
      {
       "output_type": "stream",
       "stream": "stdout",
       "text": [
        "> "
       ]
      },
      {
       "output_type": "stream",
       "stream": "stdout",
       "text": [
        "> "
       ]
      },
      {
       "output_type": "stream",
       "stream": "stdout",
       "text": [
        "> "
       ]
      },
      {
       "output_type": "stream",
       "stream": "stdout",
       "text": [
        "> "
       ]
      },
      {
       "output_type": "stream",
       "stream": "stdout",
       "text": [
        "> "
       ]
      },
      {
       "output_type": "stream",
       "stream": "stdout",
       "text": [
        "> "
       ]
      },
      {
       "output_type": "stream",
       "stream": "stdout",
       "text": [
        "> "
       ]
      },
      {
       "output_type": "stream",
       "stream": "stdout",
       "text": [
        "> "
       ]
      },
      {
       "output_type": "stream",
       "stream": "stdout",
       "text": [
        "> "
       ]
      },
      {
       "output_type": "stream",
       "stream": "stdout",
       "text": [
        "> "
       ]
      },
      {
       "output_type": "stream",
       "stream": "stdout",
       "text": [
        "> "
       ]
      },
      {
       "output_type": "stream",
       "stream": "stdout",
       "text": [
        "> "
       ]
      },
      {
       "output_type": "stream",
       "stream": "stdout",
       "text": [
        "> "
       ]
      },
      {
       "output_type": "stream",
       "stream": "stdout",
       "text": [
        "> "
       ]
      },
      {
       "output_type": "stream",
       "stream": "stdout",
       "text": [
        "> "
       ]
      },
      {
       "output_type": "stream",
       "stream": "stdout",
       "text": [
        "> "
       ]
      },
      {
       "output_type": "stream",
       "stream": "stdout",
       "text": [
        "> "
       ]
      },
      {
       "output_type": "stream",
       "stream": "stdout",
       "text": [
        "> "
       ]
      },
      {
       "output_type": "stream",
       "stream": "stdout",
       "text": [
        "> "
       ]
      },
      {
       "output_type": "stream",
       "stream": "stdout",
       "text": [
        "> "
       ]
      },
      {
       "output_type": "stream",
       "stream": "stdout",
       "text": [
        "> "
       ]
      },
      {
       "output_type": "stream",
       "stream": "stdout",
       "text": [
        "> "
       ]
      },
      {
       "output_type": "stream",
       "stream": "stdout",
       "text": [
        "> "
       ]
      },
      {
       "output_type": "stream",
       "stream": "stdout",
       "text": [
        "> "
       ]
      },
      {
       "output_type": "stream",
       "stream": "stdout",
       "text": [
        ">\n"
       ]
      }
     ],
     "prompt_number": 199
    },
    {
     "cell_type": "code",
     "collapsed": false,
     "input": [
      "data = None\n",
      "Out.clear()\n",
      "gc.collect()"
     ],
     "language": "python",
     "metadata": {},
     "outputs": [
      {
       "metadata": {},
       "output_type": "pyout",
       "prompt_number": 205,
       "text": [
        "9"
       ]
      }
     ],
     "prompt_number": 205
    },
    {
     "cell_type": "heading",
     "level": 4,
     "metadata": {},
     "source": [
      "different params"
     ]
    },
    {
     "cell_type": "code",
     "collapsed": false,
     "input": [
      "def convert_feature(l, is_train=False):\n",
      "    global SCALES\n",
      "    l = l.strip().replace(\"NA\", \"0\")\n",
      "    fs = l.split(\",\")\n",
      "    if is_train:\n",
      "        target = int(fs[1])\n",
      "        number = int(fs[0])\n",
      "        f1 = fs[2:4]\n",
      "        c1 = fs[4:10]\n",
      "        f2 = fs[10:]\n",
      "    else:\n",
      "        number = int(fs[0])\n",
      "        target = 0\n",
      "        f1 = fs[1:3]\n",
      "        c1 = fs[3:9]\n",
      "        f2 = fs[9:]\n",
      "    cate_data = make_category_data(c1)\n",
      "    d = map(float, f1 + f2)\n",
      "    d = [(d[i] - SCALES[i][0]) / SCALES[i][1] for i in range(len(d))]\n",
      "    d = array(d)\n",
      "    d = np.concatenate((d, cate_data[0]))\n",
      "    return number, d, target\n",
      "\n",
      "lr = load_data(\"data/subtrain.csv\", lr=LogisticRegression(penalty=\"l1\"))\n",
      "print\n",
      "print subtest(\"data/subtest.csv\", lr)"
     ],
     "language": "python",
     "metadata": {},
     "outputs": [
      {
       "output_type": "stream",
       "stream": "stdout",
       "text": [
        "> "
       ]
      },
      {
       "output_type": "stream",
       "stream": "stdout",
       "text": [
        "> "
       ]
      },
      {
       "output_type": "stream",
       "stream": "stdout",
       "text": [
        "> "
       ]
      },
      {
       "output_type": "stream",
       "stream": "stdout",
       "text": [
        "> "
       ]
      },
      {
       "output_type": "stream",
       "stream": "stdout",
       "text": [
        "> "
       ]
      },
      {
       "output_type": "stream",
       "stream": "stdout",
       "text": [
        "> "
       ]
      },
      {
       "output_type": "stream",
       "stream": "stdout",
       "text": [
        "> "
       ]
      },
      {
       "output_type": "stream",
       "stream": "stdout",
       "text": [
        "> "
       ]
      },
      {
       "output_type": "stream",
       "stream": "stdout",
       "text": [
        "> "
       ]
      },
      {
       "output_type": "stream",
       "stream": "stdout",
       "text": [
        "> "
       ]
      },
      {
       "output_type": "stream",
       "stream": "stdout",
       "text": [
        "> "
       ]
      },
      {
       "output_type": "stream",
       "stream": "stdout",
       "text": [
        "> "
       ]
      },
      {
       "output_type": "stream",
       "stream": "stdout",
       "text": [
        "> "
       ]
      },
      {
       "output_type": "stream",
       "stream": "stdout",
       "text": [
        "> "
       ]
      },
      {
       "output_type": "stream",
       "stream": "stdout",
       "text": [
        "> "
       ]
      },
      {
       "output_type": "stream",
       "stream": "stdout",
       "text": [
        "> "
       ]
      },
      {
       "output_type": "stream",
       "stream": "stdout",
       "text": [
        "> "
       ]
      },
      {
       "output_type": "stream",
       "stream": "stdout",
       "text": [
        "> "
       ]
      },
      {
       "output_type": "stream",
       "stream": "stdout",
       "text": [
        "> "
       ]
      },
      {
       "output_type": "stream",
       "stream": "stdout",
       "text": [
        "> "
       ]
      },
      {
       "output_type": "stream",
       "stream": "stdout",
       "text": [
        "> "
       ]
      },
      {
       "output_type": "stream",
       "stream": "stdout",
       "text": [
        "> "
       ]
      },
      {
       "output_type": "stream",
       "stream": "stdout",
       "text": [
        "> "
       ]
      },
      {
       "output_type": "stream",
       "stream": "stdout",
       "text": [
        "> "
       ]
      },
      {
       "output_type": "stream",
       "stream": "stdout",
       "text": [
        "> "
       ]
      },
      {
       "output_type": "stream",
       "stream": "stdout",
       "text": [
        "> "
       ]
      },
      {
       "output_type": "stream",
       "stream": "stdout",
       "text": [
        "> "
       ]
      },
      {
       "output_type": "stream",
       "stream": "stdout",
       "text": [
        "> "
       ]
      },
      {
       "output_type": "stream",
       "stream": "stdout",
       "text": [
        "> "
       ]
      },
      {
       "output_type": "stream",
       "stream": "stdout",
       "text": [
        "> "
       ]
      },
      {
       "output_type": "stream",
       "stream": "stdout",
       "text": [
        "> "
       ]
      },
      {
       "output_type": "stream",
       "stream": "stdout",
       "text": [
        "> "
       ]
      },
      {
       "output_type": "stream",
       "stream": "stdout",
       "text": [
        "> "
       ]
      },
      {
       "output_type": "stream",
       "stream": "stdout",
       "text": [
        "> "
       ]
      },
      {
       "output_type": "stream",
       "stream": "stdout",
       "text": [
        "> "
       ]
      },
      {
       "output_type": "stream",
       "stream": "stdout",
       "text": [
        "> "
       ]
      },
      {
       "output_type": "stream",
       "stream": "stdout",
       "text": [
        "> "
       ]
      },
      {
       "output_type": "stream",
       "stream": "stdout",
       "text": [
        "> "
       ]
      },
      {
       "output_type": "stream",
       "stream": "stdout",
       "text": [
        "> "
       ]
      },
      {
       "output_type": "stream",
       "stream": "stdout",
       "text": [
        "> "
       ]
      },
      {
       "output_type": "stream",
       "stream": "stdout",
       "text": [
        "> "
       ]
      },
      {
       "output_type": "stream",
       "stream": "stdout",
       "text": [
        "> "
       ]
      },
      {
       "output_type": "stream",
       "stream": "stdout",
       "text": [
        "> "
       ]
      },
      {
       "output_type": "stream",
       "stream": "stdout",
       "text": [
        "> "
       ]
      },
      {
       "output_type": "stream",
       "stream": "stdout",
       "text": [
        "> "
       ]
      },
      {
       "output_type": "stream",
       "stream": "stdout",
       "text": [
        "> "
       ]
      },
      {
       "output_type": "stream",
       "stream": "stdout",
       "text": [
        "> "
       ]
      },
      {
       "output_type": "stream",
       "stream": "stdout",
       "text": [
        "> "
       ]
      },
      {
       "output_type": "stream",
       "stream": "stdout",
       "text": [
        "> "
       ]
      },
      {
       "output_type": "stream",
       "stream": "stdout",
       "text": [
        "> "
       ]
      },
      {
       "output_type": "stream",
       "stream": "stdout",
       "text": [
        "> "
       ]
      },
      {
       "output_type": "stream",
       "stream": "stdout",
       "text": [
        "> "
       ]
      },
      {
       "output_type": "stream",
       "stream": "stdout",
       "text": [
        "> "
       ]
      },
      {
       "output_type": "stream",
       "stream": "stdout",
       "text": [
        "> "
       ]
      },
      {
       "output_type": "stream",
       "stream": "stdout",
       "text": [
        "> "
       ]
      },
      {
       "output_type": "stream",
       "stream": "stdout",
       "text": [
        "> "
       ]
      },
      {
       "output_type": "stream",
       "stream": "stdout",
       "text": [
        "> "
       ]
      },
      {
       "output_type": "stream",
       "stream": "stdout",
       "text": [
        "> "
       ]
      },
      {
       "output_type": "stream",
       "stream": "stdout",
       "text": [
        "> "
       ]
      },
      {
       "output_type": "stream",
       "stream": "stdout",
       "text": [
        "> "
       ]
      },
      {
       "output_type": "stream",
       "stream": "stdout",
       "text": [
        "> "
       ]
      },
      {
       "output_type": "stream",
       "stream": "stdout",
       "text": [
        "> "
       ]
      },
      {
       "output_type": "stream",
       "stream": "stdout",
       "text": [
        "> "
       ]
      },
      {
       "output_type": "stream",
       "stream": "stdout",
       "text": [
        "> "
       ]
      },
      {
       "output_type": "stream",
       "stream": "stdout",
       "text": [
        "> "
       ]
      },
      {
       "output_type": "stream",
       "stream": "stdout",
       "text": [
        "> "
       ]
      },
      {
       "output_type": "stream",
       "stream": "stdout",
       "text": [
        "> "
       ]
      },
      {
       "output_type": "stream",
       "stream": "stdout",
       "text": [
        "> "
       ]
      },
      {
       "output_type": "stream",
       "stream": "stdout",
       "text": [
        "> "
       ]
      },
      {
       "output_type": "stream",
       "stream": "stdout",
       "text": [
        "> "
       ]
      },
      {
       "output_type": "stream",
       "stream": "stdout",
       "text": [
        "> "
       ]
      },
      {
       "output_type": "stream",
       "stream": "stdout",
       "text": [
        "> "
       ]
      },
      {
       "output_type": "stream",
       "stream": "stdout",
       "text": [
        "> "
       ]
      },
      {
       "output_type": "stream",
       "stream": "stdout",
       "text": [
        "> "
       ]
      },
      {
       "output_type": "stream",
       "stream": "stdout",
       "text": [
        "> "
       ]
      },
      {
       "output_type": "stream",
       "stream": "stdout",
       "text": [
        "> "
       ]
      },
      {
       "output_type": "stream",
       "stream": "stdout",
       "text": [
        "> "
       ]
      },
      {
       "output_type": "stream",
       "stream": "stdout",
       "text": [
        "> "
       ]
      },
      {
       "output_type": "stream",
       "stream": "stdout",
       "text": [
        "> "
       ]
      },
      {
       "output_type": "stream",
       "stream": "stdout",
       "text": [
        "> "
       ]
      },
      {
       "output_type": "stream",
       "stream": "stdout",
       "text": [
        "> "
       ]
      },
      {
       "output_type": "stream",
       "stream": "stdout",
       "text": [
        "> "
       ]
      },
      {
       "output_type": "stream",
       "stream": "stdout",
       "text": [
        "> "
       ]
      },
      {
       "output_type": "stream",
       "stream": "stdout",
       "text": [
        "> "
       ]
      },
      {
       "output_type": "stream",
       "stream": "stdout",
       "text": [
        "> "
       ]
      },
      {
       "output_type": "stream",
       "stream": "stdout",
       "text": [
        "> "
       ]
      },
      {
       "output_type": "stream",
       "stream": "stdout",
       "text": [
        "> "
       ]
      },
      {
       "output_type": "stream",
       "stream": "stdout",
       "text": [
        "> "
       ]
      },
      {
       "output_type": "stream",
       "stream": "stdout",
       "text": [
        "> "
       ]
      },
      {
       "output_type": "stream",
       "stream": "stdout",
       "text": [
        "> "
       ]
      },
      {
       "output_type": "stream",
       "stream": "stdout",
       "text": [
        "> "
       ]
      },
      {
       "output_type": "stream",
       "stream": "stdout",
       "text": [
        "> "
       ]
      },
      {
       "output_type": "stream",
       "stream": "stdout",
       "text": [
        "> "
       ]
      },
      {
       "output_type": "stream",
       "stream": "stdout",
       "text": [
        "> "
       ]
      },
      {
       "output_type": "stream",
       "stream": "stdout",
       "text": [
        "> "
       ]
      },
      {
       "output_type": "stream",
       "stream": "stdout",
       "text": [
        "> "
       ]
      },
      {
       "output_type": "stream",
       "stream": "stdout",
       "text": [
        "> "
       ]
      },
      {
       "output_type": "stream",
       "stream": "stdout",
       "text": [
        "> "
       ]
      },
      {
       "output_type": "stream",
       "stream": "stdout",
       "text": [
        "> "
       ]
      },
      {
       "output_type": "stream",
       "stream": "stdout",
       "text": [
        ">\n"
       ]
      },
      {
       "ename": "NameError",
       "evalue": "name 'subtest' is not defined",
       "output_type": "pyerr",
       "traceback": [
        "\u001b[1;31m---------------------------------------------------------------------------\u001b[0m\n\u001b[1;31mNameError\u001b[0m                                 Traceback (most recent call last)",
        "\u001b[1;32m<ipython-input-215-25dff787773e>\u001b[0m in \u001b[0;36m<module>\u001b[1;34m()\u001b[0m\n\u001b[0;32m     24\u001b[0m \u001b[0mlr\u001b[0m \u001b[1;33m=\u001b[0m \u001b[0mload_data\u001b[0m\u001b[1;33m(\u001b[0m\u001b[1;34m\"data/subtrain.csv\"\u001b[0m\u001b[1;33m,\u001b[0m \u001b[0mlr\u001b[0m\u001b[1;33m=\u001b[0m\u001b[0mLogisticRegression\u001b[0m\u001b[1;33m(\u001b[0m\u001b[0mpenalty\u001b[0m\u001b[1;33m=\u001b[0m\u001b[1;34m\"l1\"\u001b[0m\u001b[1;33m)\u001b[0m\u001b[1;33m)\u001b[0m\u001b[1;33m\u001b[0m\u001b[0m\n\u001b[0;32m     25\u001b[0m \u001b[1;32mprint\u001b[0m\u001b[1;33m\u001b[0m\u001b[0m\n\u001b[1;32m---> 26\u001b[1;33m \u001b[1;32mprint\u001b[0m \u001b[0msubtest\u001b[0m\u001b[1;33m(\u001b[0m\u001b[1;34m\"data/subtest.csv\"\u001b[0m\u001b[1;33m,\u001b[0m \u001b[0mlr\u001b[0m\u001b[1;33m)\u001b[0m\u001b[1;33m\u001b[0m\u001b[0m\n\u001b[0m",
        "\u001b[1;31mNameError\u001b[0m: name 'subtest' is not defined"
       ]
      }
     ],
     "prompt_number": 215
    },
    {
     "cell_type": "markdown",
     "metadata": {},
     "source": [
      "> New best: 0.2896"
     ]
    },
    {
     "cell_type": "code",
     "collapsed": false,
     "input": [
      "# Submit\n",
      "lr_submit = load_data(\"data/train.csv\", lr=LogisticRegression(penalty=\"l1\"))\n",
      "makesubmit(\"data/test.csv\", lr_submit, \"outputs/sk_logi_2.submit.csv\")\n",
      "Out.clear()\n",
      "gc.collect()"
     ],
     "language": "python",
     "metadata": {},
     "outputs": [
      {
       "output_type": "stream",
       "stream": "stdout",
       "text": [
        "> "
       ]
      },
      {
       "output_type": "stream",
       "stream": "stdout",
       "text": [
        "> "
       ]
      },
      {
       "output_type": "stream",
       "stream": "stdout",
       "text": [
        "> "
       ]
      },
      {
       "output_type": "stream",
       "stream": "stdout",
       "text": [
        "> "
       ]
      },
      {
       "output_type": "stream",
       "stream": "stdout",
       "text": [
        "> "
       ]
      },
      {
       "output_type": "stream",
       "stream": "stdout",
       "text": [
        "> "
       ]
      },
      {
       "output_type": "stream",
       "stream": "stdout",
       "text": [
        "> "
       ]
      },
      {
       "output_type": "stream",
       "stream": "stdout",
       "text": [
        "> "
       ]
      },
      {
       "output_type": "stream",
       "stream": "stdout",
       "text": [
        "> "
       ]
      },
      {
       "output_type": "stream",
       "stream": "stdout",
       "text": [
        "> "
       ]
      },
      {
       "output_type": "stream",
       "stream": "stdout",
       "text": [
        "> "
       ]
      },
      {
       "output_type": "stream",
       "stream": "stdout",
       "text": [
        "> "
       ]
      },
      {
       "output_type": "stream",
       "stream": "stdout",
       "text": [
        "> "
       ]
      },
      {
       "output_type": "stream",
       "stream": "stdout",
       "text": [
        "> "
       ]
      },
      {
       "output_type": "stream",
       "stream": "stdout",
       "text": [
        "> "
       ]
      },
      {
       "output_type": "stream",
       "stream": "stdout",
       "text": [
        "> "
       ]
      },
      {
       "output_type": "stream",
       "stream": "stdout",
       "text": [
        "> "
       ]
      },
      {
       "output_type": "stream",
       "stream": "stdout",
       "text": [
        "> "
       ]
      },
      {
       "output_type": "stream",
       "stream": "stdout",
       "text": [
        "> "
       ]
      },
      {
       "output_type": "stream",
       "stream": "stdout",
       "text": [
        "> "
       ]
      },
      {
       "output_type": "stream",
       "stream": "stdout",
       "text": [
        "> "
       ]
      },
      {
       "output_type": "stream",
       "stream": "stdout",
       "text": [
        "> "
       ]
      },
      {
       "output_type": "stream",
       "stream": "stdout",
       "text": [
        "> "
       ]
      },
      {
       "output_type": "stream",
       "stream": "stdout",
       "text": [
        "> "
       ]
      },
      {
       "output_type": "stream",
       "stream": "stdout",
       "text": [
        "> "
       ]
      },
      {
       "output_type": "stream",
       "stream": "stdout",
       "text": [
        "> "
       ]
      },
      {
       "output_type": "stream",
       "stream": "stdout",
       "text": [
        "> "
       ]
      },
      {
       "output_type": "stream",
       "stream": "stdout",
       "text": [
        "> "
       ]
      },
      {
       "output_type": "stream",
       "stream": "stdout",
       "text": [
        "> "
       ]
      },
      {
       "output_type": "stream",
       "stream": "stdout",
       "text": [
        "> "
       ]
      },
      {
       "output_type": "stream",
       "stream": "stdout",
       "text": [
        "> "
       ]
      },
      {
       "output_type": "stream",
       "stream": "stdout",
       "text": [
        "> "
       ]
      },
      {
       "output_type": "stream",
       "stream": "stdout",
       "text": [
        "> "
       ]
      },
      {
       "output_type": "stream",
       "stream": "stdout",
       "text": [
        "> "
       ]
      },
      {
       "output_type": "stream",
       "stream": "stdout",
       "text": [
        "> "
       ]
      },
      {
       "output_type": "stream",
       "stream": "stdout",
       "text": [
        "> "
       ]
      },
      {
       "output_type": "stream",
       "stream": "stdout",
       "text": [
        "> "
       ]
      },
      {
       "output_type": "stream",
       "stream": "stdout",
       "text": [
        "> "
       ]
      },
      {
       "output_type": "stream",
       "stream": "stdout",
       "text": [
        "> "
       ]
      },
      {
       "output_type": "stream",
       "stream": "stdout",
       "text": [
        "> "
       ]
      },
      {
       "output_type": "stream",
       "stream": "stdout",
       "text": [
        "> "
       ]
      },
      {
       "output_type": "stream",
       "stream": "stdout",
       "text": [
        "> "
       ]
      },
      {
       "output_type": "stream",
       "stream": "stdout",
       "text": [
        "> "
       ]
      },
      {
       "output_type": "stream",
       "stream": "stdout",
       "text": [
        "> "
       ]
      },
      {
       "output_type": "stream",
       "stream": "stdout",
       "text": [
        "> "
       ]
      },
      {
       "output_type": "stream",
       "stream": "stdout",
       "text": [
        "> "
       ]
      },
      {
       "output_type": "stream",
       "stream": "stdout",
       "text": [
        "> "
       ]
      },
      {
       "output_type": "stream",
       "stream": "stdout",
       "text": [
        "> "
       ]
      },
      {
       "output_type": "stream",
       "stream": "stdout",
       "text": [
        "> "
       ]
      },
      {
       "output_type": "stream",
       "stream": "stdout",
       "text": [
        "> "
       ]
      },
      {
       "output_type": "stream",
       "stream": "stdout",
       "text": [
        "> "
       ]
      },
      {
       "output_type": "stream",
       "stream": "stdout",
       "text": [
        "> "
       ]
      },
      {
       "output_type": "stream",
       "stream": "stdout",
       "text": [
        "> "
       ]
      },
      {
       "output_type": "stream",
       "stream": "stdout",
       "text": [
        "> "
       ]
      },
      {
       "output_type": "stream",
       "stream": "stdout",
       "text": [
        "> "
       ]
      },
      {
       "output_type": "stream",
       "stream": "stdout",
       "text": [
        "> "
       ]
      },
      {
       "output_type": "stream",
       "stream": "stdout",
       "text": [
        "> "
       ]
      },
      {
       "output_type": "stream",
       "stream": "stdout",
       "text": [
        "> "
       ]
      },
      {
       "output_type": "stream",
       "stream": "stdout",
       "text": [
        "> "
       ]
      },
      {
       "output_type": "stream",
       "stream": "stdout",
       "text": [
        "> "
       ]
      },
      {
       "output_type": "stream",
       "stream": "stdout",
       "text": [
        "> "
       ]
      },
      {
       "output_type": "stream",
       "stream": "stdout",
       "text": [
        "> "
       ]
      },
      {
       "output_type": "stream",
       "stream": "stdout",
       "text": [
        "> "
       ]
      },
      {
       "output_type": "stream",
       "stream": "stdout",
       "text": [
        "> "
       ]
      },
      {
       "output_type": "stream",
       "stream": "stdout",
       "text": [
        "> "
       ]
      },
      {
       "output_type": "stream",
       "stream": "stdout",
       "text": [
        "> "
       ]
      },
      {
       "output_type": "stream",
       "stream": "stdout",
       "text": [
        "> "
       ]
      },
      {
       "output_type": "stream",
       "stream": "stdout",
       "text": [
        "> "
       ]
      },
      {
       "output_type": "stream",
       "stream": "stdout",
       "text": [
        "> "
       ]
      },
      {
       "output_type": "stream",
       "stream": "stdout",
       "text": [
        "> "
       ]
      },
      {
       "output_type": "stream",
       "stream": "stdout",
       "text": [
        "> "
       ]
      },
      {
       "output_type": "stream",
       "stream": "stdout",
       "text": [
        "> "
       ]
      },
      {
       "output_type": "stream",
       "stream": "stdout",
       "text": [
        "> "
       ]
      },
      {
       "output_type": "stream",
       "stream": "stdout",
       "text": [
        "> "
       ]
      },
      {
       "output_type": "stream",
       "stream": "stdout",
       "text": [
        "> "
       ]
      },
      {
       "output_type": "stream",
       "stream": "stdout",
       "text": [
        "> "
       ]
      },
      {
       "output_type": "stream",
       "stream": "stdout",
       "text": [
        "> "
       ]
      },
      {
       "output_type": "stream",
       "stream": "stdout",
       "text": [
        "> "
       ]
      },
      {
       "output_type": "stream",
       "stream": "stdout",
       "text": [
        "> "
       ]
      },
      {
       "output_type": "stream",
       "stream": "stdout",
       "text": [
        "> "
       ]
      },
      {
       "output_type": "stream",
       "stream": "stdout",
       "text": [
        "> "
       ]
      },
      {
       "output_type": "stream",
       "stream": "stdout",
       "text": [
        "> "
       ]
      },
      {
       "output_type": "stream",
       "stream": "stdout",
       "text": [
        "> "
       ]
      },
      {
       "output_type": "stream",
       "stream": "stdout",
       "text": [
        "> "
       ]
      },
      {
       "output_type": "stream",
       "stream": "stdout",
       "text": [
        "> "
       ]
      },
      {
       "output_type": "stream",
       "stream": "stdout",
       "text": [
        "> "
       ]
      },
      {
       "output_type": "stream",
       "stream": "stdout",
       "text": [
        "> "
       ]
      },
      {
       "output_type": "stream",
       "stream": "stdout",
       "text": [
        "> "
       ]
      },
      {
       "output_type": "stream",
       "stream": "stdout",
       "text": [
        "> "
       ]
      },
      {
       "output_type": "stream",
       "stream": "stdout",
       "text": [
        "> "
       ]
      },
      {
       "output_type": "stream",
       "stream": "stdout",
       "text": [
        "> "
       ]
      },
      {
       "output_type": "stream",
       "stream": "stdout",
       "text": [
        "> "
       ]
      },
      {
       "output_type": "stream",
       "stream": "stdout",
       "text": [
        "> "
       ]
      },
      {
       "output_type": "stream",
       "stream": "stdout",
       "text": [
        "> "
       ]
      },
      {
       "output_type": "stream",
       "stream": "stdout",
       "text": [
        "> "
       ]
      },
      {
       "output_type": "stream",
       "stream": "stdout",
       "text": [
        "> "
       ]
      },
      {
       "output_type": "stream",
       "stream": "stdout",
       "text": [
        "> "
       ]
      },
      {
       "output_type": "stream",
       "stream": "stdout",
       "text": [
        "> "
       ]
      },
      {
       "output_type": "stream",
       "stream": "stdout",
       "text": [
        "> "
       ]
      },
      {
       "output_type": "stream",
       "stream": "stdout",
       "text": [
        "> "
       ]
      },
      {
       "output_type": "stream",
       "stream": "stdout",
       "text": [
        "> "
       ]
      },
      {
       "output_type": "stream",
       "stream": "stdout",
       "text": [
        "> "
       ]
      },
      {
       "output_type": "stream",
       "stream": "stdout",
       "text": [
        "> "
       ]
      },
      {
       "output_type": "stream",
       "stream": "stdout",
       "text": [
        "> "
       ]
      },
      {
       "output_type": "stream",
       "stream": "stdout",
       "text": [
        "> "
       ]
      },
      {
       "output_type": "stream",
       "stream": "stdout",
       "text": [
        "> "
       ]
      },
      {
       "output_type": "stream",
       "stream": "stdout",
       "text": [
        "> "
       ]
      },
      {
       "output_type": "stream",
       "stream": "stdout",
       "text": [
        "> "
       ]
      },
      {
       "output_type": "stream",
       "stream": "stdout",
       "text": [
        "> "
       ]
      },
      {
       "output_type": "stream",
       "stream": "stdout",
       "text": [
        "> "
       ]
      },
      {
       "output_type": "stream",
       "stream": "stdout",
       "text": [
        "> "
       ]
      },
      {
       "output_type": "stream",
       "stream": "stdout",
       "text": [
        "> "
       ]
      },
      {
       "output_type": "stream",
       "stream": "stdout",
       "text": [
        "> "
       ]
      },
      {
       "output_type": "stream",
       "stream": "stdout",
       "text": [
        "> "
       ]
      },
      {
       "output_type": "stream",
       "stream": "stdout",
       "text": [
        "> "
       ]
      },
      {
       "output_type": "stream",
       "stream": "stdout",
       "text": [
        "> "
       ]
      },
      {
       "output_type": "stream",
       "stream": "stdout",
       "text": [
        "> "
       ]
      },
      {
       "output_type": "stream",
       "stream": "stdout",
       "text": [
        "> "
       ]
      },
      {
       "output_type": "stream",
       "stream": "stdout",
       "text": [
        "> "
       ]
      },
      {
       "output_type": "stream",
       "stream": "stdout",
       "text": [
        "> "
       ]
      },
      {
       "output_type": "stream",
       "stream": "stdout",
       "text": [
        "> "
       ]
      },
      {
       "output_type": "stream",
       "stream": "stdout",
       "text": [
        "> "
       ]
      },
      {
       "output_type": "stream",
       "stream": "stdout",
       "text": [
        "> "
       ]
      },
      {
       "output_type": "stream",
       "stream": "stdout",
       "text": [
        "> "
       ]
      },
      {
       "output_type": "stream",
       "stream": "stdout",
       "text": [
        "> "
       ]
      },
      {
       "output_type": "stream",
       "stream": "stdout",
       "text": [
        "> "
       ]
      },
      {
       "output_type": "stream",
       "stream": "stdout",
       "text": [
        "> "
       ]
      },
      {
       "output_type": "stream",
       "stream": "stdout",
       "text": [
        "> "
       ]
      },
      {
       "output_type": "stream",
       "stream": "stdout",
       "text": [
        "> "
       ]
      },
      {
       "output_type": "stream",
       "stream": "stdout",
       "text": [
        "> "
       ]
      },
      {
       "output_type": "stream",
       "stream": "stdout",
       "text": [
        "> "
       ]
      },
      {
       "output_type": "stream",
       "stream": "stdout",
       "text": [
        "> "
       ]
      },
      {
       "output_type": "stream",
       "stream": "stdout",
       "text": [
        "> "
       ]
      },
      {
       "output_type": "stream",
       "stream": "stdout",
       "text": [
        "> "
       ]
      },
      {
       "output_type": "stream",
       "stream": "stdout",
       "text": [
        "> "
       ]
      },
      {
       "output_type": "stream",
       "stream": "stdout",
       "text": [
        "> "
       ]
      },
      {
       "output_type": "stream",
       "stream": "stdout",
       "text": [
        "> "
       ]
      },
      {
       "output_type": "stream",
       "stream": "stdout",
       "text": [
        "> "
       ]
      },
      {
       "output_type": "stream",
       "stream": "stdout",
       "text": [
        "> "
       ]
      },
      {
       "output_type": "stream",
       "stream": "stdout",
       "text": [
        "> "
       ]
      },
      {
       "output_type": "stream",
       "stream": "stdout",
       "text": [
        "> "
       ]
      },
      {
       "output_type": "stream",
       "stream": "stdout",
       "text": [
        "> "
       ]
      },
      {
       "output_type": "stream",
       "stream": "stdout",
       "text": [
        "> "
       ]
      },
      {
       "output_type": "stream",
       "stream": "stdout",
       "text": [
        "> "
       ]
      },
      {
       "output_type": "stream",
       "stream": "stdout",
       "text": [
        "> "
       ]
      },
      {
       "output_type": "stream",
       "stream": "stdout",
       "text": [
        "> "
       ]
      },
      {
       "output_type": "stream",
       "stream": "stdout",
       "text": [
        "> "
       ]
      },
      {
       "output_type": "stream",
       "stream": "stdout",
       "text": [
        "> "
       ]
      },
      {
       "output_type": "stream",
       "stream": "stdout",
       "text": [
        "> "
       ]
      },
      {
       "output_type": "stream",
       "stream": "stdout",
       "text": [
        "> "
       ]
      },
      {
       "output_type": "stream",
       "stream": "stdout",
       "text": [
        "> "
       ]
      },
      {
       "output_type": "stream",
       "stream": "stdout",
       "text": [
        "> "
       ]
      },
      {
       "output_type": "stream",
       "stream": "stdout",
       "text": [
        "> "
       ]
      },
      {
       "output_type": "stream",
       "stream": "stdout",
       "text": [
        "> "
       ]
      },
      {
       "output_type": "stream",
       "stream": "stdout",
       "text": [
        "> "
       ]
      },
      {
       "output_type": "stream",
       "stream": "stdout",
       "text": [
        "> "
       ]
      },
      {
       "output_type": "stream",
       "stream": "stdout",
       "text": [
        "> "
       ]
      },
      {
       "output_type": "stream",
       "stream": "stdout",
       "text": [
        "> "
       ]
      },
      {
       "output_type": "stream",
       "stream": "stdout",
       "text": [
        "> "
       ]
      },
      {
       "output_type": "stream",
       "stream": "stdout",
       "text": [
        "> "
       ]
      },
      {
       "output_type": "stream",
       "stream": "stdout",
       "text": [
        "> "
       ]
      },
      {
       "output_type": "stream",
       "stream": "stdout",
       "text": [
        "> "
       ]
      },
      {
       "output_type": "stream",
       "stream": "stdout",
       "text": [
        "> "
       ]
      },
      {
       "output_type": "stream",
       "stream": "stdout",
       "text": [
        "> "
       ]
      },
      {
       "output_type": "stream",
       "stream": "stdout",
       "text": [
        "> "
       ]
      },
      {
       "output_type": "stream",
       "stream": "stdout",
       "text": [
        "> "
       ]
      },
      {
       "output_type": "stream",
       "stream": "stdout",
       "text": [
        "> "
       ]
      },
      {
       "output_type": "stream",
       "stream": "stdout",
       "text": [
        "> "
       ]
      },
      {
       "output_type": "stream",
       "stream": "stdout",
       "text": [
        "> "
       ]
      },
      {
       "output_type": "stream",
       "stream": "stdout",
       "text": [
        "> "
       ]
      },
      {
       "output_type": "stream",
       "stream": "stdout",
       "text": [
        "> "
       ]
      },
      {
       "output_type": "stream",
       "stream": "stdout",
       "text": [
        "> "
       ]
      },
      {
       "output_type": "stream",
       "stream": "stdout",
       "text": [
        "> "
       ]
      },
      {
       "output_type": "stream",
       "stream": "stdout",
       "text": [
        "> "
       ]
      },
      {
       "output_type": "stream",
       "stream": "stdout",
       "text": [
        "> "
       ]
      },
      {
       "output_type": "stream",
       "stream": "stdout",
       "text": [
        "> "
       ]
      },
      {
       "output_type": "stream",
       "stream": "stdout",
       "text": [
        "> "
       ]
      },
      {
       "output_type": "stream",
       "stream": "stdout",
       "text": [
        "> "
       ]
      },
      {
       "output_type": "stream",
       "stream": "stdout",
       "text": [
        "> "
       ]
      },
      {
       "output_type": "stream",
       "stream": "stdout",
       "text": [
        "> "
       ]
      },
      {
       "output_type": "stream",
       "stream": "stdout",
       "text": [
        "> "
       ]
      },
      {
       "output_type": "stream",
       "stream": "stdout",
       "text": [
        "> "
       ]
      },
      {
       "output_type": "stream",
       "stream": "stdout",
       "text": [
        "> "
       ]
      },
      {
       "output_type": "stream",
       "stream": "stdout",
       "text": [
        "> "
       ]
      },
      {
       "output_type": "stream",
       "stream": "stdout",
       "text": [
        "> "
       ]
      },
      {
       "output_type": "stream",
       "stream": "stdout",
       "text": [
        "> "
       ]
      },
      {
       "output_type": "stream",
       "stream": "stdout",
       "text": [
        "> "
       ]
      },
      {
       "output_type": "stream",
       "stream": "stdout",
       "text": [
        "> "
       ]
      },
      {
       "output_type": "stream",
       "stream": "stdout",
       "text": [
        "> "
       ]
      },
      {
       "output_type": "stream",
       "stream": "stdout",
       "text": [
        "> "
       ]
      },
      {
       "output_type": "stream",
       "stream": "stdout",
       "text": [
        "> "
       ]
      },
      {
       "output_type": "stream",
       "stream": "stdout",
       "text": [
        "> "
       ]
      },
      {
       "output_type": "stream",
       "stream": "stdout",
       "text": [
        "> "
       ]
      },
      {
       "output_type": "stream",
       "stream": "stdout",
       "text": [
        "> "
       ]
      },
      {
       "output_type": "stream",
       "stream": "stdout",
       "text": [
        "> "
       ]
      },
      {
       "output_type": "stream",
       "stream": "stdout",
       "text": [
        "> "
       ]
      },
      {
       "output_type": "stream",
       "stream": "stdout",
       "text": [
        "> "
       ]
      },
      {
       "output_type": "stream",
       "stream": "stdout",
       "text": [
        "> "
       ]
      },
      {
       "output_type": "stream",
       "stream": "stdout",
       "text": [
        "> "
       ]
      },
      {
       "output_type": "stream",
       "stream": "stdout",
       "text": [
        "> "
       ]
      },
      {
       "output_type": "stream",
       "stream": "stdout",
       "text": [
        "> "
       ]
      },
      {
       "output_type": "stream",
       "stream": "stdout",
       "text": [
        "> "
       ]
      },
      {
       "output_type": "stream",
       "stream": "stdout",
       "text": [
        "> "
       ]
      },
      {
       "output_type": "stream",
       "stream": "stdout",
       "text": [
        "> "
       ]
      },
      {
       "output_type": "stream",
       "stream": "stdout",
       "text": [
        "> "
       ]
      },
      {
       "output_type": "stream",
       "stream": "stdout",
       "text": [
        "> "
       ]
      },
      {
       "output_type": "stream",
       "stream": "stdout",
       "text": [
        "> "
       ]
      },
      {
       "output_type": "stream",
       "stream": "stdout",
       "text": [
        "> "
       ]
      },
      {
       "output_type": "stream",
       "stream": "stdout",
       "text": [
        "> "
       ]
      },
      {
       "output_type": "stream",
       "stream": "stdout",
       "text": [
        "> "
       ]
      },
      {
       "output_type": "stream",
       "stream": "stdout",
       "text": [
        "> "
       ]
      },
      {
       "output_type": "stream",
       "stream": "stdout",
       "text": [
        "> "
       ]
      },
      {
       "output_type": "stream",
       "stream": "stdout",
       "text": [
        "> "
       ]
      },
      {
       "output_type": "stream",
       "stream": "stdout",
       "text": [
        "> "
       ]
      },
      {
       "output_type": "stream",
       "stream": "stdout",
       "text": [
        "> "
       ]
      },
      {
       "output_type": "stream",
       "stream": "stdout",
       "text": [
        "> "
       ]
      },
      {
       "output_type": "stream",
       "stream": "stdout",
       "text": [
        "> "
       ]
      },
      {
       "output_type": "stream",
       "stream": "stdout",
       "text": [
        "> "
       ]
      },
      {
       "output_type": "stream",
       "stream": "stdout",
       "text": [
        "> "
       ]
      },
      {
       "output_type": "stream",
       "stream": "stdout",
       "text": [
        "> "
       ]
      },
      {
       "output_type": "stream",
       "stream": "stdout",
       "text": [
        "> "
       ]
      },
      {
       "output_type": "stream",
       "stream": "stdout",
       "text": [
        "> "
       ]
      },
      {
       "output_type": "stream",
       "stream": "stdout",
       "text": [
        "> "
       ]
      },
      {
       "output_type": "stream",
       "stream": "stdout",
       "text": [
        "> "
       ]
      },
      {
       "output_type": "stream",
       "stream": "stdout",
       "text": [
        "> "
       ]
      },
      {
       "output_type": "stream",
       "stream": "stdout",
       "text": [
        "> "
       ]
      },
      {
       "output_type": "stream",
       "stream": "stdout",
       "text": [
        "> "
       ]
      },
      {
       "output_type": "stream",
       "stream": "stdout",
       "text": [
        "> "
       ]
      },
      {
       "output_type": "stream",
       "stream": "stdout",
       "text": [
        "> "
       ]
      },
      {
       "output_type": "stream",
       "stream": "stdout",
       "text": [
        "> "
       ]
      },
      {
       "output_type": "stream",
       "stream": "stdout",
       "text": [
        "> "
       ]
      },
      {
       "output_type": "stream",
       "stream": "stdout",
       "text": [
        "> "
       ]
      },
      {
       "output_type": "stream",
       "stream": "stdout",
       "text": [
        "> "
       ]
      },
      {
       "output_type": "stream",
       "stream": "stdout",
       "text": [
        "> "
       ]
      },
      {
       "output_type": "stream",
       "stream": "stdout",
       "text": [
        "> "
       ]
      },
      {
       "output_type": "stream",
       "stream": "stdout",
       "text": [
        "> "
       ]
      },
      {
       "output_type": "stream",
       "stream": "stdout",
       "text": [
        "> "
       ]
      },
      {
       "output_type": "stream",
       "stream": "stdout",
       "text": [
        "> "
       ]
      },
      {
       "output_type": "stream",
       "stream": "stdout",
       "text": [
        "> "
       ]
      },
      {
       "output_type": "stream",
       "stream": "stdout",
       "text": [
        "> "
       ]
      },
      {
       "output_type": "stream",
       "stream": "stdout",
       "text": [
        "> "
       ]
      },
      {
       "output_type": "stream",
       "stream": "stdout",
       "text": [
        "> "
       ]
      },
      {
       "output_type": "stream",
       "stream": "stdout",
       "text": [
        "> "
       ]
      },
      {
       "output_type": "stream",
       "stream": "stdout",
       "text": [
        "> "
       ]
      },
      {
       "output_type": "stream",
       "stream": "stdout",
       "text": [
        "> "
       ]
      },
      {
       "output_type": "stream",
       "stream": "stdout",
       "text": [
        "> "
       ]
      },
      {
       "output_type": "stream",
       "stream": "stdout",
       "text": [
        "> "
       ]
      },
      {
       "output_type": "stream",
       "stream": "stdout",
       "text": [
        "> "
       ]
      },
      {
       "output_type": "stream",
       "stream": "stdout",
       "text": [
        "> "
       ]
      },
      {
       "output_type": "stream",
       "stream": "stdout",
       "text": [
        "> "
       ]
      },
      {
       "output_type": "stream",
       "stream": "stdout",
       "text": [
        "> "
       ]
      },
      {
       "output_type": "stream",
       "stream": "stdout",
       "text": [
        "> "
       ]
      },
      {
       "output_type": "stream",
       "stream": "stdout",
       "text": [
        "> "
       ]
      },
      {
       "output_type": "stream",
       "stream": "stdout",
       "text": [
        "> "
       ]
      },
      {
       "output_type": "stream",
       "stream": "stdout",
       "text": [
        "> "
       ]
      },
      {
       "output_type": "stream",
       "stream": "stdout",
       "text": [
        "> "
       ]
      },
      {
       "output_type": "stream",
       "stream": "stdout",
       "text": [
        "> "
       ]
      },
      {
       "output_type": "stream",
       "stream": "stdout",
       "text": [
        "> "
       ]
      },
      {
       "output_type": "stream",
       "stream": "stdout",
       "text": [
        "> "
       ]
      },
      {
       "output_type": "stream",
       "stream": "stdout",
       "text": [
        "> "
       ]
      },
      {
       "output_type": "stream",
       "stream": "stdout",
       "text": [
        "> "
       ]
      },
      {
       "output_type": "stream",
       "stream": "stdout",
       "text": [
        "> "
       ]
      },
      {
       "output_type": "stream",
       "stream": "stdout",
       "text": [
        "> "
       ]
      },
      {
       "output_type": "stream",
       "stream": "stdout",
       "text": [
        "> "
       ]
      },
      {
       "output_type": "stream",
       "stream": "stdout",
       "text": [
        "> "
       ]
      },
      {
       "output_type": "stream",
       "stream": "stdout",
       "text": [
        "> "
       ]
      },
      {
       "output_type": "stream",
       "stream": "stdout",
       "text": [
        "> "
       ]
      },
      {
       "output_type": "stream",
       "stream": "stdout",
       "text": [
        "> "
       ]
      },
      {
       "output_type": "stream",
       "stream": "stdout",
       "text": [
        "> "
       ]
      },
      {
       "output_type": "stream",
       "stream": "stdout",
       "text": [
        "> "
       ]
      },
      {
       "output_type": "stream",
       "stream": "stdout",
       "text": [
        "> "
       ]
      },
      {
       "output_type": "stream",
       "stream": "stdout",
       "text": [
        "> "
       ]
      },
      {
       "output_type": "stream",
       "stream": "stdout",
       "text": [
        "> "
       ]
      },
      {
       "output_type": "stream",
       "stream": "stdout",
       "text": [
        "> "
       ]
      },
      {
       "output_type": "stream",
       "stream": "stdout",
       "text": [
        "> "
       ]
      },
      {
       "output_type": "stream",
       "stream": "stdout",
       "text": [
        "> "
       ]
      },
      {
       "output_type": "stream",
       "stream": "stdout",
       "text": [
        "> "
       ]
      },
      {
       "output_type": "stream",
       "stream": "stdout",
       "text": [
        "> "
       ]
      },
      {
       "output_type": "stream",
       "stream": "stdout",
       "text": [
        "> "
       ]
      },
      {
       "output_type": "stream",
       "stream": "stdout",
       "text": [
        "> "
       ]
      },
      {
       "output_type": "stream",
       "stream": "stdout",
       "text": [
        "> "
       ]
      },
      {
       "output_type": "stream",
       "stream": "stdout",
       "text": [
        "> "
       ]
      },
      {
       "output_type": "stream",
       "stream": "stdout",
       "text": [
        "> "
       ]
      },
      {
       "output_type": "stream",
       "stream": "stdout",
       "text": [
        "> "
       ]
      },
      {
       "output_type": "stream",
       "stream": "stdout",
       "text": [
        "> "
       ]
      },
      {
       "output_type": "stream",
       "stream": "stdout",
       "text": [
        "> "
       ]
      },
      {
       "output_type": "stream",
       "stream": "stdout",
       "text": [
        "> "
       ]
      },
      {
       "output_type": "stream",
       "stream": "stdout",
       "text": [
        "> "
       ]
      },
      {
       "output_type": "stream",
       "stream": "stdout",
       "text": [
        "> "
       ]
      },
      {
       "output_type": "stream",
       "stream": "stdout",
       "text": [
        "> "
       ]
      },
      {
       "output_type": "stream",
       "stream": "stdout",
       "text": [
        "> "
       ]
      },
      {
       "output_type": "stream",
       "stream": "stdout",
       "text": [
        "> "
       ]
      },
      {
       "output_type": "stream",
       "stream": "stdout",
       "text": [
        "> "
       ]
      },
      {
       "output_type": "stream",
       "stream": "stdout",
       "text": [
        "> "
       ]
      },
      {
       "output_type": "stream",
       "stream": "stdout",
       "text": [
        "> "
       ]
      },
      {
       "output_type": "stream",
       "stream": "stdout",
       "text": [
        "> "
       ]
      },
      {
       "output_type": "stream",
       "stream": "stdout",
       "text": [
        "> "
       ]
      },
      {
       "output_type": "stream",
       "stream": "stdout",
       "text": [
        "> "
       ]
      },
      {
       "output_type": "stream",
       "stream": "stdout",
       "text": [
        "> "
       ]
      },
      {
       "output_type": "stream",
       "stream": "stdout",
       "text": [
        "> "
       ]
      },
      {
       "output_type": "stream",
       "stream": "stdout",
       "text": [
        "> "
       ]
      },
      {
       "output_type": "stream",
       "stream": "stdout",
       "text": [
        "> "
       ]
      },
      {
       "output_type": "stream",
       "stream": "stdout",
       "text": [
        "> "
       ]
      },
      {
       "output_type": "stream",
       "stream": "stdout",
       "text": [
        "> "
       ]
      },
      {
       "output_type": "stream",
       "stream": "stdout",
       "text": [
        "> "
       ]
      },
      {
       "output_type": "stream",
       "stream": "stdout",
       "text": [
        "> "
       ]
      },
      {
       "output_type": "stream",
       "stream": "stdout",
       "text": [
        "> "
       ]
      },
      {
       "output_type": "stream",
       "stream": "stdout",
       "text": [
        "> "
       ]
      },
      {
       "output_type": "stream",
       "stream": "stdout",
       "text": [
        "> "
       ]
      },
      {
       "output_type": "stream",
       "stream": "stdout",
       "text": [
        "> "
       ]
      },
      {
       "output_type": "stream",
       "stream": "stdout",
       "text": [
        "> "
       ]
      },
      {
       "output_type": "stream",
       "stream": "stdout",
       "text": [
        "> "
       ]
      },
      {
       "output_type": "stream",
       "stream": "stdout",
       "text": [
        "> "
       ]
      },
      {
       "output_type": "stream",
       "stream": "stdout",
       "text": [
        "> "
       ]
      },
      {
       "output_type": "stream",
       "stream": "stdout",
       "text": [
        "> "
       ]
      },
      {
       "output_type": "stream",
       "stream": "stdout",
       "text": [
        "> "
       ]
      },
      {
       "output_type": "stream",
       "stream": "stdout",
       "text": [
        "> "
       ]
      },
      {
       "output_type": "stream",
       "stream": "stdout",
       "text": [
        "> "
       ]
      },
      {
       "output_type": "stream",
       "stream": "stdout",
       "text": [
        "> "
       ]
      },
      {
       "output_type": "stream",
       "stream": "stdout",
       "text": [
        "> "
       ]
      },
      {
       "output_type": "stream",
       "stream": "stdout",
       "text": [
        "> "
       ]
      },
      {
       "output_type": "stream",
       "stream": "stdout",
       "text": [
        "> "
       ]
      },
      {
       "output_type": "stream",
       "stream": "stdout",
       "text": [
        "> "
       ]
      },
      {
       "output_type": "stream",
       "stream": "stdout",
       "text": [
        "> "
       ]
      },
      {
       "output_type": "stream",
       "stream": "stdout",
       "text": [
        "> "
       ]
      },
      {
       "output_type": "stream",
       "stream": "stdout",
       "text": [
        "> "
       ]
      },
      {
       "output_type": "stream",
       "stream": "stdout",
       "text": [
        "> "
       ]
      },
      {
       "output_type": "stream",
       "stream": "stdout",
       "text": [
        "> "
       ]
      },
      {
       "output_type": "stream",
       "stream": "stdout",
       "text": [
        "> "
       ]
      },
      {
       "output_type": "stream",
       "stream": "stdout",
       "text": [
        "> "
       ]
      },
      {
       "output_type": "stream",
       "stream": "stdout",
       "text": [
        "> "
       ]
      },
      {
       "output_type": "stream",
       "stream": "stdout",
       "text": [
        "> "
       ]
      },
      {
       "output_type": "stream",
       "stream": "stdout",
       "text": [
        "> "
       ]
      },
      {
       "output_type": "stream",
       "stream": "stdout",
       "text": [
        "> "
       ]
      },
      {
       "output_type": "stream",
       "stream": "stdout",
       "text": [
        "> "
       ]
      },
      {
       "output_type": "stream",
       "stream": "stdout",
       "text": [
        "> "
       ]
      },
      {
       "output_type": "stream",
       "stream": "stdout",
       "text": [
        "> "
       ]
      },
      {
       "output_type": "stream",
       "stream": "stdout",
       "text": [
        "> "
       ]
      },
      {
       "output_type": "stream",
       "stream": "stdout",
       "text": [
        "> "
       ]
      },
      {
       "output_type": "stream",
       "stream": "stdout",
       "text": [
        "> "
       ]
      },
      {
       "output_type": "stream",
       "stream": "stdout",
       "text": [
        "> "
       ]
      },
      {
       "output_type": "stream",
       "stream": "stdout",
       "text": [
        "> "
       ]
      },
      {
       "output_type": "stream",
       "stream": "stdout",
       "text": [
        "> "
       ]
      },
      {
       "output_type": "stream",
       "stream": "stdout",
       "text": [
        "> "
       ]
      },
      {
       "output_type": "stream",
       "stream": "stdout",
       "text": [
        "> "
       ]
      },
      {
       "output_type": "stream",
       "stream": "stdout",
       "text": [
        "> "
       ]
      },
      {
       "output_type": "stream",
       "stream": "stdout",
       "text": [
        "> "
       ]
      },
      {
       "output_type": "stream",
       "stream": "stdout",
       "text": [
        "> "
       ]
      },
      {
       "output_type": "stream",
       "stream": "stdout",
       "text": [
        "> "
       ]
      },
      {
       "output_type": "stream",
       "stream": "stdout",
       "text": [
        "> "
       ]
      },
      {
       "output_type": "stream",
       "stream": "stdout",
       "text": [
        "> "
       ]
      },
      {
       "output_type": "stream",
       "stream": "stdout",
       "text": [
        "> "
       ]
      },
      {
       "output_type": "stream",
       "stream": "stdout",
       "text": [
        "> "
       ]
      },
      {
       "output_type": "stream",
       "stream": "stdout",
       "text": [
        "> "
       ]
      },
      {
       "output_type": "stream",
       "stream": "stdout",
       "text": [
        "> "
       ]
      },
      {
       "output_type": "stream",
       "stream": "stdout",
       "text": [
        "> "
       ]
      },
      {
       "output_type": "stream",
       "stream": "stdout",
       "text": [
        "> "
       ]
      },
      {
       "output_type": "stream",
       "stream": "stdout",
       "text": [
        "> "
       ]
      },
      {
       "output_type": "stream",
       "stream": "stdout",
       "text": [
        "> "
       ]
      },
      {
       "output_type": "stream",
       "stream": "stdout",
       "text": [
        "> "
       ]
      },
      {
       "output_type": "stream",
       "stream": "stdout",
       "text": [
        "> "
       ]
      },
      {
       "output_type": "stream",
       "stream": "stdout",
       "text": [
        "> "
       ]
      },
      {
       "output_type": "stream",
       "stream": "stdout",
       "text": [
        "> "
       ]
      },
      {
       "output_type": "stream",
       "stream": "stdout",
       "text": [
        "> "
       ]
      },
      {
       "output_type": "stream",
       "stream": "stdout",
       "text": [
        "> "
       ]
      },
      {
       "output_type": "stream",
       "stream": "stdout",
       "text": [
        "> "
       ]
      },
      {
       "output_type": "stream",
       "stream": "stdout",
       "text": [
        "> "
       ]
      },
      {
       "output_type": "stream",
       "stream": "stdout",
       "text": [
        "> "
       ]
      },
      {
       "output_type": "stream",
       "stream": "stdout",
       "text": [
        "> "
       ]
      },
      {
       "output_type": "stream",
       "stream": "stdout",
       "text": [
        "> "
       ]
      },
      {
       "output_type": "stream",
       "stream": "stdout",
       "text": [
        "> "
       ]
      },
      {
       "output_type": "stream",
       "stream": "stdout",
       "text": [
        "> "
       ]
      },
      {
       "output_type": "stream",
       "stream": "stdout",
       "text": [
        "> "
       ]
      },
      {
       "output_type": "stream",
       "stream": "stdout",
       "text": [
        "> "
       ]
      },
      {
       "output_type": "stream",
       "stream": "stdout",
       "text": [
        "> "
       ]
      },
      {
       "output_type": "stream",
       "stream": "stdout",
       "text": [
        "> "
       ]
      },
      {
       "output_type": "stream",
       "stream": "stdout",
       "text": [
        "> "
       ]
      },
      {
       "output_type": "stream",
       "stream": "stdout",
       "text": [
        "> "
       ]
      },
      {
       "output_type": "stream",
       "stream": "stdout",
       "text": [
        "> "
       ]
      },
      {
       "output_type": "stream",
       "stream": "stdout",
       "text": [
        "> "
       ]
      },
      {
       "output_type": "stream",
       "stream": "stdout",
       "text": [
        "> "
       ]
      },
      {
       "output_type": "stream",
       "stream": "stdout",
       "text": [
        "> "
       ]
      },
      {
       "output_type": "stream",
       "stream": "stdout",
       "text": [
        "> "
       ]
      },
      {
       "output_type": "stream",
       "stream": "stdout",
       "text": [
        "> "
       ]
      },
      {
       "output_type": "stream",
       "stream": "stdout",
       "text": [
        "> "
       ]
      },
      {
       "output_type": "stream",
       "stream": "stdout",
       "text": [
        "> "
       ]
      },
      {
       "output_type": "stream",
       "stream": "stdout",
       "text": [
        "> "
       ]
      },
      {
       "output_type": "stream",
       "stream": "stdout",
       "text": [
        "> "
       ]
      },
      {
       "output_type": "stream",
       "stream": "stdout",
       "text": [
        "> "
       ]
      },
      {
       "output_type": "stream",
       "stream": "stdout",
       "text": [
        "> "
       ]
      },
      {
       "output_type": "stream",
       "stream": "stdout",
       "text": [
        "> "
       ]
      },
      {
       "output_type": "stream",
       "stream": "stdout",
       "text": [
        "> "
       ]
      },
      {
       "output_type": "stream",
       "stream": "stdout",
       "text": [
        "> "
       ]
      },
      {
       "output_type": "stream",
       "stream": "stdout",
       "text": [
        "> "
       ]
      },
      {
       "output_type": "stream",
       "stream": "stdout",
       "text": [
        "> "
       ]
      },
      {
       "output_type": "stream",
       "stream": "stdout",
       "text": [
        "> "
       ]
      },
      {
       "output_type": "stream",
       "stream": "stdout",
       "text": [
        "> "
       ]
      },
      {
       "output_type": "stream",
       "stream": "stdout",
       "text": [
        "> "
       ]
      },
      {
       "output_type": "stream",
       "stream": "stdout",
       "text": [
        "> "
       ]
      },
      {
       "output_type": "stream",
       "stream": "stdout",
       "text": [
        "> "
       ]
      },
      {
       "output_type": "stream",
       "stream": "stdout",
       "text": [
        "> "
       ]
      },
      {
       "output_type": "stream",
       "stream": "stdout",
       "text": [
        "> "
       ]
      },
      {
       "output_type": "stream",
       "stream": "stdout",
       "text": [
        "> "
       ]
      },
      {
       "output_type": "stream",
       "stream": "stdout",
       "text": [
        "> "
       ]
      },
      {
       "output_type": "stream",
       "stream": "stdout",
       "text": [
        "> "
       ]
      },
      {
       "output_type": "stream",
       "stream": "stdout",
       "text": [
        "> "
       ]
      },
      {
       "output_type": "stream",
       "stream": "stdout",
       "text": [
        "> "
       ]
      },
      {
       "output_type": "stream",
       "stream": "stdout",
       "text": [
        "> "
       ]
      },
      {
       "output_type": "stream",
       "stream": "stdout",
       "text": [
        "> "
       ]
      },
      {
       "output_type": "stream",
       "stream": "stdout",
       "text": [
        "> "
       ]
      },
      {
       "output_type": "stream",
       "stream": "stdout",
       "text": [
        "> "
       ]
      },
      {
       "output_type": "stream",
       "stream": "stdout",
       "text": [
        "> "
       ]
      },
      {
       "output_type": "stream",
       "stream": "stdout",
       "text": [
        "> "
       ]
      },
      {
       "output_type": "stream",
       "stream": "stdout",
       "text": [
        "> "
       ]
      },
      {
       "output_type": "stream",
       "stream": "stdout",
       "text": [
        "> "
       ]
      },
      {
       "output_type": "stream",
       "stream": "stdout",
       "text": [
        "> "
       ]
      },
      {
       "output_type": "stream",
       "stream": "stdout",
       "text": [
        "> "
       ]
      },
      {
       "output_type": "stream",
       "stream": "stdout",
       "text": [
        "> "
       ]
      },
      {
       "output_type": "stream",
       "stream": "stdout",
       "text": [
        "> "
       ]
      },
      {
       "output_type": "stream",
       "stream": "stdout",
       "text": [
        "> "
       ]
      },
      {
       "output_type": "stream",
       "stream": "stdout",
       "text": [
        "> "
       ]
      },
      {
       "output_type": "stream",
       "stream": "stdout",
       "text": [
        "> "
       ]
      },
      {
       "output_type": "stream",
       "stream": "stdout",
       "text": [
        "> "
       ]
      },
      {
       "output_type": "stream",
       "stream": "stdout",
       "text": [
        "> "
       ]
      },
      {
       "output_type": "stream",
       "stream": "stdout",
       "text": [
        "> "
       ]
      },
      {
       "output_type": "stream",
       "stream": "stdout",
       "text": [
        "> "
       ]
      },
      {
       "output_type": "stream",
       "stream": "stdout",
       "text": [
        "> "
       ]
      },
      {
       "output_type": "stream",
       "stream": "stdout",
       "text": [
        "> "
       ]
      },
      {
       "output_type": "stream",
       "stream": "stdout",
       "text": [
        "> "
       ]
      },
      {
       "output_type": "stream",
       "stream": "stdout",
       "text": [
        "> "
       ]
      },
      {
       "output_type": "stream",
       "stream": "stdout",
       "text": [
        "> "
       ]
      },
      {
       "output_type": "stream",
       "stream": "stdout",
       "text": [
        "> "
       ]
      },
      {
       "output_type": "stream",
       "stream": "stdout",
       "text": [
        "> "
       ]
      },
      {
       "output_type": "stream",
       "stream": "stdout",
       "text": [
        "> "
       ]
      },
      {
       "output_type": "stream",
       "stream": "stdout",
       "text": [
        "> "
       ]
      },
      {
       "output_type": "stream",
       "stream": "stdout",
       "text": [
        "> "
       ]
      },
      {
       "output_type": "stream",
       "stream": "stdout",
       "text": [
        "> "
       ]
      },
      {
       "output_type": "stream",
       "stream": "stdout",
       "text": [
        "> "
       ]
      },
      {
       "output_type": "stream",
       "stream": "stdout",
       "text": [
        "> "
       ]
      },
      {
       "output_type": "stream",
       "stream": "stdout",
       "text": [
        "> "
       ]
      },
      {
       "output_type": "stream",
       "stream": "stdout",
       "text": [
        "> "
       ]
      },
      {
       "output_type": "stream",
       "stream": "stdout",
       "text": [
        "> "
       ]
      },
      {
       "output_type": "stream",
       "stream": "stdout",
       "text": [
        "> "
       ]
      },
      {
       "output_type": "stream",
       "stream": "stdout",
       "text": [
        "> "
       ]
      },
      {
       "output_type": "stream",
       "stream": "stdout",
       "text": [
        "> "
       ]
      },
      {
       "output_type": "stream",
       "stream": "stdout",
       "text": [
        "> "
       ]
      },
      {
       "output_type": "stream",
       "stream": "stdout",
       "text": [
        "> "
       ]
      },
      {
       "output_type": "stream",
       "stream": "stdout",
       "text": [
        ">"
       ]
      },
      {
       "metadata": {},
       "output_type": "pyout",
       "prompt_number": 208,
       "text": [
        "10"
       ]
      },
      {
       "output_type": "stream",
       "stream": "stdout",
       "text": [
        "\n"
       ]
      }
     ],
     "prompt_number": 208
    },
    {
     "cell_type": "heading",
     "level": 4,
     "metadata": {},
     "source": [
      "SGDClassifier(loss=\"log\", penalty=\"elasticnet\")"
     ]
    },
    {
     "cell_type": "code",
     "collapsed": false,
     "input": [
      "from sklearn.linear_model import SGDClassifier\n",
      "\n",
      "def convert_feature(l, is_train=False):\n",
      "    global SCALES\n",
      "    l = l.strip().replace(\"NA\", \"0\")\n",
      "    fs = l.split(\",\")\n",
      "    if is_train:\n",
      "        target = int(fs[1])\n",
      "        number = int(fs[0])\n",
      "        f1 = fs[2:4]\n",
      "        c1 = fs[4:10]\n",
      "        f2 = fs[10:]\n",
      "    else:\n",
      "        number = int(fs[0])\n",
      "        target = 0\n",
      "        f1 = fs[1:3]\n",
      "        c1 = fs[3:9]\n",
      "        f2 = fs[9:]\n",
      "    cate_data = make_category_data(c1)\n",
      "    d = map(float, f1 + f2)\n",
      "    # d = [(d[i] - SCALES[i][0]) / SCALES[i][1] for i in range(len(d))]\n",
      "    d = array(d)\n",
      "    d = np.concatenate((d, cate_data[0]))\n",
      "    return number, d, target\n",
      "\n",
      "subtrain_data, subtrain_targets = load_data(\"data/subtrain.csv\", getdata=True)\n",
      "subtest_data, subtest_targets = subtest(\"data/subtest.csv\", getdata=True)"
     ],
     "language": "python",
     "metadata": {},
     "outputs": [
      {
       "output_type": "stream",
       "stream": "stdout",
       "text": [
        "> "
       ]
      },
      {
       "output_type": "stream",
       "stream": "stdout",
       "text": [
        "> "
       ]
      },
      {
       "output_type": "stream",
       "stream": "stdout",
       "text": [
        "> "
       ]
      },
      {
       "output_type": "stream",
       "stream": "stdout",
       "text": [
        "> "
       ]
      },
      {
       "output_type": "stream",
       "stream": "stdout",
       "text": [
        "> "
       ]
      },
      {
       "output_type": "stream",
       "stream": "stdout",
       "text": [
        "> "
       ]
      },
      {
       "output_type": "stream",
       "stream": "stdout",
       "text": [
        "> "
       ]
      },
      {
       "output_type": "stream",
       "stream": "stdout",
       "text": [
        "> "
       ]
      },
      {
       "output_type": "stream",
       "stream": "stdout",
       "text": [
        "> "
       ]
      },
      {
       "output_type": "stream",
       "stream": "stdout",
       "text": [
        "> "
       ]
      },
      {
       "output_type": "stream",
       "stream": "stdout",
       "text": [
        "> "
       ]
      },
      {
       "output_type": "stream",
       "stream": "stdout",
       "text": [
        "> "
       ]
      },
      {
       "output_type": "stream",
       "stream": "stdout",
       "text": [
        "> "
       ]
      },
      {
       "output_type": "stream",
       "stream": "stdout",
       "text": [
        "> "
       ]
      },
      {
       "output_type": "stream",
       "stream": "stdout",
       "text": [
        "> "
       ]
      },
      {
       "output_type": "stream",
       "stream": "stdout",
       "text": [
        "> "
       ]
      },
      {
       "output_type": "stream",
       "stream": "stdout",
       "text": [
        "> "
       ]
      },
      {
       "output_type": "stream",
       "stream": "stdout",
       "text": [
        "> "
       ]
      },
      {
       "output_type": "stream",
       "stream": "stdout",
       "text": [
        "> "
       ]
      },
      {
       "output_type": "stream",
       "stream": "stdout",
       "text": [
        "> "
       ]
      },
      {
       "output_type": "stream",
       "stream": "stdout",
       "text": [
        "> "
       ]
      },
      {
       "output_type": "stream",
       "stream": "stdout",
       "text": [
        "> "
       ]
      },
      {
       "output_type": "stream",
       "stream": "stdout",
       "text": [
        "> "
       ]
      },
      {
       "output_type": "stream",
       "stream": "stdout",
       "text": [
        "> "
       ]
      },
      {
       "output_type": "stream",
       "stream": "stdout",
       "text": [
        "> "
       ]
      },
      {
       "output_type": "stream",
       "stream": "stdout",
       "text": [
        "> "
       ]
      },
      {
       "output_type": "stream",
       "stream": "stdout",
       "text": [
        "> "
       ]
      },
      {
       "output_type": "stream",
       "stream": "stdout",
       "text": [
        "> "
       ]
      },
      {
       "output_type": "stream",
       "stream": "stdout",
       "text": [
        "> "
       ]
      },
      {
       "output_type": "stream",
       "stream": "stdout",
       "text": [
        "> "
       ]
      },
      {
       "output_type": "stream",
       "stream": "stdout",
       "text": [
        "> "
       ]
      },
      {
       "output_type": "stream",
       "stream": "stdout",
       "text": [
        "> "
       ]
      },
      {
       "output_type": "stream",
       "stream": "stdout",
       "text": [
        "> "
       ]
      },
      {
       "output_type": "stream",
       "stream": "stdout",
       "text": [
        "> "
       ]
      },
      {
       "output_type": "stream",
       "stream": "stdout",
       "text": [
        "> "
       ]
      },
      {
       "output_type": "stream",
       "stream": "stdout",
       "text": [
        "> "
       ]
      },
      {
       "output_type": "stream",
       "stream": "stdout",
       "text": [
        "> "
       ]
      },
      {
       "output_type": "stream",
       "stream": "stdout",
       "text": [
        "> "
       ]
      },
      {
       "output_type": "stream",
       "stream": "stdout",
       "text": [
        "> "
       ]
      },
      {
       "output_type": "stream",
       "stream": "stdout",
       "text": [
        "> "
       ]
      },
      {
       "output_type": "stream",
       "stream": "stdout",
       "text": [
        "> "
       ]
      },
      {
       "output_type": "stream",
       "stream": "stdout",
       "text": [
        "> "
       ]
      },
      {
       "output_type": "stream",
       "stream": "stdout",
       "text": [
        "> "
       ]
      },
      {
       "output_type": "stream",
       "stream": "stdout",
       "text": [
        "> "
       ]
      },
      {
       "output_type": "stream",
       "stream": "stdout",
       "text": [
        "> "
       ]
      },
      {
       "output_type": "stream",
       "stream": "stdout",
       "text": [
        "> "
       ]
      },
      {
       "output_type": "stream",
       "stream": "stdout",
       "text": [
        "> "
       ]
      },
      {
       "output_type": "stream",
       "stream": "stdout",
       "text": [
        "> "
       ]
      },
      {
       "output_type": "stream",
       "stream": "stdout",
       "text": [
        "> "
       ]
      },
      {
       "output_type": "stream",
       "stream": "stdout",
       "text": [
        "> "
       ]
      },
      {
       "output_type": "stream",
       "stream": "stdout",
       "text": [
        "> "
       ]
      },
      {
       "output_type": "stream",
       "stream": "stdout",
       "text": [
        "> "
       ]
      },
      {
       "output_type": "stream",
       "stream": "stdout",
       "text": [
        "> "
       ]
      },
      {
       "output_type": "stream",
       "stream": "stdout",
       "text": [
        "> "
       ]
      },
      {
       "output_type": "stream",
       "stream": "stdout",
       "text": [
        "> "
       ]
      },
      {
       "output_type": "stream",
       "stream": "stdout",
       "text": [
        "> "
       ]
      },
      {
       "output_type": "stream",
       "stream": "stdout",
       "text": [
        "> "
       ]
      },
      {
       "output_type": "stream",
       "stream": "stdout",
       "text": [
        "> "
       ]
      },
      {
       "output_type": "stream",
       "stream": "stdout",
       "text": [
        "> "
       ]
      },
      {
       "output_type": "stream",
       "stream": "stdout",
       "text": [
        "> "
       ]
      },
      {
       "output_type": "stream",
       "stream": "stdout",
       "text": [
        "> "
       ]
      },
      {
       "output_type": "stream",
       "stream": "stdout",
       "text": [
        "> "
       ]
      },
      {
       "output_type": "stream",
       "stream": "stdout",
       "text": [
        "> "
       ]
      },
      {
       "output_type": "stream",
       "stream": "stdout",
       "text": [
        "> "
       ]
      },
      {
       "output_type": "stream",
       "stream": "stdout",
       "text": [
        "> "
       ]
      },
      {
       "output_type": "stream",
       "stream": "stdout",
       "text": [
        "> "
       ]
      },
      {
       "output_type": "stream",
       "stream": "stdout",
       "text": [
        "> "
       ]
      },
      {
       "output_type": "stream",
       "stream": "stdout",
       "text": [
        "> "
       ]
      },
      {
       "output_type": "stream",
       "stream": "stdout",
       "text": [
        "> "
       ]
      },
      {
       "output_type": "stream",
       "stream": "stdout",
       "text": [
        "> "
       ]
      },
      {
       "output_type": "stream",
       "stream": "stdout",
       "text": [
        "> "
       ]
      },
      {
       "output_type": "stream",
       "stream": "stdout",
       "text": [
        "> "
       ]
      },
      {
       "output_type": "stream",
       "stream": "stdout",
       "text": [
        "> "
       ]
      },
      {
       "output_type": "stream",
       "stream": "stdout",
       "text": [
        "> "
       ]
      },
      {
       "output_type": "stream",
       "stream": "stdout",
       "text": [
        "> "
       ]
      },
      {
       "output_type": "stream",
       "stream": "stdout",
       "text": [
        "> "
       ]
      },
      {
       "output_type": "stream",
       "stream": "stdout",
       "text": [
        "> "
       ]
      },
      {
       "output_type": "stream",
       "stream": "stdout",
       "text": [
        "> "
       ]
      },
      {
       "output_type": "stream",
       "stream": "stdout",
       "text": [
        "> "
       ]
      },
      {
       "output_type": "stream",
       "stream": "stdout",
       "text": [
        "> "
       ]
      },
      {
       "output_type": "stream",
       "stream": "stdout",
       "text": [
        "> "
       ]
      },
      {
       "output_type": "stream",
       "stream": "stdout",
       "text": [
        "> "
       ]
      },
      {
       "output_type": "stream",
       "stream": "stdout",
       "text": [
        "> "
       ]
      },
      {
       "output_type": "stream",
       "stream": "stdout",
       "text": [
        "> "
       ]
      },
      {
       "output_type": "stream",
       "stream": "stdout",
       "text": [
        "> "
       ]
      },
      {
       "output_type": "stream",
       "stream": "stdout",
       "text": [
        "> "
       ]
      },
      {
       "output_type": "stream",
       "stream": "stdout",
       "text": [
        "> "
       ]
      },
      {
       "output_type": "stream",
       "stream": "stdout",
       "text": [
        "> "
       ]
      },
      {
       "output_type": "stream",
       "stream": "stdout",
       "text": [
        "> "
       ]
      },
      {
       "output_type": "stream",
       "stream": "stdout",
       "text": [
        "> "
       ]
      },
      {
       "output_type": "stream",
       "stream": "stdout",
       "text": [
        "> "
       ]
      },
      {
       "output_type": "stream",
       "stream": "stdout",
       "text": [
        "> "
       ]
      },
      {
       "output_type": "stream",
       "stream": "stdout",
       "text": [
        "> "
       ]
      },
      {
       "output_type": "stream",
       "stream": "stdout",
       "text": [
        "> "
       ]
      },
      {
       "output_type": "stream",
       "stream": "stdout",
       "text": [
        "> "
       ]
      },
      {
       "output_type": "stream",
       "stream": "stdout",
       "text": [
        "> "
       ]
      },
      {
       "output_type": "stream",
       "stream": "stdout",
       "text": [
        "> "
       ]
      },
      {
       "output_type": "stream",
       "stream": "stdout",
       "text": [
        "> "
       ]
      },
      {
       "output_type": "stream",
       "stream": "stdout",
       "text": [
        "> "
       ]
      },
      {
       "output_type": "stream",
       "stream": "stdout",
       "text": [
        "> "
       ]
      },
      {
       "output_type": "stream",
       "stream": "stdout",
       "text": [
        "> "
       ]
      },
      {
       "output_type": "stream",
       "stream": "stdout",
       "text": [
        "> "
       ]
      },
      {
       "output_type": "stream",
       "stream": "stdout",
       "text": [
        "> "
       ]
      },
      {
       "output_type": "stream",
       "stream": "stdout",
       "text": [
        "> "
       ]
      },
      {
       "output_type": "stream",
       "stream": "stdout",
       "text": [
        "> "
       ]
      },
      {
       "output_type": "stream",
       "stream": "stdout",
       "text": [
        "> "
       ]
      },
      {
       "output_type": "stream",
       "stream": "stdout",
       "text": [
        "> "
       ]
      },
      {
       "output_type": "stream",
       "stream": "stdout",
       "text": [
        "> "
       ]
      },
      {
       "output_type": "stream",
       "stream": "stdout",
       "text": [
        "> "
       ]
      },
      {
       "output_type": "stream",
       "stream": "stdout",
       "text": [
        "> "
       ]
      },
      {
       "output_type": "stream",
       "stream": "stdout",
       "text": [
        "> "
       ]
      },
      {
       "output_type": "stream",
       "stream": "stdout",
       "text": [
        "> "
       ]
      },
      {
       "output_type": "stream",
       "stream": "stdout",
       "text": [
        "> "
       ]
      },
      {
       "output_type": "stream",
       "stream": "stdout",
       "text": [
        "> "
       ]
      },
      {
       "output_type": "stream",
       "stream": "stdout",
       "text": [
        "> "
       ]
      },
      {
       "output_type": "stream",
       "stream": "stdout",
       "text": [
        "> "
       ]
      },
      {
       "output_type": "stream",
       "stream": "stdout",
       "text": [
        "> "
       ]
      },
      {
       "output_type": "stream",
       "stream": "stdout",
       "text": [
        "> "
       ]
      },
      {
       "output_type": "stream",
       "stream": "stdout",
       "text": [
        "> "
       ]
      },
      {
       "output_type": "stream",
       "stream": "stdout",
       "text": [
        "> "
       ]
      },
      {
       "output_type": "stream",
       "stream": "stdout",
       "text": [
        "> "
       ]
      },
      {
       "output_type": "stream",
       "stream": "stdout",
       "text": [
        "> "
       ]
      },
      {
       "output_type": "stream",
       "stream": "stdout",
       "text": [
        "> "
       ]
      },
      {
       "output_type": "stream",
       "stream": "stdout",
       "text": [
        "> "
       ]
      },
      {
       "output_type": "stream",
       "stream": "stdout",
       "text": [
        "> "
       ]
      },
      {
       "output_type": "stream",
       "stream": "stdout",
       "text": [
        "> "
       ]
      },
      {
       "output_type": "stream",
       "stream": "stdout",
       "text": [
        "> "
       ]
      },
      {
       "output_type": "stream",
       "stream": "stdout",
       "text": [
        "> "
       ]
      },
      {
       "output_type": "stream",
       "stream": "stdout",
       "text": [
        "> "
       ]
      },
      {
       "output_type": "stream",
       "stream": "stdout",
       "text": [
        "> "
       ]
      },
      {
       "output_type": "stream",
       "stream": "stdout",
       "text": [
        "> "
       ]
      },
      {
       "output_type": "stream",
       "stream": "stdout",
       "text": [
        "> "
       ]
      },
      {
       "output_type": "stream",
       "stream": "stdout",
       "text": [
        "> "
       ]
      },
      {
       "output_type": "stream",
       "stream": "stdout",
       "text": [
        "> "
       ]
      },
      {
       "output_type": "stream",
       "stream": "stdout",
       "text": [
        "> "
       ]
      },
      {
       "output_type": "stream",
       "stream": "stdout",
       "text": [
        "> "
       ]
      },
      {
       "output_type": "stream",
       "stream": "stdout",
       "text": [
        "> "
       ]
      },
      {
       "output_type": "stream",
       "stream": "stdout",
       "text": [
        "> "
       ]
      },
      {
       "output_type": "stream",
       "stream": "stdout",
       "text": [
        "> "
       ]
      },
      {
       "output_type": "stream",
       "stream": "stdout",
       "text": [
        "> "
       ]
      },
      {
       "output_type": "stream",
       "stream": "stdout",
       "text": [
        "> "
       ]
      },
      {
       "output_type": "stream",
       "stream": "stdout",
       "text": [
        "> "
       ]
      },
      {
       "output_type": "stream",
       "stream": "stdout",
       "text": [
        "> "
       ]
      },
      {
       "output_type": "stream",
       "stream": "stdout",
       "text": [
        "> "
       ]
      },
      {
       "output_type": "stream",
       "stream": "stdout",
       "text": [
        "> "
       ]
      },
      {
       "output_type": "stream",
       "stream": "stdout",
       "text": [
        "> "
       ]
      },
      {
       "output_type": "stream",
       "stream": "stdout",
       "text": [
        "> "
       ]
      },
      {
       "output_type": "stream",
       "stream": "stdout",
       "text": [
        "> "
       ]
      },
      {
       "output_type": "stream",
       "stream": "stdout",
       "text": [
        "> "
       ]
      },
      {
       "output_type": "stream",
       "stream": "stdout",
       "text": [
        "> "
       ]
      },
      {
       "output_type": "stream",
       "stream": "stdout",
       "text": [
        "> "
       ]
      },
      {
       "output_type": "stream",
       "stream": "stdout",
       "text": [
        "> "
       ]
      },
      {
       "output_type": "stream",
       "stream": "stdout",
       "text": [
        "> "
       ]
      },
      {
       "output_type": "stream",
       "stream": "stdout",
       "text": [
        "> "
       ]
      },
      {
       "output_type": "stream",
       "stream": "stdout",
       "text": [
        "> "
       ]
      },
      {
       "output_type": "stream",
       "stream": "stdout",
       "text": [
        "> "
       ]
      },
      {
       "output_type": "stream",
       "stream": "stdout",
       "text": [
        "> "
       ]
      },
      {
       "output_type": "stream",
       "stream": "stdout",
       "text": [
        "> "
       ]
      },
      {
       "output_type": "stream",
       "stream": "stdout",
       "text": [
        "> "
       ]
      },
      {
       "output_type": "stream",
       "stream": "stdout",
       "text": [
        "> "
       ]
      },
      {
       "output_type": "stream",
       "stream": "stdout",
       "text": [
        "> "
       ]
      },
      {
       "output_type": "stream",
       "stream": "stdout",
       "text": [
        "> "
       ]
      },
      {
       "output_type": "stream",
       "stream": "stdout",
       "text": [
        "> "
       ]
      },
      {
       "output_type": "stream",
       "stream": "stdout",
       "text": [
        "> "
       ]
      },
      {
       "output_type": "stream",
       "stream": "stdout",
       "text": [
        "> "
       ]
      },
      {
       "output_type": "stream",
       "stream": "stdout",
       "text": [
        "> "
       ]
      },
      {
       "output_type": "stream",
       "stream": "stdout",
       "text": [
        "> "
       ]
      },
      {
       "output_type": "stream",
       "stream": "stdout",
       "text": [
        "> "
       ]
      },
      {
       "output_type": "stream",
       "stream": "stdout",
       "text": [
        "> "
       ]
      },
      {
       "output_type": "stream",
       "stream": "stdout",
       "text": [
        "> "
       ]
      },
      {
       "output_type": "stream",
       "stream": "stdout",
       "text": [
        "> "
       ]
      },
      {
       "output_type": "stream",
       "stream": "stdout",
       "text": [
        "> "
       ]
      },
      {
       "output_type": "stream",
       "stream": "stdout",
       "text": [
        "> "
       ]
      },
      {
       "output_type": "stream",
       "stream": "stdout",
       "text": [
        "> "
       ]
      },
      {
       "output_type": "stream",
       "stream": "stdout",
       "text": [
        "> "
       ]
      },
      {
       "output_type": "stream",
       "stream": "stdout",
       "text": [
        "> "
       ]
      },
      {
       "output_type": "stream",
       "stream": "stdout",
       "text": [
        "> "
       ]
      },
      {
       "output_type": "stream",
       "stream": "stdout",
       "text": [
        "> "
       ]
      },
      {
       "output_type": "stream",
       "stream": "stdout",
       "text": [
        "> "
       ]
      },
      {
       "output_type": "stream",
       "stream": "stdout",
       "text": [
        "> "
       ]
      },
      {
       "output_type": "stream",
       "stream": "stdout",
       "text": [
        "> "
       ]
      },
      {
       "output_type": "stream",
       "stream": "stdout",
       "text": [
        "> "
       ]
      },
      {
       "output_type": "stream",
       "stream": "stdout",
       "text": [
        "> "
       ]
      },
      {
       "output_type": "stream",
       "stream": "stdout",
       "text": [
        "> "
       ]
      },
      {
       "output_type": "stream",
       "stream": "stdout",
       "text": [
        "> "
       ]
      },
      {
       "output_type": "stream",
       "stream": "stdout",
       "text": [
        "> "
       ]
      },
      {
       "output_type": "stream",
       "stream": "stdout",
       "text": [
        "> "
       ]
      },
      {
       "output_type": "stream",
       "stream": "stdout",
       "text": [
        "> "
       ]
      },
      {
       "output_type": "stream",
       "stream": "stdout",
       "text": [
        "> "
       ]
      },
      {
       "output_type": "stream",
       "stream": "stdout",
       "text": [
        "> "
       ]
      },
      {
       "output_type": "stream",
       "stream": "stdout",
       "text": [
        "> "
       ]
      },
      {
       "output_type": "stream",
       "stream": "stdout",
       "text": [
        "> "
       ]
      },
      {
       "output_type": "stream",
       "stream": "stdout",
       "text": [
        "> "
       ]
      },
      {
       "output_type": "stream",
       "stream": "stdout",
       "text": [
        "> "
       ]
      },
      {
       "output_type": "stream",
       "stream": "stdout",
       "text": [
        "> "
       ]
      },
      {
       "output_type": "stream",
       "stream": "stdout",
       "text": [
        "> "
       ]
      },
      {
       "output_type": "stream",
       "stream": "stdout",
       "text": [
        "> "
       ]
      },
      {
       "output_type": "stream",
       "stream": "stdout",
       "text": [
        "> "
       ]
      },
      {
       "output_type": "stream",
       "stream": "stdout",
       "text": [
        "> "
       ]
      },
      {
       "output_type": "stream",
       "stream": "stdout",
       "text": [
        ">\n"
       ]
      }
     ],
     "prompt_number": 5
    },
    {
     "cell_type": "heading",
     "level": 4,
     "metadata": {},
     "source": [
      "Scale using minmax"
     ]
    },
    {
     "cell_type": "code",
     "collapsed": false,
     "input": [
      "from sklearn.preprocessing import MinMaxScaler\n",
      "scaler = MinMaxScaler(copy=False)\n",
      "scaler.fit(subtrain_data)\n",
      "scaler.transform(subtrain_data)\n",
      "scaler.transform(subtest_data)\n"
     ],
     "language": "python",
     "metadata": {},
     "outputs": [
      {
       "metadata": {},
       "output_type": "pyout",
       "prompt_number": 6,
       "text": [
        "array([[ 0.16666667,  0.47826087,  1.        , ...,  0.        ,\n",
        "         0.        ,  0.        ],\n",
        "       [ 0.16666667,  0.47826087,  0.        , ...,  0.        ,\n",
        "         0.        ,  0.        ],\n",
        "       [ 0.16666667,  0.47826087,  1.        , ...,  0.        ,\n",
        "         0.        ,  0.        ],\n",
        "       ..., \n",
        "       [ 0.66666667,  0.82608696,  0.5       , ...,  0.        ,\n",
        "         0.        ,  0.        ],\n",
        "       [ 0.66666667,  0.82608696,  1.        , ...,  0.        ,\n",
        "         0.        ,  0.        ],\n",
        "       [ 0.66666667,  0.82608696,  0.        , ...,  0.        ,\n",
        "         0.        ,  0.        ]])"
       ]
      }
     ],
     "prompt_number": 6
    },
    {
     "cell_type": "heading",
     "level": 4,
     "metadata": {},
     "source": [
      "Sample weights?"
     ]
    },
    {
     "cell_type": "code",
     "collapsed": false,
     "input": [
      "sample_weights = np.linspace(0.5, 1, num=len(subtrain_data))"
     ],
     "language": "python",
     "metadata": {},
     "outputs": [],
     "prompt_number": 38
    },
    {
     "cell_type": "code",
     "collapsed": false,
     "input": [
      "#sc = SGDClassifier(loss=\"log\", penalty=\"elasticnet\")\n",
      "from sklearn.linear_model import SGDClassifier\n",
      "sc = SGDClassifier(loss=\"log\", penalty=\"elasticnet\", shuffle=True, random_state=3)\n",
      "sc.fit(subtrain_data, subtrain_targets)\n",
      "probs_sc = sc.predict_proba(subtest_data)\n",
      "print llfun(subtest_targets, probs_sc[:, 1])\n"
     ],
     "language": "python",
     "metadata": {},
     "outputs": [
      {
       "output_type": "stream",
       "stream": "stdout",
       "text": [
        "0.292438126688\n"
       ]
      }
     ],
     "prompt_number": 11
    },
    {
     "cell_type": "markdown",
     "metadata": {},
     "source": [
      "> SGDClassifier(loss=\"log\", penalty=\"elasticnet): 0.2924"
     ]
    },
    {
     "cell_type": "code",
     "collapsed": false,
     "input": [
      "# sigmoid\n",
      "def sigmoid(x):\n",
      "    x = x - 0.6\n",
      "    return 1/ (1 + exp(-x))\n",
      "\n",
      "print llfun(subtest_targets, map(sigmoid, probs_sc[:, 1]))"
     ],
     "language": "python",
     "metadata": {},
     "outputs": [
      {
       "output_type": "stream",
       "stream": "stdout",
       "text": [
        "0.525137611789\n"
       ]
      }
     ],
     "prompt_number": 52
    },
    {
     "cell_type": "heading",
     "level": 4,
     "metadata": {},
     "source": [
      "Random Forest"
     ]
    },
    {
     "cell_type": "code",
     "collapsed": false,
     "input": [
      "from sklearn.ensemble import RandomForestClassifier \n",
      "rfc = RandomForestClassifier(random_state=3, n_estimators=1000, n_jobs=-1)\n",
      "rfc.fit(subtrain_data, subtrain_targets)\n",
      "probs_rfc = rfc.predict_proba(subtest_data)\n",
      "print llfun(subtest_targets, probs_rfc[:, 1])"
     ],
     "language": "python",
     "metadata": {},
     "outputs": [
      {
       "output_type": "stream",
       "stream": "stdout",
       "text": [
        "0.44392849308\n"
       ]
      }
     ],
     "prompt_number": 41
    },
    {
     "cell_type": "code",
     "collapsed": false,
     "input": [
      "probs_comb = probs[:, 1] * 0.3 + probs_sc[:, 1] * 0.7\n",
      "print llfun(subtest_targets, probs_comb)"
     ],
     "language": "python",
     "metadata": {},
     "outputs": [
      {
       "output_type": "stream",
       "stream": "stdout",
       "text": [
        "0.287326554367\n"
       ]
      }
     ],
     "prompt_number": 42
    },
    {
     "cell_type": "code",
     "collapsed": false,
     "input": [
      "def comb(lam):\n",
      "    probs_comb = probs[:, 1] * lam + probs_sc[:, 1] * (1-lam)\n",
      "    return llfun(subtest_targets, probs_comb)\n",
      "\n",
      "xs = np.linspace(0.1, 0.9, 100)\n",
      "ys = map(comb, xs)\n",
      "\n",
      "from matplotlib import *\n",
      "plot(xs, ys)"
     ],
     "language": "python",
     "metadata": {},
     "outputs": [
      {
       "metadata": {},
       "output_type": "pyout",
       "prompt_number": 43,
       "text": [
        "[<matplotlib.lines.Line2D at 0x7f73d645ffd0>]"
       ]
      },
      {
       "metadata": {},
       "output_type": "display_data",
       "png": "[encoded data removed]",
       "text": [
        "<matplotlib.figure.Figure at 0x63c7e10>"
       ]
      }
     ],
     "prompt_number": 43
    },
    {
     "cell_type": "markdown",
     "metadata": {},
     "source": [
      "---\n",
      "Log-loss optimization\n",
      "---"
     ]
    },
    {
     "cell_type": "code",
     "collapsed": false,
     "input": [
      "import theano\n",
      "import theano.tensor as T\n",
      "x = T.dvector(\"y\")\n",
      "W = T.matrix(\"W\")\n",
      "k = T.ivector(\"k\")"
     ],
     "language": "python",
     "metadata": {},
     "outputs": [],
     "prompt_number": 137
    },
    {
     "cell_type": "code",
     "collapsed": false,
     "input": [
      "def logloss(y, k):\n",
      "    epsilon = 1e-15\n",
      "    inverse_epsilon = (1. - 1e-6)\n",
      "    #y =  y * (y >= epsilon) + (y < epsilon) * epsilon\n",
      "    #y =  y * (y <= inverse_epsilon) + (y > inverse_epsilon) * inverse_epsilon\n",
      "    loss = k * T.log(y) + (1 - k) * T.log(1 - y)\n",
      "    mean = -T.mean(loss)\n",
      "    return mean"
     ],
     "language": "python",
     "metadata": {},
     "outputs": [],
     "prompt_number": 150
    },
    {
     "cell_type": "code",
     "collapsed": false,
     "input": [
      "loss = logloss(T.dot(x, W), k)"
     ],
     "language": "python",
     "metadata": {},
     "outputs": [],
     "prompt_number": 151
    },
    {
     "cell_type": "code",
     "collapsed": false,
     "input": [
      "g = T.grad(loss, W)"
     ],
     "language": "python",
     "metadata": {},
     "outputs": [],
     "prompt_number": 152
    },
    {
     "cell_type": "code",
     "collapsed": false,
     "input": [
      "print theano.printing.pprint(g)"
     ],
     "language": "python",
     "metadata": {},
     "outputs": [
      {
       "output_type": "stream",
       "stream": "stdout",
       "text": [
        "(DimShuffle{0, x}(y) \\dot (((fill(((k * log((y \\dot W))) + ((TensorConstant{1} - k) * log((TensorConstant{1} - (y \\dot W))))), ((-fill((-(Sum(((k * log((y \\dot W))) + ((TensorConstant{1} - k) * log((TensorConstant{1} - (y \\dot W)))))) / float64(((k * log((y \\dot W))) + ((TensorConstant{1} - k) * log((TensorConstant{1} - (y \\dot W))))).shape)[0])), TensorConstant{1.0})) / float64(((k * log((y \\dot W))) + ((TensorConstant{1} - k) * log((TensorConstant{1} - (y \\dot W))))).shape)[0])) * k) / (y \\dot W)) + (-((fill(((k * log((y \\dot W))) + ((TensorConstant{1} - k) * log((TensorConstant{1} - (y \\dot W))))), ((-fill((-(Sum(((k * log((y \\dot W))) + ((TensorConstant{1} - k) * log((TensorConstant{1} - (y \\dot W)))))) / float64(((k * log((y \\dot W))) + ((TensorConstant{1} - k) * log((TensorConstant{1} - (y \\dot W))))).shape)[0])), TensorConstant{1.0})) / float64(((k * log((y \\dot W))) + ((TensorConstant{1} - k) * log((TensorConstant{1} - (y \\dot W))))).shape)[0])) * (TensorConstant{1} - k)) / (TensorConstant{1} - (y \\dot W))))))\n"
       ]
      }
     ],
     "prompt_number": 153
    }
   ],
   "metadata": {}
  }
 ]
}