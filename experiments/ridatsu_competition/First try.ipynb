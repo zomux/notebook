{
 "cells": [
  {
   "cell_type": "markdown",
   "metadata": {},
   "source": [
    "# Competition of RIDATSU prediction"
   ]
  },
  {
   "cell_type": "code",
   "execution_count": 35,
   "metadata": {
    "collapsed": true
   },
   "outputs": [],
   "source": [
    "import numpy as np"
   ]
  },
  {
   "cell_type": "code",
   "execution_count": 221,
   "metadata": {
    "collapsed": true
   },
   "outputs": [],
   "source": [
    "%matplotlib inline\n",
    "import matplotlib.pyplot as plt\n",
    "import seaborn"
   ]
  },
  {
   "cell_type": "code",
   "execution_count": 2,
   "metadata": {
    "collapsed": true
   },
   "outputs": [],
   "source": [
    "data_path = \"/var/spool/data/hadoop-local/comp_ridatsu/\""
   ]
  },
  {
   "cell_type": "code",
   "execution_count": 3,
   "metadata": {
    "collapsed": true
   },
   "outputs": [],
   "source": [
    "import pandas as pd"
   ]
  },
  {
   "cell_type": "code",
   "execution_count": 4,
   "metadata": {
    "collapsed": false,
    "scrolled": true
   },
   "outputs": [
    {
     "data": {
      "text/html": [
       "<div style=\"max-height:1000px;max-width:1500px;overflow:auto;\">\n",
       "<table border=\"1\" class=\"dataframe\">\n",
       "  <thead>\n",
       "    <tr style=\"text-align: right;\">\n",
       "      <th></th>\n",
       "      <th>0</th>\n",
       "      <th>1</th>\n",
       "      <th>2</th>\n",
       "      <th>3</th>\n",
       "    </tr>\n",
       "  </thead>\n",
       "  <tbody>\n",
       "    <tr>\n",
       "      <th>0</th>\n",
       "      <td>81067</td>\n",
       "      <td>1</td>\n",
       "      <td>1</td>\n",
       "      <td>2015-01-11T11:09:20.239Z</td>\n",
       "    </tr>\n",
       "    <tr>\n",
       "      <th>1</th>\n",
       "      <td>149027</td>\n",
       "      <td>1</td>\n",
       "      <td>1</td>\n",
       "      <td>2015-01-12T21:31:16.722Z</td>\n",
       "    </tr>\n",
       "  </tbody>\n",
       "</table>\n",
       "</div>"
      ],
      "text/plain": [
       "        0  1  2                         3\n",
       "0   81067  1  1  2015-01-11T11:09:20.239Z\n",
       "1  149027  1  1  2015-01-12T21:31:16.722Z"
      ]
     },
     "execution_count": 4,
     "metadata": {},
     "output_type": "execute_result"
    }
   ],
   "source": [
    "users = pd.read_csv(data_path + \"user.csv\", header=None)\n",
    "users[:2]"
   ]
  },
  {
   "cell_type": "code",
   "execution_count": 5,
   "metadata": {
    "collapsed": false
   },
   "outputs": [],
   "source": [
    "train_data = pd.read_csv(data_path + \"train.csv\", header=None)"
   ]
  },
  {
   "cell_type": "code",
   "execution_count": 6,
   "metadata": {
    "collapsed": false,
    "scrolled": true
   },
   "outputs": [
    {
     "data": {
      "text/html": [
       "<div style=\"max-height:1000px;max-width:1500px;overflow:auto;\">\n",
       "<table border=\"1\" class=\"dataframe\">\n",
       "  <thead>\n",
       "    <tr style=\"text-align: right;\">\n",
       "      <th></th>\n",
       "      <th>0</th>\n",
       "      <th>1</th>\n",
       "    </tr>\n",
       "  </thead>\n",
       "  <tbody>\n",
       "    <tr>\n",
       "      <th>0</th>\n",
       "      <td>176887</td>\n",
       "      <td>0</td>\n",
       "    </tr>\n",
       "    <tr>\n",
       "      <th>1</th>\n",
       "      <td>34795</td>\n",
       "      <td>0</td>\n",
       "    </tr>\n",
       "  </tbody>\n",
       "</table>\n",
       "</div>"
      ],
      "text/plain": [
       "        0  1\n",
       "0  176887  0\n",
       "1   34795  0"
      ]
     },
     "execution_count": 6,
     "metadata": {},
     "output_type": "execute_result"
    }
   ],
   "source": [
    "train_data[:2]"
   ]
  },
  {
   "cell_type": "code",
   "execution_count": 7,
   "metadata": {
    "collapsed": true
   },
   "outputs": [],
   "source": [
    "test_data = pd.read_csv(data_path + \"test.csv\", header=None)"
   ]
  },
  {
   "cell_type": "code",
   "execution_count": 8,
   "metadata": {
    "collapsed": false
   },
   "outputs": [
    {
     "data": {
      "text/html": [
       "<div style=\"max-height:1000px;max-width:1500px;overflow:auto;\">\n",
       "<table border=\"1\" class=\"dataframe\">\n",
       "  <thead>\n",
       "    <tr style=\"text-align: right;\">\n",
       "      <th></th>\n",
       "      <th>0</th>\n",
       "    </tr>\n",
       "  </thead>\n",
       "  <tbody>\n",
       "    <tr>\n",
       "      <th>0</th>\n",
       "      <td>36160</td>\n",
       "    </tr>\n",
       "    <tr>\n",
       "      <th>1</th>\n",
       "      <td>111951</td>\n",
       "    </tr>\n",
       "  </tbody>\n",
       "</table>\n",
       "</div>"
      ],
      "text/plain": [
       "        0\n",
       "0   36160\n",
       "1  111951"
      ]
     },
     "execution_count": 8,
     "metadata": {},
     "output_type": "execute_result"
    }
   ],
   "source": [
    "test_data[:2]"
   ]
  },
  {
   "cell_type": "code",
   "execution_count": 9,
   "metadata": {
    "collapsed": false
   },
   "outputs": [],
   "source": [
    "for u_id in test_data.loc[:, 0]:\n",
    "    if u_id not in users.loc[:, 0]:\n",
    "        print u_id\n",
    "for u_id in train_data.loc[:, 0]:\n",
    "    if u_id not in users.loc[:, 0]:\n",
    "        print u_id"
   ]
  },
  {
   "cell_type": "markdown",
   "metadata": {},
   "source": [
    "> All train / test users are in users table"
   ]
  },
  {
   "cell_type": "code",
   "execution_count": 347,
   "metadata": {
    "collapsed": false
   },
   "outputs": [
    {
     "data": {
      "text/html": [
       "<div style=\"max-height:1000px;max-width:1500px;overflow:auto;\">\n",
       "<table border=\"1\" class=\"dataframe\">\n",
       "  <thead>\n",
       "    <tr style=\"text-align: right;\">\n",
       "      <th></th>\n",
       "      <th>0</th>\n",
       "      <th>1</th>\n",
       "      <th>2</th>\n",
       "    </tr>\n",
       "  </thead>\n",
       "  <tbody>\n",
       "    <tr>\n",
       "      <th>0</th>\n",
       "      <td>47472</td>\n",
       "      <td>6171978</td>\n",
       "      <td>2011-08-13T03:46:20.000Z</td>\n",
       "    </tr>\n",
       "    <tr>\n",
       "      <th>1</th>\n",
       "      <td>89301</td>\n",
       "      <td>3828557</td>\n",
       "      <td>2011-04-29T14:43:15.000Z</td>\n",
       "    </tr>\n",
       "  </tbody>\n",
       "</table>\n",
       "</div>"
      ],
      "text/plain": [
       "       0        1                         2\n",
       "0  47472  6171978  2011-08-13T03:46:20.000Z\n",
       "1  89301  3828557  2011-04-29T14:43:15.000Z"
      ]
     },
     "execution_count": 347,
     "metadata": {},
     "output_type": "execute_result"
    }
   ],
   "source": [
    "contents = pd.read_csv(data_path + \"contents.csv\", header=None, iterator=True, chunksize=1000)\n",
    "contents.get_chunk()[:2]"
   ]
  },
  {
   "cell_type": "markdown",
   "metadata": {},
   "source": [
    "Features from contents:\n",
    " - number of contents"
   ]
  },
  {
   "cell_type": "code",
   "execution_count": 11,
   "metadata": {
    "collapsed": false
   },
   "outputs": [
    {
     "data": {
      "text/html": [
       "<div style=\"max-height:1000px;max-width:1500px;overflow:auto;\">\n",
       "<table border=\"1\" class=\"dataframe\">\n",
       "  <thead>\n",
       "    <tr style=\"text-align: right;\">\n",
       "      <th></th>\n",
       "      <th>0</th>\n",
       "      <th>1</th>\n",
       "      <th>2</th>\n",
       "    </tr>\n",
       "  </thead>\n",
       "  <tbody>\n",
       "    <tr>\n",
       "      <th>0</th>\n",
       "      <td>43150</td>\n",
       "      <td>05223588</td>\n",
       "      <td>2014-04-03T07:53:20.259Z</td>\n",
       "    </tr>\n",
       "    <tr>\n",
       "      <th>1</th>\n",
       "      <td>43150</td>\n",
       "      <td>05223588</td>\n",
       "      <td>2014-04-03T08:32:56.718Z</td>\n",
       "    </tr>\n",
       "  </tbody>\n",
       "</table>\n",
       "</div>"
      ],
      "text/plain": [
       "       0         1                         2\n",
       "0  43150  05223588  2014-04-03T07:53:20.259Z\n",
       "1  43150  05223588  2014-04-03T08:32:56.718Z"
      ]
     },
     "execution_count": 11,
     "metadata": {},
     "output_type": "execute_result"
    }
   ],
   "source": [
    "comments = pd.read_csv(data_path + \"comments.csv\", header=None)\n",
    "comments[:2]"
   ]
  },
  {
   "cell_type": "markdown",
   "metadata": {},
   "source": [
    "Features from commments:\n",
    "- Number of comments\n",
    "- Number of commented"
   ]
  },
  {
   "cell_type": "code",
   "execution_count": 12,
   "metadata": {
    "collapsed": false
   },
   "outputs": [
    {
     "data": {
      "text/html": [
       "<div style=\"max-height:1000px;max-width:1500px;overflow:auto;\">\n",
       "<table border=\"1\" class=\"dataframe\">\n",
       "  <thead>\n",
       "    <tr style=\"text-align: right;\">\n",
       "      <th></th>\n",
       "      <th>0</th>\n",
       "      <th>1</th>\n",
       "    </tr>\n",
       "  </thead>\n",
       "  <tbody>\n",
       "    <tr>\n",
       "      <th>0</th>\n",
       "      <td>6489</td>\n",
       "      <td>2014-05-23T05:00:01.083Z</td>\n",
       "    </tr>\n",
       "    <tr>\n",
       "      <th>1</th>\n",
       "      <td>6489</td>\n",
       "      <td>2014-05-23T06:24:17.128Z</td>\n",
       "    </tr>\n",
       "  </tbody>\n",
       "</table>\n",
       "</div>"
      ],
      "text/plain": [
       "      0                         1\n",
       "0  6489  2014-05-23T05:00:01.083Z\n",
       "1  6489  2014-05-23T06:24:17.128Z"
      ]
     },
     "execution_count": 12,
     "metadata": {},
     "output_type": "execute_result"
    }
   ],
   "source": [
    "folders = pd.read_csv(data_path + \"folder.csv\", header=None)\n",
    "folders[:2]"
   ]
  },
  {
   "cell_type": "markdown",
   "metadata": {},
   "source": [
    "Features from folder:\n",
    "- Number of folders"
   ]
  },
  {
   "cell_type": "code",
   "execution_count": 325,
   "metadata": {
    "collapsed": false
   },
   "outputs": [
    {
     "data": {
      "text/html": [
       "<div style=\"max-height:1000px;max-width:1500px;overflow:auto;\">\n",
       "<table border=\"1\" class=\"dataframe\">\n",
       "  <thead>\n",
       "    <tr style=\"text-align: right;\">\n",
       "      <th></th>\n",
       "      <th>0</th>\n",
       "      <th>1</th>\n",
       "      <th>2</th>\n",
       "    </tr>\n",
       "  </thead>\n",
       "  <tbody>\n",
       "    <tr>\n",
       "      <th>0</th>\n",
       "      <td>6489</td>\n",
       "      <td>null</td>\n",
       "      <td>2013-07-10T07:56:29.486Z</td>\n",
       "    </tr>\n",
       "    <tr>\n",
       "      <th>1</th>\n",
       "      <td>57546</td>\n",
       "      <td>null</td>\n",
       "      <td>2013-07-10T07:58:36.617Z</td>\n",
       "    </tr>\n",
       "  </tbody>\n",
       "</table>\n",
       "</div>"
      ],
      "text/plain": [
       "       0     1                         2\n",
       "0   6489  null  2013-07-10T07:56:29.486Z\n",
       "1  57546  null  2013-07-10T07:58:36.617Z"
      ]
     },
     "execution_count": 325,
     "metadata": {},
     "output_type": "execute_result"
    }
   ],
   "source": [
    "visits = pd.read_csv(data_path + \"visited.csv\", header=None, iterator=True, chunksize=1000)\n",
    "visits.get_chunk()[:2]"
   ]
  },
  {
   "cell_type": "markdown",
   "metadata": {},
   "source": [
    "Features from visited:\n",
    "- number of visits\n",
    "- total of visited contents of user"
   ]
  },
  {
   "cell_type": "code",
   "execution_count": 14,
   "metadata": {
    "collapsed": false
   },
   "outputs": [
    {
     "data": {
      "text/html": [
       "<div style=\"max-height:1000px;max-width:1500px;overflow:auto;\">\n",
       "<table border=\"1\" class=\"dataframe\">\n",
       "  <thead>\n",
       "    <tr style=\"text-align: right;\">\n",
       "      <th></th>\n",
       "      <th>0</th>\n",
       "      <th>1</th>\n",
       "    </tr>\n",
       "  </thead>\n",
       "  <tbody>\n",
       "    <tr>\n",
       "      <th>0</th>\n",
       "      <td>57379</td>\n",
       "      <td>2013-05-24T06:11:34.567Z</td>\n",
       "    </tr>\n",
       "    <tr>\n",
       "      <th>1</th>\n",
       "      <td>86100</td>\n",
       "      <td>2013-05-24T06:26:34.254Z</td>\n",
       "    </tr>\n",
       "  </tbody>\n",
       "</table>\n",
       "</div>"
      ],
      "text/plain": [
       "       0                         1\n",
       "0  57379  2013-05-24T06:11:34.567Z\n",
       "1  86100  2013-05-24T06:26:34.254Z"
      ]
     },
     "execution_count": 14,
     "metadata": {},
     "output_type": "execute_result"
    }
   ],
   "source": [
    "deletes = pd.read_csv(data_path + \"deleted.csv\", header=None)\n",
    "deletes[:2]"
   ]
  },
  {
   "cell_type": "markdown",
   "metadata": {},
   "source": [
    "Features from deletes:\n",
    "- number of deletes"
   ]
  },
  {
   "cell_type": "markdown",
   "metadata": {},
   "source": [
    "---"
   ]
  },
  {
   "cell_type": "markdown",
   "metadata": {},
   "source": [
    "### Naive features 1"
   ]
  },
  {
   "cell_type": "code",
   "execution_count": 15,
   "metadata": {
    "collapsed": false
   },
   "outputs": [],
   "source": [
    "from collections import defaultdict\n",
    "\n",
    "content_user_map = {}\n",
    "f_num_contents = defaultdict(int)\n",
    "\n",
    "for u, cont, _  in contents.values:\n",
    "    f_num_contents[u] += 1\n",
    "    content_user_map[cont] = u"
   ]
  },
  {
   "cell_type": "code",
   "execution_count": 17,
   "metadata": {
    "collapsed": false
   },
   "outputs": [],
   "source": [
    "f_num_comments = defaultdict(int)\n",
    "f_num_commented = defaultdict(int)\n",
    "\n",
    "for u, cont, _ in comments.values:\n",
    "    if cont in content_user_map:\n",
    "        cont_u = content_user_map[cont]\n",
    "        f_num_commented[cont_u] += 1\n",
    "    f_num_comments[u] += 1"
   ]
  },
  {
   "cell_type": "code",
   "execution_count": 18,
   "metadata": {
    "collapsed": true
   },
   "outputs": [],
   "source": [
    "f_num_folders = defaultdict(int)\n",
    "\n",
    "for u, _ in folders.values:\n",
    "    f_num_folders[u] += 1"
   ]
  },
  {
   "cell_type": "code",
   "execution_count": 20,
   "metadata": {
    "collapsed": true
   },
   "outputs": [],
   "source": [
    "f_num_visits = defaultdict(int)\n",
    "f_num_visited = defaultdict(int)\n",
    "\n",
    "for u, cont, _ in visits.values:\n",
    "    if cont in content_user_map:\n",
    "        cont_u = content_user_map[cont]\n",
    "        f_num_visited[cont_u] += 1\n",
    "    f_num_visits[u] += 1"
   ]
  },
  {
   "cell_type": "code",
   "execution_count": 21,
   "metadata": {
    "collapsed": true
   },
   "outputs": [],
   "source": [
    "f_num_deletes = defaultdict(int)\n",
    "\n",
    "for u, _ in deletes.values:\n",
    "    f_num_deletes[u] += 1"
   ]
  },
  {
   "cell_type": "markdown",
   "metadata": {},
   "source": [
    "logistic regression"
   ]
  },
  {
   "cell_type": "code",
   "execution_count": 58,
   "metadata": {
    "collapsed": false
   },
   "outputs": [],
   "source": [
    "import random\n",
    "rand = random.Random(3)\n",
    "\n",
    "def get_feature(u):\n",
    "    feature = [f_num_contents[u], f_num_comments[u], f_num_commented[u], f_num_deletes[u], f_num_folders[u], f_num_visits[u], f_num_visited[u]]\n",
    "    return feature\n",
    "    \n",
    "train_pairs = []\n",
    "for u, target in train_data.values:\n",
    "    train_pairs.append((u, target))\n",
    "rand.shuffle(train_pairs)\n",
    "\n",
    "features = []\n",
    "targets = []\n",
    "test_features = []\n",
    "for u, target in train_pairs:\n",
    "    features.append(get_feature(u))\n",
    "    targets.append(target)\n",
    "    \n",
    "for u, in test_data.values:\n",
    "    test_features.append(get_feature(u))"
   ]
  },
  {
   "cell_type": "code",
   "execution_count": 107,
   "metadata": {
    "collapsed": false
   },
   "outputs": [],
   "source": [
    "# Normalize features\n",
    "from sklearn.preprocessing import MinMaxScaler, StandardScaler\n",
    "features = np.array(features, dtype=\"float32\")\n",
    "truncated_features = (features < features.std(axis=0)) * features + (features >= features.std(axis=0)) * (features.std(axis=0))\n",
    "norm = StandardScaler()\n",
    "norm_features = norm.fit_transform(truncated_features)"
   ]
  },
  {
   "cell_type": "code",
   "execution_count": 109,
   "metadata": {
    "collapsed": false
   },
   "outputs": [],
   "source": [
    "valid_size = 500\n",
    "train_xs = norm_features[valid_size:]\n",
    "train_ys = targets[valid_size:]\n",
    "valid_xs = norm_features[:valid_size]\n",
    "valid_ys = targets[:valid_size]"
   ]
  },
  {
   "cell_type": "code",
   "execution_count": 110,
   "metadata": {
    "collapsed": false
   },
   "outputs": [
    {
     "name": "stdout",
     "output_type": "stream",
     "text": [
      "prec: 0.676\n",
      "auc: 0.703212682379\n"
     ]
    }
   ],
   "source": [
    "from sklearn.linear_model import LogisticRegression \n",
    "from sklearn import metrics\n",
    "lr = LogisticRegression()\n",
    "lr.fit(train_xs, train_ys)\n",
    "valid_yhat = lr.predict_proba(valid_xs)[np.arange(len(valid_ys)), 1]\n",
    "fpr, tpr, _ = metrics.roc_curve(valid_ys, valid_yhat, pos_label=1)\n",
    "print \"prec:\", lr.score(valid_xs, valid_ys)\n",
    "print \"auc:\", metrics.auc(fpr, tpr)"
   ]
  },
  {
   "cell_type": "markdown",
   "metadata": {},
   "source": [
    "make submission"
   ]
  },
  {
   "cell_type": "code",
   "execution_count": 62,
   "metadata": {
    "collapsed": false
   },
   "outputs": [],
   "source": [
    "test_yhat = lr.predict_proba(test_features)[np.arange(len(test_features)), 1]\n",
    "with open(\"/tmp/submission_lr1.csv\", \"w\") as outf:\n",
    "    for u, prob in zip([t[0] for t in test_data.values], test_yhat):\n",
    "        print >> outf, \"%d,%f\" % (u, prob)"
   ]
  },
  {
   "cell_type": "markdown",
   "metadata": {},
   "source": [
    "random forest"
   ]
  },
  {
   "cell_type": "code",
   "execution_count": 112,
   "metadata": {
    "collapsed": false
   },
   "outputs": [
    {
     "name": "stdout",
     "output_type": "stream",
     "text": [
      "prec: 0.676\n",
      "auc: 0.661563552189\n"
     ]
    }
   ],
   "source": [
    "from sklearn.ensemble import RandomForestClassifier \n",
    "rfc = RandomForestClassifier(random_state=3, n_estimators=1000, n_jobs=-1)\n",
    "rfc.fit(train_xs, train_ys)\n",
    "valid_yhat = rfc.predict_proba(valid_xs)[np.arange(len(valid_ys)), 1]\n",
    "fpr, tpr, _ = metrics.roc_curve(valid_ys, valid_yhat, pos_label=1)\n",
    "print \"prec:\", lr.score(valid_xs, valid_ys)\n",
    "print \"auc:\", metrics.auc(fpr, tpr)"
   ]
  },
  {
   "cell_type": "markdown",
   "metadata": {},
   "source": [
    "ensemble of rfc and lr"
   ]
  },
  {
   "cell_type": "code",
   "execution_count": 113,
   "metadata": {
    "collapsed": false
   },
   "outputs": [
    {
     "name": "stdout",
     "output_type": "stream",
     "text": [
      "auc: 0.684974747475\n"
     ]
    }
   ],
   "source": [
    "valid_ens_lr_rfc = (rfc.predict_proba(valid_xs)[np.arange(len(valid_xs)), 1] + lr.predict_proba(valid_xs)[np.arange(len(valid_xs)), 1]) / 2\n",
    "fpr, tpr, _ = metrics.roc_curve(valid_ys, valid_ens_lr_rfc, pos_label=1)\n",
    "print \"auc:\", metrics.auc(fpr, tpr)"
   ]
  },
  {
   "cell_type": "code",
   "execution_count": 319,
   "metadata": {
    "collapsed": false
   },
   "outputs": [
    {
     "name": "stdout",
     "output_type": "stream",
     "text": [
      "NameError: name 'f_num_contents' is not defined\n"
     ]
    }
   ],
   "source": [
    "%xdel f_num_contents\n",
    "%xdel f_num_visits\n",
    "%xdel f_num_commented\n",
    "%xdel f_num_comments\n",
    "%xdel f_num_folders\n",
    "%xdel f_num_deletes"
   ]
  },
  {
   "cell_type": "markdown",
   "metadata": {},
   "source": [
    "### 2. Time weighed features"
   ]
  },
  {
   "cell_type": "code",
   "execution_count": 114,
   "metadata": {
    "collapsed": true
   },
   "outputs": [],
   "source": [
    "ROD = 0.95"
   ]
  },
  {
   "cell_type": "code",
   "execution_count": 130,
   "metadata": {
    "collapsed": false,
    "scrolled": true
   },
   "outputs": [
    {
     "data": {
      "text/plain": [
       "datetime.datetime(2015, 2, 20, 0, 0)"
      ]
     },
     "execution_count": 130,
     "metadata": {},
     "output_type": "execute_result"
    }
   ],
   "source": [
    "import datetime \n",
    "end_date = datetime.datetime(2015, 2, 20)\n",
    "end_date"
   ]
  },
  {
   "cell_type": "code",
   "execution_count": 150,
   "metadata": {
    "collapsed": false
   },
   "outputs": [],
   "source": [
    "from collections import defaultdict\n",
    "\n",
    "content_user_map = {}\n",
    "f2_num_contents = defaultdict(int)\n",
    "\n",
    "for u, cont, date  in contents.values:\n",
    "    date = dateutil.parser.parse(date).replace(tzinfo=None)\n",
    "    date_diff = (end_date - date).days\n",
    "    f2_num_contents[u] += ROD ** date_diff\n",
    "    content_user_map[cont] = u"
   ]
  },
  {
   "cell_type": "code",
   "execution_count": 151,
   "metadata": {
    "collapsed": true
   },
   "outputs": [],
   "source": [
    "f2_num_comments = defaultdict(int)\n",
    "f2_num_commented = defaultdict(int)\n",
    "\n",
    "for u, cont, date in comments.values:\n",
    "    date = dateutil.parser.parse(date).replace(tzinfo=None)\n",
    "    date_diff = (end_date - date).days\n",
    "    if cont in content_user_map:\n",
    "        cont_u = content_user_map[cont]\n",
    "        f2_num_commented[cont_u] += ROD ** date_diff\n",
    "    f2_num_comments[u] += ROD ** date_diff"
   ]
  },
  {
   "cell_type": "code",
   "execution_count": 152,
   "metadata": {
    "collapsed": true
   },
   "outputs": [],
   "source": [
    "f2_num_folders = defaultdict(int)\n",
    "\n",
    "for u, date in folders.values:\n",
    "    date = dateutil.parser.parse(date).replace(tzinfo=None)\n",
    "    date_diff = (end_date - date).days\n",
    "    f2_num_folders[u] += ROD ** date_diff"
   ]
  },
  {
   "cell_type": "code",
   "execution_count": 153,
   "metadata": {
    "collapsed": true
   },
   "outputs": [],
   "source": [
    "f2_num_visits = defaultdict(int)\n",
    "f2_num_visited = defaultdict(int)\n",
    "\n",
    "for u, cont, date in visits.values:\n",
    "    date = dateutil.parser.parse(date).replace(tzinfo=None)\n",
    "    date_diff = (end_date - date).days\n",
    "    if cont in content_user_map:\n",
    "        cont_u = content_user_map[cont]\n",
    "        f2_num_visited[cont_u] += ROD ** date_diff\n",
    "    f2_num_visits[u] += ROD ** date_diff"
   ]
  },
  {
   "cell_type": "code",
   "execution_count": 144,
   "metadata": {
    "collapsed": false
   },
   "outputs": [],
   "source": [
    "f2_num_deletes = defaultdict(int)\n",
    "\n",
    "for u, date in deletes.values:\n",
    "    date = dateutil.parser.parse(date).replace(tzinfo=None)\n",
    "    date_diff = (end_date - date).days\n",
    "    f2_num_deletes[u] += ROD ** date_diff"
   ]
  },
  {
   "cell_type": "markdown",
   "metadata": {},
   "source": [
    "train"
   ]
  },
  {
   "cell_type": "code",
   "execution_count": 154,
   "metadata": {
    "collapsed": true
   },
   "outputs": [],
   "source": [
    "import random\n",
    "rand = random.Random(3)\n",
    "\n",
    "def get_feature(u):\n",
    "    feature = [f2_num_contents[u], f2_num_comments[u], f2_num_commented[u], f2_num_deletes[u], f2_num_folders[u], f2_num_visits[u], f2_num_visited[u]]\n",
    "    return feature\n",
    "    \n",
    "train_pairs = []\n",
    "for u, target in train_data.values:\n",
    "    train_pairs.append((u, target))\n",
    "rand.shuffle(train_pairs)\n",
    "\n",
    "features = []\n",
    "targets = []\n",
    "test_features = []\n",
    "for u, target in train_pairs:\n",
    "    features.append(get_feature(u))\n",
    "    targets.append(target)\n",
    "    \n",
    "for u, in test_data.values:\n",
    "    test_features.append(get_feature(u))"
   ]
  },
  {
   "cell_type": "code",
   "execution_count": 268,
   "metadata": {
    "collapsed": true
   },
   "outputs": [],
   "source": [
    "# Normalize features\n",
    "from sklearn.preprocessing import MinMaxScaler, StandardScaler\n",
    "features = np.array(features, dtype=\"float32\")\n",
    "truncated_features = (features < features.std(axis=0)) * features + (features >= features.std(axis=0)) * (features.std(axis=0))\n",
    "norm = StandardScaler()\n",
    "norm_features = norm.fit_transform(truncated_features)\n",
    "valid_size = 500\n",
    "train_xs = norm_features[valid_size:]\n",
    "train_ys = targets[valid_size:]\n",
    "valid_xs = norm_features[:valid_size]\n",
    "valid_ys = targets[:valid_size]\n",
    "test_xs = norm.transform(test_features)"
   ]
  },
  {
   "cell_type": "code",
   "execution_count": 269,
   "metadata": {
    "collapsed": false
   },
   "outputs": [
    {
     "name": "stdout",
     "output_type": "stream",
     "text": [
      "prec: 0.716\n",
      "auc: 0.749649270483\n"
     ]
    }
   ],
   "source": [
    "# lr\n",
    "from sklearn.linear_model import LogisticRegression \n",
    "from sklearn import metrics\n",
    "lr = LogisticRegression()\n",
    "lr.fit(train_xs, train_ys)\n",
    "valid_yhat = lr.predict_proba(valid_xs)[np.arange(len(valid_ys)), 1]\n",
    "fpr, tpr, _ = metrics.roc_curve(valid_ys, valid_yhat, pos_label=1)\n",
    "print \"prec:\", lr.score(valid_xs, valid_ys)\n",
    "print \"auc:\", metrics.auc(fpr, tpr)"
   ]
  },
  {
   "cell_type": "code",
   "execution_count": 251,
   "metadata": {
    "collapsed": true
   },
   "outputs": [],
   "source": [
    "# Submit\n",
    "test_yhat = lr.predict_proba(test_xs)[np.arange(len(test_xs)), 1]\n",
    "with open(\"/tmp/submission_tw_lr2.csv\", \"w\") as outf:\n",
    "    for u, prob in zip([t[0] for t in test_data.values], test_yhat):\n",
    "        print >> outf, \"%d,%f\" % (u, prob)"
   ]
  },
  {
   "cell_type": "code",
   "execution_count": 174,
   "metadata": {
    "collapsed": false
   },
   "outputs": [
    {
     "name": "stdout",
     "output_type": "stream",
     "text": [
      "prec: 0.652\n",
      "auc: 0.662326388889\n"
     ]
    }
   ],
   "source": [
    "# Random forest\n",
    "from sklearn.ensemble import RandomForestClassifier \n",
    "rfc = RandomForestClassifier(random_state=3, n_estimators=1000, n_jobs=-1)\n",
    "rfc.fit(train_xs, train_ys)\n",
    "valid_yhat = rfc.predict_proba(valid_xs)[np.arange(len(valid_ys)), 1]\n",
    "fpr, tpr, _ = metrics.roc_curve(valid_ys, valid_yhat, pos_label=1)\n",
    "print \"prec:\", rfc.score(valid_xs, valid_ys)\n",
    "print \"auc:\", metrics.auc(fpr, tpr)"
   ]
  },
  {
   "cell_type": "code",
   "execution_count": 178,
   "metadata": {
    "collapsed": false
   },
   "outputs": [
    {
     "name": "stdout",
     "output_type": "stream",
     "text": [
      "prec: 0.74\n",
      "auc: 0.730429292929\n"
     ]
    }
   ],
   "source": [
    "# SVM\n",
    "from sklearn.svm import SVC \n",
    "svc = SVC(probability=True, random_state=3)\n",
    "svc.fit(train_xs, train_ys)\n",
    "valid_yhat = svc.predict_proba(valid_xs)[np.arange(len(valid_ys)), 1]\n",
    "fpr, tpr, _ = metrics.roc_curve(valid_ys, valid_yhat, pos_label=1)\n",
    "print \"prec:\", svc.score(valid_xs, valid_ys)\n",
    "print \"auc:\", metrics.auc(fpr, tpr)"
   ]
  },
  {
   "cell_type": "markdown",
   "metadata": {},
   "source": [
    "### Ensemble"
   ]
  },
  {
   "cell_type": "code",
   "execution_count": 303,
   "metadata": {
    "collapsed": false
   },
   "outputs": [],
   "source": [
    "# Ensemble of LR and SVC\n",
    "def ensemble(prob_matrix, weights, valid_targets=None):\n",
    "    denom = sum(weights)\n",
    "    weights = np.array(weights, dtype=\"float32\")[:, None]\n",
    "    probs = (prob_matrix * weights).sum(axis=0) / denom\n",
    "    if valid_targets:\n",
    "        fpr, tpr, _ = metrics.roc_curve(valid_ys, probs, pos_label=1)\n",
    "        return metrics.auc(fpr, tpr)\n",
    "    else:\n",
    "        return probs\n",
    "\n",
    "svc_probs = svc.predict_proba(valid_xs)[np.arange(len(valid_xs)), 1]\n",
    "lr_probs = lr.predict_proba(valid_xs)[np.arange(len(valid_xs)), 1]\n",
    "prob_matrix = [svc_probs, lr_probs]"
   ]
  },
  {
   "cell_type": "code",
   "execution_count": 304,
   "metadata": {
    "collapsed": false,
    "scrolled": true
   },
   "outputs": [
    {
     "name": "stdout",
     "output_type": "stream",
     "text": [
      "auc: 0.752981200898\n"
     ]
    }
   ],
   "source": [
    "print \"auc:\", ensemble(prob_matrix, weights=[1, 1], valid_targets=valid_ys)"
   ]
  },
  {
   "cell_type": "markdown",
   "metadata": {},
   "source": [
    "find the best ensemble weight"
   ]
  },
  {
   "cell_type": "code",
   "execution_count": 244,
   "metadata": {
    "collapsed": false
   },
   "outputs": [
    {
     "data": {
      "image/png": "[encoded data removed]",
      "text/plain": [
       "<matplotlib.figure.Figure at 0x238f16d10>"
      ]
     },
     "metadata": {},
     "output_type": "display_data"
    },
    {
     "data": {
      "text/plain": [
       "0.77000000000000013"
      ]
     },
     "execution_count": 244,
     "metadata": {},
     "output_type": "execute_result"
    }
   ],
   "source": [
    "X_search = np.arange(0.6, 0.85, 0.01)\n",
    "AUC_search = [ensemble(prob_matrix, weights=[x, 1-x], valid_targets=valid_ys) for x in X_search]\n",
    "plt.plot(X_search, AUC_search)\n",
    "plt.show()\n",
    "X_search[np.array(AUC_search).argmax()]"
   ]
  },
  {
   "cell_type": "code",
   "execution_count": 278,
   "metadata": {
    "collapsed": false
   },
   "outputs": [],
   "source": [
    "# Submit\n",
    "svc_testprobs = svc.predict_proba(test_xs)[np.arange(len(test_xs)), 1]\n",
    "lr_testprobs = lr.predict_proba(test_xs)[np.arange(len(test_xs)), 1]\n",
    "prob_matrix = [svc_testprobs, lr_testprobs]\n",
    "test_yhat = ensemble(prob_matrix, weights=[1, 1])\n",
    "with open(\"/tmp/submission_tw_ensLRSVC_11.csv\", \"w\") as outf:\n",
    "    for u, prob in zip([t[0] for t in test_data.values], test_yhat):\n",
    "        print >> outf, \"%d,%f\" % (u, prob)"
   ]
  },
  {
   "cell_type": "markdown",
   "metadata": {},
   "source": [
    "### TODO: https://www.kaggle.com/c/facebook-recruiting-iv-human-or-bot/forums/t/14628/share-your-secret-sauce --> Done"
   ]
  },
  {
   "cell_type": "markdown",
   "metadata": {},
   "source": [
    "### Hyperopt hpsklearn: https://github.com/hyperopt/hyperopt-sklearn/blob/master/notebooks/skdata_quick_intro.ipynb"
   ]
  },
  {
   "cell_type": "markdown",
   "metadata": {},
   "source": [
    "### PCA"
   ]
  },
  {
   "cell_type": "markdown",
   "metadata": {},
   "source": [
    "### XGBOOST https://github.com/dmlc/xgboost"
   ]
  },
  {
   "cell_type": "code",
   "execution_count": 285,
   "metadata": {
    "collapsed": false
   },
   "outputs": [],
   "source": [
    "sys.path.append(\"/home/hadoop/apps/xgboost/wrapper\")\n",
    "import xgboost as xgb"
   ]
  },
  {
   "cell_type": "code",
   "execution_count": 288,
   "metadata": {
    "collapsed": true
   },
   "outputs": [],
   "source": [
    "dtrain = xgb.DMatrix(train_xs, label=train_ys)\n",
    "dvalid = xgb.DMatrix(valid_xs, label=valid_ys)"
   ]
  },
  {
   "cell_type": "code",
   "execution_count": null,
   "metadata": {
    "collapsed": false,
    "scrolled": true
   },
   "outputs": [],
   "source": [
    "param = {'bst:max_depth':2, 'bst:eta':1, 'silent':1, 'objective':'binary:logistic' }\n",
    "param['nthread'] = 4\n",
    "plst = param.items()\n",
    "plst += [('eval_metric', 'auc')] # Multiple evals can be handled in this way\n",
    "evallist  = [(dvalid,'valid'), (dtrain,'train')]\n",
    "num_round = 44\n",
    "bst = xgb.train( plst, dtrain, num_round, evallist )"
   ]
  },
  {
   "cell_type": "code",
   "execution_count": 310,
   "metadata": {
    "collapsed": false
   },
   "outputs": [
    {
     "name": "stdout",
     "output_type": "stream",
     "text": [
      "auc: 0.765589927048\n"
     ]
    }
   ],
   "source": [
    "dt_valid = xgb.DMatrix( valid_xs, missing = -999.0 )\n",
    "valid_yhat = bst.predict(dt_valid)\n",
    "xgb_probs = valid_yhat\n",
    "fpr, tpr, _ = metrics.roc_curve(valid_ys, valid_yhat, pos_label=1)\n",
    "print \"auc:\", metrics.auc(fpr, tpr)"
   ]
  },
  {
   "cell_type": "code",
   "execution_count": 302,
   "metadata": {
    "collapsed": true
   },
   "outputs": [],
   "source": [
    "dtest = xgb.DMatrix(test_xs, missing = -999.0 )\n",
    "xgb_test_yhat = bst.predict(dtest)\n",
    "with open(\"/tmp/submission_tw_xgb1.csv\", \"w\") as outf:\n",
    "    for u, prob in zip([t[0] for t in test_data.values], xgb_test_yhat):\n",
    "        print >> outf, \"%d,%f\" % (u, prob)"
   ]
  },
  {
   "cell_type": "code",
   "execution_count": 312,
   "metadata": {
    "collapsed": false
   },
   "outputs": [
    {
     "data": {
      "text/plain": [
       "(500,)"
      ]
     },
     "execution_count": 312,
     "metadata": {},
     "output_type": "execute_result"
    }
   ],
   "source": [
    "xgb_probs.shape"
   ]
  },
  {
   "cell_type": "code",
   "execution_count": 313,
   "metadata": {
    "collapsed": false
   },
   "outputs": [
    {
     "name": "stdout",
     "output_type": "stream",
     "text": [
      "auc: 0.760451739618\n"
     ]
    }
   ],
   "source": [
    "prob_matrix = [xgb_probs, lr_probs]\n",
    "print \"auc:\", ensemble(prob_matrix, weights=[1, 1], valid_targets=valid_ys)"
   ]
  },
  {
   "cell_type": "code",
   "execution_count": 349,
   "metadata": {
    "collapsed": true
   },
   "outputs": [],
   "source": [
    "# sumbit ensemble of xgb and lr\n",
    "test_yhat = ensemble([xgb_test_yhat, lr_testprobs], weights=[1, 1])\n",
    "with open(\"/tmp/submission_tw_ensLRXGB_11.csv\", \"w\") as outf:\n",
    "    for u, prob in zip([t[0] for t in test_data.values], test_yhat):\n",
    "        print >> outf, \"%d,%f\" % (u, prob)"
   ]
  },
  {
   "cell_type": "markdown",
   "metadata": {},
   "source": [
    "### TODO: DEEPY"
   ]
  },
  {
   "cell_type": "markdown",
   "metadata": {},
   "source": [
    "### More features:\n",
    "> get from it https://www.kaggle.com/c/facebook-recruiting-iv-human-or-bot/forums/t/14628/share-your-secret-sauce/81309#post81309\n",
    "\n",
    "- mean time of ...\n",
    "- entropy \n",
    "- mean of visits per content for a user\n",
    "- avg, max, min num of contents in a day\n",
    "- average comments per content for a user\n",
    "- date that user registered"
   ]
  },
  {
   "cell_type": "markdown",
   "metadata": {},
   "source": [
    "Create data with date"
   ]
  },
  {
   "cell_type": "code",
   "execution_count": 340,
   "metadata": {
    "collapsed": false
   },
   "outputs": [],
   "source": [
    "import csv\n",
    "\n",
    "def replace_row(row):\n",
    "    date = row[-1]\n",
    "    date = dateutil.parser.parse(date).replace(tzinfo=None)\n",
    "    date_diff = (end_date - date).days\n",
    "    row[-1] = date_diff\n",
    "    return row\n",
    "\n",
    "def replace_date_to_csv(table, fp, chunk=False):\n",
    "    with open(fp, \"wb\") as out_csvf:\n",
    "        writer = csv.writer(out_csvf)\n",
    "        if chunk:\n",
    "            for chunk in table:\n",
    "                for row in chunk.values:\n",
    "                    writer.writerow(replace_row(row))\n",
    "        else:\n",
    "            for row in table.values:\n",
    "                writer.writerow(replace_row(row))"
   ]
  },
  {
   "cell_type": "code",
   "execution_count": 333,
   "metadata": {
    "collapsed": true
   },
   "outputs": [],
   "source": [
    "replace_date_to_csv(users, data_path + \"users_date.csv\")"
   ]
  },
  {
   "cell_type": "code",
   "execution_count": 335,
   "metadata": {
    "collapsed": false
   },
   "outputs": [],
   "source": [
    "replace_date_to_csv(folders, data_path + \"folders_date.csv\")"
   ]
  },
  {
   "cell_type": "code",
   "execution_count": 337,
   "metadata": {
    "collapsed": false
   },
   "outputs": [],
   "source": [
    "replace_date_to_csv(deletes, data_path + \"deletes_date.csv\")"
   ]
  },
  {
   "cell_type": "code",
   "execution_count": null,
   "metadata": {
    "collapsed": false
   },
   "outputs": [],
   "source": [
    "\n",
    "replace_date_to_csv(visits, data_path + \"visits_date.csv\", chunk=True)"
   ]
  },
  {
   "cell_type": "code",
   "execution_count": null,
   "metadata": {
    "collapsed": false
   },
   "outputs": [],
   "source": [
    "replace_date_to_csv(contents, data_path + \"contents_date.csv\", chunk=True)"
   ]
  },
  {
   "cell_type": "markdown",
   "metadata": {},
   "source": [
    "### 3. More features"
   ]
  },
  {
   "cell_type": "code",
   "execution_count": null,
   "metadata": {
    "collapsed": true
   },
   "outputs": [],
   "source": []
  }
 ],
 "metadata": {
  "kernelspec": {
   "display_name": "Python 2",
   "language": "python",
   "name": "python2"
  },
  "language_info": {
   "codemirror_mode": {
    "name": "ipython",
    "version": 2
   },
   "file_extension": ".py",
   "mimetype": "text/x-python",
   "name": "python",
   "nbconvert_exporter": "python",
   "pygments_lexer": "ipython2",
   "version": "2.7"
  }
 },
 "nbformat": 4,
 "nbformat_minor": 0
}
