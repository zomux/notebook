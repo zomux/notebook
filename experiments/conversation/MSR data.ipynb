{
 "cells": [
  {
   "cell_type": "markdown",
   "metadata": {},
   "source": [
    "### MSR data"
   ]
  },
  {
   "cell_type": "code",
   "execution_count": 18,
   "metadata": {
    "collapsed": false
   },
   "outputs": [
    {
     "name": "stdout",
     "output_type": "stream",
     "text": [
      "[]"
     ]
    },
    {
     "name": "stderr",
     "output_type": "stream",
     "text": [
      "* About to connect() to api.twitter.com port 443 (#0)\n",
      "*   Trying 199.59.149.199... connected\n",
      "* Connected to api.twitter.com (199.59.149.199) port 443 (#0)\n",
      "* Initializing NSS with certpath: sql:/etc/pki/nssdb\n",
      "*   CAfile: /etc/pki/tls/certs/ca-bundle.crt\n",
      "  CApath: none\n",
      "* SSL connection using TLS_RSA_WITH_AES_128_CBC_SHA\n",
      "* Server certificate:\n",
      "* \tsubject: CN=api.twitter.com,OU=Twitter Security,O=\"Twitter, Inc.\",L=San Francisco,ST=California,C=US\n",
      "* \tstart date: Aug 03 00:00:00 2014 GMT\n",
      "* \texpire date: Dec 31 23:59:59 2016 GMT\n",
      "* \tcommon name: api.twitter.com\n",
      "* \tissuer: CN=VeriSign Class 3 Secure Server CA - G3,OU=Terms of use at https://www.verisign.com/rpa (c)10,OU=VeriSign Trust Network,O=\"VeriSign, Inc.\",C=US\n",
      "> GET /1.1/statuses/lookup.json?id=217736276747620353 HTTP/1.1\r\n",
      "> User-Agent: curl/7.19.7 (x86_64-redhat-linux-gnu) libcurl/7.19.7 NSS/3.15.3 zlib/1.2.3 libidn/1.18 libssh2/1.4.2\r\n",
      "> Host: api.twitter.com\r\n",
      "> Accept: */*\r\n",
      "> Authorization: OAuth oauth_consumer_key=\"T51OmpfWLzDmfk108lFLw\", oauth_nonce=\"5c0d1bd529d3f2c4e418a4a9950a949e\", oauth_signature=\"7U3jVEcOrA5K8tHLwmVcSe%2BtQMg%3D\", oauth_signature_method=\"HMAC-SHA1\", oauth_timestamp=\"1433205603\", oauth_token=\"440494775-d9mmANOlP2YQ4g9MTzNV0Aq1UhOfKeFjGH9un9Wd\", oauth_version=\"1.0\"\r\n",
      "> \r\n",
      "  % Total    % Received % Xferd  Average Speed   Time    Time     Time  Current\n",
      "                                 Dload  Upload   Total   Spent    Left  Speed\n",
      "\r",
      "  0     0    0     0    0     0      0      0 --:--:-- --:--:-- --:--:--     0< HTTP/1.1 200 OK\r\n",
      "< cache-control: no-cache, no-store, must-revalidate, pre-check=0, post-check=0\r\n",
      "< content-disposition: attachment; filename=json.json\r\n",
      "< content-length: 2\r\n",
      "< content-type: application/json;charset=utf-8\r\n",
      "< date: Tue, 02 Jun 2015 00:40:13 GMT\r\n",
      "< expires: Tue, 31 Mar 1981 05:00:00 GMT\r\n",
      "< last-modified: Tue, 02 Jun 2015 00:40:13 GMT\r\n",
      "< pragma: no-cache\r\n",
      "< server: tsa_a\r\n",
      "< set-cookie: lang=en\r\n",
      "< set-cookie: guest_id=v1%3A143320561335946777; Domain=.twitter.com; Path=/; Expires=Thu, 01-Jun-2017 00:40:13 UTC\r\n",
      "< status: 200 OK\r\n",
      "< strict-transport-security: max-age=631138519\r\n",
      "< x-access-level: read\r\n",
      "< x-connection-hash: 92183f07f358f57c85a5943f350c03be\r\n",
      "< x-content-type-options: nosniff\r\n",
      "< x-frame-options: SAMEORIGIN\r\n",
      "< x-rate-limit-limit: 180\r\n",
      "< x-rate-limit-remaining: 178\r\n",
      "< x-rate-limit-reset: 1433206216\r\n",
      "< x-response-time: 17\r\n",
      "< x-transaction: 0d6a83da8a396704\r\n",
      "< x-twitter-response-tags: BouncerCompliant\r\n",
      "< x-xss-protection: 1; mode=block\r\n",
      "< \r\n",
      "{ [data not shown]\n",
      "\r",
      "  0     2    0     2    0     0      3      0 --:--:-- --:--:-- --:--:--    16* Connection #0 to host api.twitter.com left intact\n",
      "\n",
      "* Closing connection #0\n"
     ]
    }
   ],
   "source": [
    "%%bash\n",
    " curl --get 'https://api.twitter.com/1.1/statuses/lookup.json' --data 'id=217736276747620353' --header 'Authorization: OAuth oauth_consumer_key=\"T51OmpfWLzDmfk108lFLw\", oauth_nonce=\"5c0d1bd529d3f2c4e418a4a9950a949e\", oauth_signature=\"7U3jVEcOrA5K8tHLwmVcSe%2BtQMg%3D\", oauth_signature_method=\"HMAC-SHA1\", oauth_timestamp=\"1433205603\", oauth_token=\"440494775-d9mmANOlP2YQ4g9MTzNV0Aq1UhOfKeFjGH9un9Wd\", oauth_version=\"1.0\"' --verbose"
   ]
  }
 ],
 "metadata": {
  "kernelspec": {
   "display_name": "Python 2",
   "language": "python",
   "name": "python2"
  },
  "language_info": {
   "codemirror_mode": {
    "name": "ipython",
    "version": 2
   },
   "file_extension": ".py",
   "mimetype": "text/x-python",
   "name": "python",
   "nbconvert_exporter": "python",
   "pygments_lexer": "ipython2",
   "version": "2.7"
  }
 },
 "nbformat": 4,
 "nbformat_minor": 0
}
