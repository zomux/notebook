{
 "cells": [
  {
   "cell_type": "markdown",
   "metadata": {},
   "source": [
    "### Create animation"
   ]
  },
  {
   "cell_type": "code",
   "execution_count": 2,
   "metadata": {
    "collapsed": true
   },
   "outputs": [],
   "source": [
    "deepy_path = \"/home/hadoop/deepy/\""
   ]
  },
  {
   "cell_type": "markdown",
   "metadata": {},
   "source": [
    "---"
   ]
  },
  {
   "cell_type": "code",
   "execution_count": 1,
   "metadata": {
    "collapsed": true
   },
   "outputs": [],
   "source": [
    "%matplotlib inline\n",
    "import matplotlib.pyplot as plt\n",
    "import seaborn"
   ]
  },
  {
   "cell_type": "code",
   "execution_count": 11,
   "metadata": {
    "collapsed": true
   },
   "outputs": [],
   "source": [
    "draw_path  = deepy_path + \"experiments/draw\"\n",
    "import os\n",
    "os.environ[\"DRAW\"] = draw_path\n",
    "os.environ[\"DEEPY\"] = deepy_path"
   ]
  },
  {
   "cell_type": "code",
   "execution_count": 4,
   "metadata": {
    "collapsed": true
   },
   "outputs": [],
   "source": [
    "# import sys\n",
    "# sys.path.append(deepy_path)\n",
    "# sys.path.append(draw_path)"
   ]
  },
  {
   "cell_type": "code",
   "execution_count": 13,
   "metadata": {
    "collapsed": false
   },
   "outputs": [
    {
     "name": "stdout",
     "output_type": "stream",
     "text": [
      "Couldn't import dot_parser, loading of dot files will not be possible.\n"
     ]
    },
    {
     "name": "stderr",
     "output_type": "stream",
     "text": [
      "INFO:deepy.networks.network:deepy version = 0.1.2\n",
      "INFO:deepy.layers.layer:create weight W_dense: (256, 5)\n",
      "INFO:deepy.layers.layer:create bias B_dense: (5,)\n",
      "INFO:deepy.layers.layer:create weight W_wi: (264, 256)\n",
      "INFO:deepy.layers.layer:create weight W_ui: (256, 256)\n",
      "INFO:deepy.layers.layer:create bias B_i: (256,)\n",
      "INFO:deepy.layers.layer:create weight W_wf: (264, 256)\n",
      "INFO:deepy.layers.layer:create weight W_uf: (256, 256)\n",
      "INFO:deepy.layers.layer:create bias B_f: (256,)\n",
      "INFO:deepy.layers.layer:create weight W_wc: (264, 256)\n",
      "INFO:deepy.layers.layer:create weight W_uc: (256, 256)\n",
      "INFO:deepy.layers.layer:create bias B_c: (256,)\n",
      "INFO:deepy.layers.layer:create weight W_wo: (264, 256)\n",
      "INFO:deepy.layers.layer:create weight W_uo: (256, 256)\n",
      "INFO:deepy.layers.layer:create bias B_o: (256,)\n",
      "INFO:deepy.layers.layer:create weight W_dense: (256, 100)\n",
      "INFO:deepy.layers.layer:create bias B_dense: (100,)\n",
      "INFO:deepy.layers.layer:create weight W_dense: (256, 100)\n",
      "INFO:deepy.layers.layer:create bias B_dense: (100,)\n",
      "INFO:deepy.layers.layer:create weight W_wi: (100, 256)\n",
      "INFO:deepy.layers.layer:create weight W_ui: (256, 256)\n",
      "INFO:deepy.layers.layer:create bias B_i: (256,)\n",
      "INFO:deepy.layers.layer:create weight W_wf: (100, 256)\n",
      "INFO:deepy.layers.layer:create weight W_uf: (256, 256)\n",
      "INFO:deepy.layers.layer:create bias B_f: (256,)\n",
      "INFO:deepy.layers.layer:create weight W_wc: (100, 256)\n",
      "INFO:deepy.layers.layer:create weight W_uc: (256, 256)\n",
      "INFO:deepy.layers.layer:create bias B_c: (256,)\n",
      "INFO:deepy.layers.layer:create weight W_wo: (100, 256)\n",
      "INFO:deepy.layers.layer:create weight W_uo: (256, 256)\n",
      "INFO:deepy.layers.layer:create bias B_o: (256,)\n",
      "INFO:deepy.layers.layer:create weight W_dense: (256, 5)\n",
      "INFO:deepy.layers.layer:create bias B_dense: (5,)\n",
      "INFO:deepy.layers.layer:create weight W_dense: (256, 25)\n",
      "INFO:deepy.layers.layer:create bias B_dense: (25,)\n",
      "INFO:deepy.networks.network:loading parameters from /home/hadoop/deepy/experiments/draw/models/mnist1.gz\n",
      "INFO:deepy.networks.network:W_dense: setting value (256, 5)\n",
      "INFO:deepy.networks.network:B_dense: setting value (5,)\n",
      "INFO:deepy.networks.network:W_dense: setting value (256, 5)\n",
      "INFO:deepy.networks.network:B_dense: setting value (5,)\n",
      "INFO:deepy.networks.network:W_dense: setting value (256, 25)\n",
      "INFO:deepy.networks.network:B_dense: setting value (25,)\n",
      "INFO:deepy.networks.network:W_wi: setting value (264, 256)\n",
      "INFO:deepy.networks.network:W_ui: setting value (256, 256)\n",
      "INFO:deepy.networks.network:B_i: setting value (256,)\n",
      "INFO:deepy.networks.network:W_wc: setting value (264, 256)\n",
      "INFO:deepy.networks.network:W_uc: setting value (256, 256)\n",
      "INFO:deepy.networks.network:B_c: setting value (256,)\n",
      "INFO:deepy.networks.network:W_wf: setting value (264, 256)\n",
      "INFO:deepy.networks.network:W_uf: setting value (256, 256)\n",
      "INFO:deepy.networks.network:B_f: setting value (256,)\n",
      "INFO:deepy.networks.network:W_wo: setting value (264, 256)\n",
      "INFO:deepy.networks.network:W_uo: setting value (256, 256)\n",
      "INFO:deepy.networks.network:B_o: setting value (256,)\n",
      "INFO:deepy.networks.network:W_dense: setting value (256, 100)\n",
      "INFO:deepy.networks.network:B_dense: setting value (100,)\n",
      "INFO:deepy.networks.network:W_dense: setting value (256, 100)\n",
      "INFO:deepy.networks.network:B_dense: setting value (100,)\n",
      "INFO:deepy.networks.network:W_wi: setting value (100, 256)\n",
      "INFO:deepy.networks.network:W_ui: setting value (256, 256)\n",
      "INFO:deepy.networks.network:B_i: setting value (256,)\n",
      "INFO:deepy.networks.network:W_wc: setting value (100, 256)\n",
      "INFO:deepy.networks.network:W_uc: setting value (256, 256)\n",
      "INFO:deepy.networks.network:B_c: setting value (256,)\n",
      "INFO:deepy.networks.network:W_wf: setting value (100, 256)\n",
      "INFO:deepy.networks.network:W_uf: setting value (256, 256)\n",
      "INFO:deepy.networks.network:B_f: setting value (256,)\n",
      "INFO:deepy.networks.network:W_wo: setting value (100, 256)\n",
      "INFO:deepy.networks.network:W_uo: setting value (256, 256)\n",
      "INFO:deepy.networks.network:B_o: setting value (256,)\n",
      "INFO:deepy.utils.train_logger:Load training log from /home/hadoop/deepy/experiments/draw/models/mnist1.log\n",
      "/home/hadoop/lib/python2.7/site-packages/theano/scan_module/scan_perform_ext.py:133: RuntimeWarning: numpy.ndarray size changed, may indicate binary incompatibility\n",
      "  from scan_perform.scan_perform import *\n"
     ]
    }
   ],
   "source": [
    "%%bash\n",
    "PYTHONPATH=\"$DEEPY\" python $DRAW/animation.py $DRAW/models/mnist1.gz"
   ]
  },
  {
   "cell_type": "code",
   "execution_count": 15,
   "metadata": {
    "collapsed": false
   },
   "outputs": [
    {
     "ename": "ValueError",
     "evalue": "Cannot embed the 'gif' image format",
     "output_type": "error",
     "traceback": [
      "\u001b[1;31m---------------------------------------------------------------------------\u001b[0m",
      "\u001b[1;31mValueError\u001b[0m                                Traceback (most recent call last)",
      "\u001b[1;32m<ipython-input-15-50b06071e545>\u001b[0m in \u001b[0;36m<module>\u001b[1;34m()\u001b[0m\n\u001b[0;32m      1\u001b[0m \u001b[1;32mfrom\u001b[0m \u001b[0mIPython\u001b[0m\u001b[1;33m.\u001b[0m\u001b[0mdisplay\u001b[0m \u001b[1;32mimport\u001b[0m \u001b[0mImage\u001b[0m\u001b[1;33m\u001b[0m\u001b[0m\n\u001b[1;32m----> 2\u001b[1;33m \u001b[0mImage\u001b[0m\u001b[1;33m(\u001b[0m\u001b[0mdraw_path\u001b[0m \u001b[1;33m+\u001b[0m \u001b[1;34m\"/plots/mnist-animation.gif\"\u001b[0m\u001b[1;33m)\u001b[0m\u001b[1;33m\u001b[0m\u001b[0m\n\u001b[0m",
      "\u001b[1;32m/home/hadoop/lib/python2.7/site-packages/IPython/core/display.pyc\u001b[0m in \u001b[0;36m__init__\u001b[1;34m(self, data, url, filename, format, embed, width, height, retina)\u001b[0m\n\u001b[0;32m    725\u001b[0m \u001b[1;33m\u001b[0m\u001b[0m\n\u001b[0;32m    726\u001b[0m         \u001b[1;32mif\u001b[0m \u001b[0mself\u001b[0m\u001b[1;33m.\u001b[0m\u001b[0membed\u001b[0m \u001b[1;32mand\u001b[0m \u001b[0mself\u001b[0m\u001b[1;33m.\u001b[0m\u001b[0mformat\u001b[0m \u001b[1;32mnot\u001b[0m \u001b[1;32min\u001b[0m \u001b[0mself\u001b[0m\u001b[1;33m.\u001b[0m\u001b[0m_ACCEPTABLE_EMBEDDINGS\u001b[0m\u001b[1;33m:\u001b[0m\u001b[1;33m\u001b[0m\u001b[0m\n\u001b[1;32m--> 727\u001b[1;33m             \u001b[1;32mraise\u001b[0m \u001b[0mValueError\u001b[0m\u001b[1;33m(\u001b[0m\u001b[1;34m\"Cannot embed the '%s' image format\"\u001b[0m \u001b[1;33m%\u001b[0m \u001b[1;33m(\u001b[0m\u001b[0mself\u001b[0m\u001b[1;33m.\u001b[0m\u001b[0mformat\u001b[0m\u001b[1;33m)\u001b[0m\u001b[1;33m)\u001b[0m\u001b[1;33m\u001b[0m\u001b[0m\n\u001b[0m\u001b[0;32m    728\u001b[0m         \u001b[0mself\u001b[0m\u001b[1;33m.\u001b[0m\u001b[0mwidth\u001b[0m \u001b[1;33m=\u001b[0m \u001b[0mwidth\u001b[0m\u001b[1;33m\u001b[0m\u001b[0m\n\u001b[0;32m    729\u001b[0m         \u001b[0mself\u001b[0m\u001b[1;33m.\u001b[0m\u001b[0mheight\u001b[0m \u001b[1;33m=\u001b[0m \u001b[0mheight\u001b[0m\u001b[1;33m\u001b[0m\u001b[0m\n",
      "\u001b[1;31mValueError\u001b[0m: Cannot embed the 'gif' image format"
     ]
    }
   ],
   "source": [
    "from IPython.display import Image \n",
    "Image(draw_path + \"/plots/mnist-animation.gif\")"
   ]
  }
 ],
 "metadata": {
  "kernelspec": {
   "display_name": "Python 2",
   "language": "python",
   "name": "python2"
  },
  "language_info": {
   "codemirror_mode": {
    "name": "ipython",
    "version": 2
   },
   "file_extension": ".py",
   "mimetype": "text/x-python",
   "name": "python",
   "nbconvert_exporter": "python",
   "pygments_lexer": "ipython2",
   "version": "2.7"
  }
 },
 "nbformat": 4,
 "nbformat_minor": 0
}
