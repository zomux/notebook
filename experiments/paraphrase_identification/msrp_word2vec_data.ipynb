{
 "cells": [
  {
   "cell_type": "markdown",
   "metadata": {},
   "source": [
    "### Create MSRP data"
   ]
  },
  {
   "cell_type": "code",
   "execution_count": 4,
   "metadata": {
    "collapsed": true
   },
   "outputs": [],
   "source": [
    "import sys, os"
   ]
  },
  {
   "cell_type": "code",
   "execution_count": 9,
   "metadata": {
    "collapsed": true
   },
   "outputs": [],
   "source": [
    "from stream import map as smap"
   ]
  },
  {
   "cell_type": "code",
   "execution_count": 5,
   "metadata": {
    "collapsed": true
   },
   "outputs": [],
   "source": [
    "msrp_path = \"/home/hadoop/data/paraphrase/mspr\"\n",
    "word2vec_path = \"/var/spool/data/hadoop-local/nlpy_resources/rep/GoogleNews-vectors-negative300.bin.gz\"\n",
    "nlpy_path = os.path.expanduser(\"~\") + os.sep + \"nlpy\"\n",
    "sys.path.append(nlpy_path)"
   ]
  },
  {
   "cell_type": "markdown",
   "metadata": {},
   "source": [
    "---"
   ]
  },
  {
   "cell_type": "code",
   "execution_count": 6,
   "metadata": {
    "collapsed": false
   },
   "outputs": [],
   "source": [
    "from nlpy.rep import Word2VecRepresentation\n",
    "vec = Word2VecRepresentation(model_path=word2vec_path)"
   ]
  },
  {
   "cell_type": "code",
   "execution_count": 29,
   "metadata": {
    "collapsed": false
   },
   "outputs": [
    {
     "data": {
      "text/plain": [
       "3000000"
      ]
     },
     "execution_count": 29,
     "metadata": {},
     "output_type": "execute_result"
    }
   ],
   "source": [
    "len(vec._model.vocab)"
   ]
  },
  {
   "cell_type": "markdown",
   "metadata": {},
   "source": [
    "---\n"
   ]
  },
  {
   "cell_type": "markdown",
   "metadata": {},
   "source": [
    "### Make word vector table"
   ]
  },
  {
   "cell_type": "code",
   "execution_count": 72,
   "metadata": {
    "collapsed": false
   },
   "outputs": [],
   "source": [
    "with open(\"/home/hadoop/works/chat/resources/en_us_with_coca_1m_bigram_words.vectors\", \"w\") as outf:\n",
    "    for l in open(\"/home/hadoop/works/chat/resources/en_us_with_coca_1m_bigram_words.freq\").xreadlines():\n",
    "        l = l.strip()\n",
    "        word = l.split(\"\\t\")[1]\n",
    "        if word in vec._model.vocab:\n",
    "            idx = vec._model.vocab[word].index\n",
    "            data = \" \".join([\"%.8f\" % d for d in vec._model.syn0norm[idx]])\n",
    "            print >> outf, \"%s\\t%s\" % (word, data)"
   ]
  }
 ],
 "metadata": {
  "kernelspec": {
   "display_name": "Python 2",
   "language": "python",
   "name": "python2"
  },
  "language_info": {
   "codemirror_mode": {
    "name": "ipython",
    "version": 2
   },
   "file_extension": ".py",
   "mimetype": "text/x-python",
   "name": "python",
   "nbconvert_exporter": "python",
   "pygments_lexer": "ipython2",
   "version": "2.7"
  }
 },
 "nbformat": 4,
 "nbformat_minor": 0
}
