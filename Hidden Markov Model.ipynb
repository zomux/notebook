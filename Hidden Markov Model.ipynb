{
 "metadata": {
  "name": "",
  "signature": "sha256:fe131763e3813538b36213bc3f01ca053aaf33345085780394f87d8c76b2757f"
 },
 "nbformat": 3,
 "nbformat_minor": 0,
 "worksheets": [
  {
   "cells": [
    {
     "cell_type": "heading",
     "level": 1,
     "metadata": {},
     "source": [
      "Hidden Markov Model"
     ]
    },
    {
     "cell_type": "heading",
     "level": 2,
     "metadata": {},
     "source": [
      "Probelm setting"
     ]
    },
    {
     "cell_type": "code",
     "collapsed": false,
     "input": [
      "L = 1; F = 2\n",
      "states = [L, F]\n",
      "observations = [1, 2, 3, 4, 5, 6]\n",
      "emission_prob = {\n",
      "    F: {1: 1.0/6, 2: 1.0/6, 3: 1.0/6, 4: 1.0/6, 5: 1.0/6, 6: 1.0/6},\n",
      "    L: {1: 1.0/10, 2: 1.0/10, 3: 1.0/10, 4: 1.0/10, 5: 1.0/10, 6: 1.0/2},\n",
      "}\n",
      "transition_prob = {\n",
      "    F: {F: 0.95, L: 0.05},\n",
      "    L: {F: 0.05, L: 0.95}\n",
      "}\n",
      "init_state_prob = {\n",
      "    F: 0.5, L: 0.5\n",
      "}\n",
      "observed_sequence = map(int, \"12455264621461461366616616366163661651561511514612356123562344\")"
     ],
     "language": "python",
     "metadata": {},
     "outputs": [],
     "prompt_number": 8
    },
    {
     "cell_type": "heading",
     "level": 2,
     "metadata": {},
     "source": [
      "Forward Algorithm"
     ]
    },
    {
     "cell_type": "heading",
     "level": 4,
     "metadata": {},
     "source": [
      "find the probability of the observed sequence"
     ]
    },
    {
     "cell_type": "code",
     "collapsed": false,
     "input": [
      "last_alpha = {}\n",
      "alpha = {}\n",
      "\n",
      "# Initialize\n",
      "for k in states:\n",
      "    last_alpha[k] = emission_prob[k][observed_sequence[0]] * init_state_prob[k]\n",
      "# Iterate\n",
      "for observation in observed_sequence[1:]:\n",
      "    for k in states:\n",
      "        alpha[k] = emission_prob[k][observation] * sum(last_alpha[i] * transition_prob[i][k] for i in states)\n",
      "    last_alpha = alpha\n",
      "# Termination\n",
      "print sum(alpha.values())"
     ],
     "language": "python",
     "metadata": {},
     "outputs": [
      {
       "output_type": "stream",
       "stream": "stdout",
       "text": [
        "1.2214292945e-47\n"
       ]
      }
     ],
     "prompt_number": 11
    },
    {
     "cell_type": "code",
     "collapsed": false,
     "input": [],
     "language": "python",
     "metadata": {},
     "outputs": []
    }
   ],
   "metadata": {}
  }
 ]
}