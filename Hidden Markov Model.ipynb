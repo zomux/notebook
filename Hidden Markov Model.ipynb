{
 "metadata": {
  "name": "",
  "signature": "sha256:b6979605ccbd8eb5bc1427541010be8cfc9eac46f07aa9a29f6fc4b608b3a706"
 },
 "nbformat": 3,
 "nbformat_minor": 0,
 "worksheets": [
  {
   "cells": [
    {
     "cell_type": "heading",
     "level": 1,
     "metadata": {},
     "source": [
      "**Hidden Markov Model**"
     ]
    },
    {
     "cell_type": "heading",
     "level": 1,
     "metadata": {},
     "source": [
      "Probelm setting"
     ]
    },
    {
     "cell_type": "code",
     "collapsed": false,
     "input": [
      "L = 1; F = 2\n",
      "states = [L, F]\n",
      "observations = [1, 2, 3, 4, 5, 6]\n",
      "emission_prob = {\n",
      "    F: {1: 1.0/6, 2: 1.0/6, 3: 1.0/6, 4: 1.0/6, 5: 1.0/6, 6: 1.0/6},\n",
      "    L: {1: 1.0/10, 2: 1.0/10, 3: 1.0/10, 4: 1.0/10, 5: 1.0/10, 6: 1.0/2},\n",
      "}\n",
      "transition_prob = {\n",
      "    F: {F: 0.95, L: 0.05},\n",
      "    L: {F: 0.05, L: 0.95}\n",
      "}\n",
      "init_state_prob = {\n",
      "    F: 0.5, L: 0.5\n",
      "}\n",
      "observed_sequence = map(int, \"12455264621461461366616616366163661651561511514612356123562344\")"
     ],
     "language": "python",
     "metadata": {},
     "outputs": [],
     "prompt_number": 8
    },
    {
     "cell_type": "heading",
     "level": 1,
     "metadata": {},
     "source": [
      "Forward Algorithm"
     ]
    },
    {
     "cell_type": "heading",
     "level": 4,
     "metadata": {},
     "source": [
      "find the probability of the observed sequence"
     ]
    },
    {
     "cell_type": "code",
     "collapsed": false,
     "input": [
      "last_alpha = {}\n",
      "alpha = {}\n",
      "\n",
      "# Initialize\n",
      "for k in states:\n",
      "    last_alpha[k] = emission_prob[k][observed_sequence[0]] * init_state_prob[k]\n",
      "# Iterate\n",
      "for observation in observed_sequence[1:]:\n",
      "    for k in states:\n",
      "        alpha[k] = emission_prob[k][observation] * sum(last_alpha[i] * transition_prob[i][k] for i in states)\n",
      "    last_alpha = alpha\n",
      "    alpha = {}\n",
      "# Termination\n",
      "print sum(last_alpha.values())"
     ],
     "language": "python",
     "metadata": {},
     "outputs": [
      {
       "output_type": "stream",
       "stream": "stdout",
       "text": [
        "1.13423115865e-46\n"
       ]
      }
     ],
     "prompt_number": 22
    },
    {
     "cell_type": "heading",
     "level": 1,
     "metadata": {},
     "source": [
      "Backward Algorithm"
     ]
    },
    {
     "cell_type": "heading",
     "level": 4,
     "metadata": {},
     "source": [
      "find the most likely state at specified position target_t"
     ]
    },
    {
     "cell_type": "code",
     "collapsed": false,
     "input": [
      "target_t = 20"
     ],
     "language": "python",
     "metadata": {},
     "outputs": [],
     "prompt_number": 31
    },
    {
     "cell_type": "heading",
     "level": 4,
     "metadata": {},
     "source": [
      "Find beta using backword algorithm"
     ]
    },
    {
     "cell_type": "code",
     "collapsed": false,
     "input": [
      "last_beta = {}\n",
      "beta = {}\n",
      "\n",
      "# Initialize\n",
      "for k in states:\n",
      "    last_beta[k] = 1\n",
      "\n",
      "positions = range(len(observed_sequence))\n",
      "# Iterate\n",
      "for t in reversed(positions[target_t:-1]):\n",
      "    for k in states:\n",
      "        beta[k] = sum(transition_prob[k][i] * emission_prob[i][observed_sequence[t+1]] * last_beta[i] for i in states)\n",
      "    last_beta = beta\n",
      "    beta = {}\n",
      "# Termination\n",
      "print last_beta"
     ],
     "language": "python",
     "metadata": {},
     "outputs": [
      {
       "output_type": "stream",
       "stream": "stdout",
       "text": [
        "{1: 6.060767142181313e-31, 2: 1.3183891582306042e-31}\n"
       ]
      }
     ],
     "prompt_number": 32
    },
    {
     "cell_type": "heading",
     "level": 4,
     "metadata": {},
     "source": [
      "Find alpha using forward algorithm"
     ]
    },
    {
     "cell_type": "code",
     "collapsed": false,
     "input": [
      "last_alpha = {}\n",
      "alpha = {}\n",
      "\n",
      "# Initialize\n",
      "for k in states:\n",
      "    last_alpha[k] = emission_prob[k][observed_sequence[0]] * init_state_prob[k]\n",
      "# Iterate\n",
      "for observation in observed_sequence[1: target_t + 1]:\n",
      "    for k in states:\n",
      "        alpha[k] = emission_prob[k][observation] * sum(last_alpha[i] * transition_prob[i][k] for i in states)\n",
      "    last_alpha = alpha\n",
      "    alpha = {}\n",
      "    \n",
      "# Termination\n",
      "print last_alpha"
     ],
     "language": "python",
     "metadata": {},
     "outputs": [
      {
       "output_type": "stream",
       "stream": "stdout",
       "text": [
        "{1: 1.8336190228909768e-16, 2: 1.738285390550342e-17}\n"
       ]
      }
     ],
     "prompt_number": 33
    },
    {
     "cell_type": "code",
     "collapsed": false,
     "input": [
      "for k in states:\n",
      "    print \"State %d:\" % k, last_alpha[k] * last_beta[k]"
     ],
     "language": "python",
     "metadata": {},
     "outputs": [
      {
       "output_type": "stream",
       "stream": "stdout",
       "text": [
        "State 1: 1.11131379252e-46\n",
        "State 2: 2.29173661281e-48\n"
       ]
      }
     ],
     "prompt_number": 34
    },
    {
     "cell_type": "code",
     "collapsed": false,
     "input": [],
     "language": "python",
     "metadata": {},
     "outputs": []
    }
   ],
   "metadata": {}
  }
 ]
}