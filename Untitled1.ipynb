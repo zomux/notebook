{
 "metadata": {
  "name": "",
  "signature": "sha256:dec61f6c83799c61c6607229341a47f65790b99eac3f4dcc586f50339faa549a"
 },
 "nbformat": 3,
 "nbformat_minor": 0,
 "worksheets": [
  {
   "cells": [
    {
     "cell_type": "heading",
     "level": 1,
     "metadata": {},
     "source": [
      "wsdfwef\n"
     ]
    },
    {
     "cell_type": "code",
     "collapsed": false,
     "input": [],
     "language": "python",
     "metadata": {},
     "outputs": []
    }
   ],
   "metadata": {}
  }
 ]
}