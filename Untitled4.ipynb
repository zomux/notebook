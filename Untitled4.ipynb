{
 "metadata": {
  "name": "",
  "signature": "sha256:cfdb55b04d680571c21004d42875d92df9e8d5c48ed0816f3dba6c5ef84afef3"
 },
 "nbformat": 3,
 "nbformat_minor": 0,
 "worksheets": [
  {
   "cells": [
    {
     "cell_type": "code",
     "collapsed": false,
     "input": [],
     "language": "python",
     "metadata": {},
     "outputs": []
    }
   ],
   "metadata": {}
  }
 ]
}