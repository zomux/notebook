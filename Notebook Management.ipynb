{
 "metadata": {
  "hide_input": false,
  "name": "",
  "signature": "sha256:fca0a81104a97dd3598be5552ad62f29730890fc0deb7691b71cc26f3ac2ed79"
 },
 "nbformat": 3,
 "nbformat_minor": 0,
 "worksheets": [
  {
   "cells": [
    {
     "cell_type": "code",
     "collapsed": false,
     "input": [
      "!pwd"
     ],
     "language": "python",
     "metadata": {
      "slideshow": {
       "slide_type": "subslide"
      }
     },
     "outputs": [
      {
       "output_type": "stream",
       "stream": "stdout",
       "text": [
        "/root\r\n"
       ]
      }
     ],
     "prompt_number": 26
    },
    {
     "cell_type": "code",
     "collapsed": false,
     "input": [
      "%cd ~/workdir/notebook/"
     ],
     "language": "python",
     "metadata": {
      "input_collapsed": false,
      "slideshow": {
       "slide_type": "slide"
      }
     },
     "outputs": [
      {
       "output_type": "stream",
       "stream": "stdout",
       "text": [
        "/root/workdir/notebook\n"
       ]
      }
     ],
     "prompt_number": 2
    },
    {
     "cell_type": "code",
     "collapsed": false,
     "input": [
      "%%bash\n",
      "cd ~/workdir/notebook/\n",
      "git add -A .\n",
      "git commit -m \"-\"\n",
      "git push"
     ],
     "language": "python",
     "metadata": {
      "slideshow": {
       "slide_type": "slide"
      }
     },
     "outputs": [
      {
       "output_type": "stream",
       "stream": "stdout",
       "text": [
        "[master 9367bdd] -\n",
        " Committer: root <root@dti-vps-srv722.(none)>\n",
        "Your name and email address were configured automatically based\n",
        "on your username and hostname. Please check that they are accurate.\n",
        "You can suppress this message by setting them explicitly:\n",
        "\n",
        "    git config --global user.name \"Your Name\"\n",
        "    git config --global user.email you@example.com\n",
        "\n",
        "After doing this, you may fix the identity used for this commit with:\n",
        "\n",
        "    git commit --amend --reset-author\n",
        "\n",
        " 6 files changed, 409 insertions(+), 14 deletions(-)\n",
        " create mode 100644  Theano Logistic Regression.ipynb\n",
        " create mode 100644 .ipynb_checkpoints/ Theano Logistic Regression-checkpoint.ipynb\n",
        " create mode 100644 .ipynb_checkpoints/Markdown Conversion -checkpoint.ipynb\n",
        " create mode 100644 Markdown Conversion .ipynb\n"
       ]
      },
      {
       "output_type": "stream",
       "stream": "stderr",
       "text": [
        "To git@github.com:zomux/notebook.git\n",
        "   34eb441..9367bdd  master -> master\n"
       ]
      }
     ],
     "prompt_number": 4
    },
    {
     "cell_type": "code",
     "collapsed": false,
     "input": [
      "%%bash\n",
      "git pull"
     ],
     "language": "python",
     "metadata": {},
     "outputs": [
      {
       "output_type": "stream",
       "stream": "stdout",
       "text": [
        "Updating a088141..d4ee9ac\n",
        "Fast-forward\n",
        " .DS_Store                                         |  Bin 0 -> 6148 bytes\n",
        " .ipynb_checkpoints/Bayes4 Sildes-checkpoint.ipynb |  499 +++++++++++++++++++--\n",
        " Bayes4 Sildes.ipynb                               |  378 ++++++++++++++--\n",
        " Bayes4 Sildes.slides.html                         |  394 ++++++++++++++--\n",
        " output_toggle.tpl                                 |    2 +\n",
        " 5 files changed, 1141 insertions(+), 132 deletions(-)\n",
        " create mode 100644 .DS_Store\n"
       ]
      },
      {
       "output_type": "stream",
       "stream": "stderr",
       "text": [
        "From github.com:zomux/notebook\n",
        "   a088141..d4ee9ac  master     -> origin/master\n"
       ]
      }
     ],
     "prompt_number": 5
    },
    {
     "cell_type": "heading",
     "level": 1,
     "metadata": {},
     "source": [
      "INSTALL SLIDESHOW"
     ]
    },
    {
     "cell_type": "code",
     "collapsed": false,
     "input": [
      "profile_dir = get_ipython().profile_dir.location\n",
      "profile_dir"
     ],
     "language": "python",
     "metadata": {},
     "outputs": [
      {
       "metadata": {},
       "output_type": "pyout",
       "prompt_number": 1,
       "text": [
        "u'/root/.ipython/profile_nbserver'"
       ]
      }
     ],
     "prompt_number": 1
    },
    {
     "cell_type": "code",
     "collapsed": false,
     "input": [
      "import os\n",
      "tgt = os.path.join( profile_dir, 'static', 'custom', 'extensions')\n",
      "!git clone https://github.com/ipython-contrib/IPython-notebook-extensions.git $tgt"
     ],
     "language": "python",
     "metadata": {
      "slideshow": {
       "slide_type": "slide"
      }
     },
     "outputs": [
      {
       "output_type": "stream",
       "stream": "stdout",
       "text": [
        "Cloning into '/root/.ipython/profile_nbserver/static/custom/extensions'...\r\n"
       ]
      },
      {
       "output_type": "stream",
       "stream": "stdout",
       "text": [
        "remote: Counting objects: 1023, done.\u001b[K\r\n"
       ]
      },
      {
       "output_type": "stream",
       "stream": "stdout",
       "text": [
        "Receiving objects:   0% (1/1023)   \r",
        "Receiving objects:   1% (11/1023)   \r",
        "Receiving objects:   2% (21/1023)   \r",
        "Receiving objects:   3% (31/1023)   \r",
        "Receiving objects:   4% (41/1023)   \r",
        "Receiving objects:   5% (52/1023)   \r",
        "Receiving objects:   6% (62/1023)   \r",
        "Receiving objects:   7% (72/1023)   \r",
        "Receiving objects:   8% (82/1023)   \r",
        "Receiving objects:   9% (93/1023)   \r",
        "Receiving objects:  10% (103/1023)   \r",
        "Receiving objects:  11% (113/1023)   \r"
       ]
      },
      {
       "output_type": "stream",
       "stream": "stdout",
       "text": [
        "Receiving objects:  12% (123/1023)   \r",
        "Receiving objects:  13% (133/1023)   \r",
        "Receiving objects:  14% (144/1023)   \r",
        "Receiving objects:  15% (154/1023)   \r",
        "Receiving objects:  16% (164/1023)   \r",
        "Receiving objects:  17% (174/1023)   \r",
        "Receiving objects:  18% (185/1023)   \r",
        "Receiving objects:  19% (195/1023)   \r",
        "Receiving objects:  20% (205/1023)   \r",
        "Receiving objects:  21% (215/1023)   \r",
        "Receiving objects:  22% (226/1023)   \r",
        "Receiving objects:  23% (236/1023)   \r",
        "Receiving objects:  24% (246/1023)   \r"
       ]
      },
      {
       "output_type": "stream",
       "stream": "stdout",
       "text": [
        "Receiving objects:  25% (256/1023)   \r",
        "Receiving objects:  26% (266/1023)   \r"
       ]
      },
      {
       "output_type": "stream",
       "stream": "stdout",
       "text": [
        "Receiving objects:  27% (277/1023)   \r",
        "Receiving objects:  28% (287/1023)   \r",
        "Receiving objects:  29% (297/1023)   \r"
       ]
      },
      {
       "output_type": "stream",
       "stream": "stdout",
       "text": [
        "Receiving objects:  30% (307/1023), 108.00 KiB | 199 KiB/s   \r"
       ]
      },
      {
       "output_type": "stream",
       "stream": "stdout",
       "text": [
        "Receiving objects:  30% (307/1023), 492.00 KiB | 471 KiB/s   \r"
       ]
      },
      {
       "output_type": "stream",
       "stream": "stdout",
       "text": [
        "Receiving objects:  31% (318/1023), 1.40 MiB | 924 KiB/s   \r",
        "Receiving objects:  32% (328/1023), 1.40 MiB | 924 KiB/s   \r",
        "Receiving objects:  33% (338/1023), 1.40 MiB | 924 KiB/s   \r",
        "Receiving objects:  34% (348/1023), 1.40 MiB | 924 KiB/s   \r",
        "Receiving objects:  35% (359/1023), 1.40 MiB | 924 KiB/s   \r",
        "Receiving objects:  36% (369/1023), 1.40 MiB | 924 KiB/s   \r",
        "Receiving objects:  37% (379/1023), 1.40 MiB | 924 KiB/s   \r",
        "Receiving objects:  38% (389/1023), 1.40 MiB | 924 KiB/s   \r",
        "Receiving objects:  39% (399/1023), 1.40 MiB | 924 KiB/s   \r",
        "Receiving objects:  40% (410/1023), 1.40 MiB | 924 KiB/s   \r",
        "Receiving objects:  41% (420/1023), 1.40 MiB | 924 KiB/s   \r"
       ]
      },
      {
       "output_type": "stream",
       "stream": "stdout",
       "text": [
        "Receiving objects:  41% (423/1023), 1.40 MiB | 924 KiB/s   \r"
       ]
      },
      {
       "output_type": "stream",
       "stream": "stdout",
       "text": [
        "Receiving objects:  42% (430/1023), 1.40 MiB | 924 KiB/s   \r",
        "Receiving objects:  43% (440/1023), 2.81 MiB | 1.37 MiB/s   \r",
        "Receiving objects:  44% (451/1023), 2.81 MiB | 1.37 MiB/s   \r",
        "Receiving objects:  45% (461/1023), 2.81 MiB | 1.37 MiB/s   \r",
        "Receiving objects:  46% (471/1023), 2.81 MiB | 1.37 MiB/s   \r",
        "Receiving objects:  47% (481/1023), 2.81 MiB | 1.37 MiB/s   \r",
        "Receiving objects:  48% (492/1023), 2.81 MiB | 1.37 MiB/s   \r",
        "Receiving objects:  49% (502/1023), 2.81 MiB | 1.37 MiB/s   \r",
        "Receiving objects:  50% (512/1023), 2.81 MiB | 1.37 MiB/s   \r",
        "Receiving objects:  51% (522/1023), 2.81 MiB | 1.37 MiB/s   \r",
        "Receiving objects:  52% (532/1023), 2.81 MiB | 1.37 MiB/s   \r",
        "Receiving objects:  53% (543/1023), 2.81 MiB | 1.37 MiB/s   \r",
        "Receiving objects:  54% (553/1023), 2.81 MiB | 1.37 MiB/s   \r",
        "Receiving objects:  55% (563/1023), 2.81 MiB | 1.37 MiB/s   \r",
        "Receiving objects:  56% (573/1023), 2.81 MiB | 1.37 MiB/s   \r",
        "Receiving objects:  57% (584/1023), 2.81 MiB | 1.37 MiB/s   \r",
        "Receiving objects:  58% (594/1023), 2.81 MiB | 1.37 MiB/s   \r",
        "Receiving objects:  59% (604/1023), 2.81 MiB | 1.37 MiB/s   \r"
       ]
      },
      {
       "output_type": "stream",
       "stream": "stdout",
       "text": [
        "Receiving objects:  60% (614/1023), 2.81 MiB | 1.37 MiB/s   \r",
        "Receiving objects:  61% (625/1023), 2.81 MiB | 1.37 MiB/s   \r",
        "Receiving objects:  62% (635/1023), 2.81 MiB | 1.37 MiB/s   \r",
        "Receiving objects:  63% (645/1023), 2.81 MiB | 1.37 MiB/s   \r",
        "Receiving objects:  64% (655/1023), 2.81 MiB | 1.37 MiB/s   \r",
        "Receiving objects:  65% (665/1023), 2.81 MiB | 1.37 MiB/s   \r",
        "Receiving objects:  66% (676/1023), 2.81 MiB | 1.37 MiB/s   \r",
        "Receiving objects:  67% (686/1023), 2.81 MiB | 1.37 MiB/s   \r",
        "Receiving objects:  68% (696/1023), 2.81 MiB | 1.37 MiB/s   \r",
        "Receiving objects:  69% (706/1023), 2.81 MiB | 1.37 MiB/s   \r",
        "Receiving objects:  70% (717/1023), 2.81 MiB | 1.37 MiB/s   \r",
        "Receiving objects:  71% (727/1023), 2.81 MiB | 1.37 MiB/s   \r",
        "Receiving objects:  72% (737/1023), 2.81 MiB | 1.37 MiB/s   \r",
        "Receiving objects:  73% (747/1023), 2.81 MiB | 1.37 MiB/s   \r"
       ]
      },
      {
       "output_type": "stream",
       "stream": "stdout",
       "text": [
        "Receiving objects:  74% (758/1023), 2.81 MiB | 1.37 MiB/s   \r",
        "Receiving objects:  75% (768/1023), 2.81 MiB | 1.37 MiB/s   \r",
        "Receiving objects:  76% (778/1023), 2.81 MiB | 1.37 MiB/s   \r",
        "Receiving objects:  77% (788/1023), 2.81 MiB | 1.37 MiB/s   \r",
        "Receiving objects:  78% (798/1023), 2.81 MiB | 1.37 MiB/s   \r",
        "Receiving objects:  79% (809/1023), 2.81 MiB | 1.37 MiB/s   \r",
        "Receiving objects:  80% (819/1023), 2.81 MiB | 1.37 MiB/s   \r",
        "Receiving objects:  81% (829/1023), 2.81 MiB | 1.37 MiB/s   \r",
        "Receiving objects:  82% (839/1023), 2.81 MiB | 1.37 MiB/s   \r",
        "Receiving objects:  83% (850/1023), 2.81 MiB | 1.37 MiB/s   \r",
        "Receiving objects:  84% (860/1023), 2.81 MiB | 1.37 MiB/s   \r",
        "Receiving objects:  85% (870/1023), 2.81 MiB | 1.37 MiB/s   \r",
        "Receiving objects:  86% (880/1023), 2.81 MiB | 1.37 MiB/s   \r",
        "Receiving objects:  87% (891/1023), 2.81 MiB | 1.37 MiB/s   \r",
        "Receiving objects:  88% (901/1023), 2.81 MiB | 1.37 MiB/s   \r",
        "Receiving objects:  89% (911/1023), 2.81 MiB | 1.37 MiB/s   \r",
        "Receiving objects:  90% (921/1023), 2.81 MiB | 1.37 MiB/s   \r",
        "Receiving objects:  91% (931/1023), 2.81 MiB | 1.37 MiB/s   \r",
        "Receiving objects:  92% (942/1023), 2.81 MiB | 1.37 MiB/s   \r",
        "Receiving objects:  93% (952/1023), 2.81 MiB | 1.37 MiB/s   \r",
        "Receiving objects:  94% (962/1023), 2.81 MiB | 1.37 MiB/s   \r",
        "Receiving objects:  95% (972/1023), 2.81 MiB | 1.37 MiB/s   \r",
        "Receiving objects:  96% (983/1023), 2.81 MiB | 1.37 MiB/s   \r",
        "Receiving objects:  97% (993/1023), 2.81 MiB | 1.37 MiB/s   \r",
        "Receiving objects:  98% (1003/1023), 2.81 MiB | 1.37 MiB/s   \r",
        "Receiving objects:  99% (1013/1023), 2.81 MiB | 1.37 MiB/s   \r",
        "remote: Total 1023 (delta 0), reused 0 (delta 0)\u001b[K\r\n",
        "Receiving objects: 100% (1023/1023), 2.81 MiB | 1.37 MiB/s   \r",
        "Receiving objects: 100% (1023/1023), 2.99 MiB | 1.37 MiB/s, done.\r\n",
        "Resolving deltas:   0% (0/478)   \r",
        "Resolving deltas:   1% (7/478)   \r",
        "Resolving deltas:   2% (10/478)   \r",
        "Resolving deltas:   3% (17/478)   \r",
        "Resolving deltas:   7% (35/478)   \r"
       ]
      },
      {
       "output_type": "stream",
       "stream": "stdout",
       "text": [
        "Resolving deltas:   8% (39/478)   \r",
        "Resolving deltas:   9% (45/478)   \r",
        "Resolving deltas:  10% (48/478)   \r",
        "Resolving deltas:  11% (54/478)   \r",
        "Resolving deltas:  12% (60/478)   \r",
        "Resolving deltas:  13% (63/478)   \r",
        "Resolving deltas:  14% (68/478)   \r",
        "Resolving deltas:  15% (76/478)   \r",
        "Resolving deltas:  16% (79/478)   \r",
        "Resolving deltas:  18% (87/478)   \r",
        "Resolving deltas:  19% (95/478)   \r",
        "Resolving deltas:  20% (96/478)   \r",
        "Resolving deltas:  21% (101/478)   \r",
        "Resolving deltas:  22% (106/478)   \r",
        "Resolving deltas:  23% (110/478)   \r",
        "Resolving deltas:  24% (116/478)   \r",
        "Resolving deltas:  25% (120/478)   \r",
        "Resolving deltas:  26% (126/478)   \r",
        "Resolving deltas:  28% (134/478)   \r",
        "Resolving deltas:  29% (141/478)   \r",
        "Resolving deltas:  31% (149/478)   \r",
        "Resolving deltas:  32% (155/478)   \r",
        "Resolving deltas:  43% (210/478)   \r",
        "Resolving deltas:  44% (211/478)   \r",
        "Resolving deltas:  45% (217/478)   \r",
        "Resolving deltas:  48% (231/478)   \r",
        "Resolving deltas:  53% (254/478)   \r",
        "Resolving deltas:  54% (260/478)   \r",
        "Resolving deltas:  55% (264/478)   \r",
        "Resolving deltas:  57% (277/478)   \r",
        "Resolving deltas:  58% (278/478)   \r"
       ]
      },
      {
       "output_type": "stream",
       "stream": "stdout",
       "text": [
        "Resolving deltas:  59% (284/478)   \r",
        "Resolving deltas:  61% (293/478)   \r",
        "Resolving deltas:  62% (297/478)   \r",
        "Resolving deltas:  74% (357/478)   \r",
        "Resolving deltas:  75% (359/478)   \r",
        "Resolving deltas:  78% (373/478)   \r",
        "Resolving deltas:  85% (409/478)   \r",
        "Resolving deltas:  86% (412/478)   \r",
        "Resolving deltas:  87% (416/478)   \r",
        "Resolving deltas:  89% (426/478)   \r",
        "Resolving deltas:  92% (444/478)   \r",
        "Resolving deltas:  93% (445/478)   \r",
        "Resolving deltas:  94% (450/478)   \r",
        "Resolving deltas:  95% (456/478)   \r",
        "Resolving deltas:  96% (462/478)   \r",
        "Resolving deltas:  97% (465/478)   \r",
        "Resolving deltas:  98% (469/478)   \r",
        "Resolving deltas: 100% (478/478)   \r",
        "Resolving deltas: 100% (478/478), done.\r\n"
       ]
      }
     ],
     "prompt_number": 3
    },
    {
     "cell_type": "code",
     "collapsed": false,
     "input": [
      "!find $tgt "
     ],
     "language": "python",
     "metadata": {},
     "outputs": [
      {
       "output_type": "stream",
       "stream": "stdout",
       "text": [
        "/root/.ipython/profile_nbserver/static/custom/extensions\r\n",
        "/root/.ipython/profile_nbserver/static/custom/extensions/.gitignore\r\n",
        "/root/.ipython/profile_nbserver/static/custom/extensions/README.md\r\n",
        "/root/.ipython/profile_nbserver/static/custom/extensions/usability\r\n",
        "/root/.ipython/profile_nbserver/static/custom/extensions/usability/chrome_clipboard.js\r\n",
        "/root/.ipython/profile_nbserver/static/custom/extensions/usability/autoscroll.js\r\n",
        "/root/.ipython/profile_nbserver/static/custom/extensions/usability/hide_input_all.js\r\n",
        "/root/.ipython/profile_nbserver/static/custom/extensions/usability/hide_input\r\n",
        "/root/.ipython/profile_nbserver/static/custom/extensions/usability/hide_input/hide_input.tpl\r\n",
        "/root/.ipython/profile_nbserver/static/custom/extensions/usability/hide_input/ipython_nbconvert_config.py\r\n",
        "/root/.ipython/profile_nbserver/static/custom/extensions/usability/hide_input/main.js\r\n",
        "/root/.ipython/profile_nbserver/static/custom/extensions/usability/hide_input/strip_output_prompt.py\r\n",
        "/root/.ipython/profile_nbserver/static/custom/extensions/usability/init_cell\r\n",
        "/root/.ipython/profile_nbserver/static/custom/extensions/usability/init_cell/main.js\r\n",
        "/root/.ipython/profile_nbserver/static/custom/extensions/usability/breakpoints.js\r\n",
        "/root/.ipython/profile_nbserver/static/custom/extensions/usability/noscroll.js\r\n",
        "/root/.ipython/profile_nbserver/static/custom/extensions/usability/codefolding\r\n",
        "/root/.ipython/profile_nbserver/static/custom/extensions/usability/codefolding/indent-fold.js\r\n",
        "/root/.ipython/profile_nbserver/static/custom/extensions/usability/codefolding/firstline-fold.js\r\n",
        "/root/.ipython/profile_nbserver/static/custom/extensions/usability/codefolding/codefoldingpreprocessor.py\r\n",
        "/root/.ipython/profile_nbserver/static/custom/extensions/usability/codefolding/codefolding.js\r\n",
        "/root/.ipython/profile_nbserver/static/custom/extensions/usability/codefolding/foldgutter.css\r\n",
        "/root/.ipython/profile_nbserver/static/custom/extensions/usability/search.js\r\n",
        "/root/.ipython/profile_nbserver/static/custom/extensions/usability/split-combine.js\r\n",
        "/root/.ipython/profile_nbserver/static/custom/extensions/usability/runtools\r\n",
        "/root/.ipython/profile_nbserver/static/custom/extensions/usability/runtools/runtools.js\r\n",
        "/root/.ipython/profile_nbserver/static/custom/extensions/usability/runtools/runtools.css\r\n",
        "/root/.ipython/profile_nbserver/static/custom/extensions/usability/navigation-hotkeys.js\r\n",
        "/root/.ipython/profile_nbserver/static/custom/extensions/usability/dragdrop\r\n",
        "/root/.ipython/profile_nbserver/static/custom/extensions/usability/dragdrop/50-start-drag-and-drop.ipy\r\n",
        "/root/.ipython/profile_nbserver/static/custom/extensions/usability/dragdrop/drag-and-drop.py\r\n",
        "/root/.ipython/profile_nbserver/static/custom/extensions/usability/dragdrop/drag-and-drop.js\r\n",
        "/root/.ipython/profile_nbserver/static/custom/extensions/usability/dragdrop/embed.py\r\n",
        "/root/.ipython/profile_nbserver/static/custom/extensions/usability/dragdrop/drag_and_drop.py\r\n",
        "/root/.ipython/profile_nbserver/static/custom/extensions/usability/no_exec_dunder.js\r\n",
        "/root/.ipython/profile_nbserver/static/custom/extensions/usability/read-only.js\r\n",
        "/root/.ipython/profile_nbserver/static/custom/extensions/usability/toggle_all_line_number.js\r\n",
        "/root/.ipython/profile_nbserver/static/custom/extensions/usability/comment-uncomment.js\r\n",
        "/root/.ipython/profile_nbserver/static/custom/extensions/usability/shift-tab.js\r\n",
        "/root/.ipython/profile_nbserver/static/custom/extensions/usability/help_panel\r\n",
        "/root/.ipython/profile_nbserver/static/custom/extensions/usability/help_panel/help_panel.js\r\n",
        "/root/.ipython/profile_nbserver/static/custom/extensions/usability/help_panel/help_panel.css\r\n",
        "/root/.ipython/profile_nbserver/static/custom/extensions/usability/autosavetime.js\r\n",
        "/root/.ipython/profile_nbserver/static/custom/extensions/usability/aspell\r\n",
        "/root/.ipython/profile_nbserver/static/custom/extensions/usability/aspell/ipy-aspell-server.py\r\n",
        "/root/.ipython/profile_nbserver/static/custom/extensions/usability/aspell/ipy-aspell.css\r\n",
        "/root/.ipython/profile_nbserver/static/custom/extensions/usability/aspell/ipy-aspell.js\r\n",
        "/root/.ipython/profile_nbserver/static/custom/extensions/usability/hide_input.js\r\n",
        "/root/.ipython/profile_nbserver/static/custom/extensions/usability/linenumbers.js\r\n",
        "/root/.ipython/profile_nbserver/static/custom/extensions/usability/execute_time\r\n",
        "/root/.ipython/profile_nbserver/static/custom/extensions/usability/execute_time/ExecuteTime.js\r\n",
        "/root/.ipython/profile_nbserver/static/custom/extensions/usability/execute_time/ExecuteTime.css\r\n",
        "/root/.ipython/profile_nbserver/static/custom/extensions/usability/clean_start.js\r\n",
        "/root/.ipython/profile_nbserver/static/custom/extensions/COPYING.rst\r\n",
        "/root/.ipython/profile_nbserver/static/custom/extensions/custom.example.js\r\n",
        "/root/.ipython/profile_nbserver/static/custom/extensions/testing\r\n",
        "/root/.ipython/profile_nbserver/static/custom/extensions/testing/swc\r\n",
        "/root/.ipython/profile_nbserver/static/custom/extensions/testing/swc/main.js\r\n",
        "/root/.ipython/profile_nbserver/static/custom/extensions/testing/history\r\n",
        "/root/.ipython/profile_nbserver/static/custom/extensions/testing/history/ipy_nb_history_websocket.py\r\n",
        "/root/.ipython/profile_nbserver/static/custom/extensions/testing/history/history.js\r\n",
        "/root/.ipython/profile_nbserver/static/custom/extensions/testing/hierarchical_collapse\r\n",
        "/root/.ipython/profile_nbserver/static/custom/extensions/testing/hierarchical_collapse/hierarchical_collapse_preprocessor.py\r\n",
        "/root/.ipython/profile_nbserver/static/custom/extensions/testing/hierarchical_collapse/main.css\r\n",
        "/root/.ipython/profile_nbserver/static/custom/extensions/testing/hierarchical_collapse/hierarchical_collapse.tpl\r\n",
        "/root/.ipython/profile_nbserver/static/custom/extensions/testing/hierarchical_collapse/ipython_nbconvert_config.py\r\n",
        "/root/.ipython/profile_nbserver/static/custom/extensions/testing/hierarchical_collapse/main.js\r\n",
        "/root/.ipython/profile_nbserver/static/custom/extensions/testing/cellstate.js\r\n",
        "/root/.ipython/profile_nbserver/static/custom/extensions/publishing\r\n",
        "/root/.ipython/profile_nbserver/static/custom/extensions/publishing/printviewmenu_button.js\r\n",
        "/root/.ipython/profile_nbserver/static/custom/extensions/publishing/htmltools\r\n",
        "/root/.ipython/profile_nbserver/static/custom/extensions/publishing/htmltools/js_highlight.py\r\n",
        "/root/.ipython/profile_nbserver/static/custom/extensions/publishing/printview_button.js\r\n",
        "/root/.ipython/profile_nbserver/static/custom/extensions/publishing/gist_it.js\r\n",
        "/root/.ipython/profile_nbserver/static/custom/extensions/publishing/nbviewer_theme\r\n",
        "/root/.ipython/profile_nbserver/static/custom/extensions/publishing/nbviewer_theme/css\r\n",
        "/root/.ipython/profile_nbserver/static/custom/extensions/publishing/nbviewer_theme/css/duck.css\r\n",
        "/root/.ipython/profile_nbserver/static/custom/extensions/publishing/nbviewer_theme/css/dark.css\r\n",
        "/root/.ipython/profile_nbserver/static/custom/extensions/publishing/nbviewer_theme/css/compact.css\r\n",
        "/root/.ipython/profile_nbserver/static/custom/extensions/publishing/nbviewer_theme/main.js\r\n",
        "/root/.ipython/profile_nbserver/static/custom/extensions/publishing/nbconvert_button.js\r\n",
        "/root/.ipython/profile_nbserver/static/custom/extensions/.git\r\n",
        "/root/.ipython/profile_nbserver/static/custom/extensions/.git/refs\r\n",
        "/root/.ipython/profile_nbserver/static/custom/extensions/.git/refs/heads\r\n",
        "/root/.ipython/profile_nbserver/static/custom/extensions/.git/refs/heads/master\r\n",
        "/root/.ipython/profile_nbserver/static/custom/extensions/.git/refs/tags\r\n",
        "/root/.ipython/profile_nbserver/static/custom/extensions/.git/refs/remotes\r\n",
        "/root/.ipython/profile_nbserver/static/custom/extensions/.git/refs/remotes/origin\r\n",
        "/root/.ipython/profile_nbserver/static/custom/extensions/.git/refs/remotes/origin/HEAD\r\n",
        "/root/.ipython/profile_nbserver/static/custom/extensions/.git/logs\r\n",
        "/root/.ipython/profile_nbserver/static/custom/extensions/.git/logs/refs\r\n",
        "/root/.ipython/profile_nbserver/static/custom/extensions/.git/logs/refs/heads\r\n",
        "/root/.ipython/profile_nbserver/static/custom/extensions/.git/logs/refs/heads/master\r\n",
        "/root/.ipython/profile_nbserver/static/custom/extensions/.git/logs/HEAD\r\n",
        "/root/.ipython/profile_nbserver/static/custom/extensions/.git/packed-refs\r\n",
        "/root/.ipython/profile_nbserver/static/custom/extensions/.git/info\r\n",
        "/root/.ipython/profile_nbserver/static/custom/extensions/.git/info/exclude\r\n",
        "/root/.ipython/profile_nbserver/static/custom/extensions/.git/hooks\r\n",
        "/root/.ipython/profile_nbserver/static/custom/extensions/.git/hooks/prepare-commit-msg.sample\r\n",
        "/root/.ipython/profile_nbserver/static/custom/extensions/.git/hooks/pre-commit.sample\r\n",
        "/root/.ipython/profile_nbserver/static/custom/extensions/.git/hooks/pre-rebase.sample\r\n",
        "/root/.ipython/profile_nbserver/static/custom/extensions/.git/hooks/post-update.sample\r\n",
        "/root/.ipython/profile_nbserver/static/custom/extensions/.git/hooks/pre-applypatch.sample\r\n",
        "/root/.ipython/profile_nbserver/static/custom/extensions/.git/hooks/commit-msg.sample\r\n",
        "/root/.ipython/profile_nbserver/static/custom/extensions/.git/hooks/applypatch-msg.sample\r\n",
        "/root/.ipython/profile_nbserver/static/custom/extensions/.git/hooks/update.sample\r\n",
        "/root/.ipython/profile_nbserver/static/custom/extensions/.git/config\r\n",
        "/root/.ipython/profile_nbserver/static/custom/extensions/.git/description\r\n",
        "/root/.ipython/profile_nbserver/static/custom/extensions/.git/objects\r\n",
        "/root/.ipython/profile_nbserver/static/custom/extensions/.git/objects/info\r\n",
        "/root/.ipython/profile_nbserver/static/custom/extensions/.git/objects/pack\r\n",
        "/root/.ipython/profile_nbserver/static/custom/extensions/.git/objects/pack/pack-19cb3ba0e585b143177b38409440675fda68f9df.pack\r\n",
        "/root/.ipython/profile_nbserver/static/custom/extensions/.git/objects/pack/pack-19cb3ba0e585b143177b38409440675fda68f9df.idx\r\n",
        "/root/.ipython/profile_nbserver/static/custom/extensions/.git/HEAD\r\n",
        "/root/.ipython/profile_nbserver/static/custom/extensions/.git/index\r\n",
        "/root/.ipython/profile_nbserver/static/custom/extensions/.git/branches\r\n",
        "/root/.ipython/profile_nbserver/static/custom/extensions/styling\r\n",
        "/root/.ipython/profile_nbserver/static/custom/extensions/styling/css_selector\r\n",
        "/root/.ipython/profile_nbserver/static/custom/extensions/styling/css_selector/css\r\n",
        "/root/.ipython/profile_nbserver/static/custom/extensions/styling/css_selector/css/duck.css\r\n",
        "/root/.ipython/profile_nbserver/static/custom/extensions/styling/css_selector/css/xkcd.css\r\n",
        "/root/.ipython/profile_nbserver/static/custom/extensions/styling/css_selector/css/dark.css\r\n",
        "/root/.ipython/profile_nbserver/static/custom/extensions/styling/css_selector/css/compact.css\r\n",
        "/root/.ipython/profile_nbserver/static/custom/extensions/styling/css_selector/main.js\r\n",
        "/root/.ipython/profile_nbserver/static/custom/extensions/styling/zenmode\r\n",
        "/root/.ipython/profile_nbserver/static/custom/extensions/styling/zenmode/main.css\r\n",
        "/root/.ipython/profile_nbserver/static/custom/extensions/styling/zenmode/images\r\n",
        "/root/.ipython/profile_nbserver/static/custom/extensions/styling/zenmode/images/ipynblogo0.png\r\n",
        "/root/.ipython/profile_nbserver/static/custom/extensions/styling/zenmode/images/back11.jpg\r\n",
        "/root/.ipython/profile_nbserver/static/custom/extensions/styling/zenmode/images/ipynblogo1.png\r\n",
        "/root/.ipython/profile_nbserver/static/custom/extensions/styling/zenmode/images/back21.jpg\r\n",
        "/root/.ipython/profile_nbserver/static/custom/extensions/styling/zenmode/images/back1.jpg\r\n",
        "/root/.ipython/profile_nbserver/static/custom/extensions/styling/zenmode/images/back2.jpg\r\n",
        "/root/.ipython/profile_nbserver/static/custom/extensions/styling/zenmode/images/back3.jpg\r\n",
        "/root/.ipython/profile_nbserver/static/custom/extensions/styling/zenmode/images/back22.jpg\r\n",
        "/root/.ipython/profile_nbserver/static/custom/extensions/styling/zenmode/images/back12.jpg\r\n",
        "/root/.ipython/profile_nbserver/static/custom/extensions/styling/zenmode/main.js\r\n",
        "/root/.ipython/profile_nbserver/static/custom/extensions/wiki-images\r\n",
        "/root/.ipython/profile_nbserver/static/custom/extensions/wiki-images/toggle_codecells.png\r\n",
        "/root/.ipython/profile_nbserver/static/custom/extensions/wiki-images/cellstate-3.png\r\n",
        "/root/.ipython/profile_nbserver/static/custom/extensions/wiki-images/read_only_ext.png\r\n",
        "/root/.ipython/profile_nbserver/static/custom/extensions/wiki-images/codefolding_indent_folded_2.png\r\n",
        "/root/.ipython/profile_nbserver/static/custom/extensions/wiki-images/breakpoint_ext.png\r\n",
        "/root/.ipython/profile_nbserver/static/custom/extensions/wiki-images/codefolding_firstline_unfolded.png\r\n",
        "/root/.ipython/profile_nbserver/static/custom/extensions/wiki-images/nbconvert-button.png\r\n",
        "/root/.ipython/profile_nbserver/static/custom/extensions/wiki-images/codefolding_firstline_folded.png\r\n",
        "/root/.ipython/profile_nbserver/static/custom/extensions/wiki-images/codefolding_indent_folded_1.png\r\n",
        "/root/.ipython/profile_nbserver/static/custom/extensions/wiki-images/codefolding_indent_unfolded.png\r\n",
        "/root/.ipython/profile_nbserver/static/custom/extensions/wiki-images/hide_input_all_show.png\r\n",
        "/root/.ipython/profile_nbserver/static/custom/extensions/wiki-images/runtools.png\r\n",
        "/root/.ipython/profile_nbserver/static/custom/extensions/wiki-images/execution-timings-menu.png\r\n",
        "/root/.ipython/profile_nbserver/static/custom/extensions/wiki-images/cellstate-2.png\r\n",
        "/root/.ipython/profile_nbserver/static/custom/extensions/wiki-images/help_panel_ext.png\r\n",
        "/root/.ipython/profile_nbserver/static/custom/extensions/wiki-images/runtools_nb.png\r\n",
        "/root/.ipython/profile_nbserver/static/custom/extensions/wiki-images/help_panel_ext_button.png\r\n",
        "/root/.ipython/profile_nbserver/static/custom/extensions/wiki-images/hide_input_all_hide.png\r\n",
        "/root/.ipython/profile_nbserver/static/custom/extensions/wiki-images/runtools_execute.png\r\n",
        "/root/.ipython/profile_nbserver/static/custom/extensions/wiki-images/breakpoint_ext_buttons.png\r\n",
        "/root/.ipython/profile_nbserver/static/custom/extensions/wiki-images/execution-timings-box.png\r\n",
        "/root/.ipython/profile_nbserver/static/custom/extensions/wiki-images/cellstate-1.png\r\n",
        "/root/.ipython/profile_nbserver/static/custom/extensions/wiki-images/printview-button.png\r\n",
        "/root/.ipython/profile_nbserver/static/custom/extensions/wiki-images/runtools_marker.png\r\n",
        "/root/.ipython/profile_nbserver/static/custom/extensions/slidemode\r\n",
        "/root/.ipython/profile_nbserver/static/custom/extensions/slidemode/main.css\r\n",
        "/root/.ipython/profile_nbserver/static/custom/extensions/slidemode/main.js\r\n"
       ]
      }
     ],
     "prompt_number": 36
    },
    {
     "cell_type": "code",
     "collapsed": false,
     "input": [
      "from IPython.display import display, Javascript\n",
      "display(Javascript(\"require(['custom/extensions/slidemode/main']);\"))"
     ],
     "language": "python",
     "metadata": {},
     "outputs": [
      {
       "javascript": [
        "require(['custom/extensions/slidemode/main']);"
       ],
       "metadata": {},
       "output_type": "display_data",
       "text": [
        "<IPython.core.display.Javascript at 0x3f01c10>"
       ]
      },
      {
       "javascript": [
        "$('#maintoolbar').show()"
       ],
       "metadata": {},
       "output_type": "display_data",
       "text": [
        "<IPython.core.display.Javascript at 0x3f01c50>"
       ]
      }
     ],
     "prompt_number": 15
    },
    {
     "cell_type": "code",
     "collapsed": false,
     "input": [
      "display(Javascript(\"(document.getElementById('maintoolbar').style.display='block');\"))"
     ],
     "language": "python",
     "metadata": {},
     "outputs": [
      {
       "javascript": [
        "(document.getElementById('maintoolbar').style.display='block');"
       ],
       "metadata": {},
       "output_type": "display_data",
       "text": [
        "<IPython.core.display.Javascript at 0x3f0d190>"
       ]
      }
     ],
     "prompt_number": 31
    },
    {
     "cell_type": "code",
     "collapsed": false,
     "input": [
      "from IPython.display import display, Javascript\n",
      "display(Javascript(\"require(['custom/extensions/usability/hide_input_all']);\"))"
     ],
     "language": "python",
     "metadata": {
      "input_collapsed": false
     },
     "outputs": [
      {
       "javascript": [
        "require(['custom/extensions/usability/hide_input_all']);"
       ],
       "metadata": {},
       "output_type": "display_data",
       "text": [
        "<IPython.core.display.Javascript at 0x3f0d250>"
       ]
      }
     ],
     "prompt_number": 39
    },
    {
     "cell_type": "code",
     "collapsed": false,
     "input": [
      "from IPython.display import display, Javascript\n",
      "display(Javascript(\"require(['custom/extensions/styling/zenmode/main']);\"))"
     ],
     "language": "python",
     "metadata": {},
     "outputs": [
      {
       "javascript": [
        "require(['custom/extensions/styling/zenmode/main']);"
       ],
       "metadata": {},
       "output_type": "display_data",
       "text": [
        "<IPython.core.display.Javascript at 0x3f0d050>"
       ]
      }
     ],
     "prompt_number": 40
    }
   ],
   "metadata": {}
  }
 ]
}