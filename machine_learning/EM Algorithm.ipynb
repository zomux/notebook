{
 "cells": [
  {
   "cell_type": "markdown",
   "metadata": {},
   "source": [
    "# EM Algorithm"
   ]
  },
  {
   "cell_type": "code",
   "execution_count": 1,
   "metadata": {
    "collapsed": false
   },
   "outputs": [],
   "source": [
    "import seaborn\n",
    "seaborn.set_palette(\"deep\", desat=.6)\n",
    "seaborn.set_context(rc={\"figure.figsize\": (8, 6)})\n",
    "seaborn.set_context(\"notebook\", font_scale=1.5, rc={\"lines.linewidth\": 2.5})"
   ]
  },
  {
   "cell_type": "markdown",
   "metadata": {},
   "source": [
    "### Example: Mixture of normals"
   ]
  },
  {
   "cell_type": "code",
   "execution_count": 2,
   "metadata": {
    "collapsed": false
   },
   "outputs": [
    {
     "name": "stdout",
     "output_type": "stream",
     "text": [
      "z: [0 0 0 0 0 1 0 0 0 0 0 0 0 1 1 0 0 0 0 0 1 0 0 0 0 1 0 0 0 0 0 1 0 1 1 0 1\n",
      " 0 0 0 0 0 0 1 1 0 0 1 1 1 0 0 1 1 1 1 1 0 1 0 0 0 1 0 0 0 0 0 1 1 0 1 0 1\n",
      " 0 1 0 0 0 1 1 1 1 1 0 0 0 0 0 1 0 0 1 1 0 1 1 0 0 0]\n",
      "x: ['1.10', '2.25', '1.66', '0.11', '2.28', '4.50', '3.38', '3.15', '4.44', '1.47', '1.41', '1.74', '1.56', '1.51', '4.90', '2.23', '2.17', '1.87', '4.03', '1.73', '3.88', '3.12', '2.68', '0.89', '1.76', '3.56', '2.37', '1.96', '3.39', '2.83', '0.99', '7.06', '2.88', '8.99', '3.39', '1.79', '2.88', '3.87', '2.63', '2.25', '1.96', '1.34', '2.28', '4.99', '3.40', '1.10', '1.56', '6.65', '6.70', '1.56', '1.90', '2.21', '7.98', '2.93', '4.24', '4.91', '8.57', '4.57', '7.01', '0.59', '2.59', '1.81', '6.43', '1.64', '3.06', '2.03', '2.60', '1.97', '3.70', '6.96', '1.54', '5.05', '1.49', '2.71', '-0.14', '4.44', '2.97', '3.46', '1.51', '5.95', '7.35', '2.97', '4.35', '3.87', '1.94', '1.45', '2.78', '1.13', '0.70', '4.76', '1.22', '3.16', '7.13', '4.60', '2.81', '4.76', '0.83', '1.87', '2.03', '1.34']\n"
     ]
    },
    {
     "data": {
      "image/png": "[encoded data removed]",
      "text/plain": [
       "<matplotlib.figure.Figure at 0x3e8b810>"
      ]
     },
     "metadata": {},
     "output_type": "display_data"
    }
   ],
   "source": [
    "%matplotlib inline\n",
    "import numpy as np\n",
    "import matplotlib.pyplot as plt\n",
    "\n",
    "# True parameter values\n",
    "mu_true = [2, 5]\n",
    "sigma_true = [1, 2]\n",
    "psi_true = .4\n",
    "n = 100\n",
    "\n",
    "# Simulate from each distribution according to mixing proportion psi\n",
    "z = np.random.binomial(1, psi_true, n)\n",
    "print \"z:\", z\n",
    "x = [np.random.normal(mu_true[i], sigma_true[i]) for i in z]\n",
    "print \"x:\", [\"%.2f\" % _x for _x in x]\n",
    "_ = plt.hist(x, bins=20)"
   ]
  },
  {
   "cell_type": "markdown",
   "metadata": {},
   "source": [
    "### EM"
   ]
  },
  {
   "cell_type": "markdown",
   "metadata": {},
   "source": [
    "#### E-step\n",
    "\n",
    "Get expectation of the label for each data point with current parameters."
   ]
  },
  {
   "cell_type": "code",
   "execution_count": 3,
   "metadata": {
    "collapsed": true
   },
   "outputs": [],
   "source": [
    "from scipy.stats.distributions import norm\n",
    "\n",
    "def Estep(x, mu, sigma, psi):\n",
    "    a = psi * norm.pdf(x, mu[0], sigma[0])\n",
    "    b = (1. - psi) * norm.pdf(x, mu[1], sigma[1])\n",
    "    return b / (a + b)"
   ]
  },
  {
   "cell_type": "markdown",
   "metadata": {},
   "source": [
    "#### M-step\n",
    "\n",
    "With the expectation of the label, maximize the likelihood with parameters"
   ]
  },
  {
   "cell_type": "code",
   "execution_count": 4,
   "metadata": {
    "collapsed": true
   },
   "outputs": [],
   "source": [
    "def Mstep(x, w):\n",
    "    psi = np.mean(w) \n",
    "    \n",
    "    mu = [np.sum((1-w) * x)/np.sum(1-w), np.sum(w * x)/np.sum(w)]\n",
    "    \n",
    "    sigma = [np.sqrt(np.sum((1-w) * (x - mu[0])**2)/np.sum(1-w)), \n",
    "             np.sqrt(np.sum(w * (x - mu[1])**2)/np.sum(w))]\n",
    "    \n",
    "    return mu, sigma, psi"
   ]
  },
  {
   "cell_type": "code",
   "execution_count": 5,
   "metadata": {
    "collapsed": false
   },
   "outputs": [
    {
     "name": "stdout",
     "output_type": "stream",
     "text": [
      "A: N(1.9530, 0.7498)\n",
      "B: N(4.2750, 2.0693)\n",
      "psi: 0.4935\n"
     ]
    }
   ],
   "source": [
    "# Initialize values\n",
    "mu = np.random.normal(size=2)\n",
    "sigma = np.random.uniform(0, 10, 2)\n",
    "psi = np.random.random()\n",
    "\n",
    "# Stopping criterion\n",
    "crit = 1e-6\n",
    "\n",
    "# Convergence flag\n",
    "converged = False\n",
    "\n",
    "# Loop until converged\n",
    "while not converged:\n",
    "    \n",
    "    # E-step\n",
    "    w = Estep(x, mu, sigma, psi)\n",
    "    # M-step\n",
    "    mu_new, sigma_new, psi_new = Mstep(x, w)\n",
    "    \n",
    "    # Check convergence\n",
    "    converged = ((np.abs(psi_new - psi) < crit) \n",
    "                 & np.all(np.abs((np.array(mu_new) - np.array(mu)) < crit))\n",
    "                 & np.all(np.abs((np.array(sigma_new) - np.array(sigma)) < crit)))\n",
    "    mu, sigma, psi = mu_new, sigma_new, psi_new\n",
    "                \n",
    "print('A: N({0:.4f}, {1:.4f})\\nB: N({2:.4f}, {3:.4f})\\npsi: {4:.4f}'.format(\n",
    "                        mu_new[0], sigma_new[0], mu_new[1], sigma_new[1], psi_new))"
   ]
  },
  {
   "cell_type": "markdown",
   "metadata": {},
   "source": [
    "# Exercise: Zero-inflated Poisson"
   ]
  },
  {
   "cell_type": "code",
   "execution_count": 192,
   "metadata": {
    "collapsed": false
   },
   "outputs": [
    {
     "data": {
      "image/png": "[encoded data removed]",
      "text/plain": [
       "<matplotlib.figure.Figure at 0x41d0e50>"
      ]
     },
     "metadata": {},
     "output_type": "display_data"
    }
   ],
   "source": [
    "import numpy as np\n",
    "\n",
    "# True parameter values\n",
    "mu_true = 1.5\n",
    "psi_true = .4\n",
    "n = 100\n",
    "\n",
    "# Simulate some data\n",
    "data = np.array([np.random.poisson(mu_true)*(np.random.random()<psi_true) for i in range(n)])\n",
    "_ = plt.hist(data, bins=9)"
   ]
  },
  {
   "cell_type": "markdown",
   "metadata": {},
   "source": [
    "### EM"
   ]
  },
  {
   "cell_type": "code",
   "execution_count": 193,
   "metadata": {
    "collapsed": false
   },
   "outputs": [
    {
     "name": "stdout",
     "output_type": "stream",
     "text": [
      "1.6367610781 0.384906513497\n"
     ]
    }
   ],
   "source": [
    "from scipy.stats.distributions import poisson\n",
    "\n",
    "def Estep(x, mu, psi):\n",
    "    a = poisson.pmf(x, mu) * psi\n",
    "    b = (x == 0) * (1 - psi)\n",
    "    return a / (a + b)\n",
    "\n",
    "def Mstep(x, w):\n",
    "    psi = float(sum(w)) / len(w)\n",
    "    mu = float(sum(x)) / sum(w)\n",
    "    return mu, psi\n",
    "\n",
    "# Initialize values\n",
    "mu = np.random.random()\n",
    "psi = np.random.random()\n",
    "\n",
    "# Stopping criterion\n",
    "crit = 1e-6\n",
    "\n",
    "# Convergence flag\n",
    "converged = False\n",
    "\n",
    "x = data\n",
    "\n",
    "# Loop until converged\n",
    "c = 0\n",
    "while not converged:\n",
    "    \n",
    "    # E-step\n",
    "    w = Estep(x, mu, psi)\n",
    "    # M-step\n",
    "    mu_new, psi_new = Mstep(x, w)\n",
    "    \n",
    "    # Check convergence\n",
    "    converged = ((np.abs(psi_new - psi) < crit) and (np.abs(mu_new - mu) < crit))\n",
    "    mu, psi = mu_new, psi_new\n",
    "    c += 1\n",
    "    if c >= 50:\n",
    "        break\n",
    "                \n",
    "print mu, psi"
   ]
  },
  {
   "cell_type": "markdown",
   "metadata": {},
   "source": [
    "### References\n"
   ]
  },
  {
   "cell_type": "markdown",
   "metadata": {},
   "source": [
    "- http://nbviewer.ipython.org/github/fonnesbeck/Bios366/blob/master/notebooks/Section3_3-Expectation-Maximization.ipynb\n",
    "- http://raphael.uaca.com/machine_learning/em_algorithm.md"
   ]
  }
 ],
 "metadata": {
  "kernelspec": {
   "display_name": "Python 2",
   "language": "python",
   "name": "python2"
  },
  "language_info": {
   "codemirror_mode": {
    "name": "ipython",
    "version": 2
   },
   "file_extension": ".py",
   "mimetype": "text/x-python",
   "name": "python",
   "nbconvert_exporter": "python",
   "pygments_lexer": "ipython2",
   "version": "2.7"
  }
 },
 "nbformat": 4,
 "nbformat_minor": 0
}
