{
 "cells": [
  {
   "cell_type": "markdown",
   "metadata": {},
   "source": [
    "# EM Algorithm"
   ]
  },
  {
   "cell_type": "code",
   "execution_count": 1,
   "metadata": {
    "collapsed": false
   },
   "outputs": [],
   "source": [
    "import seaborn\n",
    "seaborn.set_palette(\"deep\", desat=.6)\n",
    "seaborn.set_context(rc={\"figure.figsize\": (8, 6)})\n",
    "seaborn.set_context(\"notebook\", font_scale=1.5, rc={\"lines.linewidth\": 2.5})"
   ]
  },
  {
   "cell_type": "markdown",
   "metadata": {},
   "source": [
    "### Example: Mixture of normals"
   ]
  },
  {
   "cell_type": "code",
   "execution_count": 11,
   "metadata": {
    "collapsed": false
   },
   "outputs": [
    {
     "name": "stdout",
     "output_type": "stream",
     "text": [
      "z: [0 1 1 1 1 1 0 0 0 1 1 1 0 1 0 0 1 0 0 0 0 0 0 0 1 0 0 0 0 1 0 0 0 0 0 0 1\n",
      " 1 0 0 1 0 0 1 1 1 0 0 0 1 0 1 0 1 0 1 1 0 0 1 0 1 0 0 1 1 1 0 1 1 0 0 0 1\n",
      " 0 1 1 0 0 1 0 1 1 1 1 0 0 0 0 0 1 0 0 1 1 0 0 0 0 1]\n",
      "x: ['1.35', '6.26', '6.59', '6.92', '7.22', '6.65', '1.23', '0.69', '1.35', '6.54', '5.50', '5.48', '1.16', '4.30', '1.88', '3.52', '4.07', '1.74', '1.12', '0.36', '2.38', '1.60', '3.07', '-0.09', '7.54', '4.21', '1.48', '1.50', '2.01', '4.25', '2.23', '0.42', '1.16', '2.65', '2.43', '1.84', '-0.23', '8.68', '1.97', '2.05', '1.96', '2.24', '0.77', '7.76', '6.15', '6.38', '2.22', '2.58', '2.83', '6.27', '2.11', '3.36', '2.65', '1.89', '2.08', '3.94', '5.20', '0.18', '2.02', '5.44', '-0.09', '4.32', '0.95', '3.67', '7.99', '4.55', '6.03', '1.68', '5.20', '2.90', '0.46', '2.09', '2.38', '4.22', '1.91', '3.69', '3.02', '0.83', '1.78', '2.48', '1.73', '9.72', '4.66', '2.33', '3.98', '1.40', '3.71', '0.73', '1.50', '1.99', '6.03', '2.37', '1.32', '5.65', '3.92', '0.89', '1.65', '1.76', '2.52', '4.28']\n"
     ]
    },
    {
     "data": {
      "image/png": "[encoded data removed]",
      "text/plain": [
       "<matplotlib.figure.Figure at 0x51a9e90>"
      ]
     },
     "metadata": {},
     "output_type": "display_data"
    }
   ],
   "source": [
    "%matplotlib inline\n",
    "import numpy as np\n",
    "import matplotlib.pyplot as plt\n",
    "\n",
    "# True parameter values\n",
    "mu_true = [2, 5]\n",
    "sigma_true = [1, 2]\n",
    "psi_true = .4\n",
    "n = 100\n",
    "\n",
    "# Simulate from each distribution according to mixing proportion psi\n",
    "z = np.random.binomial(1, psi_true, n)\n",
    "print \"z:\", z\n",
    "x = [np.random.normal(mu_true[i], sigma_true[i]) for i in z]\n",
    "print \"x:\", [\"%.2f\" % _x for _x in x]\n",
    "_ = plt.hist(x, bins=20)"
   ]
  },
  {
   "cell_type": "markdown",
   "metadata": {},
   "source": [
    "### EM"
   ]
  },
  {
   "cell_type": "markdown",
   "metadata": {},
   "source": [
    "#### E-step\n",
    "\n",
    "Get expectation of the label for each data point with current parameters."
   ]
  },
  {
   "cell_type": "code",
   "execution_count": 7,
   "metadata": {
    "collapsed": true
   },
   "outputs": [],
   "source": [
    "from scipy.stats.distributions import norm\n",
    "\n",
    "def Estep(x, mu, sigma, psi):\n",
    "    a = psi * norm.pdf(x, mu[0], sigma[0])\n",
    "    b = (1. - psi) * norm.pdf(x, mu[1], sigma[1])\n",
    "    return b / (a + b)"
   ]
  },
  {
   "cell_type": "markdown",
   "metadata": {},
   "source": [
    "#### M-step\n",
    "\n",
    "With the expectation of the label, maximize the likelihood with parameters"
   ]
  },
  {
   "cell_type": "code",
   "execution_count": 5,
   "metadata": {
    "collapsed": true
   },
   "outputs": [],
   "source": [
    "def Mstep(x, w):\n",
    "    psi = np.mean(w) \n",
    "    \n",
    "    mu = [np.sum((1-w) * x)/np.sum(1-w), np.sum(w * x)/np.sum(w)]\n",
    "    \n",
    "    sigma = [np.sqrt(np.sum((1-w) * (x - mu[0])**2)/np.sum(1-w)), \n",
    "             np.sqrt(np.sum(w * (x - mu[1])**2)/np.sum(w))]\n",
    "    \n",
    "    return mu, sigma, psi"
   ]
  },
  {
   "cell_type": "code",
   "execution_count": 6,
   "metadata": {
    "collapsed": false
   },
   "outputs": [
    {
     "name": "stdout",
     "output_type": "stream",
     "text": [
      "A: N(1.9177, 0.6786)\n",
      "B: N(5.2921, 1.7239)\n",
      "psi: 0.4967\n"
     ]
    }
   ],
   "source": [
    "# Initialize values\n",
    "mu = np.random.normal(size=2)\n",
    "sigma = np.random.uniform(0, 10, 2)\n",
    "psi = np.random.random()\n",
    "\n",
    "# Stopping criterion\n",
    "crit = 1e-6\n",
    "\n",
    "# Convergence flag\n",
    "converged = False\n",
    "\n",
    "# Loop until converged\n",
    "while not converged:\n",
    "    \n",
    "    # E-step\n",
    "    w = Estep(x, mu, sigma, psi)\n",
    "    # M-step\n",
    "    mu_new, sigma_new, psi_new = Mstep(x, w)\n",
    "    \n",
    "    # Check convergence\n",
    "    converged = ((np.abs(psi_new - psi) < crit) \n",
    "                 & np.all(np.abs((np.array(mu_new) - np.array(mu)) < crit))\n",
    "                 & np.all(np.abs((np.array(sigma_new) - np.array(sigma)) < crit)))\n",
    "    mu, sigma, psi = mu_new, sigma_new, psi_new\n",
    "                \n",
    "print('A: N({0:.4f}, {1:.4f})\\nB: N({2:.4f}, {3:.4f})\\npsi: {4:.4f}'.format(\n",
    "                        mu_new[0], sigma_new[0], mu_new[1], sigma_new[1], psi_new))"
   ]
  },
  {
   "cell_type": "markdown",
   "metadata": {},
   "source": [
    "### Exercise: Zero-inflated Poisson"
   ]
  },
  {
   "cell_type": "code",
   "execution_count": 17,
   "metadata": {
    "collapsed": false
   },
   "outputs": [
    {
     "data": {
      "image/png": "[encoded data removed]",
      "text/plain": [
       "<matplotlib.figure.Figure at 0x53d15d0>"
      ]
     },
     "metadata": {},
     "output_type": "display_data"
    }
   ],
   "source": [
    "import numpy as np\n",
    "\n",
    "# True parameter values\n",
    "mu_true = 1.5\n",
    "psi_true = .4\n",
    "n = 100\n",
    "\n",
    "# Simulate some data\n",
    "data = np.array([np.random.poisson(mu_true)*(np.random.random()<psi_true) for i in range(n)])\n",
    "_ = plt.hist(data, bins=9)"
   ]
  },
  {
   "cell_type": "markdown",
   "metadata": {},
   "source": [
    "### EM"
   ]
  },
  {
   "cell_type": "code",
   "execution_count": null,
   "metadata": {
    "collapsed": false
   },
   "outputs": [],
   "source": [
    "from scipy.stats.distributions import poisson\n",
    "\n",
    "def Estep(x, mu, psi):\n",
    "    a = psi * poisson.pmf(x, mu)\n",
    "    return a\n",
    "\n",
    "def Mstep(x, a):\n",
    "    psi = sum(x > 0) / len(x)\n",
    "    mu = sum(a*x) / len(x)\n",
    "    return mu, psi\n",
    "\n",
    "# Initialize values\n",
    "mu = np.random.random()\n",
    "psi = np.random.random()\n",
    "\n",
    "# Stopping criterion\n",
    "crit = 1e-6\n",
    "\n",
    "# Convergence flag\n",
    "converged = False\n",
    "\n",
    "x = data\n",
    "\n",
    "# Loop until converged\n",
    "while not converged:\n",
    "    \n",
    "    # E-step\n",
    "    a = Estep(x, mu, psi)\n",
    "    # M-step\n",
    "    mu_new, psi_new = Mstep(x, a)\n",
    "    \n",
    "    # Check convergence\n",
    "    converged = ((np.abs(psi_new - psi) < crit) and (np.abs(mu_new - mu) < crit))\n",
    "    mu, psi = mu_new, psi_new\n",
    "                \n",
    "print mu, psi"
   ]
  }
 ],
 "metadata": {
  "kernelspec": {
   "display_name": "Python 2",
   "language": "python",
   "name": "python2"
  },
  "language_info": {
   "codemirror_mode": {
    "name": "ipython",
    "version": 2
   },
   "file_extension": ".py",
   "mimetype": "text/x-python",
   "name": "python",
   "nbconvert_exporter": "python",
   "pygments_lexer": "ipython2",
   "version": "2.7"
  }
 },
 "nbformat": 4,
 "nbformat_minor": 0
}
