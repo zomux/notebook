{
 "metadata": {
  "name": "",
  "signature": "sha256:f6ee76e5f5377f0e5db665ff57a9fa093713e232a6db900f67cf027af9e8cb6e"
 },
 "nbformat": 3,
 "nbformat_minor": 0,
 "worksheets": [
  {
   "cells": [
    {
     "cell_type": "heading",
     "level": 1,
     "metadata": {},
     "source": [
      "Gradient Decendent"
     ]
    },
    {
     "cell_type": "code",
     "collapsed": false,
     "input": [
      "%%HTML\n",
      "<Style> .CodeMirror{ font-size: 18px; } </Style>"
     ],
     "language": "python",
     "metadata": {},
     "outputs": [
      {
       "html": [
        "<Style> .CodeMirror{ font-size: 18px; } </Style>"
       ],
       "metadata": {},
       "output_type": "display_data",
       "text": [
        "<IPython.core.display.HTML at 0x34138d0>"
       ]
      }
     ],
     "prompt_number": 5
    },
    {
     "cell_type": "code",
     "collapsed": false,
     "input": [
      "from IPython.display import Javascript, display\n",
      "display(Javascript(\"IPython.Cell.options_default.cm_config.indentUnit = 2;\"))"
     ],
     "language": "python",
     "metadata": {},
     "outputs": [
      {
       "javascript": [
        "IPython.Cell.options_default.cm_config.indentUnit = 2;"
       ],
       "metadata": {},
       "output_type": "display_data",
       "text": [
        "<IPython.core.display.Javascript at 0x3413990>"
       ]
      }
     ],
     "prompt_number": 6
    },
    {
     "cell_type": "heading",
     "level": 3,
     "metadata": {},
     "source": [
      "DATA"
     ]
    },
    {
     "cell_type": "heading",
     "level": 3,
     "metadata": {},
     "source": [
      "Generate data with following formula\n",
      "$$ y = ax + b + \\mu $$\n",
      "$$ \\mu \\sim N(1,1) $$"
     ]
    },
    {
     "cell_type": "code",
     "collapsed": false,
     "input": [
      "from numpy import *\n",
      "from pylab import *\n",
      "import numpy as np"
     ],
     "language": "python",
     "metadata": {},
     "outputs": [],
     "prompt_number": 11
    },
    {
     "cell_type": "code",
     "collapsed": false,
     "input": [
      "golden_a, golden_b = 1, 2\n",
      "xs = linspace(-10, 10)\n",
      "ys = golden_a * xs + golden_b + 5 * array([np.random.normal(1, 1) for x in xs])\n",
      "scatter(xs, ys, s=50)"
     ],
     "language": "python",
     "metadata": {},
     "outputs": [
      {
       "metadata": {},
       "output_type": "pyout",
       "prompt_number": 90,
       "text": [
        "<matplotlib.collections.PathCollection at 0x59018d0>"
       ]
      },
      {
       "metadata": {},
       "output_type": "display_data",
       "png": "[encoded data removed]",
       "text": [
        "<matplotlib.figure.Figure at 0x53e9a10>"
       ]
      }
     ],
     "prompt_number": 90
    },
    {
     "cell_type": "markdown",
     "metadata": {},
     "source": [
      "### Hypothesis:\n",
      "$$ h_{\\bf \\theta}(x) = h_{\\theta1, \\theta2}(x) = \\theta1 x + \\theta2 $$"
     ]
    },
    {
     "cell_type": "code",
     "collapsed": false,
     "input": [
      "def h(p1, p2, x):\n",
      "  return p1 * x + p2"
     ],
     "language": "python",
     "metadata": {},
     "outputs": [],
     "prompt_number": 26
    },
    {
     "cell_type": "markdown",
     "metadata": {},
     "source": [
      "### Mean Squared Error\n",
      "$$ MSE = \\frac{1}{n} \\sum^n_{i = 1} (\\hat{Y_i} - Y_i) ^ 2 $$"
     ]
    },
    {
     "cell_type": "markdown",
     "metadata": {},
     "source": [
      "### Here,\n",
      "\\begin{aligned}\n",
      "  MSE({\\bf \\theta}) &= \\frac{1}{n} \\sum^n_{i=1}( h_{\\bf \\theta}(x_i) - y_i ) ^ 2 \\\\\n",
      "  &= \\frac{1}{n} \\sum^n_{i=1}( \\theta_1 * x_i + \\theta_2 - y_i ) ^ 2\n",
      "\\end{aligned}"
     ]
    },
    {
     "cell_type": "markdown",
     "metadata": {},
     "source": [
      "### Differentiate with repect to $\\theta_1$ and $\\theta2$\n",
      "$$ \\frac{\\mathrm{d}}{\\mathrm{d} \\theta_1} = \\frac{1}{n} \\sum^n_{i=1}( 2(\\theta_1 * x_i + \\theta_2 - y_i) x_i ) $$\n",
      "$$ \\frac{\\mathrm{d}}{\\mathrm{d} \\theta_2} = \\frac{1}{n} \\sum^n_{i=1}( 2(\\theta_1 * x_i + \\theta_2 - y_i)) $$"
     ]
    },
    {
     "cell_type": "markdown",
     "metadata": {},
     "source": [
      "### To compute with matrix\n",
      "$$ \\frac{\\mathrm{d}}{\\mathrm{d} \\theta_1} = \\frac{1}{n} \\sum 2 {\\bf x} ( \\theta_1 {\\bf x} + \\theta_2 - {\\bf y} )$$\n",
      "$$ \\frac{\\mathrm{d}}{\\mathrm{d} \\theta_2} = \\frac{1}{n} \\sum 2 ( \\theta_1 {\\bf x} + \\theta_2 - {\\bf y} )$$"
     ]
    },
    {
     "cell_type": "markdown",
     "metadata": {},
     "source": [
      "### Gradient Descent\n",
      "$$ \\theta_i^{\\prime} = \\theta_i - \\alpha \\frac{\\mathrm{d}}{\\mathrm{d} \\theta_i}  $$"
     ]
    },
    {
     "cell_type": "markdown",
     "metadata": {},
     "source": [
      "### Where,\n",
      "- $\\alpha$ is learning rate"
     ]
    },
    {
     "cell_type": "heading",
     "level": 3,
     "metadata": {},
     "source": [
      "CODE"
     ]
    },
    {
     "cell_type": "heading",
     "level": 4,
     "metadata": {},
     "source": [
      "Initial $\\theta$ = (0, 0), $\\alpha$ = 0.1"
     ]
    },
    {
     "cell_type": "code",
     "collapsed": false,
     "input": [
      "init_theta1, init_theta2 = 0, 0"
     ],
     "language": "python",
     "metadata": {},
     "outputs": [],
     "prompt_number": 36
    },
    {
     "cell_type": "code",
     "collapsed": false,
     "input": [
      "alpha = 0.01"
     ],
     "language": "python",
     "metadata": {},
     "outputs": [],
     "prompt_number": 69
    },
    {
     "cell_type": "heading",
     "level": 4,
     "metadata": {},
     "source": [
      "Define differentiate functions"
     ]
    },
    {
     "cell_type": "code",
     "collapsed": false,
     "input": [
      "def d_theta1():\n",
      "  global theta1, theta2, xs, ys\n",
      "  n = len(xs)\n",
      "  return (1.0 / n) * sum((2 * xs) * (theta1*xs + theta2 - ys))\n",
      "\n",
      "def d_theta2():\n",
      "  global theta1, theta2, xs, ys\n",
      "  n = len(xs)\n",
      "  return (1.0 / n) * sum((2) * (theta1*xs + theta2 - ys))"
     ],
     "language": "python",
     "metadata": {},
     "outputs": [],
     "prompt_number": 42
    },
    {
     "cell_type": "heading",
     "level": 4,
     "metadata": {},
     "source": [
      "Convergence if the difference of the updated theta and the old less than 0.001"
     ]
    },
    {
     "cell_type": "code",
     "collapsed": false,
     "input": [
      "def convergence(new_theta1, new_theta2):\n",
      "  global theta1, theta2\n",
      "  if abs(new_theta1 - theta1) < 0.001 and abs(new_theta2 - theta2) < 0.001:\n",
      "    return True\n",
      "  else:\n",
      "    return False"
     ],
     "language": "python",
     "metadata": {},
     "outputs": [],
     "prompt_number": 79
    },
    {
     "cell_type": "heading",
     "level": 4,
     "metadata": {},
     "source": [
      "Gradience Descent Algorithm (returns the updating history of $\\theta_1$ and $\\theta_2$)"
     ]
    },
    {
     "cell_type": "code",
     "collapsed": false,
     "input": [
      "MAX_ITERATIONS = 1000\n",
      "def gradient_descent():\n",
      "  global alpha, theta1, theta2, init_theta1, init_theta2\n",
      "  theta1, theta2 = init_theta1, init_theta2\n",
      "  history1, history2 = [], []\n",
      "  for i in range(MAX_ITERATIONS):\n",
      "    history1.append(theta1)\n",
      "    history2.append(theta2)\n",
      "    new_theta1 = theta1 - alpha * d_theta1()\n",
      "    new_theta2 = theta2 - alpha * d_theta2()\n",
      "    if convergence(new_theta1, new_theta2):\n",
      "      print \"End in %d iterations\" % (i + 1)\n",
      "      break\n",
      "    # Update\n",
      "    theta1, theta2 = new_theta1, new_theta2\n",
      "  return history1, history2"
     ],
     "language": "python",
     "metadata": {},
     "outputs": [],
     "prompt_number": 102
    },
    {
     "cell_type": "code",
     "collapsed": false,
     "input": [
      "history1, history2 = gradient_descent()"
     ],
     "language": "python",
     "metadata": {},
     "outputs": [
      {
       "output_type": "stream",
       "stream": "stdout",
       "text": [
        "End in 247 iterations\n"
       ]
      }
     ],
     "prompt_number": 103
    },
    {
     "cell_type": "heading",
     "level": 4,
     "metadata": {},
     "source": [
      "Show the changing history of $\\theta_1$ and $\\theta_2$"
     ]
    },
    {
     "cell_type": "code",
     "collapsed": false,
     "input": [
      "iters = arange(len(history1))\n",
      "xlabel(\"iterations\")\n",
      "ylabel(\"value\")\n",
      "plot(iters, history1, \"r-\", label='theta 1', linewidth=2)\n",
      "plot(iters, history2, \"b-\", label='theta 2', linewidth=2)\n",
      "legend(loc=2)"
     ],
     "language": "python",
     "metadata": {},
     "outputs": [
      {
       "metadata": {},
       "output_type": "pyout",
       "prompt_number": 114,
       "text": [
        "<matplotlib.legend.Legend at 0x7941490>"
       ]
      },
      {
       "metadata": {},
       "output_type": "display_data",
       "png": "[encoded data removed]",
       "text": [
        "<matplotlib.figure.Figure at 0x727b290>"
       ]
      }
     ],
     "prompt_number": 114
    },
    {
     "cell_type": "heading",
     "level": 4,
     "metadata": {},
     "source": [
      "Show the fitting line"
     ]
    },
    {
     "cell_type": "code",
     "collapsed": false,
     "input": [
      "scatter(xs, ys, s=50)\n",
      "plot(xs, h(theta1, theta2, xs), color=\"red\", linewidth=2)"
     ],
     "language": "python",
     "metadata": {},
     "outputs": [
      {
       "metadata": {},
       "output_type": "pyout",
       "prompt_number": 101,
       "text": [
        "[<matplotlib.lines.Line2D at 0x53f64d0>]"
       ]
      },
      {
       "metadata": {},
       "output_type": "display_data",
       "png": "[encoded data removed]",
       "text": [
        "<matplotlib.figure.Figure at 0x53f6090>"
       ]
      }
     ],
     "prompt_number": 101
    },
    {
     "cell_type": "heading",
     "level": 2,
     "metadata": {},
     "source": [
      "Advanced Topics"
     ]
    },
    {
     "cell_type": "heading",
     "level": 3,
     "metadata": {},
     "source": [
      "BFGS Method (Minimizing without learning rate)"
     ]
    },
    {
     "cell_type": "code",
     "collapsed": false,
     "input": [
      "def MSE(thetas):\n",
      "  global xs, ys\n",
      "  theta1, theta2 = thetas\n",
      "  n = len(xs)\n",
      "  return (1.0 / n) * sum((theta1 * xs + theta2 - ys) ** 2)"
     ],
     "language": "python",
     "metadata": {},
     "outputs": [],
     "prompt_number": 116
    },
    {
     "cell_type": "code",
     "collapsed": false,
     "input": [
      "from scipy.optimize import fmin_bfgs\n",
      "theta1_bfgs, theta2_bfgs = fmin_bfgs(MSE, array([init_theta1, init_theta2]))"
     ],
     "language": "python",
     "metadata": {},
     "outputs": [
      {
       "output_type": "stream",
       "stream": "stdout",
       "text": [
        "Optimization terminated successfully.\n",
        "         Current function value: 20.367902\n",
        "         Iterations: 3\n",
        "         Function evaluations: 20\n",
        "         Gradient evaluations: 5\n"
       ]
      }
     ],
     "prompt_number": 123
    },
    {
     "cell_type": "code",
     "collapsed": false,
     "input": [
      "scatter(xs, ys, s=50)\n",
      "plot(xs, h(theta1_bfgs, theta2_bfgs, xs), color=\"red\", linewidth=2)"
     ],
     "language": "python",
     "metadata": {},
     "outputs": [
      {
       "metadata": {},
       "output_type": "pyout",
       "prompt_number": 124,
       "text": [
        "[<matplotlib.lines.Line2D at 0x7ea18d0>]"
       ]
      },
      {
       "metadata": {},
       "output_type": "display_data",
       "png": "[encoded data removed]",
       "text": [
        "<matplotlib.figure.Figure at 0x7ea1cd0>"
       ]
      }
     ],
     "prompt_number": 124
    }
   ],
   "metadata": {}
  }
 ]
}