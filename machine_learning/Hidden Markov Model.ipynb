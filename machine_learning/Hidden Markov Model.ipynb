{
 "metadata": {
  "name": "",
  "signature": "sha256:753898f71737bd099b30cd42d1bf68e44b5eda621b801df10185eb5dcd720bd6"
 },
 "nbformat": 3,
 "nbformat_minor": 0,
 "worksheets": [
  {
   "cells": [
    {
     "cell_type": "heading",
     "level": 1,
     "metadata": {},
     "source": [
      "**Hidden Markov Model**"
     ]
    },
    {
     "cell_type": "markdown",
     "metadata": {},
     "source": [
      "Note Link: http://pages.uaca.com/machine_learning/hidden_markov_model.md"
     ]
    },
    {
     "cell_type": "heading",
     "level": 1,
     "metadata": {},
     "source": [
      "Probelm setting"
     ]
    },
    {
     "cell_type": "code",
     "collapsed": false,
     "input": [
      "L = 1; F = 2\n",
      "states = [L, F]\n",
      "observations = [1, 2, 3, 4, 5, 6]\n",
      "emission_prob = {\n",
      "    F: {1: 1.0/6, 2: 1.0/6, 3: 1.0/6, 4: 1.0/6, 5: 1.0/6, 6: 1.0/6},\n",
      "    L: {1: 1.0/10, 2: 1.0/10, 3: 1.0/10, 4: 1.0/10, 5: 1.0/10, 6: 1.0/2},\n",
      "}\n",
      "transition_prob = {\n",
      "    F: {F: 0.95, L: 0.05},\n",
      "    L: {F: 0.05, L: 0.95}\n",
      "}\n",
      "init_state_prob = {\n",
      "    F: 0.5, L: 0.5\n",
      "}\n",
      "observed_sequence = map(int, \"12455264621461461366616616366163661651561511514612356123562344\")"
     ],
     "language": "python",
     "metadata": {},
     "outputs": [],
     "prompt_number": 8
    },
    {
     "cell_type": "markdown",
     "metadata": {},
     "source": [
      "---"
     ]
    },
    {
     "cell_type": "heading",
     "level": 1,
     "metadata": {},
     "source": [
      "Forward Algorithm"
     ]
    },
    {
     "cell_type": "heading",
     "level": 3,
     "metadata": {},
     "source": [
      "Find the probability of the observed sequence"
     ]
    },
    {
     "cell_type": "code",
     "collapsed": false,
     "input": [
      "last_alpha = {}\n",
      "alpha = {}\n",
      "\n",
      "# Initialize\n",
      "for k in states:\n",
      "    last_alpha[k] = emission_prob[k][observed_sequence[0]] * init_state_prob[k]\n",
      "# Iterate\n",
      "for observation in observed_sequence[1:]:\n",
      "    for k in states:\n",
      "        alpha[k] = emission_prob[k][observation] * sum(last_alpha[i] * transition_prob[i][k] for i in states)\n",
      "    last_alpha = alpha\n",
      "    alpha = {}\n",
      "# Termination\n",
      "print sum(last_alpha.values())"
     ],
     "language": "python",
     "metadata": {},
     "outputs": [
      {
       "output_type": "stream",
       "stream": "stdout",
       "text": [
        "1.13423115865e-46\n"
       ]
      }
     ],
     "prompt_number": 22
    },
    {
     "cell_type": "markdown",
     "metadata": {},
     "source": [
      "---"
     ]
    },
    {
     "cell_type": "heading",
     "level": 1,
     "metadata": {},
     "source": [
      "Backward Algorithm"
     ]
    },
    {
     "cell_type": "heading",
     "level": 3,
     "metadata": {},
     "source": [
      "Find the most likely state at specified position target_t"
     ]
    },
    {
     "cell_type": "code",
     "collapsed": false,
     "input": [
      "target_t = 20"
     ],
     "language": "python",
     "metadata": {},
     "outputs": [],
     "prompt_number": 31
    },
    {
     "cell_type": "heading",
     "level": 4,
     "metadata": {},
     "source": [
      "Find beta using backword algorithm"
     ]
    },
    {
     "cell_type": "code",
     "collapsed": false,
     "input": [
      "last_beta = {}\n",
      "beta = {}\n",
      "\n",
      "# Initialize\n",
      "for k in states:\n",
      "    last_beta[k] = 1\n",
      "\n",
      "positions = range(len(observed_sequence))\n",
      "# Iterate\n",
      "for t in reversed(positions[target_t:-1]):\n",
      "    for k in states:\n",
      "        beta[k] = sum(transition_prob[k][i] * emission_prob[i][observed_sequence[t+1]] * last_beta[i] for i in states)\n",
      "    last_beta = beta\n",
      "    beta = {}\n",
      "# Termination\n",
      "print last_beta"
     ],
     "language": "python",
     "metadata": {},
     "outputs": [
      {
       "output_type": "stream",
       "stream": "stdout",
       "text": [
        "{1: 6.060767142181313e-31, 2: 1.3183891582306042e-31}\n"
       ]
      }
     ],
     "prompt_number": 32
    },
    {
     "cell_type": "heading",
     "level": 4,
     "metadata": {},
     "source": [
      "Find alpha using forward algorithm"
     ]
    },
    {
     "cell_type": "code",
     "collapsed": false,
     "input": [
      "last_alpha = {}\n",
      "alpha = {}\n",
      "\n",
      "# Initialize\n",
      "for k in states:\n",
      "    last_alpha[k] = emission_prob[k][observed_sequence[0]] * init_state_prob[k]\n",
      "# Iterate\n",
      "for observation in observed_sequence[1: target_t + 1]:\n",
      "    for k in states:\n",
      "        alpha[k] = emission_prob[k][observation] * sum(last_alpha[i] * transition_prob[i][k] for i in states)\n",
      "    last_alpha = alpha\n",
      "    alpha = {}\n",
      "    \n",
      "# Termination\n",
      "print last_alpha"
     ],
     "language": "python",
     "metadata": {},
     "outputs": [
      {
       "output_type": "stream",
       "stream": "stdout",
       "text": [
        "{1: 1.8336190228909768e-16, 2: 1.738285390550342e-17}\n"
       ]
      }
     ],
     "prompt_number": 33
    },
    {
     "cell_type": "code",
     "collapsed": false,
     "input": [
      "for k in states:\n",
      "    print \"State %d:\" % k, last_alpha[k] * last_beta[k]"
     ],
     "language": "python",
     "metadata": {},
     "outputs": [
      {
       "output_type": "stream",
       "stream": "stdout",
       "text": [
        "State 1: 1.11131379252e-46\n",
        "State 2: 2.29173661281e-48\n"
       ]
      }
     ],
     "prompt_number": 34
    },
    {
     "cell_type": "markdown",
     "metadata": {},
     "source": [
      "---"
     ]
    },
    {
     "cell_type": "heading",
     "level": 1,
     "metadata": {},
     "source": [
      "Viterbi Algorithm"
     ]
    },
    {
     "cell_type": "heading",
     "level": 3,
     "metadata": {},
     "source": [
      "Find the best state sequence"
     ]
    },
    {
     "cell_type": "code",
     "collapsed": false,
     "input": [
      "v = {}\n",
      "for k in states:\n",
      "    v[k] = []\n",
      "\n",
      "# Initialize\n",
      "for k in states:\n",
      "    v[k].append(emission_prob[k][observed_sequence[0]] * init_state_prob[k])\n",
      "\n",
      "# Iterate from 2 to T\n",
      "for t in range(1, len(observed_sequence)):\n",
      "    observation = observed_sequence[t]\n",
      "    for k in states:\n",
      "        v[k].append(emission_prob[k][observation] * max(transition_prob[i][k] * v[i][t-1] for i in states))\n",
      "\n",
      "# Termination\n",
      "print \"Max final probability:\", max(v[k][-1] for k in states)\n",
      "\n",
      "# Traceback\n",
      "last_best_state = max((v[k][-1], k) for k in states)[1]\n",
      "reversed_best_states = [last_best_state]\n",
      "for t in reversed(range(len(observed_sequence) - 1)):\n",
      "    next_best_state = reversed_best_states[-1]\n",
      "    best_state_here = max((transition_prob[i][next_best_state] * v[i][t], i) for i in states)[1]\n",
      "    reversed_best_states.append(best_state_here)\n",
      "\n",
      "best_states = list(reversed(reversed_best_states))\n",
      "print \"Best state sequence:\", \"\".join(map(lambda x: \"L\" if x == 1 else \"F\", best_states))"
     ],
     "language": "python",
     "metadata": {},
     "outputs": [
      {
       "output_type": "stream",
       "stream": "stdout",
       "text": [
        "Max final probability: 1.1622051141e-48\n",
        "Best state sequence: FFFFFFLLLLLLLLLLLLLLLLLLLLLLLLLLLLLLFFFFFFFFFFFFFFFFFFFFFFFFFF\n"
       ]
      }
     ],
     "prompt_number": 49
    },
    {
     "cell_type": "markdown",
     "metadata": {},
     "source": [
      "---"
     ]
    },
    {
     "cell_type": "heading",
     "level": 1,
     "metadata": {},
     "source": [
      "EM Algorithm"
     ]
    },
    {
     "cell_type": "heading",
     "level": 3,
     "metadata": {},
     "source": [
      "Find the best parameters according to the observation"
     ]
    },
    {
     "cell_type": "code",
     "collapsed": false,
     "input": [
      "import random\n",
      "r = random.Random()\n",
      "\n",
      "em_emission_prob = {\n",
      "    F: {1: r.uniform(0,1), 2: r.uniform(0,1), 3: r.uniform(0,1), 4: r.uniform(0,1), 5: r.uniform(0,1), 6: r.uniform(0,1)},\n",
      "    L: {1: r.uniform(0,1), 2: r.uniform(0,1), 3: r.uniform(0,1), 4: r.uniform(0,1), 5: r.uniform(0,1), 6: r.uniform(0,1)},\n",
      "}\n",
      "em_transition_prob = {\n",
      "    F: {F: r.uniform(0,1), L: r.uniform(0,1)},\n",
      "    L: {F: r.uniform(0,1), L: r.uniform(0,1)}\n",
      "}\n",
      "em_init_state_prob = {\n",
      "    F: r.uniform(0,1), L: r.uniform(0,1)\n",
      "}\n",
      "\n",
      "# Normalize\n",
      "init_sum = sum(em_init_state_prob.values())\n",
      "for k in states:\n",
      "    emission_sum = sum(em_emission_prob[k].values())\n",
      "    transition_sum = sum(em_transition_prob[k].values())\n",
      "    \n",
      "    for o in observations:\n",
      "        em_emission_prob[k][o] /= emission_sum\n",
      "    for i in states:\n",
      "        em_transition_prob[k][i] /= transition_sum\n",
      "    em_init_state_prob[k] /= init_sum"
     ],
     "language": "python",
     "metadata": {},
     "outputs": [],
     "prompt_number": 121
    },
    {
     "cell_type": "code",
     "collapsed": false,
     "input": [
      "import copy\n",
      "\n",
      "def get_alpha_beta(target_t):\n",
      "    global em_emission_prob, em_transition_prob, em_init_state_prob\n",
      "    # Forward\n",
      "    last_alpha = {}\n",
      "    alpha = {}\n",
      "\n",
      "    for k in states:\n",
      "        last_alpha[k] = em_emission_prob[k][observed_sequence[0]] * em_init_state_prob[k]\n",
      "        \n",
      "    for observation in observed_sequence[1: target_t + 1]:\n",
      "        for k in states:\n",
      "            alpha[k] = em_emission_prob[k][observation] * sum(last_alpha[i] * em_transition_prob[i][k] for i in states)\n",
      "        last_alpha = alpha\n",
      "        alpha = {}\n",
      "    # Backward\n",
      "    last_beta = {}\n",
      "    beta = {}\n",
      "    \n",
      "    for k in states:\n",
      "        last_beta[k] = 1\n",
      "    positions = range(len(observed_sequence))\n",
      "    \n",
      "    for t in reversed(positions[target_t:-1]):\n",
      "        for k in states:\n",
      "            beta[k] = sum(em_transition_prob[k][i] * em_emission_prob[i][observed_sequence[t+1]] * last_beta[i] for i in states)\n",
      "        last_beta = beta\n",
      "        beta = {}\n",
      "    \n",
      "    return last_alpha, last_beta\n",
      "\n",
      "def get_gamma(alpha, beta):\n",
      "    productions = {}\n",
      "    for k in states:\n",
      "        productions[k] = alpha[k] * beta[k]\n",
      "        \n",
      "    production_sum = sum(productions.values())\n",
      "    \n",
      "    gamma = {}\n",
      "    for k in states:\n",
      "        gamma[k] = productions[k] / production_sum\n",
      "    return gamma\n",
      "\n",
      "def get_ksi(last_gamma, beta, last_beta, observation):\n",
      "    ksi = {}\n",
      "    for i in states:\n",
      "        for j in states:\n",
      "            ksi[(i, j)] = (last_gamma[i] * em_transition_prob[i][j] * emission_prob[j][observation] * beta[j]) / last_beta[i]\n",
      "    return ksi\n",
      "# EM\n",
      "MAX_ITERATIONS = 20\n",
      "last_beta_map = {}\n",
      "last_gamma = {}\n",
      "\n",
      "emission_prob_copies = []\n",
      "transition_prob_copies = []\n",
      "init_prob_copies = []\n",
      "\n",
      "for iteration in range(MAX_ITERATIONS):\n",
      "    # make a copy of probs\n",
      "    emission_prob_copies.append(copy.deepcopy(em_emission_prob))\n",
      "    transition_prob_copies.append(copy.deepcopy(em_transition_prob))\n",
      "    init_prob_copies.append(copy.deepcopy(em_init_state_prob))\n",
      "    \n",
      "    gammas = []\n",
      "    ksis = []\n",
      "    # E step\n",
      "    for t in range(len(observed_sequence)):\n",
      "        alpha_map, beta_map = get_alpha_beta(t)\n",
      "        \n",
      "        gamma = get_gamma(alpha_map, beta_map)\n",
      "        gammas.append(gamma)\n",
      "        if t > 0:\n",
      "            ksi = get_ksi(last_gamma, beta_map, last_beta_map, observed_sequence[t])\n",
      "            ksis.append(ksi)\n",
      "        \n",
      "        last_beta_map = beta_map\n",
      "        last_gamma = gamma\n",
      "    # M step\n",
      "    em_init_state_prob = gammas[0]\n",
      "    \n",
      "    for i in states:\n",
      "        for j in states:\n",
      "            em_transition_prob[i][j] = sum(ksi[(i,j)] for ksi in ksis) / sum(gamma[i] for gamma in gammas)\n",
      "    \n",
      "    for i in states:\n",
      "        for k in observations:\n",
      "            em_emission_prob[i][k] = ( sum(gammas[t][i] for t in range(len(gammas)) if observed_sequence[t] == k) \n",
      "                                       / sum(gamma[i] for gamma in gammas) )"
     ],
     "language": "python",
     "metadata": {},
     "outputs": [],
     "prompt_number": 122
    },
    {
     "cell_type": "heading",
     "level": 3,
     "metadata": {},
     "source": [
      "Transition of emission probabilities for state 1"
     ]
    },
    {
     "cell_type": "code",
     "collapsed": false,
     "input": [
      "from matplotlib import pyplot\n",
      "\n",
      "plot_state = 1\n",
      "x_axis = range(MAX_ITERATIONS)\n",
      "for o in observations:\n",
      "    y_axis = [x[plot_state][o] for x in emission_prob_copies]\n",
      "    plot(x_axis, y_axis, label=\"Observation: %d\" % o)\n",
      "pyplot.legend(loc=2)"
     ],
     "language": "python",
     "metadata": {},
     "outputs": [
      {
       "metadata": {},
       "output_type": "pyout",
       "prompt_number": 127,
       "text": [
        "<matplotlib.legend.Legend at 0x8284450>"
       ]
      },
      {
       "metadata": {},
       "output_type": "display_data",
       "png": "[encoded data removed]",
       "text": [
        "<matplotlib.figure.Figure at 0x8284390>"
       ]
      }
     ],
     "prompt_number": 127
    },
    {
     "cell_type": "heading",
     "level": 3,
     "metadata": {},
     "source": [
      "Trasition of emission probabilities for state 2"
     ]
    },
    {
     "cell_type": "code",
     "collapsed": false,
     "input": [
      "from matplotlib import pyplot\n",
      "\n",
      "plot_state = 2\n",
      "x_axis = range(MAX_ITERATIONS)\n",
      "for o in observations:\n",
      "    y_axis = [x[plot_state][o] for x in emission_prob_copies]\n",
      "    plot(x_axis, y_axis, label=\"Observation: %d\" % o)\n",
      "pyplot.legend(loc=3)"
     ],
     "language": "python",
     "metadata": {},
     "outputs": [
      {
       "metadata": {},
       "output_type": "pyout",
       "prompt_number": 129,
       "text": [
        "<matplotlib.legend.Legend at 0x6ec7fd0>"
       ]
      },
      {
       "metadata": {},
       "output_type": "display_data",
       "png": "[encoded data removed]",
       "text": [
        "<matplotlib.figure.Figure at 0x80c8910>"
       ]
      }
     ],
     "prompt_number": 129
    },
    {
     "cell_type": "heading",
     "level": 3,
     "metadata": {},
     "source": [
      "Trasition of trasition probabilities"
     ]
    },
    {
     "cell_type": "code",
     "collapsed": false,
     "input": [
      "from matplotlib import pyplot\n",
      "\n",
      "x_axis = range(MAX_ITERATIONS)\n",
      "for i in states:\n",
      "    for j in states:\n",
      "        y_axis = [x[i][j] for x in transition_prob_copies]\n",
      "        plot(x_axis, y_axis, label=\"Trasition: %d -> %d\" % (i, j))\n",
      "pyplot.legend(loc=3)"
     ],
     "language": "python",
     "metadata": {},
     "outputs": [
      {
       "metadata": {},
       "output_type": "pyout",
       "prompt_number": 133,
       "text": [
        "<matplotlib.legend.Legend at 0x8c9d0d0>"
       ]
      },
      {
       "metadata": {},
       "output_type": "display_data",
       "png": "[encoded data removed]",
       "text": [
        "<matplotlib.figure.Figure at 0x8a7ea50>"
       ]
      }
     ],
     "prompt_number": 133
    },
    {
     "cell_type": "heading",
     "level": 3,
     "metadata": {},
     "source": [
      "Transition of initial probabilities"
     ]
    },
    {
     "cell_type": "code",
     "collapsed": false,
     "input": [
      "from matplotlib import pyplot\n",
      "\n",
      "x_axis = range(MAX_ITERATIONS)\n",
      "for k in states:\n",
      "    y_axis = [x[k] for x in init_prob_copies]\n",
      "    plot(x_axis, y_axis, label=\"Initial state: %d\" % (k))\n",
      "pyplot.legend()"
     ],
     "language": "python",
     "metadata": {},
     "outputs": [
      {
       "metadata": {},
       "output_type": "pyout",
       "prompt_number": 126,
       "text": [
        "<matplotlib.legend.Legend at 0x7c2be50>"
       ]
      },
      {
       "metadata": {},
       "output_type": "display_data",
       "png": "[encoded data removed]",
       "text": [
        "<matplotlib.figure.Figure at 0x80f29d0>"
       ]
      }
     ],
     "prompt_number": 126
    }
   ],
   "metadata": {}
  }
 ]
}