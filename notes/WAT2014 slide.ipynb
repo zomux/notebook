{
 "metadata": {
  "name": "",
  "signature": "sha256:ffd41e34fb9eb497d5b8335c442ac7508d03a07910f4a7816c56827681dc87cd"
 },
 "nbformat": 3,
 "nbformat_minor": 0,
 "worksheets": [
  {
   "cells": [
    {
     "cell_type": "markdown",
     "metadata": {
      "internals": {
       "slide_type": "subslide"
      },
      "slideshow": {
       "slide_type": "slide"
      }
     },
     "source": [
      "$$ \\sum^1_3 \\phi = 3 $$"
     ]
    },
    {
     "cell_type": "heading",
     "level": 1,
     "metadata": {
      "internals": {},
      "slideshow": {
       "slide_type": "-"
      }
     },
     "source": [
      "Overall"
     ]
    },
    {
     "cell_type": "markdown",
     "metadata": {
      "internals": {},
      "slideshow": {
       "slide_type": "-"
      }
     },
     "source": [
      "- The nwe"
     ]
    }
   ],
   "metadata": {}
  }
 ]
}