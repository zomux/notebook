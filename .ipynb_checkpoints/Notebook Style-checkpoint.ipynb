{
 "metadata": {
  "name": "",
  "signature": "sha256:e93de6d2d63e32369eea8241c4d6144538351033601870abc3541fe72cfb70d4"
 },
 "nbformat": 3,
 "nbformat_minor": 0,
 "worksheets": [
  {
   "cells": [
    {
     "cell_type": "heading",
     "level": 1,
     "metadata": {},
     "source": [
      "Notebook Style"
     ]
    },
    {
     "cell_type": "code",
     "collapsed": false,
     "input": [
      "%%HTML\n",
      "<Style> .CodeMirror{ font-size: 18px; } </Style>"
     ],
     "language": "python",
     "metadata": {},
     "outputs": [
      {
       "html": [
        "<Style> .CodeMirror{ font-size: 18px; } </Style>"
       ],
       "metadata": {},
       "output_type": "display_data",
       "text": [
        "<IPython.core.display.HTML at 0x3760650>"
       ]
      }
     ],
     "prompt_number": 1
    },
    {
     "cell_type": "code",
     "collapsed": false,
     "input": [
      "%%bash\n",
      "# https://github.com/nsonnad/base16-ipython-notebook\n",
      "wget -O \"/root/.ipython/profile_nbserver/static/custom/custom.css\" \"https://raw.githubusercontent.com/nsonnad/base16-ipython-notebook/master/base16-mocha-light.css\""
     ],
     "language": "python",
     "metadata": {},
     "outputs": [
      {
       "output_type": "stream",
       "stream": "stderr",
       "text": [
        "--2014-09-17 09:10:09--  https://raw.githubusercontent.com/nsonnad/base16-ipython-notebook/master/base16-chalk-light.css\n",
        "Resolving raw.githubusercontent.com (raw.githubusercontent.com)... 103.245.222.133\n",
        "Connecting to raw.githubusercontent.com (raw.githubusercontent.com)|103.245.222.133|:443... connected.\n",
        "HTTP request sent, awaiting response... 200 OK\n",
        "Length: 3057 (3.0K) [text/plain]\n",
        "Saving to: `/root/.ipython/profile_nbserver/static/custom/custom.css'\n",
        "\n",
        "     0K ..                                                    100% 40.6M=0s\n",
        "\n",
        "2014-09-17 09:10:10 (40.6 MB/s) - `/root/.ipython/profile_nbserver/static/custom/custom.css' saved [3057/3057]\n",
        "\n"
       ]
      }
     ],
     "prompt_number": 3
    },
    {
     "cell_type": "code",
     "collapsed": false,
     "input": [
      "%%bash\n",
      "# https://github.com/kmarchand/tech49-ipython-notebook\n",
      "wget -O \"/root/.ipython/profile_nbserver/static/custom/custom.css\" \"https://raw.githubusercontent.com/kmarchand/tech49-ipython-notebook/master/tech49-dark.css\""
     ],
     "language": "python",
     "metadata": {},
     "outputs": [
      {
       "output_type": "stream",
       "stream": "stderr",
       "text": [
        "--2014-09-17 09:13:35--  https://raw.githubusercontent.com/kmarchand/tech49-ipython-notebook/master/tech49-dark.css\n",
        "Resolving raw.githubusercontent.com (raw.githubusercontent.com)... 103.245.222.133\n",
        "Connecting to raw.githubusercontent.com (raw.githubusercontent.com)|103.245.222.133|:443... connected.\n",
        "HTTP request sent, awaiting response... 200 OK\n",
        "Length: 4084 (4.0K) [text/plain]\n",
        "Saving to: `/root/.ipython/profile_nbserver/static/custom/custom.css'\n",
        "\n",
        "     0K ...                                                   100% 73.9M=0s\n",
        "\n",
        "2014-09-17 09:13:35 (73.9 MB/s) - `/root/.ipython/profile_nbserver/static/custom/custom.css' saved [4084/4084]\n",
        "\n"
       ]
      }
     ],
     "prompt_number": 4
    },
    {
     "cell_type": "code",
     "collapsed": false,
     "input": [
      "# Tab = 2 spaces\n",
      "from IPython.display import Javascript, display\n",
      "display(Javascript(\"IPython.Cell.options_default.cm_config.indentUnit = 2;\"))"
     ],
     "language": "python",
     "metadata": {},
     "outputs": [
      {
       "javascript": [
        "IPython.Cell.options_default.cm_config.indentUnit = 2;"
       ],
       "metadata": {},
       "output_type": "display_data",
       "text": [
        "<IPython.core.display.Javascript at 0x37606d0>"
       ]
      }
     ],
     "prompt_number": 3
    }
   ],
   "metadata": {}
  }
 ]
}