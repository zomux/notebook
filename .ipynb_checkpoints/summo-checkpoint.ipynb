{
 "metadata": {
  "name": "",
  "signature": "sha256:12cc94d69e6b0d129893862ef6aef3fb3c5a218705ef511be946e947fab83c97"
 },
 "nbformat": 3,
 "nbformat_minor": 0,
 "worksheets": [
  {
   "cells": [
    {
     "cell_type": "heading",
     "level": 1,
     "metadata": {},
     "source": [
      "Summo Data analysis"
     ]
    },
    {
     "cell_type": "heading",
     "level": 1,
     "metadata": {},
     "source": [
      "------ Idea/ Hypothesis ------"
     ]
    },
    {
     "cell_type": "markdown",
     "metadata": {},
     "source": [
      "-\u3000\u4f4f\u5c45\u540d\u79f0\u306e\u30cf\u30a4\u30c4\u306e\u5206\u5e03\u304c\u9762\u767d\u3044"
     ]
    },
    {
     "cell_type": "heading",
     "level": 1,
     "metadata": {},
     "source": [
      "------ Data ------"
     ]
    },
    {
     "cell_type": "code",
     "collapsed": false,
     "input": [
      "%%bash\n",
      "head /tmp/d.txt"
     ],
     "language": "python",
     "metadata": {},
     "outputs": [
      {
       "output_type": "stream",
       "stream": "stdout",
       "text": [
        "1975.4\n",
        "1970.10\n",
        "1979.9\n",
        "1974.5\n",
        "1971.10\n",
        "1981.4\n",
        "1981.4\n",
        "1975.4\n",
        "1975.4\n",
        "1975.4\n"
       ]
      }
     ],
     "prompt_number": 4
    },
    {
     "cell_type": "code",
     "collapsed": false,
     "input": [
      "from collections import Counter\n",
      "years = open(\"/tmp/d.txt\").read().strip().split(\"\\n\")\n",
      "years = [int(y.split(\".\")[0]) for y in years]\n",
      "c = Counter(years)\n",
      "xs = []\n",
      "ys = []\n",
      "for k in c:\n",
      "    xs.append(k)\n",
      "    ys.append(c[k])"
     ],
     "language": "python",
     "metadata": {},
     "outputs": [],
     "prompt_number": 10
    },
    {
     "cell_type": "heading",
     "level": 1,
     "metadata": {},
     "source": [
      "------ Analysis ------"
     ]
    },
    {
     "cell_type": "code",
     "collapsed": false,
     "input": [
      "xlim([1963, 2005])\n",
      "plot(xs, ys, \"b-\")"
     ],
     "language": "python",
     "metadata": {},
     "outputs": [
      {
       "metadata": {},
       "output_type": "pyout",
       "prompt_number": 20,
       "text": [
        "[<matplotlib.lines.Line2D at 0x3704490>]"
       ]
      },
      {
       "metadata": {},
       "output_type": "display_data",
       "png": "[encoded data removed]",
       "text": [
        "<matplotlib.figure.Figure at 0x2a71f50>"
       ]
      }
     ],
     "prompt_number": 20
    },
    {
     "cell_type": "heading",
     "level": 1,
     "metadata": {},
     "source": [
      "------ Conclusion ------"
     ]
    }
   ],
   "metadata": {}
  }
 ]
}