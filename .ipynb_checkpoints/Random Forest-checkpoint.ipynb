{
 "metadata": {
  "name": "",
  "signature": "sha256:abf985ecc03896d25fb15266e9b14070b4e6101fb848f1930ec23fa1e53e9198"
 },
 "nbformat": 3,
 "nbformat_minor": 0,
 "worksheets": [
  {
   "cells": [
    {
     "cell_type": "heading",
     "level": 1,
     "metadata": {},
     "source": [
      "Random Forest"
     ]
    },
    {
     "cell_type": "code",
     "collapsed": false,
     "input": [
      "!mkdir /tmp/randomforest\n",
      "%cd /tmp/randomforest"
     ],
     "language": "python",
     "metadata": {},
     "outputs": [
      {
       "output_type": "stream",
       "stream": "stdout",
       "text": [
        "mkdir: cannot create directory `/tmp/randomforest': File exists\r\n"
       ]
      },
      {
       "output_type": "stream",
       "stream": "stdout",
       "text": [
        "/tmp/randomforest\n"
       ]
      }
     ],
     "prompt_number": 1
    },
    {
     "cell_type": "code",
     "collapsed": false,
     "input": [
      "import numpy as np\n",
      "import pylab as pl"
     ],
     "language": "python",
     "metadata": {},
     "outputs": [],
     "prompt_number": 32
    },
    {
     "cell_type": "heading",
     "level": 1,
     "metadata": {},
     "source": [
      "--- Prepare the Data ---"
     ]
    },
    {
     "cell_type": "heading",
     "level": 3,
     "metadata": {},
     "source": [
      "Okay, this is the data, name Tatanic, which shows the profiles of people survived or did not survive from the accident."
     ]
    },
    {
     "cell_type": "heading",
     "level": 3,
     "metadata": {},
     "source": [
      "The data is from Kaggle"
     ]
    },
    {
     "cell_type": "code",
     "collapsed": false,
     "input": [
      "%%writefile train.raw.csv\n",
      "PassengerId,Survived,Pclass,Name,Sex,Age,SibSp,Parch,Ticket,Fare,Cabin,Embarked\n",
      "...\n",
      "\"\"\"\n",
      "     !!! This is train.txt of Tatanic data from Kaggle.com, download it and replace here\n",
      "\"\"\""
     ],
     "language": "python",
     "metadata": {},
     "outputs": [
      {
       "output_type": "stream",
       "stream": "stdout",
       "text": [
        "Overwriting train.raw.csv\n"
       ]
      }
     ],
     "prompt_number": 329
    },
    {
     "cell_type": "heading",
     "level": 2,
     "metadata": {},
     "source": [
      "Build Data"
     ]
    },
    {
     "cell_type": "heading",
     "level": 3,
     "metadata": {},
     "source": [
      "We use features like gender and ages and ... (6 features in all) to predict surviving or not. But the problem here is that age is a continuous variable ranged from 0 to 100. We need to decide the age spans, and they will be used as features insteadly."
     ]
    },
    {
     "cell_type": "heading",
     "level": 3,
     "metadata": {},
     "source": [
      "Let's see the plot of age and surviving rate first."
     ]
    },
    {
     "cell_type": "code",
     "collapsed": false,
     "input": [
      "import csv\n",
      "raw_data = np.matrix([r for r in csv.reader(open(\"train.raw.csv\")) if r[5].isdigit()])\n",
      "ages = map(int, (raw_data[:, 5].T).tolist()[0])\n",
      "labels = map(int, (raw_data[:, 1].T).tolist()[0])\n",
      "\n",
      "sv_ages = [ages[i] for i in range(len(ages)) if labels[i] == 1]\n",
      "nsv_ages = [ages[i] for i in range(len(ages)) if labels[i] == 0]\n",
      "from collections import Counter\n",
      "c = Counter(sv_ages)\n",
      "nc = Counter(nsv_ages)\n",
      "ages = []\n",
      "counts = []\n",
      "for k in c:\n",
      "    ages.append(k)\n",
      "    counts.append(float(c[k]) / (nc[k] + c[k]))\n",
      "pl.plot(ages, counts, \"k-\")"
     ],
     "language": "python",
     "metadata": {},
     "outputs": [
      {
       "metadata": {},
       "output_type": "pyout",
       "prompt_number": 277,
       "text": [
        "[<matplotlib.lines.Line2D at 0x70bfb10>]"
       ]
      },
      {
       "metadata": {},
       "output_type": "display_data",
       "png": "[encoded data removed]",
       "text": [
        "<matplotlib.figure.Figure at 0x6c53810>"
       ]
      }
     ],
     "prompt_number": 277
    },
    {
     "cell_type": "heading",
     "level": 3,
     "metadata": {},
     "source": [
      "Okay, so let's choose 3 spans: 0 to 20, 20 to 50, then 50 to 100, just by my sense."
     ]
    },
    {
     "cell_type": "code",
     "collapsed": false,
     "input": [
      "AGE_SPANS = [(0, 20), (20, 50), (50, 100)]"
     ],
     "language": "python",
     "metadata": {},
     "outputs": [],
     "prompt_number": 53
    },
    {
     "cell_type": "heading",
     "level": 3,
     "metadata": {},
     "source": [
      "Then we import all data."
     ]
    },
    {
     "cell_type": "code",
     "collapsed": false,
     "input": [
      "import csv\n",
      "\n",
      "def age_span(n):\n",
      "    for i, s in enumerate(AGE_SPANS):\n",
      "        l, h = s\n",
      "        if n >= l and n < h:\n",
      "            return i + 1\n",
      "    return 1\n",
      "\n",
      "train_features = []\n",
      "n = 0\n",
      "for row in csv.reader(open(\"train.raw.csv\")):\n",
      "    n += 1\n",
      "    if n == 1: continue\n",
      "    d = (row[1], row[2], 1 if row[4] == \"male\" else 0, age_span(row[5]), row[6], row[7])\n",
      "    bad = any(map(lambda x: not x, d))\n",
      "    if bad: continue\n",
      "    \n",
      "    train_features.append(map(int, d))\n",
      "\n",
      "train_data = np.append(train_features[0], train_features[1:])\n",
      "train_data = train_data.reshape(len(train_features), 6)\n",
      "print len(train_data)"
     ],
     "language": "python",
     "metadata": {},
     "outputs": [
      {
       "output_type": "stream",
       "stream": "stdout",
       "text": [
        "577\n"
       ]
      }
     ],
     "prompt_number": 234
    },
    {
     "cell_type": "heading",
     "level": 3,
     "metadata": {},
     "source": [
      "Separate them to training set and test set."
     ]
    },
    {
     "cell_type": "code",
     "collapsed": false,
     "input": [
      "ten_persent = len(train_data) * 0.10\n",
      "np.random.shuffle(train_data)\n",
      "test_data = train_data[:ten_persent]\n",
      "train_data = train_data[ten_persent:]\n",
      "print len(train_data), len(test_data)"
     ],
     "language": "python",
     "metadata": {},
     "outputs": [
      {
       "output_type": "stream",
       "stream": "stdout",
       "text": [
        "468 51\n"
       ]
      }
     ],
     "prompt_number": 237
    },
    {
     "cell_type": "heading",
     "level": 1,
     "metadata": {},
     "source": [
      "--- Code ---"
     ]
    },
    {
     "cell_type": "heading",
     "level": 3,
     "metadata": {},
     "source": [
      "Let's implement it."
     ]
    },
    {
     "cell_type": "code",
     "collapsed": false,
     "input": [
      "# functions\n",
      "from collections import Counter"
     ],
     "language": "python",
     "metadata": {},
     "outputs": []
    },
    {
     "cell_type": "code",
     "collapsed": false,
     "input": [
      "class DecisionTree:\n",
      "    \n",
      "    def __init__(self, data, availFeatures, PQ=1):\n",
      "        self.branches = {}\n",
      "        self.PQ = PQ\n",
      "        gains = []\n",
      "        for featureIdx in availFeatures:\n",
      "            gain = self.computeGain(data, featureIdx)\n",
      "            gains.append((gain, featureIdx))\n",
      "        \n",
      "        self.featureId = max(gains)[1]\n",
      "        As = set(data[:, self.featureId])\n",
      "        for A in As:\n",
      "            subFeatures = [f for f in availFeatures if f != self.featureId]\n",
      "            subData = array([d for d in data if d[self.featureId] == A])\n",
      "            if subFeatures:\n",
      "                self.branches[A] = DecisionTree(subData, subFeatures, PQ=float(len(subData))/len(data), )\n",
      "            else:\n",
      "                results = []\n",
      "                resultcounts = Counter(subData[:, 0])\n",
      "                for k in resultcounts:\n",
      "                    results.append((resultcounts[k], k))\n",
      "                self.branches[A] = max(results)[1]\n",
      "    \n",
      "    def computeGain(self, data, featureIdx):\n",
      "        PQ = self.PQ\n",
      "        # IQ\n",
      "        counts = Counter(data[:, 0]).values()\n",
      "        probs = array([float(c)/len(data) for c in counts])\n",
      "        IQ = - np.sum(array([p*log(p) for p in probs]))\n",
      "        # As\n",
      "        AGains = []\n",
      "        As = data[:, featureIdx]\n",
      "        ACounter = Counter(As)\n",
      "        for A in ACounter:\n",
      "            freq = ACounter[A]\n",
      "            PA = float(freq) / len(As)\n",
      "            IA = 0\n",
      "            LablesForThisA = array([d[0] for d in data if d[featureIdx] == A])\n",
      "            counts = Counter(LablesForThisA).values()\n",
      "            probs = array([float(c)/len(data) for c in counts])\n",
      "            IA = - sum([p*log(p) for p in probs])\n",
      "            AGains.append(PA*IA)\n",
      "        DeltaI = PQ*IQ - sum(AGains)\n",
      "        return DeltaI"
     ],
     "language": "python",
     "metadata": {},
     "outputs": [],
     "prompt_number": 316
    },
    {
     "cell_type": "code",
     "collapsed": false,
     "input": [
      "import random\n",
      "import itertools\n",
      "class TreeBuilder:\n",
      "    \n",
      "    def __init__(self, data):\n",
      "        self.data = data\n",
      "    \n",
      "    def giveMeATree(self):\n",
      "        selectedData, featureSet = self.randomSelect()\n",
      "        return DecisionTree(selectedData, featureSet)\n",
      "    \n",
      "    def randomSelect(self):\n",
      "        data = np.copy(self.data)\n",
      "        np.random.shuffle(data)\n",
      "        data = data[:random.randint(1, len(data))]\n",
      "        # remove columns\n",
      "        keep = random.randint(1, data.shape[1] - 1)\n",
      "        combs = [x for x in itertools.combinations(range(1, data.shape[1]), keep)]\n",
      "        featureCombination = combs[random.randint(0, len(combs) - 1)]\n",
      "        return data, featureCombination\n",
      "        "
     ],
     "language": "python",
     "metadata": {},
     "outputs": [],
     "prompt_number": 322
    },
    {
     "cell_type": "code",
     "collapsed": false,
     "input": [
      "def compute_result(tree, data_point):\n",
      "    result = None\n",
      "    while True:\n",
      "        fvalue = data_point[tree.featureId]\n",
      "        if fvalue not in tree.branches:\n",
      "            return None\n",
      "        branch = tree.branches[fvalue]\n",
      "        if type(branch) == numpy.int64:\n",
      "            result = branch\n",
      "            break\n",
      "        else:\n",
      "            tree = branch\n",
      "    return result\n",
      "\n",
      "#trees = [TreeBuilder(train_data).giveMeATree() for x in range(100)]\n",
      "\n",
      "def test(trees, testset):\n",
      "    results = []\n",
      "    for d in testset:\n",
      "        candidates = []\n",
      "        for tree in trees:\n",
      "            candidates.append(compute_result(tree, d))\n",
      "        candicount = Counter(candidates)\n",
      "        candidates = [(candicount[k], k) for k in candicount]\n",
      "        results.append(max(candidates)[1])\n",
      "    return results"
     ],
     "language": "python",
     "metadata": {},
     "outputs": [],
     "prompt_number": 318
    },
    {
     "cell_type": "heading",
     "level": 1,
     "metadata": {},
     "source": [
      "--- Test ---"
     ]
    },
    {
     "cell_type": "heading",
     "level": 3,
     "metadata": {},
     "source": [
      "Let's build 1000 random dicision trees."
     ]
    },
    {
     "cell_type": "code",
     "collapsed": false,
     "input": [
      "import time\n",
      "start = time.time()\n",
      "trees = [TreeBuilder(train_data).giveMeATree() for x in range(1000)]\n",
      "elapsed = time.time() - start\n",
      "print \"Time used:\", elapsed, \"secs\""
     ],
     "language": "python",
     "metadata": {},
     "outputs": [
      {
       "output_type": "stream",
       "stream": "stdout",
       "text": [
        "Time used: 69.3928980827 secs\n"
       ]
      }
     ],
     "prompt_number": 326
    },
    {
     "cell_type": "heading",
     "level": 3,
     "metadata": {},
     "source": [
      "Let's test"
     ]
    },
    {
     "cell_type": "code",
     "collapsed": false,
     "input": [
      "import time\n",
      "start = time.time()\n",
      "results = test(trees, test_data)\n",
      "elapsed = time.time() - start\n",
      "print \"Time used:\", elapsed, \"secs\""
     ],
     "language": "python",
     "metadata": {},
     "outputs": [
      {
       "output_type": "stream",
       "stream": "stdout",
       "text": [
        "Time used: 0.571871042252 secs\n"
       ]
      }
     ],
     "prompt_number": 327
    },
    {
     "cell_type": "heading",
     "level": 3,
     "metadata": {},
     "source": [
      "Let's see the accuracy"
     ]
    },
    {
     "cell_type": "code",
     "collapsed": false,
     "input": [
      "correct = 0\n",
      "for i in range(len(results)):\n",
      "    if results[i] == test_data[i][0]:\n",
      "      correct += 1\n",
      "print \"Accuracy:\", correct, \"/\", len(test_data), \"=\", float(correct)/len(test_data)"
     ],
     "language": "python",
     "metadata": {},
     "outputs": [
      {
       "output_type": "stream",
       "stream": "stdout",
       "text": [
        "Accuracy: 41 / 51 = 0.803921568627\n"
       ]
      }
     ],
     "prompt_number": 328
    },
    {
     "cell_type": "heading",
     "level": 1,
     "metadata": {},
     "source": [
      "--- Conclusion ---"
     ]
    },
    {
     "cell_type": "heading",
     "level": 3,
     "metadata": {},
     "source": [
      "In the earlier version, I did not randomly select features used in each tree, the accuracy was around 0.7.\n",
      "After I did that, the accuracy improved by 10%, wow."
     ]
    },
    {
     "cell_type": "heading",
     "level": 3,
     "metadata": {},
     "source": [
      "Raphael Shu, at ML Hackathon, Tokyo, 2014"
     ]
    }
   ],
   "metadata": {}
  }
 ]
}