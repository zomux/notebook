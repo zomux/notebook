{
 "metadata": {
  "name": "",
  "signature": "sha256:375e52c694154f847c683100ef99d469a423bb9535053cfb8e56d2266e6420ee"
 },
 "nbformat": 3,
 "nbformat_minor": 0,
 "worksheets": [
  {
   "cells": [
    {
     "cell_type": "heading",
     "level": 1,
     "metadata": {},
     "source": [
      "PYSMT Dev"
     ]
    },
    {
     "cell_type": "code",
     "collapsed": false,
     "input": [
      "!mkdir /tmp/pysmt\n",
      "%cd /tmp/pysmt"
     ],
     "language": "python",
     "metadata": {},
     "outputs": [
      {
       "output_type": "stream",
       "stream": "stdout",
       "text": [
        "/tmp/pysmt\n"
       ]
      }
     ],
     "prompt_number": 1
    },
    {
     "cell_type": "markdown",
     "metadata": {},
     "source": [
      "```\n",
      "${SCRIPTS_ROOTDIR}/training/train-model.perl \\\n",
      "  --scripts-root-dir ${SCRIPTS_ROOTDIR} \\\n",
      "  --root-dir `pwd`/work \\\n",
      "  --bin-dir ${GIZA_BIN_DIR} \\\n",
      "  --corpus ../corpus.tok/train-all.clean1-40 \\\n",
      "  --f fr \\\n",
      "  --e en \\\n",
      "  --parallel \\\n",
      "  --alignment grow-diag-final-and \\\n",
      "  --reordering msd-bidirectional-fe \\\n",
      "  --lm 0:5:`pwd`/../lm/train-all.en.lm \\\n",
      "  >& work/training.out\n",
      "  ```"
     ]
    },
    {
     "cell_type": "code",
     "collapsed": false,
     "input": [
      "!ls /root/workdir/pysmt/testdata/"
     ],
     "language": "python",
     "metadata": {},
     "outputs": [
      {
       "output_type": "stream",
       "stream": "stdout",
       "text": [
        "README.txt  test.en  test.ja  testdata.yaml  train.en  train.en.cfg  train.en.dep  train.ja  tune.en  tune.ja\r\n"
       ]
      }
     ],
     "prompt_number": 5
    },
    {
     "cell_type": "code",
     "collapsed": false,
     "input": [
      "!pwd"
     ],
     "language": "python",
     "metadata": {},
     "outputs": []
    },
    {
     "cell_type": "code",
     "collapsed": false,
     "input": [
      "%%bash\n",
      "WORKDIR=/tmp/pysmt\n",
      "CORPUS=/root/workdir/pysmt/testdata/train\n",
      "touch /tmp/fakelm.arpa\n",
      "/root/apps/mosesdecoder/scripts/training/train-model.perl \\\n",
      "--root-dir $WORKDIR \\\n",
      "--corpus $CORPUS \\\n",
      "-f en \\\n",
      "-e ja \\\n",
      "--parallel \\\n",
      "--alignment  grow-diag-final-and \\\n",
      "--reordering  msd-bidirectional-fe \\\n",
      "--lm  0:5:/tmp/fakelm.arpa"
     ],
     "language": "python",
     "metadata": {},
     "outputs": [
      {
       "output_type": "stream",
       "stream": "stderr",
       "text": [
        "perl: warning: Setting locale failed.\n",
        "perl: warning: Please check that your locale settings:\n",
        "\tLANGUAGE = (unset),\n",
        "\tLC_ALL = (unset),\n",
        "\tLANG = \"en_US.UTF-8\"\n",
        "    are supported and installed on your system.\n",
        "perl: warning: Falling back to the standard locale (\"C\").\n",
        "Using SCRIPTS_ROOTDIR: /root/apps/mosesdecoder/scripts\n",
        "Use of uninitialized value $_EXTERNAL_BINDIR in concatenation (.) or string at /root/apps/mosesdecoder/scripts/training/train-model.perl line 242.\n",
        "Use of uninitialized value $_EXTERNAL_BINDIR in concatenation (.) or string at /root/apps/mosesdecoder/scripts/training/train-model.perl line 243.\n",
        "Use of uninitialized value $_EXTERNAL_BINDIR in concatenation (.) or string at /root/apps/mosesdecoder/scripts/training/train-model.perl line 250.\n",
        "Use of uninitialized value $_EXTERNAL_BINDIR in concatenation (.) or string at /root/apps/mosesdecoder/scripts/training/train-model.perl line 251.\n",
        "Use of uninitialized value $_EXTERNAL_BINDIR in concatenation (.) or string at /root/apps/mosesdecoder/scripts/training/train-model.perl line 253.\n",
        "Using single-thread GIZA\n",
        "Use of uninitialized value $_EXTERNAL_BINDIR in concatenation (.) or string at /root/apps/mosesdecoder/scripts/training/train-model.perl line 350.\n",
        "ERROR: Cannot find mkcls, GIZA++/mgiza, & snt2cooc.out/snt2cooc in .\n",
        "You MUST specify the parameter -external-bin-dir at /root/apps/mosesdecoder/scripts/training/train-model.perl line 350.\n"
       ]
      }
     ],
     "prompt_number": 6
    }
   ],
   "metadata": {}
  }
 ]
}