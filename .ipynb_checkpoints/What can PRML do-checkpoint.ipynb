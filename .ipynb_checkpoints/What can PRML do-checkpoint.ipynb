{
 "metadata": {
  "name": "",
  "signature": "sha256:a6c598494205c73a4e17b95180fd3a83ee5973f0a6da1d780a34afe5f2ac5321"
 },
 "nbformat": 3,
 "nbformat_minor": 0,
 "worksheets": [
  {
   "cells": [
    {
     "cell_type": "heading",
     "level": 1,
     "metadata": {},
     "source": [
      "\u30d1\u30bf\u30fc\u30f3\u8a8d\u8b58\u304c\u3067\u304d\u308b\u9762\u767d\u3044\u3053\u3068"
     ]
    },
    {
     "cell_type": "markdown",
     "metadata": {},
     "source": [
      "\u9854\u8a8d\u8b58\n",
      "===\n",
      "\n",
      "- Face tracking\n",
      " - https://www.youtube.com/watch?v=H9Nntl9qbdM\n",
      "- \u8868\u60c5\u3092\u307e\u306d\u3059\u308b\n",
      " - https://www.youtube.com/watch?v=vh5cb_qBmlM&feature=youtu.be"
     ]
    },
    {
     "cell_type": "markdown",
     "metadata": {},
     "source": [
      "\u30b2\u30fc\u30e0\u3092\u3084\u3089\u305b\u308b\n",
      "---\n",
      "\n",
      "- Q Learning Snake\n",
      " - https://www.youtube.com/watch?v=tjmOnFLsigQ\n",
      "- Mario\n",
      " - https://www.youtube.com/watch?v=CRaZlt3L4yg\n",
      "- DQLRL demo\n",
      " - http://cs.stanford.edu/people/karpathy/convnetjs/demo/rldemo.html"
     ]
    }
   ],
   "metadata": {}
  }
 ]
}