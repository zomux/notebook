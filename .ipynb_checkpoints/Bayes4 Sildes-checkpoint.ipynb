{
 "metadata": {
  "celltoolbar": "Slideshow",
  "name": "",
  "signature": "sha256:f3ce8c1f9ec0acd37fb447c8a7c71224fa653aa0f5826732f261d36a7db2c56b"
 },
 "nbformat": 3,
 "nbformat_minor": 0,
 "worksheets": [
  {
   "cells": [
    {
     "cell_type": "markdown",
     "metadata": {
      "slideshow": {
       "slide_type": "slide"
      }
     },
     "source": [
      "# \u30d9\u30fc\u30ba\u7d71\u8a08\u5165\u9580\n",
      "## \u7b2c\u56db\u7ae0 \u30d9\u30a4\u30ba\u5224\u5225\u554f\u984c\u3068\u30d1\u30bf\u30fc\u30f3\u8a8d\u8b58\n",
      "## Raphael Shu 2014.9"
     ]
    },
    {
     "cell_type": "markdown",
     "metadata": {
      "slideshow": {
       "slide_type": "subslide"
      }
     },
     "source": [
      "## \u5185\u5bb9\n",
      "- 4.1 \u30e1\u30c3\u30bb\u30fc\u30b8\u3068\u7b26\u53f7\n",
      "- 4.2 \u30d9\u30a4\u30ba\u6c7a\u5b9a\n",
      "- 4.3 \u6b63\u898f\u5206\u5e03\u3092\u3082\u3064\u30ce\u30a4\u30ba\n",
      "- 4.4 \u30df\u30cb\u30de\u30c3\u30af\u30b9\u6c7a\u5b9a"
     ]
    },
    {
     "cell_type": "code",
     "collapsed": false,
     "input": [
      "import pylab"
     ],
     "language": "python",
     "metadata": {
      "slideshow": {
       "slide_type": "slide"
      }
     },
     "outputs": [],
     "prompt_number": 1
    },
    {
     "cell_type": "heading",
     "level": 3,
     "metadata": {
      "slideshow": {
       "slide_type": "skip"
      }
     },
     "source": [
      "Edit SVG at http://editor.method.ac"
     ]
    },
    {
     "cell_type": "code",
     "collapsed": false,
     "input": [
      "%%writefile /tmp/slide_pic1.data\n",
      "<svg width=\"580\" height=\"400\" xmlns=\"http://www.w3.org/2000/svg\">\n",
      " <!-- Created with Method Draw - http://github.com/duopixel/Method-Draw/ -->\n",
      " <g>\n",
      "  <title>Layer 1</title>\n",
      "  <rect id=\"svg_1\" height=\"108\" width=\"175\" y=\"109.5\" x=\"61.5\" stroke-width=\"1.5\" stroke=\"#000\" fill=\"#fff\"/>\n",
      "  <rect id=\"svg_2\" height=\"1\" width=\"0\" y=\"391.5\" x=\"-237.5\" stroke-width=\"1.5\" stroke=\"#000\" fill=\"#fff\"/>\n",
      "  <rect id=\"svg_3\" height=\"1\" width=\"1\" y=\"162.5\" x=\"225.5\" stroke-width=\"1.5\" stroke=\"#000\" fill=\"#fff\"/>\n",
      "  <rect id=\"svg_4\" height=\"1\" width=\"0\" y=\"173.5\" x=\"127.5\" stroke-width=\"1.5\" stroke=\"#000\" fill=\"#fff\"/>\n",
      " </g>\n",
      "</svg>"
     ],
     "language": "python",
     "metadata": {
      "slideshow": {
       "slide_type": "skip"
      }
     },
     "outputs": [
      {
       "output_type": "stream",
       "stream": "stdout",
       "text": [
        "Overwriting /tmp/slide_pic1.data\n"
       ]
      }
     ],
     "prompt_number": 21
    },
    {
     "cell_type": "code",
     "collapsed": false,
     "input": [
      "from IPython.core.display import display, Image, SVG\n",
      "display(SVG(open(\"/tmp/slide_pic1.data\").read()))"
     ],
     "language": "python",
     "metadata": {
      "slideshow": {
       "slide_type": "slide"
      }
     },
     "outputs": [
      {
       "metadata": {},
       "output_type": "display_data",
       "svg": [
        "<svg height=\"400\" width=\"580\" xmlns=\"http://www.w3.org/2000/svg\">\n",
        " <!-- Created with Method Draw - http://github.com/duopixel/Method-Draw/ -->\n",
        " <g>\n",
        "  <title>Layer 1</title>\n",
        "  <rect fill=\"#fff\" height=\"108\" id=\"svg_1\" stroke=\"#000\" stroke-width=\"1.5\" width=\"175\" x=\"61.5\" y=\"109.5\"/>\n",
        "  <rect fill=\"#fff\" height=\"1\" id=\"svg_2\" stroke=\"#000\" stroke-width=\"1.5\" width=\"0\" x=\"-237.5\" y=\"391.5\"/>\n",
        "  <rect fill=\"#fff\" height=\"1\" id=\"svg_3\" stroke=\"#000\" stroke-width=\"1.5\" width=\"1\" x=\"225.5\" y=\"162.5\"/>\n",
        "  <rect fill=\"#fff\" height=\"1\" id=\"svg_4\" stroke=\"#000\" stroke-width=\"1.5\" width=\"0\" x=\"127.5\" y=\"173.5\"/>\n",
        " </g>\n",
        "</svg>"
       ],
       "text": [
        "<IPython.core.display.SVG at 0x3b7fc90>"
       ]
      }
     ],
     "prompt_number": 22
    },
    {
     "cell_type": "heading",
     "level": 2,
     "metadata": {
      "slideshow": {
       "slide_type": "skip"
      }
     },
     "source": [
      "Make slides"
     ]
    },
    {
     "cell_type": "code",
     "collapsed": false,
     "input": [
      "%%bash\n",
      "# make slided\n",
      "cd /root/workdir/notebook\n",
      "ipython nbconvert \"Bayes4 Sildes.ipynb\" --to slides --template output_toggle"
     ],
     "language": "python",
     "metadata": {
      "slideshow": {
       "slide_type": "skip"
      }
     },
     "outputs": [
      {
       "output_type": "stream",
       "stream": "stderr",
       "text": [
        "[NbConvertApp] Using existing profile dir: u'/root/.ipython/profile_default'\n",
        "[NbConvertApp] Converting notebook Bayes4 Sildes.ipynb to slides\n",
        "[NbConvertApp] Support files will be in Bayes4 Sildes_files/\n",
        "[NbConvertApp] Loaded template output_toggle.tpl\n",
        "/usr/local/lib/python2.7/dist-packages/IPython/nbconvert/filters/markdown.py:78: UserWarning: Node.js 0.9.12 or later wasn't found.\n",
        "Nbconvert will try to use Pandoc instead.\n",
        "  \"Nbconvert will try to use Pandoc instead.\")\n",
        "/usr/local/lib/python2.7/dist-packages/IPython/nbconvert/utils/pandoc.py:63: RuntimeWarning: You are using an old version of pandoc (1.9.1)\n",
        "Recommended version is 1.12.1.\n",
        "Try updating.http://johnmacfarlane.net/pandoc/installing.html.\n",
        "Continuing with doubts...\n",
        "  check_pandoc_version()\n",
        "[NbConvertApp] Writing 197210 bytes to Bayes4 Sildes.slides.html\n"
       ]
      }
     ],
     "prompt_number": 2
    },
    {
     "cell_type": "markdown",
     "metadata": {},
     "source": [
      "### Tooset URLs\n",
      "- http://python.uaca.com:9999/notebooks/Bayes4%20Sildes.ipynb\n",
      "- http://python.uaca.com:8011/Bayes4%20Sildes.slides.html#/\n",
      "- http://editor.method.ac"
     ]
    }
   ],
   "metadata": {}
  }
 ]
}