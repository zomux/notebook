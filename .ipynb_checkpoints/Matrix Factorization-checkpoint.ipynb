{
 "metadata": {
  "name": "",
  "signature": "sha256:06710d9763c847b61577f736de31bb51c147d1d050b80d13629c6de153e3e4bb"
 },
 "nbformat": 3,
 "nbformat_minor": 0,
 "worksheets": [
  {
   "cells": [
    {
     "cell_type": "heading",
     "level": 1,
     "metadata": {},
     "source": [
      "Matrix Factorization"
     ]
    },
    {
     "cell_type": "code",
     "collapsed": false,
     "input": [
      "import numpy\n",
      "\n",
      "def get_rating_error(r, p, q):\n",
      "    return r - numpy.dot(p, q)\n",
      "\n",
      "\n",
      "def get_error(R, P, Q, beta):\n",
      "    error = 0.0\n",
      "    for i in xrange(len(R)):\n",
      "        for j in xrange(len(R[i])):\n",
      "            if R[i][j] == 0:\n",
      "                continue\n",
      "            error += pow(get_rating_error(R[i][j], P[:,i], Q[:,j]), 2)\n",
      "    error += beta/2.0 * (numpy.linalg.norm(P) + numpy.linalg.norm(Q))\n",
      "    return error\n",
      "\n",
      "\n",
      "def matrix_factorization(R, K, steps=5000, alpha=0.0002, beta=0.02, threshold=0.001):\n",
      "    P = numpy.random.rand(K, len(R))\n",
      "    Q = numpy.random.rand(K, len(R[0]))\n",
      "    for step in xrange(steps):\n",
      "        for i in xrange(len(R)):\n",
      "            for j in xrange(len(R[i])):\n",
      "                if R[i][j] == 0:\n",
      "                    continue\n",
      "                err = get_rating_error(R[i][j], P[:, i], Q[:, j])\n",
      "                for k in xrange(K):\n",
      "                    P[k][i] += alpha * (2 * err * Q[k][j])\n",
      "                    Q[k][j] += alpha * (2 * err * P[k][i])\n",
      "        error = get_error(R, P, Q, beta)\n",
      "        if error < threshold:\n",
      "            break\n",
      "    return P, Q\n",
      "\n",
      "\n",
      "R = numpy.array([\n",
      "        [5, 3, 0, 1],\n",
      "        [4, 0, 0, 1],\n",
      "        [1, 1, 0, 5],\n",
      "        [1, 0, 0, 4],\n",
      "        [0, 1, 5, 4],\n",
      "        ]\n",
      "    )\n",
      "nP, nQ = matrix_factorization(R, 2)\n",
      "nR = numpy.dot(nP.T, nQ)"
     ],
     "language": "python",
     "metadata": {},
     "outputs": [],
     "prompt_number": 1
    },
    {
     "cell_type": "code",
     "collapsed": false,
     "input": [
      "nR"
     ],
     "language": "python",
     "metadata": {},
     "outputs": [
      {
       "metadata": {},
       "output_type": "pyout",
       "prompt_number": 2,
       "text": [
        "array([[ 5.05742121,  2.83903704,  5.62100588,  0.99381223],\n",
        "       [ 3.95174133,  2.22119326,  4.52237706,  0.99489328],\n",
        "       [ 1.11416743,  0.68756776,  4.08619482,  4.9926124 ],\n",
        "       [ 0.94268696,  0.57871809,  3.31852764,  3.99160289],\n",
        "       [ 2.46890205,  1.43229994,  4.86925036,  4.04750548]])"
       ]
      }
     ],
     "prompt_number": 2
    },
    {
     "cell_type": "code",
     "collapsed": false,
     "input": [],
     "language": "python",
     "metadata": {},
     "outputs": []
    }
   ],
   "metadata": {}
  }
 ]
}