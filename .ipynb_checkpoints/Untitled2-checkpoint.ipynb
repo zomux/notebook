{
 "metadata": {
  "name": "",
  "signature": "sha256:34a02fb93e05360d805d720cc84b3d141c0c0f2fb3b250b2070580021bff75f0"
 },
 "nbformat": 3,
 "nbformat_minor": 0,
 "worksheets": []
}