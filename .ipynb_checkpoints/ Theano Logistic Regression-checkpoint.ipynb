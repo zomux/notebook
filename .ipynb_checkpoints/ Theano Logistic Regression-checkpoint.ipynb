{
 "metadata": {
  "name": "",
  "signature": "sha256:8999feabb20474aa9da0a1d24081ba8ba1a531d36edb07c91eebc19176782682"
 },
 "nbformat": 3,
 "nbformat_minor": 0,
 "worksheets": [
  {
   "cells": [
    {
     "cell_type": "heading",
     "level": 1,
     "metadata": {},
     "source": [
      "Theano Logistic Regression"
     ]
    }
   ],
   "metadata": {}
  }
 ]
}