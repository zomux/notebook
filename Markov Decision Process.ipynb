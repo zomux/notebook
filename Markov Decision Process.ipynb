{
 "metadata": {
  "name": "",
  "signature": "sha256:91fd0aa14db5a0b34c4de96ef3d6bef8f30fc822688acc518ce5fd859f5358f3"
 },
 "nbformat": 3,
 "nbformat_minor": 0,
 "worksheets": [
  {
   "cells": [
    {
     "cell_type": "heading",
     "level": 1,
     "metadata": {},
     "source": [
      "Markov Decision Process"
     ]
    },
    {
     "cell_type": "markdown",
     "metadata": {},
     "source": [
      "![](https://cloud.githubusercontent.com/assets/1029280/4573220/120bd506-4f90-11e4-9f27-b9f00b6fc3dd.png)\n",
      "\n",
      "![screen shot 2014-10-10 at 11 02 39](https://cloud.githubusercontent.com/assets/1029280/4586936/802b3f18-5021-11e4-8c38-07028a25eb71.png)\n"
     ]
    },
    {
     "cell_type": "code",
     "collapsed": false,
     "input": [
      "# States\n",
      "A = 1\n",
      "B = 2\n",
      "CRUISE = 3\n",
      "STAND = 4\n",
      "# Transactions\n",
      "T = {}\n",
      "T[CRUISE] = {\n",
      "    A: {A: 0.9, B: 0.1}, \n",
      "    B: {A: 0.1, B: 0.9}\n",
      "}\n",
      "T[STAND] = {\n",
      "    A: {A: 0.4, B: 0.6}, \n",
      "    B: {A: 0.6, B: 0.4}\n",
      "}\n",
      "# Rewards\n",
      "R = {\n",
      "    CRUISE: {A: 8, B: 20}, \n",
      "    STAND: {A: 5, B: 22}\n",
      "}\n",
      "# Dictionary\n",
      "DICT = {A: \"A\", B: \"B\", CRUISE: \"CRUISE\", STAND: \"STAND\"}"
     ],
     "language": "python",
     "metadata": {},
     "outputs": [],
     "prompt_number": 45
    },
    {
     "cell_type": "code",
     "collapsed": false,
     "input": [
      "def optimize(states, actions, R, T):\n",
      "    epsilon = 0.0001; gamma = 0.8; max_iters = 100\n",
      "    V = {}; V2 = {}\n",
      "    logs = {};\n",
      "    for s in states:\n",
      "        logs[s] = {}\n",
      "        for a in actions:\n",
      "            logs[s][a] = []\n",
      "        \n",
      "    for s in states:\n",
      "        V[s] = 0\n",
      "        V2[s] = 0\n",
      "    for iteration in range(max_iters):\n",
      "        for s in states:\n",
      "            value_candidates = []\n",
      "            for a in actions:\n",
      "                value = R[a][s] + gamma * sum(T[a][s][s2]*V[s2] for s2 in states)\n",
      "                value_candidates.append(value)\n",
      "                logs[s][a].append(value)\n",
      "            V2[s] =max(value_candidates)\n",
      "        if max(abs(V2[s] - V[s]) for s in states) < epsilon:\n",
      "            return V2, logs\n",
      "        else:\n",
      "            V = V2; V2 = {}\n",
      "    return V2, logs\n",
      "\n",
      "def draw_table(states, actions, R, T, V):\n",
      "    for s in states:\n",
      "        for a in actions:\n",
      "            value = R[a][s] + gamma * sum(T[a][s][s2]*V[s2] for s2 in states)\n",
      "            print \"State: %s Action: %s --> %f\" % (DICT[s], DICT[a], value)\n",
      "\n",
      "states = [A, B]\n",
      "actions = [CRUISE, STAND]\n",
      "optimized_V, logs = optimize(states, actions, R, T)\n",
      "print \"Iterations:\", len(logs[A][STAND])\n",
      "draw_table(states, actions, R, T, optimized_V)"
     ],
     "language": "python",
     "metadata": {},
     "outputs": [
      {
       "output_type": "stream",
       "stream": "stdout",
       "text": [
        "Iterations: 56\n",
        "State: A Action: CRUISE --> 74.907603\n",
        "State: A Action: STAND --> 80.789182\n",
        "State: B Action: CRUISE --> 101.118129\n",
        "State: B Action: STAND --> 94.236550\n"
       ]
      }
     ],
     "prompt_number": 53
    },
    {
     "cell_type": "code",
     "collapsed": false,
     "input": [
      "from matplotlib import *\n",
      "x_axis = range(1, 1 + len(logs[A][STAND]))\n",
      "for s in states:\n",
      "    for a in actions:\n",
      "        plot(x_axis, logs[s][a], label=\"State %s, Action %s\" % (DICT[s], DICT[a]))\n",
      "pyplot.legend(loc=4)\n",
      "show()"
     ],
     "language": "python",
     "metadata": {},
     "outputs": [
      {
       "metadata": {},
       "output_type": "display_data",
       "png": "[encoded data removed]",
       "text": [
        "<matplotlib.figure.Figure at 0x380c9d0>"
       ]
      }
     ],
     "prompt_number": 56
    },
    {
     "cell_type": "code",
     "collapsed": false,
     "input": [
      "%%dot\n",
      "s"
     ],
     "language": "python",
     "metadata": {},
     "outputs": [
      {
       "output_type": "stream",
       "stream": "stderr",
       "text": [
        "ERROR: Cell magic `%%dot` not found.\n"
       ]
      }
     ],
     "prompt_number": 57
    }
   ],
   "metadata": {}
  }
 ]
}