{
 "metadata": {
  "name": "",
  "signature": "sha256:3ea076640f042090cefe0ef47e8b7a152408b9f494f74da8b13bc308444b0cf1"
 },
 "nbformat": 3,
 "nbformat_minor": 0,
 "worksheets": [
  {
   "cells": [
    {
     "cell_type": "heading",
     "level": 1,
     "metadata": {},
     "source": [
      "Recurrent Neural Network Language Model"
     ]
    },
    {
     "cell_type": "heading",
     "level": 3,
     "metadata": {},
     "source": [
      "Methodology"
     ]
    },
    {
     "cell_type": "code",
     "collapsed": false,
     "input": [
      "%install_ext https://raw.github.com/tkf/ipython-hierarchymagic/master/hierarchymagic.py"
     ],
     "language": "python",
     "metadata": {},
     "outputs": [
      {
       "output_type": "stream",
       "stream": "stdout",
       "text": [
        "Installed hierarchymagic.py. To use it, type:\n",
        "  %load_ext hierarchymagic\n"
       ]
      }
     ],
     "prompt_number": 2
    },
    {
     "cell_type": "heading",
     "level": 3,
     "metadata": {},
     "source": [
      "Prepare data"
     ]
    },
    {
     "cell_type": "code",
     "collapsed": false,
     "input": [
      "testdata = \"\"\"\n",
      "a b c\n",
      "a a b c\n",
      "a a a b c\n",
      "b c\n",
      "b c d\n",
      "d e f\n",
      "\"\"\""
     ],
     "language": "python",
     "metadata": {},
     "outputs": [],
     "prompt_number": 3
    },
    {
     "cell_type": "heading",
     "level": 3,
     "metadata": {},
     "source": [
      "Code"
     ]
    },
    {
     "cell_type": "code",
     "collapsed": false,
     "input": [
      "import re\n",
      "from numpy import *"
     ],
     "language": "python",
     "metadata": {},
     "outputs": [],
     "prompt_number": 12
    },
    {
     "cell_type": "code",
     "collapsed": false,
     "input": [
      "# General functions\n",
      "def sigmod(z):\n",
      "    return 1 / (1 + exp(-z))"
     ],
     "language": "python",
     "metadata": {},
     "outputs": [],
     "prompt_number": 46
    },
    {
     "cell_type": "code",
     "collapsed": false,
     "input": [
      "SPECIAL_WORDS = [\"<s>\", \"</s>\", \"UNK\"]\n",
      "\n",
      "class RNNLM:\n",
      "    \n",
      "    def __init__(self, trainingData, hiddenLayerSize=10):\n",
      "        self.trainingData = trainingData\n",
      "        self.hiddenLayerSize = hiddenLayerSize\n",
      "        self.vocabsize = 0\n",
      "        self.vocabmap = {}\n",
      "        self.buildVocabs()\n",
      "        self.initializeParamerters()\n",
      "    \n",
      "    def initializeParamerters(self):\n",
      "        self.U = zeros((self.hiddenLayerSize, self.vocabsize)); self.U.fill(1.0/self.vocabsize)\n",
      "        self.W = zeros((self.hiddenLayerSize, self.hiddenLayerSize)); self.W.fill(1.0/self.hiddenLayerSize)\n",
      "        self.V = zeros((self.vocabsize, self.hiddenLayerSize)); self.V.fill(1.0/self.hiddenLayerSize)\n",
      "    \n",
      "    def buildVocabs(self):\n",
      "        ws = set(re.split(r\"\\s+\", self.trainingData.strip())).union(SPECIAL_WORDS)\n",
      "        for w in ws:\n",
      "            if w in self.vocabmap:\n",
      "                continue\n",
      "            self.vocabsize += 1\n",
      "            self.vocabmap[w] = self.vocabsize\n",
      "            \n",
      "    def wordId(self, w):\n",
      "        return self.vocabmap[w] if w in self.vocabmap else self.vocabmap[\"UNK\"]\n",
      "    \n",
      "    def sentenceIds(self, sentence):\n",
      "        return map(self.wordId, [\"<s>\"] + sentence.split() + [\"</s>\"])\n",
      "    \n",
      "    def numerizeData(self):\n",
      "        lines = self.trainingData.strip().split(\"\\n\")\n",
      "        # shuffle(lines)\n",
      "        return map(self.sentenceIds, lines)\n",
      "    \n",
      "    def train(self, alpha=0.1):\n",
      "        for words in self.numerizeData():\n",
      "            currentS = zeros(self.hiddenLayerSize)\n",
      "            currentWord = words[0]\n",
      "            for w in words:\n",
      "                s = sigmod(self.U[:, currentWord -1] + self.W.dot(currentS))\n",
      "                z = self.V.dot(s)\n",
      "                y = exp(z - z.max())\n",
      "                y = y / y.sum()\n",
      "                y[w - 1] -= 1  # -e0\n",
      "                eha = dot(y, self.V) * s * (s - 1) * alpha # eh * alpha\n",
      "                self.V -= outer(y, s * alpha)\n",
      "                self.U[:, currentWord -1] += eha\n",
      "                self.W += outer(currentS, eha)\n",
      "                currentWord = w\n",
      "                currentS = s\n",
      "                \n",
      "    def prob(self, sentence):\n",
      "        ids = self.sentenceIds(sentence)\n",
      "        p = 0\n",
      "        s = numpy.zeros(self.hiddenLayerSize)\n",
      "        pre_w = ids[0]\n",
      "        for w in ids:\n",
      "            s = sigmod(numpy.dot(self.W, s) + self.U[:, pre_w - 1])\n",
      "            z = numpy.dot(self.V, s)\n",
      "            y = numpy.exp(z - z.max())\n",
      "            y = y / y.sum()\n",
      "            p += numpy.log(y[w-1])\n",
      "        return p\n",
      "        \n",
      "lm = RNNLM(testdata)\n",
      "lm.train()\n",
      "print lm.prob(\"a a\")\n",
      "print lm.prob(\"a b\")\n",
      "print lm.prob(\"a c\")\n",
      "print lm.prob(\"a d\")"
     ],
     "language": "python",
     "metadata": {},
     "outputs": [
      {
       "output_type": "stream",
       "stream": "stdout",
       "text": [
        "-7.96656541865\n",
        "-7.76700273249\n",
        "-7.6919033643\n",
        "-8.12172458554\n"
       ]
      }
     ],
     "prompt_number": 113
    },
    {
     "cell_type": "heading",
     "level": 3,
     "metadata": {},
     "source": [
      "Test"
     ]
    },
    {
     "cell_type": "code",
     "collapsed": false,
     "input": [
      "print RNNLM(testdata).train()"
     ],
     "language": "python",
     "metadata": {},
     "outputs": [
      {
       "output_type": "stream",
       "stream": "stdout",
       "text": [
        "[ 0.11111111  0.11111111  0.11111111  0.11111111  0.11111111]\n",
        "[ 0.  0.  0.  0.  0.]\n",
        "[ 0.52774924  0.52774924  0.52774924  0.52774924  0.52774924]\n",
        "V [[ 0.2  0.2  0.2  0.2  0.2]\n",
        " [ 0.2  0.2  0.2  0.2  0.2]\n",
        " [ 0.2  0.2  0.2  0.2  0.2]\n",
        " [ 0.2  0.2  0.2  0.2  0.2]\n",
        " [ 0.2  0.2  0.2  0.2  0.2]\n",
        " [ 0.2  0.2  0.2  0.2  0.2]\n",
        " [ 0.2  0.2  0.2  0.2  0.2]\n",
        " [ 0.2  0.2  0.2  0.2  0.2]\n",
        " [ 0.2  0.2  0.2  0.2  0.2]]\n",
        "z [ 0.52774924  0.52774924  0.52774924  0.52774924  0.52774924  0.52774924\n",
        "  0.52774924  0.52774924  0.52774924]\n",
        "[ 1.  1.  1.  1.  1.  1.  1.  1.  1.]\n",
        "None\n"
       ]
      }
     ],
     "prompt_number": 80
    }
   ],
   "metadata": {}
  }
 ]
}