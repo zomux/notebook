{
 "metadata": {
  "name": "",
  "signature": "sha256:e6df5754866894511c2ba1066ff1582ae201458b3016beb885b59014130612eb"
 },
 "nbformat": 3,
 "nbformat_minor": 0,
 "worksheets": [
  {
   "cells": [
    {
     "cell_type": "heading",
     "level": 1,
     "metadata": {},
     "source": [
      "Summo Data analysis"
     ]
    },
    {
     "cell_type": "heading",
     "level": 1,
     "metadata": {},
     "source": [
      "------ Idea/ Hypothesis ------"
     ]
    },
    {
     "cell_type": "markdown",
     "metadata": {},
     "source": [
      "-\u3000\u4f4f\u5c45\u540d\u79f0\u306e\u30cf\u30a4\u30c4\u306e\u5206\u5e03\u304c\u9762\u767d\u3044"
     ]
    },
    {
     "cell_type": "heading",
     "level": 1,
     "metadata": {},
     "source": [
      "------ Data ------"
     ]
    },
    {
     "cell_type": "code",
     "collapsed": false,
     "input": [
      "%%bash\n",
      "W=\"\u30b7\u30e3\u30f3\u30dc\u30fc\u30eb\"\n",
      "cat /root/playground/summo-data-2.txt | grep $W |  cut -f 3 | sed -e \"s/\u5e74/./g\" | sed -e \"s/\u6708//g\" > /tmp/d.txt\n",
      "cat  /tmp/d.txt | head\n",
      "cat  /tmp/d.txt | wc -l"
     ],
     "language": "python",
     "metadata": {},
     "outputs": [
      {
       "output_type": "stream",
       "stream": "stdout",
       "text": [
        "1977.10\n",
        "1977.10\n",
        "1979.11\n",
        "1977.10\n",
        "1982.5\n",
        "1982.5\n",
        "1982.10\n",
        "1981.2\n",
        "1971.11\n",
        "1971.11\n",
        "65\n"
       ]
      }
     ],
     "prompt_number": 124
    },
    {
     "cell_type": "code",
     "collapsed": false,
     "input": [
      "from collections import Counter\n",
      "years = open(\"/tmp/d.txt\").read().strip().split(\"\\n\")\n",
      "years = [int(y.split(\".\")[0]) for y in years]\n",
      "c = Counter(years)\n",
      "xs = []\n",
      "ys = []\n",
      "for k in c:\n",
      "    xs.append(k)\n",
      "    ys.append(c[k])"
     ],
     "language": "python",
     "metadata": {},
     "outputs": [],
     "prompt_number": 125
    },
    {
     "cell_type": "heading",
     "level": 1,
     "metadata": {},
     "source": [
      "------ Analysis ------"
     ]
    },
    {
     "cell_type": "code",
     "collapsed": false,
     "input": [
      "import numpy as np\n",
      "p30 = np.poly1d(np.polyfit(xs, ys, 1))\n",
      "xp = np.linspace(1963, 2015, 100)\n",
      "xlim([1963, 2010])\n",
      "ylim([0, max(ys)])\n",
      "plot(xs, ys, \"b-\")\n",
      "plot(xp, p30(xp), \"r-\")"
     ],
     "language": "python",
     "metadata": {},
     "outputs": [
      {
       "metadata": {},
       "output_type": "pyout",
       "prompt_number": 126,
       "text": [
        "[<matplotlib.lines.Line2D at 0x9497150>]"
       ]
      },
      {
       "metadata": {},
       "output_type": "display_data",
       "png": "[encoded data removed]",
       "text": [
        "<matplotlib.figure.Figure at 0x8e94590>"
       ]
      }
     ],
     "prompt_number": 126
    },
    {
     "cell_type": "heading",
     "level": 1,
     "metadata": {},
     "source": [
      "------ Conclusion ------"
     ]
    },
    {
     "cell_type": "markdown",
     "metadata": {},
     "source": [
      "#1983\n",
      "#\uff11\n",
      "#\uff12\n",
      "#\uff13"
     ]
    }
   ],
   "metadata": {}
  }
 ]
}