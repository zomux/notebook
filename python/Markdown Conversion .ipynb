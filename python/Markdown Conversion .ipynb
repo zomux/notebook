{
 "metadata": {
  "name": "",
  "signature": "sha256:3474a8b170e63ae0d1d66142be3a2fa88369e487bd23550ddd6e5861ea457a01"
 },
 "nbformat": 3,
 "nbformat_minor": 0,
 "worksheets": [
  {
   "cells": [
    {
     "cell_type": "heading",
     "level": 1,
     "metadata": {},
     "source": [
      "Markdown Conversion"
     ]
    },
    {
     "cell_type": "code",
     "collapsed": false,
     "input": [
      "import markdown\n",
      "import urllib"
     ],
     "language": "python",
     "metadata": {},
     "outputs": [],
     "prompt_number": 3
    },
    {
     "cell_type": "code",
     "collapsed": false,
     "input": [
      "content = urllib.urlopen(\"https://raw.githubusercontent.com/zomux/wiki/master/index.md\").read()"
     ],
     "language": "python",
     "metadata": {},
     "outputs": [],
     "prompt_number": 6
    },
    {
     "cell_type": "code",
     "collapsed": false,
     "input": [
      "html = markdown.markdown(content)"
     ],
     "language": "python",
     "metadata": {},
     "outputs": [],
     "prompt_number": 14
    },
    {
     "cell_type": "code",
     "collapsed": false,
     "input": [
      "print html"
     ],
     "language": "python",
     "metadata": {},
     "outputs": [
      {
       "output_type": "stream",
       "stream": "stdout",
       "text": [
        "<h2>Softwares</h2>\n",
        "<ul>\n",
        "<li><a href=\"/pysmt.md\">pysmt</a></li>\n",
        "<li>\n",
        "<p>A statistical machine translation system on Python</p>\n",
        "</li>\n",
        "<li>\n",
        "<p><a href=\"/jrnnlm.md\">JRNNLM</a></p>\n",
        "</li>\n",
        "<li>RNNLM implementation in JAVA</li>\n",
        "</ul>\n",
        "<h2>Activities</h2>\n",
        "<ul>\n",
        "<li>WAT2014 (Workshop on Asian Translation)<ul>\n",
        "<li>Weblio Pre-reordering Statistical Machine Translation System<ul>\n",
        "<li><a href=\"/WAT2014/wat2014.paper.shu.pdf\">paper</a></li>\n",
        "<li><a href=\"/WAT2014/wat2014.slides.shu.pdf\">slides</a></li>\n",
        "<li><a href=\"/WAT2014/wat2014.poster.shu.pdf\">poster</a></li>\n",
        "</ul>\n",
        "</li>\n",
        "</ul>\n",
        "</li>\n",
        "</ul>\n",
        "<h2>Notes</h2>\n",
        "<ul>\n",
        "<li>Machine Learning<ul>\n",
        "<li><a href=\"/machine_learning/markov_decision_process.md\">Markov Decision process (MDP)</a></li>\n",
        "<li><a href=\"/machine_learning/POMDP.md\">Partially Observable Markov Decision process (POMDP)</a></li>\n",
        "<li><a href=\"/machine_learning/dynamic_bayesian_networks.md\">Dynamic Bayesian Networks (DBN)</a></li>\n",
        "<li><a href=\"/machine_learning/hidden_markov_model.md\">Hidden Markov Model (HMM)</a></li>\n",
        "</ul>\n",
        "</li>\n",
        "</ul>\n",
        "<h2>Online Demonstrations</h2>\n",
        "<h2>Notebooks</h2>\n",
        "<ul>\n",
        "<li><a href=\"http://nbviewer.ipython.org/github/zomux/notebook/blob/master/Logistic%20Regression.ipynb\">Logistic Regression</a></li>\n",
        "</ul>\n",
        "<p><a href=\"http://nbviewer.ipython.org/github/zomux/notebook/tree/master\">All notebooks</a> (not all of them are useful)</p>\n"
       ]
      }
     ],
     "prompt_number": 15
    }
   ],
   "metadata": {}
  }
 ]
}