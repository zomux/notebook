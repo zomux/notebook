{
 "metadata": {
  "name": "",
  "signature": "sha256:727ca8ed41838b58ce98d4d8348af28c7c39c3ab38facaba73703eb9ab70961a"
 },
 "nbformat": 3,
 "nbformat_minor": 0,
 "worksheets": [
  {
   "cells": [
    {
     "cell_type": "heading",
     "level": 1,
     "metadata": {},
     "source": [
      "Matrix Factorization"
     ]
    },
    {
     "cell_type": "code",
     "collapsed": false,
     "input": [
      "import numpy\n",
      "\n",
      "def get_rating_error(r, p, q):\n",
      "    return r - numpy.dot(p, q)\n",
      "\n",
      "\n",
      "def get_error(R, P, Q, beta):\n",
      "    error = 0.0\n",
      "    for i in xrange(len(R)):\n",
      "        for j in xrange(len(R[i])):\n",
      "            if R[i][j] == 0:\n",
      "                continue\n",
      "            error += pow(get_rating_error(R[i][j], P[:,i], Q[:,j]), 2)\n",
      "    error += beta/2.0 * (numpy.linalg.norm(P) + numpy.linalg.norm(Q))\n",
      "    return error\n",
      "\n",
      "\n",
      "def matrix_factorization(R, K, steps=5000, alpha=0.0002, beta=0.02, threshold=0.001):\n",
      "    P = numpy.random.rand(K, len(R))\n",
      "    Q = numpy.random.rand(K, len(R[0]))\n",
      "    for step in xrange(steps):\n",
      "        for i in xrange(len(R)):\n",
      "            for j in xrange(len(R[i])):\n",
      "                if R[i][j] == 0:\n",
      "                    continue\n",
      "                err = get_rating_error(R[i][j], P[:, i], Q[:, j])\n",
      "                for k in xrange(K):\n",
      "                    P[k][i] += alpha * (2 * err * Q[k][j])\n",
      "                    Q[k][j] += alpha * (2 * err * P[k][i])\n",
      "        error = get_error(R, P, Q, beta)\n",
      "        if error < threshold:\n",
      "            break\n",
      "    return P, Q"
     ],
     "language": "python",
     "metadata": {},
     "outputs": [],
     "prompt_number": 13
    },
    {
     "cell_type": "heading",
     "level": 2,
     "metadata": {},
     "source": [
      "Test data"
     ]
    },
    {
     "cell_type": "code",
     "collapsed": false,
     "input": [
      "R = numpy.array([\n",
      "        [5, 3, 0, 1],\n",
      "        [4, 0, 0, 1],\n",
      "        [1, 1, 0, 5],\n",
      "        [1, 0, 0, 4],\n",
      "        [0, 1, 5, 4],\n",
      "        ]\n",
      "    )"
     ],
     "language": "python",
     "metadata": {},
     "outputs": [],
     "prompt_number": 3
    },
    {
     "cell_type": "heading",
     "level": 2,
     "metadata": {},
     "source": [
      "Factorize"
     ]
    },
    {
     "cell_type": "code",
     "collapsed": false,
     "input": [
      "nP, nQ = matrix_factorization(R, 2)"
     ],
     "language": "python",
     "metadata": {},
     "outputs": [],
     "prompt_number": 15
    },
    {
     "cell_type": "heading",
     "level": 2,
     "metadata": {},
     "source": [
      "Restore the matrix"
     ]
    },
    {
     "cell_type": "code",
     "collapsed": false,
     "input": [
      "numpy.dot(nP.T, nQ)\n"
     ],
     "language": "python",
     "metadata": {},
     "outputs": [
      {
       "metadata": {},
       "output_type": "pyout",
       "prompt_number": 16,
       "text": [
        "array([[ 5.00330933,  2.98763837,  2.9980531 ,  0.99587798],\n",
        "       [ 3.99433393,  2.3973026 ,  2.60925439,  0.99496055],\n",
        "       [ 1.03835327,  0.91060252,  5.78028846,  4.98517873],\n",
        "       [ 0.98137579,  0.81633059,  4.67662445,  3.98302315],\n",
        "       [ 1.46842558,  1.10575775,  4.94351124,  4.05684401]])"
       ]
      }
     ],
     "prompt_number": 16
    }
   ],
   "metadata": {}
  }
 ]
}