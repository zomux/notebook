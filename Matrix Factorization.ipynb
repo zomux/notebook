{
 "metadata": {
  "name": "",
  "signature": "sha256:0ccf7b04038eb5c404fe8ed7edf8ff6b2572158cb010f362dcd59bf7ab4614d3"
 },
 "nbformat": 3,
 "nbformat_minor": 0,
 "worksheets": [
  {
   "cells": [
    {
     "cell_type": "heading",
     "level": 1,
     "metadata": {},
     "source": [
      "Matrix Factorization"
     ]
    },
    {
     "cell_type": "code",
     "collapsed": false,
     "input": [
      "import numpy\n",
      "\n",
      "def get_rating_error(r, p, q):\n",
      "    return r - numpy.dot(p, q)\n",
      "\n",
      "\n",
      "def get_error(R, P, Q, beta):\n",
      "    error = 0.0\n",
      "    for i in xrange(len(R)):\n",
      "        for j in xrange(len(R[i])):\n",
      "            if R[i][j] == 0:\n",
      "                continue\n",
      "            error += pow(get_rating_error(R[i][j], P[:,i], Q[:,j]), 2)\n",
      "    error += beta/2.0 * (numpy.linalg.norm(P) + numpy.linalg.norm(Q))\n",
      "    return error\n",
      "\n",
      "\n",
      "def matrix_factorization(R, K, steps=5000, alpha=0.0002, beta=0.02, threshold=0.001):\n",
      "    P = numpy.random.rand(K, len(R))\n",
      "    Q = numpy.random.rand(K, len(R[0]))\n",
      "    for step in xrange(steps):\n",
      "        for i in xrange(len(R)):\n",
      "            for j in xrange(len(R[i])):\n",
      "                if R[i][j] == 0:\n",
      "                    continue\n",
      "                err = get_rating_error(R[i][j], P[:, i], Q[:, j])\n",
      "                for k in xrange(K):\n",
      "                    P[k][i] += alpha * (2 * err * Q[k][j])\n",
      "                    Q[k][j] += alpha * (2 * err * P[k][i])\n",
      "        error = get_error(R, P, Q, beta)\n",
      "        if error < threshold:\n",
      "            break\n",
      "    return P, Q"
     ],
     "language": "python",
     "metadata": {},
     "outputs": [],
     "prompt_number": 6
    },
    {
     "cell_type": "heading",
     "level": 2,
     "metadata": {},
     "source": [
      "Test data"
     ]
    },
    {
     "cell_type": "code",
     "collapsed": false,
     "input": [
      "R = numpy.array([\n",
      "        [5, 3, 0, 1],\n",
      "        [4, 0, 0, 1],\n",
      "        [1, 1, 0, 5],\n",
      "        [1, 0, 0, 4],\n",
      "        [0, 1, 5, 4],\n",
      "        ]\n",
      "    )"
     ],
     "language": "python",
     "metadata": {},
     "outputs": [],
     "prompt_number": 3
    },
    {
     "cell_type": "heading",
     "level": 2,
     "metadata": {},
     "source": [
      "Factorize"
     ]
    },
    {
     "cell_type": "code",
     "collapsed": false,
     "input": [
      "nP, nQ = matrix_factorization(R, 2)"
     ],
     "language": "python",
     "metadata": {},
     "outputs": [],
     "prompt_number": 4
    },
    {
     "cell_type": "heading",
     "level": 2,
     "metadata": {},
     "source": [
      "Restore the matrix"
     ]
    },
    {
     "cell_type": "code",
     "collapsed": false,
     "input": [
      "numpy.dot(nP.T, nQ)\n"
     ],
     "language": "python",
     "metadata": {},
     "outputs": [
      {
       "metadata": {},
       "output_type": "pyout",
       "prompt_number": 7,
       "text": [
        "array([[ 5.06341103,  2.82420027,  5.53463032,  0.99407704],\n",
        "       [ 3.94646794,  2.20355341,  4.4449303 ,  0.99722444],\n",
        "       [ 1.11739171,  0.6736208 ,  4.03802183,  4.99497869],\n",
        "       [ 0.94103925,  0.56506187,  3.27521957,  3.99385905],\n",
        "       [ 2.54061356,  1.45445251,  4.86721309,  4.04264791]])"
       ]
      }
     ],
     "prompt_number": 7
    }
   ],
   "metadata": {}
  }
 ]
}